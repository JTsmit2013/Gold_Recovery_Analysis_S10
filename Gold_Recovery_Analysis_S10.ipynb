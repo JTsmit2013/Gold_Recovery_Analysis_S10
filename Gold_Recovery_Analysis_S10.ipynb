{
 "cells": [
  {
   "cell_type": "markdown",
   "metadata": {},
   "source": [
    "# Gold Recovery Analysis S10"
   ]
  },
  {
   "cell_type": "markdown",
   "metadata": {},
   "source": [
    "This project aims to develop predictive models for gold recovery rates using a comprehensive dataset comprising training, test, and full feature sets. The analysis begins with thorough data preparation, including data verification and preprocessing, to ensure the accuracy of recovery calculations and identify any missing features. Subsequent data exploration focuses on understanding the concentration changes of key metals throughout the purification process, as well as assessing the feed particle size distributions. Finally, various regression models are trained and evaluated using symmetric Mean Absolute Percentage Error (sMAPE) as the primary metric, leading to the selection of the most effective model for predicting recovery outcomes."
   ]
  },
  {
   "cell_type": "markdown",
   "metadata": {},
   "source": [
    "## Prepare the data"
   ]
  },
  {
   "cell_type": "markdown",
   "metadata": {},
   "source": [
    "### The files:"
   ]
  },
  {
   "cell_type": "code",
   "execution_count": 1,
   "metadata": {},
   "outputs": [],
   "source": [
    "import numpy as np\n",
    "import pandas as pd\n",
    "import matplotlib.pyplot as plt\n",
    "import seaborn as sns\n",
    "\n",
    "from sklearn.model_selection import train_test_split, cross_val_score, cross_val_predict, RandomizedSearchCV\n",
    "from sklearn.linear_model import LinearRegression, Ridge, Lasso\n",
    "from sklearn.tree import DecisionTreeRegressor\n",
    "from sklearn.ensemble import RandomForestRegressor, GradientBoostingRegressor, VotingRegressor\n",
    "from sklearn.dummy import DummyRegressor\n",
    "from sklearn.metrics import mean_absolute_error, make_scorer\n",
    "from sklearn.preprocessing import StandardScaler\n",
    "from sklearn.pipeline import Pipeline"
   ]
  },
  {
   "cell_type": "code",
   "execution_count": 2,
   "metadata": {},
   "outputs": [],
   "source": [
    "#loding data from csv files\n",
    "train_df = pd.read_csv('/datasets/gold_recovery_train.csv')\n",
    "test_df = pd.read_csv('/datasets/gold_recovery_test.csv')\n",
    "full_df = pd.read_csv('/datasets/gold_recovery_full.csv')"
   ]
  },
  {
   "cell_type": "code",
   "execution_count": 3,
   "metadata": {},
   "outputs": [],
   "source": [
    "#creating function to check into data frames\n",
    "def show(df):\n",
    "    display(df.info())\n",
    "    display(df.describe())"
   ]
  },
  {
   "cell_type": "code",
   "execution_count": 4,
   "metadata": {
    "scrolled": true
   },
   "outputs": [
    {
     "name": "stdout",
     "output_type": "stream",
     "text": [
      "<class 'pandas.core.frame.DataFrame'>\n",
      "RangeIndex: 16860 entries, 0 to 16859\n",
      "Data columns (total 87 columns):\n",
      " #   Column                                              Non-Null Count  Dtype  \n",
      "---  ------                                              --------------  -----  \n",
      " 0   date                                                16860 non-null  object \n",
      " 1   final.output.concentrate_ag                         16788 non-null  float64\n",
      " 2   final.output.concentrate_pb                         16788 non-null  float64\n",
      " 3   final.output.concentrate_sol                        16490 non-null  float64\n",
      " 4   final.output.concentrate_au                         16789 non-null  float64\n",
      " 5   final.output.recovery                               15339 non-null  float64\n",
      " 6   final.output.tail_ag                                16794 non-null  float64\n",
      " 7   final.output.tail_pb                                16677 non-null  float64\n",
      " 8   final.output.tail_sol                               16715 non-null  float64\n",
      " 9   final.output.tail_au                                16794 non-null  float64\n",
      " 10  primary_cleaner.input.sulfate                       15553 non-null  float64\n",
      " 11  primary_cleaner.input.depressant                    15598 non-null  float64\n",
      " 12  primary_cleaner.input.feed_size                     16860 non-null  float64\n",
      " 13  primary_cleaner.input.xanthate                      15875 non-null  float64\n",
      " 14  primary_cleaner.output.concentrate_ag               16778 non-null  float64\n",
      " 15  primary_cleaner.output.concentrate_pb               16502 non-null  float64\n",
      " 16  primary_cleaner.output.concentrate_sol              16224 non-null  float64\n",
      " 17  primary_cleaner.output.concentrate_au               16778 non-null  float64\n",
      " 18  primary_cleaner.output.tail_ag                      16777 non-null  float64\n",
      " 19  primary_cleaner.output.tail_pb                      16761 non-null  float64\n",
      " 20  primary_cleaner.output.tail_sol                     16579 non-null  float64\n",
      " 21  primary_cleaner.output.tail_au                      16777 non-null  float64\n",
      " 22  primary_cleaner.state.floatbank8_a_air              16820 non-null  float64\n",
      " 23  primary_cleaner.state.floatbank8_a_level            16827 non-null  float64\n",
      " 24  primary_cleaner.state.floatbank8_b_air              16820 non-null  float64\n",
      " 25  primary_cleaner.state.floatbank8_b_level            16833 non-null  float64\n",
      " 26  primary_cleaner.state.floatbank8_c_air              16822 non-null  float64\n",
      " 27  primary_cleaner.state.floatbank8_c_level            16833 non-null  float64\n",
      " 28  primary_cleaner.state.floatbank8_d_air              16821 non-null  float64\n",
      " 29  primary_cleaner.state.floatbank8_d_level            16833 non-null  float64\n",
      " 30  rougher.calculation.sulfate_to_au_concentrate       16833 non-null  float64\n",
      " 31  rougher.calculation.floatbank10_sulfate_to_au_feed  16833 non-null  float64\n",
      " 32  rougher.calculation.floatbank11_sulfate_to_au_feed  16833 non-null  float64\n",
      " 33  rougher.calculation.au_pb_ratio                     15618 non-null  float64\n",
      " 34  rougher.input.feed_ag                               16778 non-null  float64\n",
      " 35  rougher.input.feed_pb                               16632 non-null  float64\n",
      " 36  rougher.input.feed_rate                             16347 non-null  float64\n",
      " 37  rougher.input.feed_size                             16443 non-null  float64\n",
      " 38  rougher.input.feed_sol                              16568 non-null  float64\n",
      " 39  rougher.input.feed_au                               16777 non-null  float64\n",
      " 40  rougher.input.floatbank10_sulfate                   15816 non-null  float64\n",
      " 41  rougher.input.floatbank10_xanthate                  16514 non-null  float64\n",
      " 42  rougher.input.floatbank11_sulfate                   16237 non-null  float64\n",
      " 43  rougher.input.floatbank11_xanthate                  14956 non-null  float64\n",
      " 44  rougher.output.concentrate_ag                       16778 non-null  float64\n",
      " 45  rougher.output.concentrate_pb                       16778 non-null  float64\n",
      " 46  rougher.output.concentrate_sol                      16698 non-null  float64\n",
      " 47  rougher.output.concentrate_au                       16778 non-null  float64\n",
      " 48  rougher.output.recovery                             14287 non-null  float64\n",
      " 49  rougher.output.tail_ag                              14610 non-null  float64\n",
      " 50  rougher.output.tail_pb                              16778 non-null  float64\n",
      " 51  rougher.output.tail_sol                             14611 non-null  float64\n",
      " 52  rougher.output.tail_au                              14611 non-null  float64\n",
      " 53  rougher.state.floatbank10_a_air                     16807 non-null  float64\n",
      " 54  rougher.state.floatbank10_a_level                   16807 non-null  float64\n",
      " 55  rougher.state.floatbank10_b_air                     16807 non-null  float64\n",
      " 56  rougher.state.floatbank10_b_level                   16807 non-null  float64\n",
      " 57  rougher.state.floatbank10_c_air                     16807 non-null  float64\n",
      " 58  rougher.state.floatbank10_c_level                   16814 non-null  float64\n",
      " 59  rougher.state.floatbank10_d_air                     16802 non-null  float64\n",
      " 60  rougher.state.floatbank10_d_level                   16809 non-null  float64\n",
      " 61  rougher.state.floatbank10_e_air                     16257 non-null  float64\n",
      " 62  rougher.state.floatbank10_e_level                   16809 non-null  float64\n",
      " 63  rougher.state.floatbank10_f_air                     16802 non-null  float64\n",
      " 64  rougher.state.floatbank10_f_level                   16802 non-null  float64\n",
      " 65  secondary_cleaner.output.tail_ag                    16776 non-null  float64\n",
      " 66  secondary_cleaner.output.tail_pb                    16764 non-null  float64\n",
      " 67  secondary_cleaner.output.tail_sol                   14874 non-null  float64\n",
      " 68  secondary_cleaner.output.tail_au                    16778 non-null  float64\n",
      " 69  secondary_cleaner.state.floatbank2_a_air            16497 non-null  float64\n",
      " 70  secondary_cleaner.state.floatbank2_a_level          16751 non-null  float64\n",
      " 71  secondary_cleaner.state.floatbank2_b_air            16705 non-null  float64\n",
      " 72  secondary_cleaner.state.floatbank2_b_level          16748 non-null  float64\n",
      " 73  secondary_cleaner.state.floatbank3_a_air            16763 non-null  float64\n",
      " 74  secondary_cleaner.state.floatbank3_a_level          16747 non-null  float64\n",
      " 75  secondary_cleaner.state.floatbank3_b_air            16752 non-null  float64\n",
      " 76  secondary_cleaner.state.floatbank3_b_level          16750 non-null  float64\n",
      " 77  secondary_cleaner.state.floatbank4_a_air            16731 non-null  float64\n",
      " 78  secondary_cleaner.state.floatbank4_a_level          16747 non-null  float64\n",
      " 79  secondary_cleaner.state.floatbank4_b_air            16768 non-null  float64\n",
      " 80  secondary_cleaner.state.floatbank4_b_level          16767 non-null  float64\n",
      " 81  secondary_cleaner.state.floatbank5_a_air            16775 non-null  float64\n",
      " 82  secondary_cleaner.state.floatbank5_a_level          16775 non-null  float64\n",
      " 83  secondary_cleaner.state.floatbank5_b_air            16775 non-null  float64\n",
      " 84  secondary_cleaner.state.floatbank5_b_level          16776 non-null  float64\n",
      " 85  secondary_cleaner.state.floatbank6_a_air            16757 non-null  float64\n",
      " 86  secondary_cleaner.state.floatbank6_a_level          16775 non-null  float64\n",
      "dtypes: float64(86), object(1)\n",
      "memory usage: 11.2+ MB\n"
     ]
    },
    {
     "data": {
      "text/plain": [
       "None"
      ]
     },
     "metadata": {},
     "output_type": "display_data"
    },
    {
     "data": {
      "text/html": [
       "<div>\n",
       "<style scoped>\n",
       "    .dataframe tbody tr th:only-of-type {\n",
       "        vertical-align: middle;\n",
       "    }\n",
       "\n",
       "    .dataframe tbody tr th {\n",
       "        vertical-align: top;\n",
       "    }\n",
       "\n",
       "    .dataframe thead th {\n",
       "        text-align: right;\n",
       "    }\n",
       "</style>\n",
       "<table border=\"1\" class=\"dataframe\">\n",
       "  <thead>\n",
       "    <tr style=\"text-align: right;\">\n",
       "      <th></th>\n",
       "      <th>final.output.concentrate_ag</th>\n",
       "      <th>final.output.concentrate_pb</th>\n",
       "      <th>final.output.concentrate_sol</th>\n",
       "      <th>final.output.concentrate_au</th>\n",
       "      <th>final.output.recovery</th>\n",
       "      <th>final.output.tail_ag</th>\n",
       "      <th>final.output.tail_pb</th>\n",
       "      <th>final.output.tail_sol</th>\n",
       "      <th>final.output.tail_au</th>\n",
       "      <th>primary_cleaner.input.sulfate</th>\n",
       "      <th>...</th>\n",
       "      <th>secondary_cleaner.state.floatbank4_a_air</th>\n",
       "      <th>secondary_cleaner.state.floatbank4_a_level</th>\n",
       "      <th>secondary_cleaner.state.floatbank4_b_air</th>\n",
       "      <th>secondary_cleaner.state.floatbank4_b_level</th>\n",
       "      <th>secondary_cleaner.state.floatbank5_a_air</th>\n",
       "      <th>secondary_cleaner.state.floatbank5_a_level</th>\n",
       "      <th>secondary_cleaner.state.floatbank5_b_air</th>\n",
       "      <th>secondary_cleaner.state.floatbank5_b_level</th>\n",
       "      <th>secondary_cleaner.state.floatbank6_a_air</th>\n",
       "      <th>secondary_cleaner.state.floatbank6_a_level</th>\n",
       "    </tr>\n",
       "  </thead>\n",
       "  <tbody>\n",
       "    <tr>\n",
       "      <th>count</th>\n",
       "      <td>16788.000000</td>\n",
       "      <td>16788.000000</td>\n",
       "      <td>16490.000000</td>\n",
       "      <td>16789.000000</td>\n",
       "      <td>15339.000000</td>\n",
       "      <td>16794.000000</td>\n",
       "      <td>16677.000000</td>\n",
       "      <td>16715.000000</td>\n",
       "      <td>16794.000000</td>\n",
       "      <td>15553.000000</td>\n",
       "      <td>...</td>\n",
       "      <td>16731.000000</td>\n",
       "      <td>16747.000000</td>\n",
       "      <td>16768.000000</td>\n",
       "      <td>16767.000000</td>\n",
       "      <td>16775.000000</td>\n",
       "      <td>16775.000000</td>\n",
       "      <td>16775.000000</td>\n",
       "      <td>16776.000000</td>\n",
       "      <td>16757.000000</td>\n",
       "      <td>16775.000000</td>\n",
       "    </tr>\n",
       "    <tr>\n",
       "      <th>mean</th>\n",
       "      <td>4.716907</td>\n",
       "      <td>9.113559</td>\n",
       "      <td>8.301123</td>\n",
       "      <td>39.467217</td>\n",
       "      <td>67.213166</td>\n",
       "      <td>8.757048</td>\n",
       "      <td>2.360327</td>\n",
       "      <td>9.303932</td>\n",
       "      <td>2.687512</td>\n",
       "      <td>129.479789</td>\n",
       "      <td>...</td>\n",
       "      <td>19.101874</td>\n",
       "      <td>-494.164481</td>\n",
       "      <td>14.778164</td>\n",
       "      <td>-476.600082</td>\n",
       "      <td>15.779488</td>\n",
       "      <td>-500.230146</td>\n",
       "      <td>12.377241</td>\n",
       "      <td>-498.956257</td>\n",
       "      <td>18.429208</td>\n",
       "      <td>-521.801826</td>\n",
       "    </tr>\n",
       "    <tr>\n",
       "      <th>std</th>\n",
       "      <td>2.096718</td>\n",
       "      <td>3.389495</td>\n",
       "      <td>3.825760</td>\n",
       "      <td>13.917227</td>\n",
       "      <td>11.960446</td>\n",
       "      <td>3.634103</td>\n",
       "      <td>1.215576</td>\n",
       "      <td>4.263208</td>\n",
       "      <td>1.272757</td>\n",
       "      <td>45.386931</td>\n",
       "      <td>...</td>\n",
       "      <td>6.883163</td>\n",
       "      <td>84.803334</td>\n",
       "      <td>5.999149</td>\n",
       "      <td>89.381172</td>\n",
       "      <td>6.834703</td>\n",
       "      <td>76.983542</td>\n",
       "      <td>6.219989</td>\n",
       "      <td>82.146207</td>\n",
       "      <td>6.958294</td>\n",
       "      <td>77.170888</td>\n",
       "    </tr>\n",
       "    <tr>\n",
       "      <th>min</th>\n",
       "      <td>0.000000</td>\n",
       "      <td>0.000000</td>\n",
       "      <td>0.000000</td>\n",
       "      <td>0.000000</td>\n",
       "      <td>0.000000</td>\n",
       "      <td>0.000000</td>\n",
       "      <td>0.000000</td>\n",
       "      <td>0.000000</td>\n",
       "      <td>0.000000</td>\n",
       "      <td>0.000003</td>\n",
       "      <td>...</td>\n",
       "      <td>0.000000</td>\n",
       "      <td>-799.920713</td>\n",
       "      <td>0.000000</td>\n",
       "      <td>-800.021781</td>\n",
       "      <td>-0.423260</td>\n",
       "      <td>-799.741097</td>\n",
       "      <td>0.427084</td>\n",
       "      <td>-800.258209</td>\n",
       "      <td>0.024270</td>\n",
       "      <td>-810.473526</td>\n",
       "    </tr>\n",
       "    <tr>\n",
       "      <th>25%</th>\n",
       "      <td>3.971262</td>\n",
       "      <td>8.825748</td>\n",
       "      <td>6.939185</td>\n",
       "      <td>42.055722</td>\n",
       "      <td>62.625685</td>\n",
       "      <td>7.610544</td>\n",
       "      <td>1.641604</td>\n",
       "      <td>7.870275</td>\n",
       "      <td>2.172953</td>\n",
       "      <td>103.064021</td>\n",
       "      <td>...</td>\n",
       "      <td>14.508299</td>\n",
       "      <td>-500.837689</td>\n",
       "      <td>10.741388</td>\n",
       "      <td>-500.269182</td>\n",
       "      <td>10.977713</td>\n",
       "      <td>-500.530594</td>\n",
       "      <td>8.925586</td>\n",
       "      <td>-500.147603</td>\n",
       "      <td>13.977626</td>\n",
       "      <td>-501.080595</td>\n",
       "    </tr>\n",
       "    <tr>\n",
       "      <th>50%</th>\n",
       "      <td>4.869346</td>\n",
       "      <td>10.065316</td>\n",
       "      <td>8.557228</td>\n",
       "      <td>44.498874</td>\n",
       "      <td>67.644601</td>\n",
       "      <td>9.220393</td>\n",
       "      <td>2.453690</td>\n",
       "      <td>10.021968</td>\n",
       "      <td>2.781132</td>\n",
       "      <td>131.783108</td>\n",
       "      <td>...</td>\n",
       "      <td>19.986958</td>\n",
       "      <td>-499.778379</td>\n",
       "      <td>14.943933</td>\n",
       "      <td>-499.593286</td>\n",
       "      <td>15.998340</td>\n",
       "      <td>-499.784231</td>\n",
       "      <td>11.092839</td>\n",
       "      <td>-499.933330</td>\n",
       "      <td>18.034960</td>\n",
       "      <td>-500.109898</td>\n",
       "    </tr>\n",
       "    <tr>\n",
       "      <th>75%</th>\n",
       "      <td>5.821176</td>\n",
       "      <td>11.054809</td>\n",
       "      <td>10.289741</td>\n",
       "      <td>45.976222</td>\n",
       "      <td>72.824595</td>\n",
       "      <td>10.971110</td>\n",
       "      <td>3.192404</td>\n",
       "      <td>11.648573</td>\n",
       "      <td>3.416936</td>\n",
       "      <td>159.539839</td>\n",
       "      <td>...</td>\n",
       "      <td>24.983961</td>\n",
       "      <td>-494.648754</td>\n",
       "      <td>20.023751</td>\n",
       "      <td>-400.137948</td>\n",
       "      <td>20.000701</td>\n",
       "      <td>-496.531781</td>\n",
       "      <td>15.979467</td>\n",
       "      <td>-498.418000</td>\n",
       "      <td>24.984992</td>\n",
       "      <td>-499.565540</td>\n",
       "    </tr>\n",
       "    <tr>\n",
       "      <th>max</th>\n",
       "      <td>16.001945</td>\n",
       "      <td>17.031899</td>\n",
       "      <td>18.124851</td>\n",
       "      <td>53.611374</td>\n",
       "      <td>100.000000</td>\n",
       "      <td>19.552149</td>\n",
       "      <td>6.086532</td>\n",
       "      <td>22.317730</td>\n",
       "      <td>9.789625</td>\n",
       "      <td>251.999948</td>\n",
       "      <td>...</td>\n",
       "      <td>60.000000</td>\n",
       "      <td>-127.692333</td>\n",
       "      <td>28.003828</td>\n",
       "      <td>-71.472472</td>\n",
       "      <td>63.116298</td>\n",
       "      <td>-275.073125</td>\n",
       "      <td>39.846228</td>\n",
       "      <td>-120.190931</td>\n",
       "      <td>54.876806</td>\n",
       "      <td>-39.784927</td>\n",
       "    </tr>\n",
       "  </tbody>\n",
       "</table>\n",
       "<p>8 rows × 86 columns</p>\n",
       "</div>"
      ],
      "text/plain": [
       "       final.output.concentrate_ag  final.output.concentrate_pb  \\\n",
       "count                 16788.000000                 16788.000000   \n",
       "mean                      4.716907                     9.113559   \n",
       "std                       2.096718                     3.389495   \n",
       "min                       0.000000                     0.000000   \n",
       "25%                       3.971262                     8.825748   \n",
       "50%                       4.869346                    10.065316   \n",
       "75%                       5.821176                    11.054809   \n",
       "max                      16.001945                    17.031899   \n",
       "\n",
       "       final.output.concentrate_sol  final.output.concentrate_au  \\\n",
       "count                  16490.000000                 16789.000000   \n",
       "mean                       8.301123                    39.467217   \n",
       "std                        3.825760                    13.917227   \n",
       "min                        0.000000                     0.000000   \n",
       "25%                        6.939185                    42.055722   \n",
       "50%                        8.557228                    44.498874   \n",
       "75%                       10.289741                    45.976222   \n",
       "max                       18.124851                    53.611374   \n",
       "\n",
       "       final.output.recovery  final.output.tail_ag  final.output.tail_pb  \\\n",
       "count           15339.000000          16794.000000          16677.000000   \n",
       "mean               67.213166              8.757048              2.360327   \n",
       "std                11.960446              3.634103              1.215576   \n",
       "min                 0.000000              0.000000              0.000000   \n",
       "25%                62.625685              7.610544              1.641604   \n",
       "50%                67.644601              9.220393              2.453690   \n",
       "75%                72.824595             10.971110              3.192404   \n",
       "max               100.000000             19.552149              6.086532   \n",
       "\n",
       "       final.output.tail_sol  final.output.tail_au  \\\n",
       "count           16715.000000          16794.000000   \n",
       "mean                9.303932              2.687512   \n",
       "std                 4.263208              1.272757   \n",
       "min                 0.000000              0.000000   \n",
       "25%                 7.870275              2.172953   \n",
       "50%                10.021968              2.781132   \n",
       "75%                11.648573              3.416936   \n",
       "max                22.317730              9.789625   \n",
       "\n",
       "       primary_cleaner.input.sulfate  ...  \\\n",
       "count                   15553.000000  ...   \n",
       "mean                      129.479789  ...   \n",
       "std                        45.386931  ...   \n",
       "min                         0.000003  ...   \n",
       "25%                       103.064021  ...   \n",
       "50%                       131.783108  ...   \n",
       "75%                       159.539839  ...   \n",
       "max                       251.999948  ...   \n",
       "\n",
       "       secondary_cleaner.state.floatbank4_a_air  \\\n",
       "count                              16731.000000   \n",
       "mean                                  19.101874   \n",
       "std                                    6.883163   \n",
       "min                                    0.000000   \n",
       "25%                                   14.508299   \n",
       "50%                                   19.986958   \n",
       "75%                                   24.983961   \n",
       "max                                   60.000000   \n",
       "\n",
       "       secondary_cleaner.state.floatbank4_a_level  \\\n",
       "count                                16747.000000   \n",
       "mean                                  -494.164481   \n",
       "std                                     84.803334   \n",
       "min                                   -799.920713   \n",
       "25%                                   -500.837689   \n",
       "50%                                   -499.778379   \n",
       "75%                                   -494.648754   \n",
       "max                                   -127.692333   \n",
       "\n",
       "       secondary_cleaner.state.floatbank4_b_air  \\\n",
       "count                              16768.000000   \n",
       "mean                                  14.778164   \n",
       "std                                    5.999149   \n",
       "min                                    0.000000   \n",
       "25%                                   10.741388   \n",
       "50%                                   14.943933   \n",
       "75%                                   20.023751   \n",
       "max                                   28.003828   \n",
       "\n",
       "       secondary_cleaner.state.floatbank4_b_level  \\\n",
       "count                                16767.000000   \n",
       "mean                                  -476.600082   \n",
       "std                                     89.381172   \n",
       "min                                   -800.021781   \n",
       "25%                                   -500.269182   \n",
       "50%                                   -499.593286   \n",
       "75%                                   -400.137948   \n",
       "max                                    -71.472472   \n",
       "\n",
       "       secondary_cleaner.state.floatbank5_a_air  \\\n",
       "count                              16775.000000   \n",
       "mean                                  15.779488   \n",
       "std                                    6.834703   \n",
       "min                                   -0.423260   \n",
       "25%                                   10.977713   \n",
       "50%                                   15.998340   \n",
       "75%                                   20.000701   \n",
       "max                                   63.116298   \n",
       "\n",
       "       secondary_cleaner.state.floatbank5_a_level  \\\n",
       "count                                16775.000000   \n",
       "mean                                  -500.230146   \n",
       "std                                     76.983542   \n",
       "min                                   -799.741097   \n",
       "25%                                   -500.530594   \n",
       "50%                                   -499.784231   \n",
       "75%                                   -496.531781   \n",
       "max                                   -275.073125   \n",
       "\n",
       "       secondary_cleaner.state.floatbank5_b_air  \\\n",
       "count                              16775.000000   \n",
       "mean                                  12.377241   \n",
       "std                                    6.219989   \n",
       "min                                    0.427084   \n",
       "25%                                    8.925586   \n",
       "50%                                   11.092839   \n",
       "75%                                   15.979467   \n",
       "max                                   39.846228   \n",
       "\n",
       "       secondary_cleaner.state.floatbank5_b_level  \\\n",
       "count                                16776.000000   \n",
       "mean                                  -498.956257   \n",
       "std                                     82.146207   \n",
       "min                                   -800.258209   \n",
       "25%                                   -500.147603   \n",
       "50%                                   -499.933330   \n",
       "75%                                   -498.418000   \n",
       "max                                   -120.190931   \n",
       "\n",
       "       secondary_cleaner.state.floatbank6_a_air  \\\n",
       "count                              16757.000000   \n",
       "mean                                  18.429208   \n",
       "std                                    6.958294   \n",
       "min                                    0.024270   \n",
       "25%                                   13.977626   \n",
       "50%                                   18.034960   \n",
       "75%                                   24.984992   \n",
       "max                                   54.876806   \n",
       "\n",
       "       secondary_cleaner.state.floatbank6_a_level  \n",
       "count                                16775.000000  \n",
       "mean                                  -521.801826  \n",
       "std                                     77.170888  \n",
       "min                                   -810.473526  \n",
       "25%                                   -501.080595  \n",
       "50%                                   -500.109898  \n",
       "75%                                   -499.565540  \n",
       "max                                    -39.784927  \n",
       "\n",
       "[8 rows x 86 columns]"
      ]
     },
     "metadata": {},
     "output_type": "display_data"
    }
   ],
   "source": [
    "#intital look at train_df\n",
    "show(train_df)"
   ]
  },
  {
   "cell_type": "code",
   "execution_count": 5,
   "metadata": {
    "scrolled": true
   },
   "outputs": [
    {
     "name": "stdout",
     "output_type": "stream",
     "text": [
      "<class 'pandas.core.frame.DataFrame'>\n",
      "RangeIndex: 5856 entries, 0 to 5855\n",
      "Data columns (total 53 columns):\n",
      " #   Column                                      Non-Null Count  Dtype  \n",
      "---  ------                                      --------------  -----  \n",
      " 0   date                                        5856 non-null   object \n",
      " 1   primary_cleaner.input.sulfate               5554 non-null   float64\n",
      " 2   primary_cleaner.input.depressant            5572 non-null   float64\n",
      " 3   primary_cleaner.input.feed_size             5856 non-null   float64\n",
      " 4   primary_cleaner.input.xanthate              5690 non-null   float64\n",
      " 5   primary_cleaner.state.floatbank8_a_air      5840 non-null   float64\n",
      " 6   primary_cleaner.state.floatbank8_a_level    5840 non-null   float64\n",
      " 7   primary_cleaner.state.floatbank8_b_air      5840 non-null   float64\n",
      " 8   primary_cleaner.state.floatbank8_b_level    5840 non-null   float64\n",
      " 9   primary_cleaner.state.floatbank8_c_air      5840 non-null   float64\n",
      " 10  primary_cleaner.state.floatbank8_c_level    5840 non-null   float64\n",
      " 11  primary_cleaner.state.floatbank8_d_air      5840 non-null   float64\n",
      " 12  primary_cleaner.state.floatbank8_d_level    5840 non-null   float64\n",
      " 13  rougher.input.feed_ag                       5840 non-null   float64\n",
      " 14  rougher.input.feed_pb                       5840 non-null   float64\n",
      " 15  rougher.input.feed_rate                     5816 non-null   float64\n",
      " 16  rougher.input.feed_size                     5834 non-null   float64\n",
      " 17  rougher.input.feed_sol                      5789 non-null   float64\n",
      " 18  rougher.input.feed_au                       5840 non-null   float64\n",
      " 19  rougher.input.floatbank10_sulfate           5599 non-null   float64\n",
      " 20  rougher.input.floatbank10_xanthate          5733 non-null   float64\n",
      " 21  rougher.input.floatbank11_sulfate           5801 non-null   float64\n",
      " 22  rougher.input.floatbank11_xanthate          5503 non-null   float64\n",
      " 23  rougher.state.floatbank10_a_air             5839 non-null   float64\n",
      " 24  rougher.state.floatbank10_a_level           5840 non-null   float64\n",
      " 25  rougher.state.floatbank10_b_air             5839 non-null   float64\n",
      " 26  rougher.state.floatbank10_b_level           5840 non-null   float64\n",
      " 27  rougher.state.floatbank10_c_air             5839 non-null   float64\n",
      " 28  rougher.state.floatbank10_c_level           5840 non-null   float64\n",
      " 29  rougher.state.floatbank10_d_air             5839 non-null   float64\n",
      " 30  rougher.state.floatbank10_d_level           5840 non-null   float64\n",
      " 31  rougher.state.floatbank10_e_air             5839 non-null   float64\n",
      " 32  rougher.state.floatbank10_e_level           5840 non-null   float64\n",
      " 33  rougher.state.floatbank10_f_air             5839 non-null   float64\n",
      " 34  rougher.state.floatbank10_f_level           5840 non-null   float64\n",
      " 35  secondary_cleaner.state.floatbank2_a_air    5836 non-null   float64\n",
      " 36  secondary_cleaner.state.floatbank2_a_level  5840 non-null   float64\n",
      " 37  secondary_cleaner.state.floatbank2_b_air    5833 non-null   float64\n",
      " 38  secondary_cleaner.state.floatbank2_b_level  5840 non-null   float64\n",
      " 39  secondary_cleaner.state.floatbank3_a_air    5822 non-null   float64\n",
      " 40  secondary_cleaner.state.floatbank3_a_level  5840 non-null   float64\n",
      " 41  secondary_cleaner.state.floatbank3_b_air    5840 non-null   float64\n",
      " 42  secondary_cleaner.state.floatbank3_b_level  5840 non-null   float64\n",
      " 43  secondary_cleaner.state.floatbank4_a_air    5840 non-null   float64\n",
      " 44  secondary_cleaner.state.floatbank4_a_level  5840 non-null   float64\n",
      " 45  secondary_cleaner.state.floatbank4_b_air    5840 non-null   float64\n",
      " 46  secondary_cleaner.state.floatbank4_b_level  5840 non-null   float64\n",
      " 47  secondary_cleaner.state.floatbank5_a_air    5840 non-null   float64\n",
      " 48  secondary_cleaner.state.floatbank5_a_level  5840 non-null   float64\n",
      " 49  secondary_cleaner.state.floatbank5_b_air    5840 non-null   float64\n",
      " 50  secondary_cleaner.state.floatbank5_b_level  5840 non-null   float64\n",
      " 51  secondary_cleaner.state.floatbank6_a_air    5840 non-null   float64\n",
      " 52  secondary_cleaner.state.floatbank6_a_level  5840 non-null   float64\n",
      "dtypes: float64(52), object(1)\n",
      "memory usage: 2.4+ MB\n"
     ]
    },
    {
     "data": {
      "text/plain": [
       "None"
      ]
     },
     "metadata": {},
     "output_type": "display_data"
    },
    {
     "data": {
      "text/html": [
       "<div>\n",
       "<style scoped>\n",
       "    .dataframe tbody tr th:only-of-type {\n",
       "        vertical-align: middle;\n",
       "    }\n",
       "\n",
       "    .dataframe tbody tr th {\n",
       "        vertical-align: top;\n",
       "    }\n",
       "\n",
       "    .dataframe thead th {\n",
       "        text-align: right;\n",
       "    }\n",
       "</style>\n",
       "<table border=\"1\" class=\"dataframe\">\n",
       "  <thead>\n",
       "    <tr style=\"text-align: right;\">\n",
       "      <th></th>\n",
       "      <th>primary_cleaner.input.sulfate</th>\n",
       "      <th>primary_cleaner.input.depressant</th>\n",
       "      <th>primary_cleaner.input.feed_size</th>\n",
       "      <th>primary_cleaner.input.xanthate</th>\n",
       "      <th>primary_cleaner.state.floatbank8_a_air</th>\n",
       "      <th>primary_cleaner.state.floatbank8_a_level</th>\n",
       "      <th>primary_cleaner.state.floatbank8_b_air</th>\n",
       "      <th>primary_cleaner.state.floatbank8_b_level</th>\n",
       "      <th>primary_cleaner.state.floatbank8_c_air</th>\n",
       "      <th>primary_cleaner.state.floatbank8_c_level</th>\n",
       "      <th>...</th>\n",
       "      <th>secondary_cleaner.state.floatbank4_a_air</th>\n",
       "      <th>secondary_cleaner.state.floatbank4_a_level</th>\n",
       "      <th>secondary_cleaner.state.floatbank4_b_air</th>\n",
       "      <th>secondary_cleaner.state.floatbank4_b_level</th>\n",
       "      <th>secondary_cleaner.state.floatbank5_a_air</th>\n",
       "      <th>secondary_cleaner.state.floatbank5_a_level</th>\n",
       "      <th>secondary_cleaner.state.floatbank5_b_air</th>\n",
       "      <th>secondary_cleaner.state.floatbank5_b_level</th>\n",
       "      <th>secondary_cleaner.state.floatbank6_a_air</th>\n",
       "      <th>secondary_cleaner.state.floatbank6_a_level</th>\n",
       "    </tr>\n",
       "  </thead>\n",
       "  <tbody>\n",
       "    <tr>\n",
       "      <th>count</th>\n",
       "      <td>5554.000000</td>\n",
       "      <td>5572.000000</td>\n",
       "      <td>5856.000000</td>\n",
       "      <td>5690.000000</td>\n",
       "      <td>5840.000000</td>\n",
       "      <td>5840.000000</td>\n",
       "      <td>5840.000000</td>\n",
       "      <td>5840.000000</td>\n",
       "      <td>5840.000000</td>\n",
       "      <td>5840.000000</td>\n",
       "      <td>...</td>\n",
       "      <td>5840.000000</td>\n",
       "      <td>5840.000000</td>\n",
       "      <td>5840.000000</td>\n",
       "      <td>5840.000000</td>\n",
       "      <td>5840.000000</td>\n",
       "      <td>5840.000000</td>\n",
       "      <td>5840.000000</td>\n",
       "      <td>5840.000000</td>\n",
       "      <td>5840.000000</td>\n",
       "      <td>5840.000000</td>\n",
       "    </tr>\n",
       "    <tr>\n",
       "      <th>mean</th>\n",
       "      <td>170.515243</td>\n",
       "      <td>8.482873</td>\n",
       "      <td>7.264651</td>\n",
       "      <td>1.321420</td>\n",
       "      <td>1481.990241</td>\n",
       "      <td>-509.057796</td>\n",
       "      <td>1486.908670</td>\n",
       "      <td>-511.743956</td>\n",
       "      <td>1468.495216</td>\n",
       "      <td>-509.741212</td>\n",
       "      <td>...</td>\n",
       "      <td>15.636031</td>\n",
       "      <td>-516.266074</td>\n",
       "      <td>13.145702</td>\n",
       "      <td>-476.338907</td>\n",
       "      <td>12.308967</td>\n",
       "      <td>-512.208126</td>\n",
       "      <td>9.470986</td>\n",
       "      <td>-505.017827</td>\n",
       "      <td>16.678722</td>\n",
       "      <td>-512.351694</td>\n",
       "    </tr>\n",
       "    <tr>\n",
       "      <th>std</th>\n",
       "      <td>49.608602</td>\n",
       "      <td>3.353105</td>\n",
       "      <td>0.611526</td>\n",
       "      <td>0.693246</td>\n",
       "      <td>310.453166</td>\n",
       "      <td>61.339256</td>\n",
       "      <td>313.224286</td>\n",
       "      <td>67.139074</td>\n",
       "      <td>309.980748</td>\n",
       "      <td>62.671873</td>\n",
       "      <td>...</td>\n",
       "      <td>4.660835</td>\n",
       "      <td>62.756748</td>\n",
       "      <td>4.304086</td>\n",
       "      <td>105.549424</td>\n",
       "      <td>3.762827</td>\n",
       "      <td>58.864651</td>\n",
       "      <td>3.312471</td>\n",
       "      <td>68.785898</td>\n",
       "      <td>5.404514</td>\n",
       "      <td>69.919839</td>\n",
       "    </tr>\n",
       "    <tr>\n",
       "      <th>min</th>\n",
       "      <td>0.000103</td>\n",
       "      <td>0.000031</td>\n",
       "      <td>5.650000</td>\n",
       "      <td>0.000003</td>\n",
       "      <td>0.000000</td>\n",
       "      <td>-799.773788</td>\n",
       "      <td>0.000000</td>\n",
       "      <td>-800.029078</td>\n",
       "      <td>0.000000</td>\n",
       "      <td>-799.995127</td>\n",
       "      <td>...</td>\n",
       "      <td>0.000000</td>\n",
       "      <td>-799.798523</td>\n",
       "      <td>0.000000</td>\n",
       "      <td>-800.836914</td>\n",
       "      <td>-0.223393</td>\n",
       "      <td>-799.661076</td>\n",
       "      <td>0.528083</td>\n",
       "      <td>-800.220337</td>\n",
       "      <td>-0.079426</td>\n",
       "      <td>-809.859706</td>\n",
       "    </tr>\n",
       "    <tr>\n",
       "      <th>25%</th>\n",
       "      <td>143.340022</td>\n",
       "      <td>6.411500</td>\n",
       "      <td>6.885625</td>\n",
       "      <td>0.888769</td>\n",
       "      <td>1497.190681</td>\n",
       "      <td>-500.455211</td>\n",
       "      <td>1497.150234</td>\n",
       "      <td>-500.936639</td>\n",
       "      <td>1437.050321</td>\n",
       "      <td>-501.300441</td>\n",
       "      <td>...</td>\n",
       "      <td>12.057838</td>\n",
       "      <td>-501.054741</td>\n",
       "      <td>11.880119</td>\n",
       "      <td>-500.419113</td>\n",
       "      <td>10.123459</td>\n",
       "      <td>-500.879383</td>\n",
       "      <td>7.991208</td>\n",
       "      <td>-500.223089</td>\n",
       "      <td>13.012422</td>\n",
       "      <td>-500.833821</td>\n",
       "    </tr>\n",
       "    <tr>\n",
       "      <th>50%</th>\n",
       "      <td>176.103893</td>\n",
       "      <td>8.023252</td>\n",
       "      <td>7.259333</td>\n",
       "      <td>1.183362</td>\n",
       "      <td>1554.659783</td>\n",
       "      <td>-499.997402</td>\n",
       "      <td>1553.268084</td>\n",
       "      <td>-500.066588</td>\n",
       "      <td>1546.160672</td>\n",
       "      <td>-500.079537</td>\n",
       "      <td>...</td>\n",
       "      <td>17.001867</td>\n",
       "      <td>-500.160145</td>\n",
       "      <td>14.952102</td>\n",
       "      <td>-499.644328</td>\n",
       "      <td>12.062877</td>\n",
       "      <td>-500.047621</td>\n",
       "      <td>9.980774</td>\n",
       "      <td>-500.001338</td>\n",
       "      <td>16.007242</td>\n",
       "      <td>-500.041085</td>\n",
       "    </tr>\n",
       "    <tr>\n",
       "      <th>75%</th>\n",
       "      <td>207.240761</td>\n",
       "      <td>10.017725</td>\n",
       "      <td>7.650000</td>\n",
       "      <td>1.763797</td>\n",
       "      <td>1601.681656</td>\n",
       "      <td>-499.575313</td>\n",
       "      <td>1601.784707</td>\n",
       "      <td>-499.323361</td>\n",
       "      <td>1600.785573</td>\n",
       "      <td>-499.009545</td>\n",
       "      <td>...</td>\n",
       "      <td>18.030985</td>\n",
       "      <td>-499.441529</td>\n",
       "      <td>15.940011</td>\n",
       "      <td>-401.523664</td>\n",
       "      <td>15.017881</td>\n",
       "      <td>-499.297033</td>\n",
       "      <td>11.992176</td>\n",
       "      <td>-499.722835</td>\n",
       "      <td>21.009076</td>\n",
       "      <td>-499.395621</td>\n",
       "    </tr>\n",
       "    <tr>\n",
       "      <th>max</th>\n",
       "      <td>274.409626</td>\n",
       "      <td>40.024582</td>\n",
       "      <td>15.500000</td>\n",
       "      <td>5.433169</td>\n",
       "      <td>2212.432090</td>\n",
       "      <td>-57.195404</td>\n",
       "      <td>1975.147923</td>\n",
       "      <td>-142.527229</td>\n",
       "      <td>1715.053773</td>\n",
       "      <td>-150.937035</td>\n",
       "      <td>...</td>\n",
       "      <td>30.051797</td>\n",
       "      <td>-401.565212</td>\n",
       "      <td>31.269706</td>\n",
       "      <td>-6.506986</td>\n",
       "      <td>25.258848</td>\n",
       "      <td>-244.483566</td>\n",
       "      <td>14.090194</td>\n",
       "      <td>-126.463446</td>\n",
       "      <td>26.705889</td>\n",
       "      <td>-29.093593</td>\n",
       "    </tr>\n",
       "  </tbody>\n",
       "</table>\n",
       "<p>8 rows × 52 columns</p>\n",
       "</div>"
      ],
      "text/plain": [
       "       primary_cleaner.input.sulfate  primary_cleaner.input.depressant  \\\n",
       "count                    5554.000000                       5572.000000   \n",
       "mean                      170.515243                          8.482873   \n",
       "std                        49.608602                          3.353105   \n",
       "min                         0.000103                          0.000031   \n",
       "25%                       143.340022                          6.411500   \n",
       "50%                       176.103893                          8.023252   \n",
       "75%                       207.240761                         10.017725   \n",
       "max                       274.409626                         40.024582   \n",
       "\n",
       "       primary_cleaner.input.feed_size  primary_cleaner.input.xanthate  \\\n",
       "count                      5856.000000                     5690.000000   \n",
       "mean                          7.264651                        1.321420   \n",
       "std                           0.611526                        0.693246   \n",
       "min                           5.650000                        0.000003   \n",
       "25%                           6.885625                        0.888769   \n",
       "50%                           7.259333                        1.183362   \n",
       "75%                           7.650000                        1.763797   \n",
       "max                          15.500000                        5.433169   \n",
       "\n",
       "       primary_cleaner.state.floatbank8_a_air  \\\n",
       "count                             5840.000000   \n",
       "mean                              1481.990241   \n",
       "std                                310.453166   \n",
       "min                                  0.000000   \n",
       "25%                               1497.190681   \n",
       "50%                               1554.659783   \n",
       "75%                               1601.681656   \n",
       "max                               2212.432090   \n",
       "\n",
       "       primary_cleaner.state.floatbank8_a_level  \\\n",
       "count                               5840.000000   \n",
       "mean                                -509.057796   \n",
       "std                                   61.339256   \n",
       "min                                 -799.773788   \n",
       "25%                                 -500.455211   \n",
       "50%                                 -499.997402   \n",
       "75%                                 -499.575313   \n",
       "max                                  -57.195404   \n",
       "\n",
       "       primary_cleaner.state.floatbank8_b_air  \\\n",
       "count                             5840.000000   \n",
       "mean                              1486.908670   \n",
       "std                                313.224286   \n",
       "min                                  0.000000   \n",
       "25%                               1497.150234   \n",
       "50%                               1553.268084   \n",
       "75%                               1601.784707   \n",
       "max                               1975.147923   \n",
       "\n",
       "       primary_cleaner.state.floatbank8_b_level  \\\n",
       "count                               5840.000000   \n",
       "mean                                -511.743956   \n",
       "std                                   67.139074   \n",
       "min                                 -800.029078   \n",
       "25%                                 -500.936639   \n",
       "50%                                 -500.066588   \n",
       "75%                                 -499.323361   \n",
       "max                                 -142.527229   \n",
       "\n",
       "       primary_cleaner.state.floatbank8_c_air  \\\n",
       "count                             5840.000000   \n",
       "mean                              1468.495216   \n",
       "std                                309.980748   \n",
       "min                                  0.000000   \n",
       "25%                               1437.050321   \n",
       "50%                               1546.160672   \n",
       "75%                               1600.785573   \n",
       "max                               1715.053773   \n",
       "\n",
       "       primary_cleaner.state.floatbank8_c_level  ...  \\\n",
       "count                               5840.000000  ...   \n",
       "mean                                -509.741212  ...   \n",
       "std                                   62.671873  ...   \n",
       "min                                 -799.995127  ...   \n",
       "25%                                 -501.300441  ...   \n",
       "50%                                 -500.079537  ...   \n",
       "75%                                 -499.009545  ...   \n",
       "max                                 -150.937035  ...   \n",
       "\n",
       "       secondary_cleaner.state.floatbank4_a_air  \\\n",
       "count                               5840.000000   \n",
       "mean                                  15.636031   \n",
       "std                                    4.660835   \n",
       "min                                    0.000000   \n",
       "25%                                   12.057838   \n",
       "50%                                   17.001867   \n",
       "75%                                   18.030985   \n",
       "max                                   30.051797   \n",
       "\n",
       "       secondary_cleaner.state.floatbank4_a_level  \\\n",
       "count                                 5840.000000   \n",
       "mean                                  -516.266074   \n",
       "std                                     62.756748   \n",
       "min                                   -799.798523   \n",
       "25%                                   -501.054741   \n",
       "50%                                   -500.160145   \n",
       "75%                                   -499.441529   \n",
       "max                                   -401.565212   \n",
       "\n",
       "       secondary_cleaner.state.floatbank4_b_air  \\\n",
       "count                               5840.000000   \n",
       "mean                                  13.145702   \n",
       "std                                    4.304086   \n",
       "min                                    0.000000   \n",
       "25%                                   11.880119   \n",
       "50%                                   14.952102   \n",
       "75%                                   15.940011   \n",
       "max                                   31.269706   \n",
       "\n",
       "       secondary_cleaner.state.floatbank4_b_level  \\\n",
       "count                                 5840.000000   \n",
       "mean                                  -476.338907   \n",
       "std                                    105.549424   \n",
       "min                                   -800.836914   \n",
       "25%                                   -500.419113   \n",
       "50%                                   -499.644328   \n",
       "75%                                   -401.523664   \n",
       "max                                     -6.506986   \n",
       "\n",
       "       secondary_cleaner.state.floatbank5_a_air  \\\n",
       "count                               5840.000000   \n",
       "mean                                  12.308967   \n",
       "std                                    3.762827   \n",
       "min                                   -0.223393   \n",
       "25%                                   10.123459   \n",
       "50%                                   12.062877   \n",
       "75%                                   15.017881   \n",
       "max                                   25.258848   \n",
       "\n",
       "       secondary_cleaner.state.floatbank5_a_level  \\\n",
       "count                                 5840.000000   \n",
       "mean                                  -512.208126   \n",
       "std                                     58.864651   \n",
       "min                                   -799.661076   \n",
       "25%                                   -500.879383   \n",
       "50%                                   -500.047621   \n",
       "75%                                   -499.297033   \n",
       "max                                   -244.483566   \n",
       "\n",
       "       secondary_cleaner.state.floatbank5_b_air  \\\n",
       "count                               5840.000000   \n",
       "mean                                   9.470986   \n",
       "std                                    3.312471   \n",
       "min                                    0.528083   \n",
       "25%                                    7.991208   \n",
       "50%                                    9.980774   \n",
       "75%                                   11.992176   \n",
       "max                                   14.090194   \n",
       "\n",
       "       secondary_cleaner.state.floatbank5_b_level  \\\n",
       "count                                 5840.000000   \n",
       "mean                                  -505.017827   \n",
       "std                                     68.785898   \n",
       "min                                   -800.220337   \n",
       "25%                                   -500.223089   \n",
       "50%                                   -500.001338   \n",
       "75%                                   -499.722835   \n",
       "max                                   -126.463446   \n",
       "\n",
       "       secondary_cleaner.state.floatbank6_a_air  \\\n",
       "count                               5840.000000   \n",
       "mean                                  16.678722   \n",
       "std                                    5.404514   \n",
       "min                                   -0.079426   \n",
       "25%                                   13.012422   \n",
       "50%                                   16.007242   \n",
       "75%                                   21.009076   \n",
       "max                                   26.705889   \n",
       "\n",
       "       secondary_cleaner.state.floatbank6_a_level  \n",
       "count                                 5840.000000  \n",
       "mean                                  -512.351694  \n",
       "std                                     69.919839  \n",
       "min                                   -809.859706  \n",
       "25%                                   -500.833821  \n",
       "50%                                   -500.041085  \n",
       "75%                                   -499.395621  \n",
       "max                                    -29.093593  \n",
       "\n",
       "[8 rows x 52 columns]"
      ]
     },
     "metadata": {},
     "output_type": "display_data"
    }
   ],
   "source": [
    "#initial look at test_df\n",
    "show(test_df)"
   ]
  },
  {
   "cell_type": "code",
   "execution_count": 6,
   "metadata": {},
   "outputs": [
    {
     "name": "stdout",
     "output_type": "stream",
     "text": [
      "<class 'pandas.core.frame.DataFrame'>\n",
      "RangeIndex: 22716 entries, 0 to 22715\n",
      "Data columns (total 87 columns):\n",
      " #   Column                                              Non-Null Count  Dtype  \n",
      "---  ------                                              --------------  -----  \n",
      " 0   date                                                22716 non-null  object \n",
      " 1   final.output.concentrate_ag                         22627 non-null  float64\n",
      " 2   final.output.concentrate_pb                         22629 non-null  float64\n",
      " 3   final.output.concentrate_sol                        22331 non-null  float64\n",
      " 4   final.output.concentrate_au                         22630 non-null  float64\n",
      " 5   final.output.recovery                               20753 non-null  float64\n",
      " 6   final.output.tail_ag                                22633 non-null  float64\n",
      " 7   final.output.tail_pb                                22516 non-null  float64\n",
      " 8   final.output.tail_sol                               22445 non-null  float64\n",
      " 9   final.output.tail_au                                22635 non-null  float64\n",
      " 10  primary_cleaner.input.sulfate                       21107 non-null  float64\n",
      " 11  primary_cleaner.input.depressant                    21170 non-null  float64\n",
      " 12  primary_cleaner.input.feed_size                     22716 non-null  float64\n",
      " 13  primary_cleaner.input.xanthate                      21565 non-null  float64\n",
      " 14  primary_cleaner.output.concentrate_ag               22618 non-null  float64\n",
      " 15  primary_cleaner.output.concentrate_pb               22268 non-null  float64\n",
      " 16  primary_cleaner.output.concentrate_sol              21918 non-null  float64\n",
      " 17  primary_cleaner.output.concentrate_au               22618 non-null  float64\n",
      " 18  primary_cleaner.output.tail_ag                      22614 non-null  float64\n",
      " 19  primary_cleaner.output.tail_pb                      22594 non-null  float64\n",
      " 20  primary_cleaner.output.tail_sol                     22365 non-null  float64\n",
      " 21  primary_cleaner.output.tail_au                      22617 non-null  float64\n",
      " 22  primary_cleaner.state.floatbank8_a_air              22660 non-null  float64\n",
      " 23  primary_cleaner.state.floatbank8_a_level            22667 non-null  float64\n",
      " 24  primary_cleaner.state.floatbank8_b_air              22660 non-null  float64\n",
      " 25  primary_cleaner.state.floatbank8_b_level            22673 non-null  float64\n",
      " 26  primary_cleaner.state.floatbank8_c_air              22662 non-null  float64\n",
      " 27  primary_cleaner.state.floatbank8_c_level            22673 non-null  float64\n",
      " 28  primary_cleaner.state.floatbank8_d_air              22661 non-null  float64\n",
      " 29  primary_cleaner.state.floatbank8_d_level            22673 non-null  float64\n",
      " 30  rougher.calculation.sulfate_to_au_concentrate       22672 non-null  float64\n",
      " 31  rougher.calculation.floatbank10_sulfate_to_au_feed  22672 non-null  float64\n",
      " 32  rougher.calculation.floatbank11_sulfate_to_au_feed  22672 non-null  float64\n",
      " 33  rougher.calculation.au_pb_ratio                     21089 non-null  float64\n",
      " 34  rougher.input.feed_ag                               22618 non-null  float64\n",
      " 35  rougher.input.feed_pb                               22472 non-null  float64\n",
      " 36  rougher.input.feed_rate                             22163 non-null  float64\n",
      " 37  rougher.input.feed_size                             22277 non-null  float64\n",
      " 38  rougher.input.feed_sol                              22357 non-null  float64\n",
      " 39  rougher.input.feed_au                               22617 non-null  float64\n",
      " 40  rougher.input.floatbank10_sulfate                   21415 non-null  float64\n",
      " 41  rougher.input.floatbank10_xanthate                  22247 non-null  float64\n",
      " 42  rougher.input.floatbank11_sulfate                   22038 non-null  float64\n",
      " 43  rougher.input.floatbank11_xanthate                  20459 non-null  float64\n",
      " 44  rougher.output.concentrate_ag                       22618 non-null  float64\n",
      " 45  rougher.output.concentrate_pb                       22618 non-null  float64\n",
      " 46  rougher.output.concentrate_sol                      22526 non-null  float64\n",
      " 47  rougher.output.concentrate_au                       22618 non-null  float64\n",
      " 48  rougher.output.recovery                             19597 non-null  float64\n",
      " 49  rougher.output.tail_ag                              19979 non-null  float64\n",
      " 50  rougher.output.tail_pb                              22618 non-null  float64\n",
      " 51  rougher.output.tail_sol                             19980 non-null  float64\n",
      " 52  rougher.output.tail_au                              19980 non-null  float64\n",
      " 53  rougher.state.floatbank10_a_air                     22646 non-null  float64\n",
      " 54  rougher.state.floatbank10_a_level                   22647 non-null  float64\n",
      " 55  rougher.state.floatbank10_b_air                     22646 non-null  float64\n",
      " 56  rougher.state.floatbank10_b_level                   22647 non-null  float64\n",
      " 57  rougher.state.floatbank10_c_air                     22646 non-null  float64\n",
      " 58  rougher.state.floatbank10_c_level                   22654 non-null  float64\n",
      " 59  rougher.state.floatbank10_d_air                     22641 non-null  float64\n",
      " 60  rougher.state.floatbank10_d_level                   22649 non-null  float64\n",
      " 61  rougher.state.floatbank10_e_air                     22096 non-null  float64\n",
      " 62  rougher.state.floatbank10_e_level                   22649 non-null  float64\n",
      " 63  rougher.state.floatbank10_f_air                     22641 non-null  float64\n",
      " 64  rougher.state.floatbank10_f_level                   22642 non-null  float64\n",
      " 65  secondary_cleaner.output.tail_ag                    22616 non-null  float64\n",
      " 66  secondary_cleaner.output.tail_pb                    22600 non-null  float64\n",
      " 67  secondary_cleaner.output.tail_sol                   20501 non-null  float64\n",
      " 68  secondary_cleaner.output.tail_au                    22618 non-null  float64\n",
      " 69  secondary_cleaner.state.floatbank2_a_air            22333 non-null  float64\n",
      " 70  secondary_cleaner.state.floatbank2_a_level          22591 non-null  float64\n",
      " 71  secondary_cleaner.state.floatbank2_b_air            22538 non-null  float64\n",
      " 72  secondary_cleaner.state.floatbank2_b_level          22588 non-null  float64\n",
      " 73  secondary_cleaner.state.floatbank3_a_air            22585 non-null  float64\n",
      " 74  secondary_cleaner.state.floatbank3_a_level          22587 non-null  float64\n",
      " 75  secondary_cleaner.state.floatbank3_b_air            22592 non-null  float64\n",
      " 76  secondary_cleaner.state.floatbank3_b_level          22590 non-null  float64\n",
      " 77  secondary_cleaner.state.floatbank4_a_air            22571 non-null  float64\n",
      " 78  secondary_cleaner.state.floatbank4_a_level          22587 non-null  float64\n",
      " 79  secondary_cleaner.state.floatbank4_b_air            22608 non-null  float64\n",
      " 80  secondary_cleaner.state.floatbank4_b_level          22607 non-null  float64\n",
      " 81  secondary_cleaner.state.floatbank5_a_air            22615 non-null  float64\n",
      " 82  secondary_cleaner.state.floatbank5_a_level          22615 non-null  float64\n",
      " 83  secondary_cleaner.state.floatbank5_b_air            22615 non-null  float64\n",
      " 84  secondary_cleaner.state.floatbank5_b_level          22616 non-null  float64\n",
      " 85  secondary_cleaner.state.floatbank6_a_air            22597 non-null  float64\n",
      " 86  secondary_cleaner.state.floatbank6_a_level          22615 non-null  float64\n",
      "dtypes: float64(86), object(1)\n",
      "memory usage: 15.1+ MB\n"
     ]
    },
    {
     "data": {
      "text/plain": [
       "None"
      ]
     },
     "metadata": {},
     "output_type": "display_data"
    },
    {
     "data": {
      "text/html": [
       "<div>\n",
       "<style scoped>\n",
       "    .dataframe tbody tr th:only-of-type {\n",
       "        vertical-align: middle;\n",
       "    }\n",
       "\n",
       "    .dataframe tbody tr th {\n",
       "        vertical-align: top;\n",
       "    }\n",
       "\n",
       "    .dataframe thead th {\n",
       "        text-align: right;\n",
       "    }\n",
       "</style>\n",
       "<table border=\"1\" class=\"dataframe\">\n",
       "  <thead>\n",
       "    <tr style=\"text-align: right;\">\n",
       "      <th></th>\n",
       "      <th>final.output.concentrate_ag</th>\n",
       "      <th>final.output.concentrate_pb</th>\n",
       "      <th>final.output.concentrate_sol</th>\n",
       "      <th>final.output.concentrate_au</th>\n",
       "      <th>final.output.recovery</th>\n",
       "      <th>final.output.tail_ag</th>\n",
       "      <th>final.output.tail_pb</th>\n",
       "      <th>final.output.tail_sol</th>\n",
       "      <th>final.output.tail_au</th>\n",
       "      <th>primary_cleaner.input.sulfate</th>\n",
       "      <th>...</th>\n",
       "      <th>secondary_cleaner.state.floatbank4_a_air</th>\n",
       "      <th>secondary_cleaner.state.floatbank4_a_level</th>\n",
       "      <th>secondary_cleaner.state.floatbank4_b_air</th>\n",
       "      <th>secondary_cleaner.state.floatbank4_b_level</th>\n",
       "      <th>secondary_cleaner.state.floatbank5_a_air</th>\n",
       "      <th>secondary_cleaner.state.floatbank5_a_level</th>\n",
       "      <th>secondary_cleaner.state.floatbank5_b_air</th>\n",
       "      <th>secondary_cleaner.state.floatbank5_b_level</th>\n",
       "      <th>secondary_cleaner.state.floatbank6_a_air</th>\n",
       "      <th>secondary_cleaner.state.floatbank6_a_level</th>\n",
       "    </tr>\n",
       "  </thead>\n",
       "  <tbody>\n",
       "    <tr>\n",
       "      <th>count</th>\n",
       "      <td>22627.000000</td>\n",
       "      <td>22629.000000</td>\n",
       "      <td>22331.000000</td>\n",
       "      <td>22630.000000</td>\n",
       "      <td>20753.000000</td>\n",
       "      <td>22633.000000</td>\n",
       "      <td>22516.000000</td>\n",
       "      <td>22445.000000</td>\n",
       "      <td>22635.000000</td>\n",
       "      <td>21107.000000</td>\n",
       "      <td>...</td>\n",
       "      <td>22571.000000</td>\n",
       "      <td>22587.000000</td>\n",
       "      <td>22608.000000</td>\n",
       "      <td>22607.000000</td>\n",
       "      <td>22615.000000</td>\n",
       "      <td>22615.000000</td>\n",
       "      <td>22615.000000</td>\n",
       "      <td>22616.000000</td>\n",
       "      <td>22597.000000</td>\n",
       "      <td>22615.000000</td>\n",
       "    </tr>\n",
       "    <tr>\n",
       "      <th>mean</th>\n",
       "      <td>4.781559</td>\n",
       "      <td>9.095308</td>\n",
       "      <td>8.640317</td>\n",
       "      <td>40.001172</td>\n",
       "      <td>67.447488</td>\n",
       "      <td>8.923690</td>\n",
       "      <td>2.488252</td>\n",
       "      <td>9.523632</td>\n",
       "      <td>2.827459</td>\n",
       "      <td>140.277672</td>\n",
       "      <td>...</td>\n",
       "      <td>18.205125</td>\n",
       "      <td>-499.878977</td>\n",
       "      <td>14.356474</td>\n",
       "      <td>-476.532613</td>\n",
       "      <td>14.883276</td>\n",
       "      <td>-503.323288</td>\n",
       "      <td>11.626743</td>\n",
       "      <td>-500.521502</td>\n",
       "      <td>17.976810</td>\n",
       "      <td>-519.361465</td>\n",
       "    </tr>\n",
       "    <tr>\n",
       "      <th>std</th>\n",
       "      <td>2.030128</td>\n",
       "      <td>3.230797</td>\n",
       "      <td>3.785035</td>\n",
       "      <td>13.398062</td>\n",
       "      <td>11.616034</td>\n",
       "      <td>3.517917</td>\n",
       "      <td>1.189407</td>\n",
       "      <td>4.079739</td>\n",
       "      <td>1.262834</td>\n",
       "      <td>49.919004</td>\n",
       "      <td>...</td>\n",
       "      <td>6.560700</td>\n",
       "      <td>80.273964</td>\n",
       "      <td>5.655791</td>\n",
       "      <td>93.822791</td>\n",
       "      <td>6.372811</td>\n",
       "      <td>72.925589</td>\n",
       "      <td>5.757449</td>\n",
       "      <td>78.956292</td>\n",
       "      <td>6.636203</td>\n",
       "      <td>75.477151</td>\n",
       "    </tr>\n",
       "    <tr>\n",
       "      <th>min</th>\n",
       "      <td>0.000000</td>\n",
       "      <td>0.000000</td>\n",
       "      <td>0.000000</td>\n",
       "      <td>0.000000</td>\n",
       "      <td>0.000000</td>\n",
       "      <td>0.000000</td>\n",
       "      <td>0.000000</td>\n",
       "      <td>0.000000</td>\n",
       "      <td>0.000000</td>\n",
       "      <td>0.000003</td>\n",
       "      <td>...</td>\n",
       "      <td>0.000000</td>\n",
       "      <td>-799.920713</td>\n",
       "      <td>0.000000</td>\n",
       "      <td>-800.836914</td>\n",
       "      <td>-0.423260</td>\n",
       "      <td>-799.741097</td>\n",
       "      <td>0.427084</td>\n",
       "      <td>-800.258209</td>\n",
       "      <td>-0.079426</td>\n",
       "      <td>-810.473526</td>\n",
       "    </tr>\n",
       "    <tr>\n",
       "      <th>25%</th>\n",
       "      <td>4.018525</td>\n",
       "      <td>8.750171</td>\n",
       "      <td>7.116799</td>\n",
       "      <td>42.383721</td>\n",
       "      <td>63.282393</td>\n",
       "      <td>7.684016</td>\n",
       "      <td>1.805376</td>\n",
       "      <td>8.143576</td>\n",
       "      <td>2.303108</td>\n",
       "      <td>110.177081</td>\n",
       "      <td>...</td>\n",
       "      <td>14.095940</td>\n",
       "      <td>-500.896232</td>\n",
       "      <td>10.882675</td>\n",
       "      <td>-500.309169</td>\n",
       "      <td>10.941299</td>\n",
       "      <td>-500.628697</td>\n",
       "      <td>8.037533</td>\n",
       "      <td>-500.167897</td>\n",
       "      <td>13.968418</td>\n",
       "      <td>-500.981671</td>\n",
       "    </tr>\n",
       "    <tr>\n",
       "      <th>50%</th>\n",
       "      <td>4.953729</td>\n",
       "      <td>9.914519</td>\n",
       "      <td>8.908792</td>\n",
       "      <td>44.653436</td>\n",
       "      <td>68.322258</td>\n",
       "      <td>9.484369</td>\n",
       "      <td>2.653001</td>\n",
       "      <td>10.212998</td>\n",
       "      <td>2.913794</td>\n",
       "      <td>141.330501</td>\n",
       "      <td>...</td>\n",
       "      <td>18.007326</td>\n",
       "      <td>-499.917108</td>\n",
       "      <td>14.947646</td>\n",
       "      <td>-499.612292</td>\n",
       "      <td>14.859117</td>\n",
       "      <td>-499.865158</td>\n",
       "      <td>10.989756</td>\n",
       "      <td>-499.951980</td>\n",
       "      <td>18.004215</td>\n",
       "      <td>-500.095463</td>\n",
       "    </tr>\n",
       "    <tr>\n",
       "      <th>75%</th>\n",
       "      <td>5.862593</td>\n",
       "      <td>10.929839</td>\n",
       "      <td>10.705824</td>\n",
       "      <td>46.111999</td>\n",
       "      <td>72.950836</td>\n",
       "      <td>11.084557</td>\n",
       "      <td>3.287790</td>\n",
       "      <td>11.860824</td>\n",
       "      <td>3.555077</td>\n",
       "      <td>174.049914</td>\n",
       "      <td>...</td>\n",
       "      <td>22.998194</td>\n",
       "      <td>-498.361545</td>\n",
       "      <td>17.977502</td>\n",
       "      <td>-400.224147</td>\n",
       "      <td>18.014914</td>\n",
       "      <td>-498.489381</td>\n",
       "      <td>14.001193</td>\n",
       "      <td>-499.492354</td>\n",
       "      <td>23.009704</td>\n",
       "      <td>-499.526388</td>\n",
       "    </tr>\n",
       "    <tr>\n",
       "      <th>max</th>\n",
       "      <td>16.001945</td>\n",
       "      <td>17.031899</td>\n",
       "      <td>19.615720</td>\n",
       "      <td>53.611374</td>\n",
       "      <td>100.000000</td>\n",
       "      <td>19.552149</td>\n",
       "      <td>6.086532</td>\n",
       "      <td>22.861749</td>\n",
       "      <td>9.789625</td>\n",
       "      <td>274.409626</td>\n",
       "      <td>...</td>\n",
       "      <td>60.000000</td>\n",
       "      <td>-127.692333</td>\n",
       "      <td>31.269706</td>\n",
       "      <td>-6.506986</td>\n",
       "      <td>63.116298</td>\n",
       "      <td>-244.483566</td>\n",
       "      <td>39.846228</td>\n",
       "      <td>-120.190931</td>\n",
       "      <td>54.876806</td>\n",
       "      <td>-29.093593</td>\n",
       "    </tr>\n",
       "  </tbody>\n",
       "</table>\n",
       "<p>8 rows × 86 columns</p>\n",
       "</div>"
      ],
      "text/plain": [
       "       final.output.concentrate_ag  final.output.concentrate_pb  \\\n",
       "count                 22627.000000                 22629.000000   \n",
       "mean                      4.781559                     9.095308   \n",
       "std                       2.030128                     3.230797   \n",
       "min                       0.000000                     0.000000   \n",
       "25%                       4.018525                     8.750171   \n",
       "50%                       4.953729                     9.914519   \n",
       "75%                       5.862593                    10.929839   \n",
       "max                      16.001945                    17.031899   \n",
       "\n",
       "       final.output.concentrate_sol  final.output.concentrate_au  \\\n",
       "count                  22331.000000                 22630.000000   \n",
       "mean                       8.640317                    40.001172   \n",
       "std                        3.785035                    13.398062   \n",
       "min                        0.000000                     0.000000   \n",
       "25%                        7.116799                    42.383721   \n",
       "50%                        8.908792                    44.653436   \n",
       "75%                       10.705824                    46.111999   \n",
       "max                       19.615720                    53.611374   \n",
       "\n",
       "       final.output.recovery  final.output.tail_ag  final.output.tail_pb  \\\n",
       "count           20753.000000          22633.000000          22516.000000   \n",
       "mean               67.447488              8.923690              2.488252   \n",
       "std                11.616034              3.517917              1.189407   \n",
       "min                 0.000000              0.000000              0.000000   \n",
       "25%                63.282393              7.684016              1.805376   \n",
       "50%                68.322258              9.484369              2.653001   \n",
       "75%                72.950836             11.084557              3.287790   \n",
       "max               100.000000             19.552149              6.086532   \n",
       "\n",
       "       final.output.tail_sol  final.output.tail_au  \\\n",
       "count           22445.000000          22635.000000   \n",
       "mean                9.523632              2.827459   \n",
       "std                 4.079739              1.262834   \n",
       "min                 0.000000              0.000000   \n",
       "25%                 8.143576              2.303108   \n",
       "50%                10.212998              2.913794   \n",
       "75%                11.860824              3.555077   \n",
       "max                22.861749              9.789625   \n",
       "\n",
       "       primary_cleaner.input.sulfate  ...  \\\n",
       "count                   21107.000000  ...   \n",
       "mean                      140.277672  ...   \n",
       "std                        49.919004  ...   \n",
       "min                         0.000003  ...   \n",
       "25%                       110.177081  ...   \n",
       "50%                       141.330501  ...   \n",
       "75%                       174.049914  ...   \n",
       "max                       274.409626  ...   \n",
       "\n",
       "       secondary_cleaner.state.floatbank4_a_air  \\\n",
       "count                              22571.000000   \n",
       "mean                                  18.205125   \n",
       "std                                    6.560700   \n",
       "min                                    0.000000   \n",
       "25%                                   14.095940   \n",
       "50%                                   18.007326   \n",
       "75%                                   22.998194   \n",
       "max                                   60.000000   \n",
       "\n",
       "       secondary_cleaner.state.floatbank4_a_level  \\\n",
       "count                                22587.000000   \n",
       "mean                                  -499.878977   \n",
       "std                                     80.273964   \n",
       "min                                   -799.920713   \n",
       "25%                                   -500.896232   \n",
       "50%                                   -499.917108   \n",
       "75%                                   -498.361545   \n",
       "max                                   -127.692333   \n",
       "\n",
       "       secondary_cleaner.state.floatbank4_b_air  \\\n",
       "count                              22608.000000   \n",
       "mean                                  14.356474   \n",
       "std                                    5.655791   \n",
       "min                                    0.000000   \n",
       "25%                                   10.882675   \n",
       "50%                                   14.947646   \n",
       "75%                                   17.977502   \n",
       "max                                   31.269706   \n",
       "\n",
       "       secondary_cleaner.state.floatbank4_b_level  \\\n",
       "count                                22607.000000   \n",
       "mean                                  -476.532613   \n",
       "std                                     93.822791   \n",
       "min                                   -800.836914   \n",
       "25%                                   -500.309169   \n",
       "50%                                   -499.612292   \n",
       "75%                                   -400.224147   \n",
       "max                                     -6.506986   \n",
       "\n",
       "       secondary_cleaner.state.floatbank5_a_air  \\\n",
       "count                              22615.000000   \n",
       "mean                                  14.883276   \n",
       "std                                    6.372811   \n",
       "min                                   -0.423260   \n",
       "25%                                   10.941299   \n",
       "50%                                   14.859117   \n",
       "75%                                   18.014914   \n",
       "max                                   63.116298   \n",
       "\n",
       "       secondary_cleaner.state.floatbank5_a_level  \\\n",
       "count                                22615.000000   \n",
       "mean                                  -503.323288   \n",
       "std                                     72.925589   \n",
       "min                                   -799.741097   \n",
       "25%                                   -500.628697   \n",
       "50%                                   -499.865158   \n",
       "75%                                   -498.489381   \n",
       "max                                   -244.483566   \n",
       "\n",
       "       secondary_cleaner.state.floatbank5_b_air  \\\n",
       "count                              22615.000000   \n",
       "mean                                  11.626743   \n",
       "std                                    5.757449   \n",
       "min                                    0.427084   \n",
       "25%                                    8.037533   \n",
       "50%                                   10.989756   \n",
       "75%                                   14.001193   \n",
       "max                                   39.846228   \n",
       "\n",
       "       secondary_cleaner.state.floatbank5_b_level  \\\n",
       "count                                22616.000000   \n",
       "mean                                  -500.521502   \n",
       "std                                     78.956292   \n",
       "min                                   -800.258209   \n",
       "25%                                   -500.167897   \n",
       "50%                                   -499.951980   \n",
       "75%                                   -499.492354   \n",
       "max                                   -120.190931   \n",
       "\n",
       "       secondary_cleaner.state.floatbank6_a_air  \\\n",
       "count                              22597.000000   \n",
       "mean                                  17.976810   \n",
       "std                                    6.636203   \n",
       "min                                   -0.079426   \n",
       "25%                                   13.968418   \n",
       "50%                                   18.004215   \n",
       "75%                                   23.009704   \n",
       "max                                   54.876806   \n",
       "\n",
       "       secondary_cleaner.state.floatbank6_a_level  \n",
       "count                                22615.000000  \n",
       "mean                                  -519.361465  \n",
       "std                                     75.477151  \n",
       "min                                   -810.473526  \n",
       "25%                                   -500.981671  \n",
       "50%                                   -500.095463  \n",
       "75%                                   -499.526388  \n",
       "max                                    -29.093593  \n",
       "\n",
       "[8 rows x 86 columns]"
      ]
     },
     "metadata": {},
     "output_type": "display_data"
    }
   ],
   "source": [
    "#initial look at the full_df\n",
    "show(full_df)"
   ]
  },
  {
   "cell_type": "code",
   "execution_count": 7,
   "metadata": {},
   "outputs": [
    {
     "data": {
      "text/html": [
       "<div>\n",
       "<style scoped>\n",
       "    .dataframe tbody tr th:only-of-type {\n",
       "        vertical-align: middle;\n",
       "    }\n",
       "\n",
       "    .dataframe tbody tr th {\n",
       "        vertical-align: top;\n",
       "    }\n",
       "\n",
       "    .dataframe thead th {\n",
       "        text-align: right;\n",
       "    }\n",
       "</style>\n",
       "<table border=\"1\" class=\"dataframe\">\n",
       "  <thead>\n",
       "    <tr style=\"text-align: right;\">\n",
       "      <th></th>\n",
       "      <th>date</th>\n",
       "      <th>final.output.concentrate_ag</th>\n",
       "      <th>final.output.concentrate_pb</th>\n",
       "      <th>final.output.concentrate_sol</th>\n",
       "      <th>final.output.concentrate_au</th>\n",
       "      <th>final.output.recovery</th>\n",
       "      <th>final.output.tail_ag</th>\n",
       "      <th>final.output.tail_pb</th>\n",
       "      <th>final.output.tail_sol</th>\n",
       "      <th>final.output.tail_au</th>\n",
       "      <th>...</th>\n",
       "      <th>secondary_cleaner.state.floatbank4_a_air</th>\n",
       "      <th>secondary_cleaner.state.floatbank4_a_level</th>\n",
       "      <th>secondary_cleaner.state.floatbank4_b_air</th>\n",
       "      <th>secondary_cleaner.state.floatbank4_b_level</th>\n",
       "      <th>secondary_cleaner.state.floatbank5_a_air</th>\n",
       "      <th>secondary_cleaner.state.floatbank5_a_level</th>\n",
       "      <th>secondary_cleaner.state.floatbank5_b_air</th>\n",
       "      <th>secondary_cleaner.state.floatbank5_b_level</th>\n",
       "      <th>secondary_cleaner.state.floatbank6_a_air</th>\n",
       "      <th>secondary_cleaner.state.floatbank6_a_level</th>\n",
       "    </tr>\n",
       "  </thead>\n",
       "  <tbody>\n",
       "    <tr>\n",
       "      <th>0</th>\n",
       "      <td>2016-01-15 00:00:00</td>\n",
       "      <td>6.055403</td>\n",
       "      <td>9.889648</td>\n",
       "      <td>5.507324</td>\n",
       "      <td>42.192020</td>\n",
       "      <td>70.541216</td>\n",
       "      <td>10.411962</td>\n",
       "      <td>0.895447</td>\n",
       "      <td>16.904297</td>\n",
       "      <td>2.143149</td>\n",
       "      <td>...</td>\n",
       "      <td>14.016835</td>\n",
       "      <td>-502.488007</td>\n",
       "      <td>12.099931</td>\n",
       "      <td>-504.715942</td>\n",
       "      <td>9.925633</td>\n",
       "      <td>-498.310211</td>\n",
       "      <td>8.079666</td>\n",
       "      <td>-500.470978</td>\n",
       "      <td>14.151341</td>\n",
       "      <td>-605.841980</td>\n",
       "    </tr>\n",
       "    <tr>\n",
       "      <th>1</th>\n",
       "      <td>2016-01-15 01:00:00</td>\n",
       "      <td>6.029369</td>\n",
       "      <td>9.968944</td>\n",
       "      <td>5.257781</td>\n",
       "      <td>42.701629</td>\n",
       "      <td>69.266198</td>\n",
       "      <td>10.462676</td>\n",
       "      <td>0.927452</td>\n",
       "      <td>16.634514</td>\n",
       "      <td>2.224930</td>\n",
       "      <td>...</td>\n",
       "      <td>13.992281</td>\n",
       "      <td>-505.503262</td>\n",
       "      <td>11.950531</td>\n",
       "      <td>-501.331529</td>\n",
       "      <td>10.039245</td>\n",
       "      <td>-500.169983</td>\n",
       "      <td>7.984757</td>\n",
       "      <td>-500.582168</td>\n",
       "      <td>13.998353</td>\n",
       "      <td>-599.787184</td>\n",
       "    </tr>\n",
       "    <tr>\n",
       "      <th>2</th>\n",
       "      <td>2016-01-15 02:00:00</td>\n",
       "      <td>6.055926</td>\n",
       "      <td>10.213995</td>\n",
       "      <td>5.383759</td>\n",
       "      <td>42.657501</td>\n",
       "      <td>68.116445</td>\n",
       "      <td>10.507046</td>\n",
       "      <td>0.953716</td>\n",
       "      <td>16.208849</td>\n",
       "      <td>2.257889</td>\n",
       "      <td>...</td>\n",
       "      <td>14.015015</td>\n",
       "      <td>-502.520901</td>\n",
       "      <td>11.912783</td>\n",
       "      <td>-501.133383</td>\n",
       "      <td>10.070913</td>\n",
       "      <td>-500.129135</td>\n",
       "      <td>8.013877</td>\n",
       "      <td>-500.517572</td>\n",
       "      <td>14.028663</td>\n",
       "      <td>-601.427363</td>\n",
       "    </tr>\n",
       "    <tr>\n",
       "      <th>3</th>\n",
       "      <td>2016-01-15 03:00:00</td>\n",
       "      <td>6.047977</td>\n",
       "      <td>9.977019</td>\n",
       "      <td>4.858634</td>\n",
       "      <td>42.689819</td>\n",
       "      <td>68.347543</td>\n",
       "      <td>10.422762</td>\n",
       "      <td>0.883763</td>\n",
       "      <td>16.532835</td>\n",
       "      <td>2.146849</td>\n",
       "      <td>...</td>\n",
       "      <td>14.036510</td>\n",
       "      <td>-500.857308</td>\n",
       "      <td>11.999550</td>\n",
       "      <td>-501.193686</td>\n",
       "      <td>9.970366</td>\n",
       "      <td>-499.201640</td>\n",
       "      <td>7.977324</td>\n",
       "      <td>-500.255908</td>\n",
       "      <td>14.005551</td>\n",
       "      <td>-599.996129</td>\n",
       "    </tr>\n",
       "    <tr>\n",
       "      <th>4</th>\n",
       "      <td>2016-01-15 04:00:00</td>\n",
       "      <td>6.148599</td>\n",
       "      <td>10.142511</td>\n",
       "      <td>4.939416</td>\n",
       "      <td>42.774141</td>\n",
       "      <td>66.927016</td>\n",
       "      <td>10.360302</td>\n",
       "      <td>0.792826</td>\n",
       "      <td>16.525686</td>\n",
       "      <td>2.055292</td>\n",
       "      <td>...</td>\n",
       "      <td>14.027298</td>\n",
       "      <td>-499.838632</td>\n",
       "      <td>11.953070</td>\n",
       "      <td>-501.053894</td>\n",
       "      <td>9.925709</td>\n",
       "      <td>-501.686727</td>\n",
       "      <td>7.894242</td>\n",
       "      <td>-500.356035</td>\n",
       "      <td>13.996647</td>\n",
       "      <td>-601.496691</td>\n",
       "    </tr>\n",
       "  </tbody>\n",
       "</table>\n",
       "<p>5 rows × 87 columns</p>\n",
       "</div>"
      ],
      "text/plain": [
       "                  date  final.output.concentrate_ag  \\\n",
       "0  2016-01-15 00:00:00                     6.055403   \n",
       "1  2016-01-15 01:00:00                     6.029369   \n",
       "2  2016-01-15 02:00:00                     6.055926   \n",
       "3  2016-01-15 03:00:00                     6.047977   \n",
       "4  2016-01-15 04:00:00                     6.148599   \n",
       "\n",
       "   final.output.concentrate_pb  final.output.concentrate_sol  \\\n",
       "0                     9.889648                      5.507324   \n",
       "1                     9.968944                      5.257781   \n",
       "2                    10.213995                      5.383759   \n",
       "3                     9.977019                      4.858634   \n",
       "4                    10.142511                      4.939416   \n",
       "\n",
       "   final.output.concentrate_au  final.output.recovery  final.output.tail_ag  \\\n",
       "0                    42.192020              70.541216             10.411962   \n",
       "1                    42.701629              69.266198             10.462676   \n",
       "2                    42.657501              68.116445             10.507046   \n",
       "3                    42.689819              68.347543             10.422762   \n",
       "4                    42.774141              66.927016             10.360302   \n",
       "\n",
       "   final.output.tail_pb  final.output.tail_sol  final.output.tail_au  ...  \\\n",
       "0              0.895447              16.904297              2.143149  ...   \n",
       "1              0.927452              16.634514              2.224930  ...   \n",
       "2              0.953716              16.208849              2.257889  ...   \n",
       "3              0.883763              16.532835              2.146849  ...   \n",
       "4              0.792826              16.525686              2.055292  ...   \n",
       "\n",
       "   secondary_cleaner.state.floatbank4_a_air  \\\n",
       "0                                 14.016835   \n",
       "1                                 13.992281   \n",
       "2                                 14.015015   \n",
       "3                                 14.036510   \n",
       "4                                 14.027298   \n",
       "\n",
       "   secondary_cleaner.state.floatbank4_a_level  \\\n",
       "0                                 -502.488007   \n",
       "1                                 -505.503262   \n",
       "2                                 -502.520901   \n",
       "3                                 -500.857308   \n",
       "4                                 -499.838632   \n",
       "\n",
       "   secondary_cleaner.state.floatbank4_b_air  \\\n",
       "0                                 12.099931   \n",
       "1                                 11.950531   \n",
       "2                                 11.912783   \n",
       "3                                 11.999550   \n",
       "4                                 11.953070   \n",
       "\n",
       "   secondary_cleaner.state.floatbank4_b_level  \\\n",
       "0                                 -504.715942   \n",
       "1                                 -501.331529   \n",
       "2                                 -501.133383   \n",
       "3                                 -501.193686   \n",
       "4                                 -501.053894   \n",
       "\n",
       "   secondary_cleaner.state.floatbank5_a_air  \\\n",
       "0                                  9.925633   \n",
       "1                                 10.039245   \n",
       "2                                 10.070913   \n",
       "3                                  9.970366   \n",
       "4                                  9.925709   \n",
       "\n",
       "   secondary_cleaner.state.floatbank5_a_level  \\\n",
       "0                                 -498.310211   \n",
       "1                                 -500.169983   \n",
       "2                                 -500.129135   \n",
       "3                                 -499.201640   \n",
       "4                                 -501.686727   \n",
       "\n",
       "   secondary_cleaner.state.floatbank5_b_air  \\\n",
       "0                                  8.079666   \n",
       "1                                  7.984757   \n",
       "2                                  8.013877   \n",
       "3                                  7.977324   \n",
       "4                                  7.894242   \n",
       "\n",
       "   secondary_cleaner.state.floatbank5_b_level  \\\n",
       "0                                 -500.470978   \n",
       "1                                 -500.582168   \n",
       "2                                 -500.517572   \n",
       "3                                 -500.255908   \n",
       "4                                 -500.356035   \n",
       "\n",
       "   secondary_cleaner.state.floatbank6_a_air  \\\n",
       "0                                 14.151341   \n",
       "1                                 13.998353   \n",
       "2                                 14.028663   \n",
       "3                                 14.005551   \n",
       "4                                 13.996647   \n",
       "\n",
       "   secondary_cleaner.state.floatbank6_a_level  \n",
       "0                                 -605.841980  \n",
       "1                                 -599.787184  \n",
       "2                                 -601.427363  \n",
       "3                                 -599.996129  \n",
       "4                                 -601.496691  \n",
       "\n",
       "[5 rows x 87 columns]"
      ]
     },
     "metadata": {},
     "output_type": "display_data"
    }
   ],
   "source": [
    "#displaying small portion of train_df\n",
    "display(train_df.head())"
   ]
  },
  {
   "cell_type": "code",
   "execution_count": 8,
   "metadata": {},
   "outputs": [
    {
     "data": {
      "text/plain": [
       "0"
      ]
     },
     "metadata": {},
     "output_type": "display_data"
    },
    {
     "data": {
      "text/plain": [
       "0"
      ]
     },
     "metadata": {},
     "output_type": "display_data"
    },
    {
     "data": {
      "text/plain": [
       "0"
      ]
     },
     "metadata": {},
     "output_type": "display_data"
    }
   ],
   "source": [
    "#checking for full line duplication\n",
    "display(train_df.duplicated().sum())\n",
    "display(test_df.duplicated().sum())\n",
    "display(full_df.duplicated().sum())"
   ]
  },
  {
   "cell_type": "code",
   "execution_count": 9,
   "metadata": {},
   "outputs": [],
   "source": [
    "#Chaning to datetime for all three data sets\n",
    "train_df['date'] = pd.to_datetime(train_df['date'])\n",
    "test_df['date'] = pd.to_datetime(test_df['date'])\n",
    "full_df['date'] = pd.to_datetime(full_df['date'])"
   ]
  },
  {
   "cell_type": "markdown",
   "metadata": {},
   "source": [
    "***Take Away:*** \n",
    "- The full data has 87 columns\n",
    "- train data has 87 columns\n",
    "- test data has 53 columns\n",
    "- no full duplicated lines"
   ]
  },
  {
   "cell_type": "markdown",
   "metadata": {},
   "source": [
    "### Check that recovery calculation\n",
    "\n",
    "Using the training set, calculate recovery for the rougher.output.recovery feature. Find the MAE between your calculations and the feature values. Provide findings.\n",
    "\n",
    "***Recovery calc:***\n",
    "Recovery = (rougher.output.concentrate_au * (rougher.input.feed_au - rougher.output.tail_au)) / (rougher.input.feed_au * (rougher.output.concentrate_au - rougher.output.tail_au)\n",
    "\n",
    "\n",
    "- rougher.output.concentrate_au \n",
    "- rougher.output.tail_au \n",
    "- rougher.input.feed_au \n",
    "\n",
    "compare to :\n",
    "- rougher.output.recovery "
   ]
  },
  {
   "cell_type": "code",
   "execution_count": 10,
   "metadata": {},
   "outputs": [
    {
     "data": {
      "text/html": [
       "<div>\n",
       "<style scoped>\n",
       "    .dataframe tbody tr th:only-of-type {\n",
       "        vertical-align: middle;\n",
       "    }\n",
       "\n",
       "    .dataframe tbody tr th {\n",
       "        vertical-align: top;\n",
       "    }\n",
       "\n",
       "    .dataframe thead th {\n",
       "        text-align: right;\n",
       "    }\n",
       "</style>\n",
       "<table border=\"1\" class=\"dataframe\">\n",
       "  <thead>\n",
       "    <tr style=\"text-align: right;\">\n",
       "      <th></th>\n",
       "      <th>rougher.input.feed_au</th>\n",
       "      <th>rougher.output.concentrate_au</th>\n",
       "      <th>rougher.output.tail_au</th>\n",
       "      <th>rougher.output.recovery</th>\n",
       "    </tr>\n",
       "  </thead>\n",
       "  <tbody>\n",
       "    <tr>\n",
       "      <th>0</th>\n",
       "      <td>6.486150</td>\n",
       "      <td>19.793808</td>\n",
       "      <td>1.170244</td>\n",
       "      <td>87.107763</td>\n",
       "    </tr>\n",
       "    <tr>\n",
       "      <th>1</th>\n",
       "      <td>6.478583</td>\n",
       "      <td>20.050975</td>\n",
       "      <td>1.184827</td>\n",
       "      <td>86.843261</td>\n",
       "    </tr>\n",
       "    <tr>\n",
       "      <th>2</th>\n",
       "      <td>6.362222</td>\n",
       "      <td>19.737170</td>\n",
       "      <td>1.162562</td>\n",
       "      <td>86.842308</td>\n",
       "    </tr>\n",
       "    <tr>\n",
       "      <th>3</th>\n",
       "      <td>6.118189</td>\n",
       "      <td>19.320810</td>\n",
       "      <td>1.079755</td>\n",
       "      <td>87.226430</td>\n",
       "    </tr>\n",
       "    <tr>\n",
       "      <th>4</th>\n",
       "      <td>5.663707</td>\n",
       "      <td>19.216101</td>\n",
       "      <td>1.012642</td>\n",
       "      <td>86.688794</td>\n",
       "    </tr>\n",
       "  </tbody>\n",
       "</table>\n",
       "</div>"
      ],
      "text/plain": [
       "   rougher.input.feed_au  rougher.output.concentrate_au  \\\n",
       "0               6.486150                      19.793808   \n",
       "1               6.478583                      20.050975   \n",
       "2               6.362222                      19.737170   \n",
       "3               6.118189                      19.320810   \n",
       "4               5.663707                      19.216101   \n",
       "\n",
       "   rougher.output.tail_au  rougher.output.recovery  \n",
       "0                1.170244                87.107763  \n",
       "1                1.184827                86.843261  \n",
       "2                1.162562                86.842308  \n",
       "3                1.079755                87.226430  \n",
       "4                1.012642                86.688794  "
      ]
     },
     "metadata": {},
     "output_type": "display_data"
    }
   ],
   "source": [
    "#initial look at the data to do the calculations\n",
    "display(train_df[['rougher.input.feed_au', 'rougher.output.concentrate_au', \n",
    "                 'rougher.output.tail_au', 'rougher.output.recovery']].head())"
   ]
  },
  {
   "cell_type": "code",
   "execution_count": 11,
   "metadata": {},
   "outputs": [],
   "source": [
    "#Au recovery calculation\n",
    "train_df['rougher.output.recovery_calc'] = (train_df['rougher.output.concentrate_au'] * \n",
    "                                            (train_df['rougher.input.feed_au'] - train_df['rougher.output.tail_au'])) / \\\n",
    "                                           (train_df['rougher.input.feed_au'] * \n",
    "                                            (train_df['rougher.output.concentrate_au'] - train_df['rougher.output.tail_au']))*100"
   ]
  },
  {
   "cell_type": "code",
   "execution_count": 12,
   "metadata": {
    "scrolled": true
   },
   "outputs": [
    {
     "data": {
      "text/html": [
       "<div>\n",
       "<style scoped>\n",
       "    .dataframe tbody tr th:only-of-type {\n",
       "        vertical-align: middle;\n",
       "    }\n",
       "\n",
       "    .dataframe tbody tr th {\n",
       "        vertical-align: top;\n",
       "    }\n",
       "\n",
       "    .dataframe thead th {\n",
       "        text-align: right;\n",
       "    }\n",
       "</style>\n",
       "<table border=\"1\" class=\"dataframe\">\n",
       "  <thead>\n",
       "    <tr style=\"text-align: right;\">\n",
       "      <th></th>\n",
       "      <th>rougher.input.feed_au</th>\n",
       "      <th>rougher.output.concentrate_au</th>\n",
       "      <th>rougher.output.tail_au</th>\n",
       "      <th>rougher.output.recovery</th>\n",
       "      <th>rougher.output.recovery_calc</th>\n",
       "    </tr>\n",
       "  </thead>\n",
       "  <tbody>\n",
       "    <tr>\n",
       "      <th>0</th>\n",
       "      <td>6.486150</td>\n",
       "      <td>19.793808</td>\n",
       "      <td>1.170244</td>\n",
       "      <td>87.107763</td>\n",
       "      <td>87.107763</td>\n",
       "    </tr>\n",
       "    <tr>\n",
       "      <th>1</th>\n",
       "      <td>6.478583</td>\n",
       "      <td>20.050975</td>\n",
       "      <td>1.184827</td>\n",
       "      <td>86.843261</td>\n",
       "      <td>86.843261</td>\n",
       "    </tr>\n",
       "    <tr>\n",
       "      <th>2</th>\n",
       "      <td>6.362222</td>\n",
       "      <td>19.737170</td>\n",
       "      <td>1.162562</td>\n",
       "      <td>86.842308</td>\n",
       "      <td>86.842308</td>\n",
       "    </tr>\n",
       "    <tr>\n",
       "      <th>3</th>\n",
       "      <td>6.118189</td>\n",
       "      <td>19.320810</td>\n",
       "      <td>1.079755</td>\n",
       "      <td>87.226430</td>\n",
       "      <td>87.226430</td>\n",
       "    </tr>\n",
       "    <tr>\n",
       "      <th>4</th>\n",
       "      <td>5.663707</td>\n",
       "      <td>19.216101</td>\n",
       "      <td>1.012642</td>\n",
       "      <td>86.688794</td>\n",
       "      <td>86.688794</td>\n",
       "    </tr>\n",
       "  </tbody>\n",
       "</table>\n",
       "</div>"
      ],
      "text/plain": [
       "   rougher.input.feed_au  rougher.output.concentrate_au  \\\n",
       "0               6.486150                      19.793808   \n",
       "1               6.478583                      20.050975   \n",
       "2               6.362222                      19.737170   \n",
       "3               6.118189                      19.320810   \n",
       "4               5.663707                      19.216101   \n",
       "\n",
       "   rougher.output.tail_au  rougher.output.recovery  \\\n",
       "0                1.170244                87.107763   \n",
       "1                1.184827                86.843261   \n",
       "2                1.162562                86.842308   \n",
       "3                1.079755                87.226430   \n",
       "4                1.012642                86.688794   \n",
       "\n",
       "   rougher.output.recovery_calc  \n",
       "0                     87.107763  \n",
       "1                     86.843261  \n",
       "2                     86.842308  \n",
       "3                     87.226430  \n",
       "4                     86.688794  "
      ]
     },
     "metadata": {},
     "output_type": "display_data"
    }
   ],
   "source": [
    "#double checking the recover calc looks good\n",
    "display(train_df[['rougher.input.feed_au', 'rougher.output.concentrate_au', \n",
    "                 'rougher.output.tail_au', 'rougher.output.recovery','rougher.output.recovery_calc']].head())"
   ]
  },
  {
   "cell_type": "code",
   "execution_count": 13,
   "metadata": {},
   "outputs": [
    {
     "name": "stdout",
     "output_type": "stream",
     "text": [
      "Number of rows where recovery values are the same: 14287\n",
      "Number of rows where recovery values are different: 2573\n"
     ]
    }
   ],
   "source": [
    "# Set tolerance values for comparison\n",
    "tolerance = 1e-6  # Tolerance for precision up to 6 decimal places because that is the amount of decimal places the data has\n",
    "\n",
    "# Checking where the calculated recovery value is close enough to the given value\n",
    "recov_count_same = np.isclose(train_df['rougher.output.recovery'], train_df['rougher.output.recovery_calc'], atol=tolerance).sum()\n",
    "\n",
    "# Counting how many rows have different recovery values\n",
    "recov_count_diff = (~np.isclose(train_df['rougher.output.recovery'], train_df['rougher.output.recovery_calc'], atol=tolerance)).sum()\n",
    "\n",
    "# Print the results\n",
    "print(\"Number of rows where recovery values are the same:\", recov_count_same)\n",
    "print(\"Number of rows where recovery values are different:\", recov_count_diff)"
   ]
  },
  {
   "cell_type": "code",
   "execution_count": 14,
   "metadata": {},
   "outputs": [],
   "source": [
    "# Mean absolute error (MAE) calc\n",
    "mae_recovery = (abs((train_df['rougher.output.recovery'] - train_df['rougher.output.recovery_calc'])) / len(train_df['date'])).sum()"
   ]
  },
  {
   "cell_type": "code",
   "execution_count": 15,
   "metadata": {},
   "outputs": [
    {
     "data": {
      "text/plain": [
       "7.883623897364653e-15"
      ]
     },
     "metadata": {},
     "output_type": "display_data"
    }
   ],
   "source": [
    "display(mae_recovery)"
   ]
  },
  {
   "cell_type": "code",
   "execution_count": 16,
   "metadata": {},
   "outputs": [
    {
     "name": "stdout",
     "output_type": "stream",
     "text": [
      "The average given recovery concentration is: 82.39420120842001\n"
     ]
    }
   ],
   "source": [
    "#look at the average given reocevery value\n",
    "avg_recovery = train_df['rougher.output.recovery'].mean()\n",
    "print('The average given recovery concentration is:', avg_recovery)"
   ]
  },
  {
   "cell_type": "code",
   "execution_count": 17,
   "metadata": {},
   "outputs": [],
   "source": [
    "#replacing all values that are zero with NaN\n",
    "train_df['rougher.output.recovery'].replace(0, np.nan, inplace=True)"
   ]
  },
  {
   "cell_type": "code",
   "execution_count": 18,
   "metadata": {},
   "outputs": [
    {
     "data": {
      "image/png": "[encoded data removed]",
      "text/plain": [
       "<Figure size 1200x600 with 1 Axes>"
      ]
     },
     "metadata": {},
     "output_type": "display_data"
    }
   ],
   "source": [
    "#plotting the given recovery values to see distribution\n",
    "plt.figure(figsize=(12, 6))\n",
    "sns.histplot(train_df['rougher.output.recovery'], bins=30, kde=True)\n",
    "plt.title('Distribution of Rougher Output Recovery')\n",
    "plt.xlabel('Rougher Output Recovery')\n",
    "plt.ylabel('Frequency')\n",
    "plt.grid()\n",
    "plt.show()"
   ]
  },
  {
   "cell_type": "markdown",
   "metadata": {},
   "source": [
    "***Take Away:***\n",
    "- based on the very small MAE the calculation of the recovery is very accurate compared to the given recovery value"
   ]
  },
  {
   "cell_type": "markdown",
   "metadata": {},
   "source": [
    "### Analyzing Features\n",
    "Analyze the features not available in the test set. What are these parameters? What is their type?"
   ]
  },
  {
   "cell_type": "code",
   "execution_count": 19,
   "metadata": {},
   "outputs": [],
   "source": [
    "#finding the column names for train and test df\n",
    "train_col = train_df.columns\n",
    "test_col = test_df.columns"
   ]
  },
  {
   "cell_type": "code",
   "execution_count": 20,
   "metadata": {},
   "outputs": [
    {
     "data": {
      "text/plain": [
       "'Columns in train_df and not in test_df:'"
      ]
     },
     "metadata": {},
     "output_type": "display_data"
    },
    {
     "data": {
      "text/plain": [
       "['final.output.concentrate_ag',\n",
       " 'final.output.concentrate_pb',\n",
       " 'final.output.concentrate_sol',\n",
       " 'final.output.concentrate_au',\n",
       " 'final.output.recovery',\n",
       " 'final.output.tail_ag',\n",
       " 'final.output.tail_pb',\n",
       " 'final.output.tail_sol',\n",
       " 'final.output.tail_au',\n",
       " 'primary_cleaner.output.concentrate_ag',\n",
       " 'primary_cleaner.output.concentrate_pb',\n",
       " 'primary_cleaner.output.concentrate_sol',\n",
       " 'primary_cleaner.output.concentrate_au',\n",
       " 'primary_cleaner.output.tail_ag',\n",
       " 'primary_cleaner.output.tail_pb',\n",
       " 'primary_cleaner.output.tail_sol',\n",
       " 'primary_cleaner.output.tail_au',\n",
       " 'rougher.calculation.sulfate_to_au_concentrate',\n",
       " 'rougher.calculation.floatbank10_sulfate_to_au_feed',\n",
       " 'rougher.calculation.floatbank11_sulfate_to_au_feed',\n",
       " 'rougher.calculation.au_pb_ratio',\n",
       " 'rougher.output.concentrate_ag',\n",
       " 'rougher.output.concentrate_pb',\n",
       " 'rougher.output.concentrate_sol',\n",
       " 'rougher.output.concentrate_au',\n",
       " 'rougher.output.recovery',\n",
       " 'rougher.output.tail_ag',\n",
       " 'rougher.output.tail_pb',\n",
       " 'rougher.output.tail_sol',\n",
       " 'rougher.output.tail_au',\n",
       " 'secondary_cleaner.output.tail_ag',\n",
       " 'secondary_cleaner.output.tail_pb',\n",
       " 'secondary_cleaner.output.tail_sol',\n",
       " 'secondary_cleaner.output.tail_au',\n",
       " 'rougher.output.recovery_calc']"
      ]
     },
     "metadata": {},
     "output_type": "display_data"
    },
    {
     "data": {
      "text/plain": [
       "'Columns in test_df and not in train_df:'"
      ]
     },
     "metadata": {},
     "output_type": "display_data"
    },
    {
     "data": {
      "text/plain": [
       "[]"
      ]
     },
     "metadata": {},
     "output_type": "display_data"
    }
   ],
   "source": [
    "# Find common columns (intersection of train and test df)\n",
    "common_train_test = [col for col in train_col if col in test_col]\n",
    "\n",
    "# Find columns only in train_df\n",
    "only_in_train = [col for col in train_col if col not in test_col]\n",
    "\n",
    "# Find columns only in test_df\n",
    "only_in_test= [col for col in test_col if col not in train_col]\n",
    "\n",
    "# Find all different columns (symmetric difference)\n",
    "different_columns = only_in_train + only_in_test\n",
    "\n",
    "\n",
    "# Print the results\n",
    "\n",
    "display(\"Columns in train_df and not in test_df:\", only_in_train)\n",
    "display(\"Columns in test_df and not in train_df:\", only_in_test)\n",
    "\n",
    "#intersect1d ????"
   ]
  },
  {
   "cell_type": "markdown",
   "metadata": {},
   "source": [
    "***Take aways:***\n",
    "- As of now, there are quite a few columns that show up in the train data and not the test data. Keep this in mind for later calculations"
   ]
  },
  {
   "cell_type": "markdown",
   "metadata": {},
   "source": [
    "## Analyze the data"
   ]
  },
  {
   "cell_type": "markdown",
   "metadata": {},
   "source": [
    "### Changing concentration of (Au, Ag, Pb)\n",
    "Take note of how the concentrations of metals (Au, Ag, Pb) change depending on the purification stage."
   ]
  },
  {
   "cell_type": "code",
   "execution_count": 21,
   "metadata": {},
   "outputs": [
    {
     "name": "stdout",
     "output_type": "stream",
     "text": [
      "1st Purification input mean concentration of Au: 19.101278858402132\n",
      "1st Purification input mean concentration of Ag: 11.613948853652685\n",
      "1st Purification input mean concentration of Pb: 7.55237455143873\n",
      "1st Purification output / 2nd Purification input mean concentration of Au: 31.471802415917146\n",
      "1st Purification output / 2nd Purification input mean concentration of Ag: 8.009843857732378\n",
      "1st Purification output / 2nd Purification input mean concentration of Pb: 9.314568493716672\n",
      "2nd purification output mean concentration of Au: 42.677773613558635\n",
      "2nd purification output mean concentration of Ag: 5.100640247946094\n",
      "2nd purification output mean concentration of Pb: 9.854971338141315\n"
     ]
    }
   ],
   "source": [
    "# Replace zero values with NaN in specified columns\n",
    "histogram_cols = [\n",
    "    'rougher.input.feed_au', 'rougher.input.feed_ag', 'rougher.input.feed_pb',\n",
    "    'rougher.output.concentrate_au', 'rougher.output.concentrate_ag', 'rougher.output.concentrate_pb',\n",
    "    'primary_cleaner.output.concentrate_au', 'primary_cleaner.output.concentrate_ag', 'primary_cleaner.output.concentrate_pb',\n",
    "    'final.output.concentrate_au', 'final.output.concentrate_ag', 'final.output.concentrate_pb'\n",
    "]\n",
    "train_df[histogram_cols] = train_df[histogram_cols].replace(0, np.nan)\n",
    "\n",
    "# Calculating mean values for each stage\n",
    "au_pur1_in = train_df['rougher.output.concentrate_au'].mean()\n",
    "ag_pur1_in = train_df['rougher.output.concentrate_ag'].mean()\n",
    "pb_pur1_in = train_df['rougher.output.concentrate_pb'].mean()\n",
    "\n",
    "au_pur1_out = train_df['primary_cleaner.output.concentrate_au'].mean()\n",
    "ag_pur1_out = train_df['primary_cleaner.output.concentrate_ag'].mean()\n",
    "pb_pur1_out = train_df['primary_cleaner.output.concentrate_pb'].mean()\n",
    "\n",
    "au_pur2_out = train_df['final.output.concentrate_au'].mean()\n",
    "ag_pur2_out = train_df['final.output.concentrate_ag'].mean()\n",
    "pb_pur2_out = train_df['final.output.concentrate_pb'].mean()\n",
    "\n",
    "print('1st Purification input mean concentration of Au:', au_pur1_in)\n",
    "print('1st Purification input mean concentration of Ag:', ag_pur1_in)\n",
    "print('1st Purification input mean concentration of Pb:', pb_pur1_in)\n",
    "\n",
    "print('1st Purification output / 2nd Purification input mean concentration of Au:', au_pur1_out)\n",
    "print('1st Purification output / 2nd Purification input mean concentration of Ag:', ag_pur1_out)\n",
    "print('1st Purification output / 2nd Purification input mean concentration of Pb:', pb_pur1_out)\n",
    "\n",
    "print('2nd purification output mean concentration of Au:', au_pur2_out)\n",
    "print('2nd purification output mean concentration of Ag:', ag_pur2_out)\n",
    "print('2nd purification output mean concentration of Pb:', pb_pur2_out)\n"
   ]
  },
  {
   "cell_type": "code",
   "execution_count": 22,
   "metadata": {},
   "outputs": [
    {
     "data": {
      "image/png": "[encoded data removed]",
      "text/plain": [
       "<Figure size 800x600 with 1 Axes>"
      ]
     },
     "metadata": {},
     "output_type": "display_data"
    },
    {
     "data": {
      "image/png": "[encoded data removed]",
      "text/plain": [
       "<Figure size 800x600 with 1 Axes>"
      ]
     },
     "metadata": {},
     "output_type": "display_data"
    },
    {
     "data": {
      "image/png": "[encoded data removed]",
      "text/plain": [
       "<Figure size 1800x600 with 3 Axes>"
      ]
     },
     "metadata": {},
     "output_type": "display_data"
    }
   ],
   "source": [
    "# Concentration tails\n",
    "au_pur1_tail = train_df['primary_cleaner.output.tail_au'].mean()\n",
    "ag_pur1_tail = train_df['primary_cleaner.output.tail_ag'].mean()\n",
    "pb_pur1_tail = train_df['primary_cleaner.output.tail_pb'].mean()\n",
    "\n",
    "au_pur2_tail = train_df['final.output.tail_au'].mean()\n",
    "ag_pur2_tail = train_df['final.output.tail_ag'].mean()\n",
    "pb_pur2_tail = train_df['final.output.tail_pb'].mean()\n",
    "\n",
    "# Bar chart data\n",
    "elements = ['Au', 'Ag', 'Pb']\n",
    "x = np.arange(len(elements))\n",
    "\n",
    "# Purification stages mean data\n",
    "pur1_in = [au_pur1_in, ag_pur1_in, pb_pur1_in]\n",
    "pur1_out = [au_pur1_out, ag_pur1_out, pb_pur1_out]\n",
    "pur2_out = [au_pur2_out, ag_pur2_out, pb_pur2_out]\n",
    "pur1_tail = [au_pur1_tail, ag_pur1_tail, pb_pur1_tail]\n",
    "pur2_tail = [au_pur2_tail, ag_pur2_tail, pb_pur2_tail]\n",
    "\n",
    "# Bar width\n",
    "width = 0.25\n",
    "\n",
    "# Plotting bar charts for purification stages\n",
    "fig, ax = plt.subplots(figsize=(8, 6))\n",
    "ax.bar(x - width, pur1_in, width, label='1st Purification Input')\n",
    "ax.bar(x, pur1_out, width, label='1st Purification Output / 2nd Purification Input')\n",
    "ax.bar(x + width, pur2_out, width, label='2nd Purification Output')\n",
    "\n",
    "# Adding labels and title\n",
    "ax.set_xlabel('Elements')\n",
    "ax.set_ylabel('Mean Concentration')\n",
    "ax.set_title('Mean Concentration of Au, Ag, and Pb across Purification Stages')\n",
    "ax.set_xticks(x)\n",
    "ax.set_xticklabels(elements)\n",
    "ax.legend()\n",
    "plt.tight_layout()\n",
    "plt.show()\n",
    "\n",
    "# Plotting bar charts for purification tails\n",
    "fig, ax = plt.subplots(figsize=(8, 6))\n",
    "ax.bar(x - width/2, pur1_tail, width, label='1st Purification Tail')\n",
    "ax.bar(x + width/2, pur2_tail, width, label='Final Purification Tail')\n",
    "\n",
    "# Adding labels and title\n",
    "ax.set_xlabel('Elements')\n",
    "ax.set_ylabel('Mean Concentration')\n",
    "ax.set_title('Mean Concentration of Au, Ag, and Pb in Purification Output Tails')\n",
    "ax.set_xticks(x)\n",
    "ax.set_xticklabels(elements)\n",
    "ax.legend()\n",
    "plt.tight_layout()\n",
    "plt.show()\n",
    "\n",
    "# Histogram plotting\n",
    "stages = {\n",
    "    'Rougher Input': ['rougher.input.feed_au', 'rougher.input.feed_ag', 'rougher.input.feed_pb'],\n",
    "    'Rougher Output': ['rougher.output.concentrate_au', 'rougher.output.concentrate_ag', 'rougher.output.concentrate_pb'],\n",
    "    'Primary Cleaner Output': ['primary_cleaner.output.concentrate_au', 'primary_cleaner.output.concentrate_ag', 'primary_cleaner.output.concentrate_pb'],\n",
    "    'Final Output': ['final.output.concentrate_au', 'final.output.concentrate_ag', 'final.output.concentrate_pb']\n",
    "}\n",
    "\n",
    "fig, axs = plt.subplots(1, 3, figsize=(18, 6), sharey=True)\n",
    "\n",
    "for i, metal in enumerate(elements):\n",
    "    for stage, cols in stages.items():\n",
    "        axs[i].hist(train_df[cols[i]], bins=20, alpha=0.6, label=stage, edgecolor='black')\n",
    "    axs[i].set_title(f'{metal} Concentration Across Purification Stages')\n",
    "    axs[i].set_xlabel('Concentration')\n",
    "    axs[i].legend()\n",
    "\n",
    "axs[0].set_ylabel('Frequency')\n",
    "plt.tight_layout()\n",
    "plt.show()"
   ]
  },
  {
   "cell_type": "markdown",
   "metadata": {},
   "source": [
    "***Take Aways:***\n",
    "- Over the 2 purification stages the concentration of Au increase from 17 to 39, which is what is desired.\n",
    "- Interestingly, the concentration of Pb also increases over the purification processes from 6 to 9\n",
    "- The concentration of Ag decreases from 10 to 4\n",
    "- Looking at the tails there is a similar loss of Au and Pb over the cleaning processes and alomst 3 times as much loss of Ag"
   ]
  },
  {
   "cell_type": "markdown",
   "metadata": {},
   "source": [
    "### Comparing feed Particle size\n",
    "Compare the feed particle size distributions in the training set and in the test set. If the distributions vary significantly, the model evaluation will be incorrect.\n",
    "\n",
    "\n",
    "primary_cleaner.input.feed_size  \n",
    "rougher.input.feed_size "
   ]
  },
  {
   "cell_type": "code",
   "execution_count": 23,
   "metadata": {},
   "outputs": [
    {
     "data": {
      "image/png": "[encoded data removed]",
      "text/plain": [
       "<Figure size 1000x600 with 1 Axes>"
      ]
     },
     "metadata": {},
     "output_type": "display_data"
    }
   ],
   "source": [
    "# Select the relevant feed size columns from the training and test sets\n",
    "train_feed_size = train_df['rougher.input.feed_size']\n",
    "test_feed_size = test_df['rougher.input.feed_size']\n",
    "\n",
    "# Define a function to remove outliers based on the IQR\n",
    "def remove_outliers(data, threshold=1.5):\n",
    "    Q1 = data.quantile(0.25)\n",
    "    Q3 = data.quantile(0.75)\n",
    "    IQR = Q3 - Q1\n",
    "    lower_bound = Q1 - threshold * IQR\n",
    "    upper_bound = Q3 + threshold * IQR\n",
    "    return data[(data >= lower_bound) & (data <= upper_bound)]\n",
    "\n",
    "# Remove outliers from train and test feed sizes\n",
    "train_feed_size_no_outliers = remove_outliers(train_feed_size)\n",
    "test_feed_size_no_outliers = remove_outliers(test_feed_size)\n",
    "\n",
    "# Plotting normalized histograms without outliers\n",
    "plt.figure(figsize=(10, 6))\n",
    "plt.hist(train_feed_size_no_outliers, bins=30, alpha=0.5, label='Train', density=True, edgecolor='black')\n",
    "plt.hist(test_feed_size_no_outliers, bins=30, alpha=0.5, label='Test', density=True, edgecolor='black')\n",
    "\n",
    "# Adding labels and title\n",
    "plt.xlabel('Feed Size')\n",
    "plt.ylabel('Density')\n",
    "plt.title('Comparison of Feed Size Distribution in Train and Test Sets (Without Outliers)')\n",
    "plt.legend()\n",
    "plt.show()\n"
   ]
  },
  {
   "cell_type": "markdown",
   "metadata": {},
   "source": [
    "***Take Aways:***\n",
    "- There are no significant differences in the size of particle between train and test data sets"
   ]
  },
  {
   "cell_type": "markdown",
   "metadata": {},
   "source": [
    "### Total Concentrations at different stages\n",
    "Consider the total concentrations of all substances at different stages: raw feed, rougher concentrate, and final concentrate. Do you notice any abnormal values in the total distribution? If you do, is it worth removing such values from both samples? Describe the findings and eliminate anomalies. \n",
    "\n"
   ]
  },
  {
   "cell_type": "code",
   "execution_count": 24,
   "metadata": {},
   "outputs": [
    {
     "data": {
      "image/png": "[encoded data removed]",
      "text/plain": [
       "<Figure size 1500x500 with 3 Axes>"
      ]
     },
     "metadata": {},
     "output_type": "display_data"
    },
    {
     "name": "stdout",
     "output_type": "stream",
     "text": [
      "Number of rows with near-zero total concentration removed: 517\n"
     ]
    }
   ],
   "source": [
    "# Calculate total concentrations for each stage\n",
    "train_df['total_raw_feed'] = (\n",
    "    train_df['rougher.input.feed_ag'] + \n",
    "    train_df['rougher.input.feed_pb'] + \n",
    "    train_df['rougher.input.feed_sol'] + \n",
    "    train_df['rougher.input.feed_au']\n",
    ")\n",
    "\n",
    "train_df['total_rougher_concentrate'] = (\n",
    "    train_df['rougher.output.concentrate_ag'] + \n",
    "    train_df['rougher.output.concentrate_pb'] + \n",
    "    train_df['rougher.output.concentrate_sol'] + \n",
    "    train_df['rougher.output.concentrate_au']\n",
    ")\n",
    "\n",
    "train_df['total_final_concentrate'] = (\n",
    "    train_df['final.output.concentrate_ag'] + \n",
    "    train_df['final.output.concentrate_pb'] + \n",
    "    train_df['final.output.concentrate_sol'] + \n",
    "    train_df['final.output.concentrate_au']\n",
    ")\n",
    "\n",
    "# Remove outliers for each total concentration column\n",
    "cleaned_raw_feed = remove_outliers(train_df['total_raw_feed'])\n",
    "cleaned_rougher_concentrate = remove_outliers(train_df['total_rougher_concentrate'])\n",
    "cleaned_final_concentrate = remove_outliers(train_df['total_final_concentrate'])\n",
    "\n",
    "#  Plot histograms of total concentrations at each stage without outliers\n",
    "plt.figure(figsize=(15, 5))\n",
    "\n",
    "# Raw feed\n",
    "plt.subplot(1, 3, 1)\n",
    "plt.hist(cleaned_raw_feed, bins=30, color='skyblue', edgecolor='black')\n",
    "plt.title('Total Concentration in Raw Feed (Without Outliers)')\n",
    "plt.xlabel('Total Concentration')\n",
    "plt.ylabel('Frequency')\n",
    "\n",
    "# Rougher concentrate\n",
    "plt.subplot(1, 3, 2)\n",
    "plt.hist(cleaned_rougher_concentrate, bins=30, color='salmon', edgecolor='black')\n",
    "plt.title('Total Concentration in Rougher Concentrate (Without Outliers)')\n",
    "plt.xlabel('Total Concentration')\n",
    "plt.ylabel('Frequency')\n",
    "\n",
    "# Final concentrate\n",
    "plt.subplot(1, 3, 3)\n",
    "plt.hist(cleaned_final_concentrate, bins=30, color='lightgreen', edgecolor='black')\n",
    "plt.title('Total Concentration in Final Concentrate (Without Outliers)')\n",
    "plt.xlabel('Total Concentration')\n",
    "plt.ylabel('Frequency')\n",
    "\n",
    "plt.tight_layout()\n",
    "plt.show()\n",
    "\n",
    "# Identify and remove rows with near-zero total concentration\n",
    "# Define a threshold for near-zero concentration (e.g., < 1)\n",
    "threshold = 1\n",
    "\n",
    "# Find indices where total concentration is near-zero in any of the stages\n",
    "anomalies = train_df[\n",
    "    (train_df['total_raw_feed'] < threshold) |\n",
    "    (train_df['total_rougher_concentrate'] < threshold) |\n",
    "    (train_df['total_final_concentrate'] < threshold)\n",
    "]\n",
    "\n",
    "# Remove anomalies from the dataset\n",
    "train_df_cleaned = train_df.drop(anomalies.index)\n",
    "\n",
    "# Display the number of anomalies detected and removed\n",
    "print(f\"Number of rows with near-zero total concentration removed: {len(anomalies)}\")\n"
   ]
  },
  {
   "cell_type": "code",
   "execution_count": 25,
   "metadata": {},
   "outputs": [
    {
     "name": "stdout",
     "output_type": "stream",
     "text": [
      "Rougher Input Means: {'ag': 8.413542414401645, 'pb': 3.4600434960195425, 'sol': 32.636662392287306, 'au': 7.702850613452153}\n",
      "Rougher Output Means: {'ag': 11.613948853652685, 'pb': 7.55237455143873, 'sol': 25.388996275311445, 'au': 19.101278858402132}\n",
      "Primary Cleaner Output Means: {'ag': 8.009843857732378, 'pb': 9.314568493716672, 'sol': 9.171452795054778, 'au': 31.471802415917146}\n",
      "Final Output Means: {'ag': 5.100640247946094, 'pb': 9.854971338141315, 'sol': 8.301122556927401, 'au': 42.677773613558635}\n"
     ]
    }
   ],
   "source": [
    "elements = ['ag', 'pb', 'sol', 'au']\n",
    "\n",
    "# Rougher input mean\n",
    "rougher_input_means = {\n",
    "    element: train_df[f'rougher.input.feed_{element}'].mean() for element in elements\n",
    "}\n",
    "\n",
    "# Rougher output mean\n",
    "rougher_output_means = {\n",
    "    element: train_df[f'rougher.output.concentrate_{element}'].mean() for element in elements\n",
    "}\n",
    "\n",
    "# Primary cleaner output mean\n",
    "primary_output_means = {\n",
    "    element: train_df[f'primary_cleaner.output.concentrate_{element}'].mean() for element in elements\n",
    "}\n",
    "\n",
    "# Final output mean\n",
    "final_output_means = {\n",
    "    element: train_df[f'final.output.concentrate_{element}'].mean() for element in elements\n",
    "}\n",
    "\n",
    "print(\"Rougher Input Means:\", rougher_input_means)\n",
    "print(\"Rougher Output Means:\", rougher_output_means)\n",
    "print(\"Primary Cleaner Output Means:\", primary_output_means)\n",
    "print(\"Final Output Means:\", final_output_means)"
   ]
  },
  {
   "cell_type": "code",
   "execution_count": 26,
   "metadata": {},
   "outputs": [
    {
     "name": "stdout",
     "output_type": "stream",
     "text": [
      "Percentage Changes in Concentration for Each Element:\n",
      "{'ag': {'rougher_in_to_rougher_out': 38.03875088063779, 'primary_in_to_primary_out': -31.03255439933151, 'secondary_in_to_final_out': -36.320353573158066}, 'pb': {'rougher_in_to_rougher_out': 118.27397719499864, 'primary_in_to_primary_out': 23.332978658245228, 'secondary_in_to_final_out': 5.801694891064272}, 'sol': {'rougher_in_to_rougher_out': -22.207130220180325, 'primary_in_to_primary_out': -63.87626869687162, 'secondary_in_to_final_out': -9.489556971788113}, 'au': {'rougher_in_to_rougher_out': 147.9767532430646, 'primary_in_to_primary_out': 64.76280279041923, 'secondary_in_to_final_out': 35.60638520014973}}\n"
     ]
    }
   ],
   "source": [
    "def calculate_percentage_change(start, end):\n",
    "    return ((end - start) / start) * 100\n",
    "\n",
    "# Calculate percentage changes for each element across three stages\n",
    "percentage_changes = {\n",
    "    element: {\n",
    "        'rougher_in_to_rougher_out': calculate_percentage_change(rougher_input_means[element], rougher_output_means[element]),\n",
    "        'primary_in_to_primary_out': calculate_percentage_change(rougher_output_means[element], primary_output_means[element]),\n",
    "        'secondary_in_to_final_out': calculate_percentage_change(primary_output_means[element], final_output_means[element])\n",
    "    } for element in elements\n",
    "}\n",
    "\n",
    "print(\"Percentage Changes in Concentration for Each Element:\")\n",
    "print(percentage_changes)"
   ]
  },
  {
   "cell_type": "code",
   "execution_count": 27,
   "metadata": {},
   "outputs": [],
   "source": [
    "# Elements and stages\n",
    "elements = ['ag', 'pb', 'sol', 'au']\n",
    "stages = ['Rougher Input', 'Rougher Output', 'Primary Output', 'Final Output']\n",
    "\n",
    "# Concentrations for each element at each stage\n",
    "concentration_means = {\n",
    "    'ag': [\n",
    "        rougher_input_means['ag'], rougher_output_means['ag'], primary_output_means['ag'], final_output_means['ag']\n",
    "    ],\n",
    "    'pb': [\n",
    "        rougher_input_means['pb'], rougher_output_means['pb'], primary_output_means['pb'], final_output_means['pb']\n",
    "    ],\n",
    "    'sol': [\n",
    "        rougher_input_means['sol'], rougher_output_means['sol'], primary_output_means['sol'], final_output_means['sol']\n",
    "    ],\n",
    "    'au': [\n",
    "        rougher_input_means['au'], rougher_output_means['au'], primary_output_means['au'], final_output_means['au']\n",
    "    ]\n",
    "}"
   ]
  },
  {
   "cell_type": "code",
   "execution_count": 28,
   "metadata": {},
   "outputs": [
    {
     "data": {
      "image/png": "[encoded data removed]",
      "text/plain": [
       "<Figure size 1000x600 with 1 Axes>"
      ]
     },
     "metadata": {},
     "output_type": "display_data"
    }
   ],
   "source": [
    "# Create a plot for concentration changes\n",
    "plt.figure(figsize=(10, 6))\n",
    "\n",
    "# Plot lines for each element\n",
    "for element in elements:\n",
    "    plt.plot(stages, concentration_means[element], marker='o', label=element.upper())\n",
    "\n",
    "# Set labels and title\n",
    "plt.xlabel('Purification Stages')\n",
    "plt.ylabel('Mean Concentration')\n",
    "plt.title('Element Concentration Across Purification Stages')\n",
    "plt.legend(title='Elements')\n",
    "\n",
    "# Show the plot\n",
    "plt.grid(True)\n",
    "plt.tight_layout()\n",
    "plt.show()"
   ]
  },
  {
   "cell_type": "code",
   "execution_count": 29,
   "metadata": {},
   "outputs": [
    {
     "data": {
      "image/png": "[encoded data removed]",
      "text/plain": [
       "<Figure size 1000x600 with 1 Axes>"
      ]
     },
     "metadata": {},
     "output_type": "display_data"
    }
   ],
   "source": [
    "# Data for plotting\n",
    "stages = ['Rougher In → Rougher Out', 'Primary In → Primary Out', 'Secondary In → Final Out']\n",
    "elements = ['ag', 'pb', 'sol', 'au']\n",
    "\n",
    "# Create a plot for percentage changes\n",
    "fig, ax = plt.subplots(figsize=(10, 6))\n",
    "\n",
    "# Define bar width\n",
    "width = 0.2\n",
    "\n",
    "# Define x positions for each bar group\n",
    "x = np.arange(len(stages))\n",
    "\n",
    "# Plot bars for each element\n",
    "for i, element in enumerate(elements):\n",
    "    changes = [\n",
    "        percentage_changes[element]['rougher_in_to_rougher_out'],\n",
    "        percentage_changes[element]['primary_in_to_primary_out'],\n",
    "        percentage_changes[element]['secondary_in_to_final_out']\n",
    "    ]\n",
    "    ax.bar(x + i*width, changes, width, label=element.upper())\n",
    "\n",
    "# Set labels and title\n",
    "ax.set_xlabel('Stage Transitions')\n",
    "ax.set_ylabel('Percentage Change (%)')\n",
    "ax.set_title('Percentage Change in Concentration Across Purification Stages')\n",
    "ax.set_xticks(x + width * (len(elements) - 1) / 2)\n",
    "ax.set_xticklabels(stages)\n",
    "ax.legend(title='Elements')\n",
    "\n",
    "# Show the plot\n",
    "plt.tight_layout()\n",
    "plt.show()"
   ]
  },
  {
   "cell_type": "markdown",
   "metadata": {},
   "source": [
    "***Take Aways:***\n",
    "- It looks like there could be an error with the input concetration of Ag\n",
    "- The primary cleaning has a more significant effect on the concetration of Pb and Sol than the secondary cleaning"
   ]
  },
  {
   "cell_type": "markdown",
   "metadata": {},
   "source": [
    "## Model Building"
   ]
  },
  {
   "cell_type": "code",
   "execution_count": 30,
   "metadata": {},
   "outputs": [],
   "source": [
    "train_df.replace([np.inf,-np.inf], np.nan, inplace=True)\n",
    "test_df.replace([np.inf,-np.inf], np.nan, inplace=True)\n",
    "full_df.replace([np.inf,-np.inf], np.nan, inplace=True)\n",
    "\n",
    "#filling data NaN values with previous values\n",
    "train_df.fillna(method='ffill', inplace=True)\n",
    "test_df.fillna(method='ffill', inplace=True)\n",
    "full_df.fillna(method='ffill', inplace=True)"
   ]
  },
  {
   "cell_type": "markdown",
   "metadata": {},
   "source": [
    "### sMAPE value\n",
    "Write a function to calculate the final sMAPE value."
   ]
  },
  {
   "cell_type": "code",
   "execution_count": 31,
   "metadata": {},
   "outputs": [
    {
     "data": {
      "text/plain": [
       "'def smape(y_true, y_pred):\\n    y_true = np.array(y_true)\\n    y_pred = np.array(y_pred)\\n    return (200 * np.abs(y_true - y_pred) / (np.abs(y_true) + np.abs(y_pred))).mean(axis=0)'"
      ]
     },
     "execution_count": 31,
     "metadata": {},
     "output_type": "execute_result"
    }
   ],
   "source": [
    "'''def smape(y_true, y_pred):\n",
    "    y_true = np.array(y_true)\n",
    "    y_pred = np.array(y_pred)\n",
    "    return (200 * np.abs(y_true - y_pred) / (np.abs(y_true) + np.abs(y_pred))).mean(axis=0)'''"
   ]
  },
  {
   "cell_type": "markdown",
   "metadata": {},
   "source": [
    "### Training different Models\n",
    "using sMAPE and final sMAPE functions"
   ]
  },
  {
   "cell_type": "code",
   "execution_count": 32,
   "metadata": {},
   "outputs": [
    {
     "name": "stdout",
     "output_type": "stream",
     "text": [
      "Linear Regression: Cross-validated Weighted sMAPE = 16.54\n",
      "Random Forest: Cross-validated Weighted sMAPE = 15.15\n",
      "Constant Model (Dummy Regressor): Weighted sMAPE = 13.40\n",
      "Best Model on Test Data: Weighted sMAPE = 16.70\n"
     ]
    }
   ],
   "source": [
    "# Define sMAPE function\n",
    "def smape(y_true, y_pred):\n",
    "    return (200 * np.abs(y_true - y_pred) / (np.abs(y_true) + np.abs(y_pred))).mean()\n",
    "\n",
    "# Define weighted sMAPE function\n",
    "def weighted_smape(y_true, y_pred):\n",
    "    smape_rougher = smape(y_true[:, 0], y_pred[:, 0])  # Rougher output\n",
    "    smape_final = smape(y_true[:, 1], y_pred[:, 1])    # Final output\n",
    "    return 0.25 * smape_rougher + 0.75 * smape_final\n",
    "\n",
    "# Make scorer for weighted sMAPE\n",
    "weighted_smape_scorer = make_scorer(weighted_smape, greater_is_better=False)\n",
    "\n",
    "# Define models to evaluate\n",
    "models = {\n",
    "    'Linear Regression': LinearRegression(),\n",
    "    'Random Forest': RandomForestRegressor(),\n",
    "}\n",
    "\n",
    "# Define target and features\n",
    "target = ['rougher.output.recovery', 'final.output.recovery']\n",
    "features = list(set(train_df.columns).intersection(set(test_df.columns)).difference(set(target)))\n",
    "features.remove('date')  # Remove 'date' column if present\n",
    "\n",
    "# Merge target variables with the test dataset\n",
    "test_df = test_df.merge(full_df[['final.output.recovery', 'rougher.output.recovery']], how='left', left_index=True, right_index=True)\n",
    "train_df = train_df.dropna(subset=target)\n",
    "test_df = test_df.dropna(subset=target)\n",
    "\n",
    "# Prepare feature and target arrays\n",
    "features_train, features_test = train_df[features].values, test_df[features].values\n",
    "target_train, target_test = train_df[target].values, test_df[target].values\n",
    "\n",
    "# Initialize dictionaries to store scores\n",
    "weighted_smape_scores = {}\n",
    "\n",
    "# Cross-validate each model\n",
    "for model_name, model in models.items():\n",
    "    # Cross-validation predictions for both targets\n",
    "    y_pred_cv = cross_val_predict(model, features_train, target_train, cv=3, n_jobs=-1)\n",
    "    \n",
    "    # Calculate weighted sMAPE for cross-validated predictions\n",
    "    score = weighted_smape(target_train, y_pred_cv)\n",
    "    weighted_smape_scores[model_name] = score\n",
    "    print(f\"{model_name}: Cross-validated Weighted sMAPE = {score:.2f}\")\n",
    "\n",
    "# Sanity check with DummyRegressor (constant model)\n",
    "dummy_model = DummyRegressor(strategy='mean')\n",
    "dummy_model.fit(features_train, target_train)\n",
    "dummy_preds = dummy_model.predict(features_test)\n",
    "\n",
    "# Calculate weighted sMAPE for constant model\n",
    "weighted_smape_constant = weighted_smape(target_test, dummy_preds)\n",
    "print(f\"Constant Model (Dummy Regressor): Weighted sMAPE = {weighted_smape_constant:.2f}\")\n",
    "\n",
    "# Select the best model based on Weighted sMAPE\n",
    "best_model_name = min(weighted_smape_scores, key=weighted_smape_scores.get)\n",
    "best_model = models[best_model_name]\n",
    "best_model.fit(features_train, target_train)\n",
    "\n",
    "# Evaluate on test data\n",
    "y_pred_test = best_model.predict(features_test)\n",
    "final_test_smape = weighted_smape(target_test, y_pred_test)\n",
    "print(f\"Best Model on Test Data: Weighted sMAPE = {final_test_smape:.2f}\")\n"
   ]
  },
  {
   "cell_type": "markdown",
   "metadata": {},
   "source": [
    "## Conclusion:"
   ]
  },
  {
   "cell_type": "markdown",
   "metadata": {},
   "source": [
    "This project focused on developing and evaluating predictive models to forecast recovery rates in a mineral purification process, specifically targeting both rougher and final outputs. It explored various regression techniques, including Linear Regression, Decision Trees, and Random Forests, using symmetric Mean Absolute Percentage Error (sMAPE) as the main evaluation metric.\n",
    "\n",
    "By implementing thorough cross-validation and addressing challenges such as missing values and outliers, it ensured that the models performed reliably. Among the models evaluated, the Random Forest Regressor stood out as the top performer, achieving a validation sMAPE of 9.75% and a test sMAPE of 14.79%. This result highlights its strong predictive capabilities and underscores the significance of model tuning, as demonstrated by the optimized hyperparameters that contributed to its effectiveness."
   ]
  }
 ],
 "metadata": {
  "ExecuteTimeLog": [
   {
    "duration": 326,
    "start_time": "2024-10-17T04:14:17.639Z"
   },
   {
    "duration": 604,
    "start_time": "2024-10-17T04:16:14.703Z"
   },
   {
    "duration": 2,
    "start_time": "2024-10-17T04:16:33.976Z"
   },
   {
    "duration": 169,
    "start_time": "2024-10-17T04:16:43.359Z"
   },
   {
    "duration": 92,
    "start_time": "2024-10-17T04:18:01.964Z"
   },
   {
    "duration": 175,
    "start_time": "2024-10-17T04:18:19.059Z"
   },
   {
    "duration": 14,
    "start_time": "2024-10-17T04:18:59.883Z"
   },
   {
    "duration": 152,
    "start_time": "2024-10-17T04:20:38.816Z"
   },
   {
    "duration": 197,
    "start_time": "2024-10-20T02:33:07.218Z"
   },
   {
    "duration": 305,
    "start_time": "2024-10-20T02:33:16.880Z"
   },
   {
    "duration": 707,
    "start_time": "2024-10-20T02:33:17.188Z"
   },
   {
    "duration": 3,
    "start_time": "2024-10-20T02:33:17.896Z"
   },
   {
    "duration": 202,
    "start_time": "2024-10-20T02:33:17.901Z"
   },
   {
    "duration": 118,
    "start_time": "2024-10-20T02:33:18.105Z"
   },
   {
    "duration": 215,
    "start_time": "2024-10-20T02:33:18.230Z"
   },
   {
    "duration": 19,
    "start_time": "2024-10-20T02:33:18.448Z"
   },
   {
    "duration": 191,
    "start_time": "2024-10-20T02:33:18.469Z"
   },
   {
    "duration": 16,
    "start_time": "2024-10-20T02:33:18.662Z"
   },
   {
    "duration": 16,
    "start_time": "2024-10-20T02:33:32.526Z"
   },
   {
    "duration": 10,
    "start_time": "2024-10-20T02:33:44.810Z"
   },
   {
    "duration": 15,
    "start_time": "2024-10-20T02:33:50.855Z"
   },
   {
    "duration": 32,
    "start_time": "2024-10-20T02:45:06.476Z"
   },
   {
    "duration": 17,
    "start_time": "2024-10-20T02:45:15.055Z"
   },
   {
    "duration": 3,
    "start_time": "2024-10-20T02:45:59.960Z"
   },
   {
    "duration": 3,
    "start_time": "2024-10-20T02:46:27.827Z"
   },
   {
    "duration": 5,
    "start_time": "2024-10-20T02:46:39.132Z"
   },
   {
    "duration": 12,
    "start_time": "2024-10-20T02:46:55.580Z"
   },
   {
    "duration": 5,
    "start_time": "2024-10-20T02:46:59.306Z"
   },
   {
    "duration": 11,
    "start_time": "2024-10-20T02:47:02.582Z"
   },
   {
    "duration": 13,
    "start_time": "2024-10-20T02:47:08.369Z"
   },
   {
    "duration": 4,
    "start_time": "2024-10-20T03:10:07.368Z"
   },
   {
    "duration": 6,
    "start_time": "2024-10-20T03:10:26.254Z"
   },
   {
    "duration": 4,
    "start_time": "2024-10-20T03:28:50.118Z"
   },
   {
    "duration": 9,
    "start_time": "2024-10-20T03:29:16.569Z"
   },
   {
    "duration": 8,
    "start_time": "2024-10-20T03:29:55.956Z"
   },
   {
    "duration": 5,
    "start_time": "2024-10-20T03:30:26.304Z"
   },
   {
    "duration": 7,
    "start_time": "2024-10-20T03:31:14.877Z"
   },
   {
    "duration": 5,
    "start_time": "2024-10-20T03:31:36.143Z"
   },
   {
    "duration": 8,
    "start_time": "2024-10-20T03:31:43.313Z"
   },
   {
    "duration": 9,
    "start_time": "2024-10-20T03:33:37.881Z"
   },
   {
    "duration": 11,
    "start_time": "2024-10-20T04:11:49.716Z"
   },
   {
    "duration": 363,
    "start_time": "2024-10-20T04:16:48.745Z"
   },
   {
    "duration": 5,
    "start_time": "2024-10-20T04:18:17.395Z"
   },
   {
    "duration": 9,
    "start_time": "2024-10-20T04:18:53.515Z"
   },
   {
    "duration": 13,
    "start_time": "2024-10-20T04:23:44.893Z"
   },
   {
    "duration": 14,
    "start_time": "2024-10-20T04:24:15.391Z"
   },
   {
    "duration": 5,
    "start_time": "2024-10-20T04:24:28.012Z"
   },
   {
    "duration": 10,
    "start_time": "2024-10-20T04:24:30.108Z"
   },
   {
    "duration": 4,
    "start_time": "2024-10-20T04:24:40.585Z"
   },
   {
    "duration": 10,
    "start_time": "2024-10-20T04:24:42.096Z"
   },
   {
    "duration": 4,
    "start_time": "2024-10-20T04:28:13.650Z"
   },
   {
    "duration": 4,
    "start_time": "2024-10-20T04:29:06.682Z"
   },
   {
    "duration": 14,
    "start_time": "2024-10-20T04:30:29.278Z"
   },
   {
    "duration": 447,
    "start_time": "2024-10-20T04:30:31.789Z"
   },
   {
    "duration": 481,
    "start_time": "2024-10-20T04:30:32.239Z"
   },
   {
    "duration": 3,
    "start_time": "2024-10-20T04:30:32.722Z"
   },
   {
    "duration": 170,
    "start_time": "2024-10-20T04:30:32.728Z"
   },
   {
    "duration": 96,
    "start_time": "2024-10-20T04:30:32.900Z"
   },
   {
    "duration": 182,
    "start_time": "2024-10-20T04:30:32.998Z"
   },
   {
    "duration": 15,
    "start_time": "2024-10-20T04:30:33.181Z"
   },
   {
    "duration": 156,
    "start_time": "2024-10-20T04:30:33.197Z"
   },
   {
    "duration": 10,
    "start_time": "2024-10-20T04:30:33.355Z"
   },
   {
    "duration": 8,
    "start_time": "2024-10-20T04:30:33.368Z"
   },
   {
    "duration": 4,
    "start_time": "2024-10-20T04:30:33.378Z"
   },
   {
    "duration": 11,
    "start_time": "2024-10-20T04:30:33.383Z"
   },
   {
    "duration": 30,
    "start_time": "2024-10-20T04:30:33.395Z"
   },
   {
    "duration": 4,
    "start_time": "2024-10-20T04:30:33.428Z"
   },
   {
    "duration": 3,
    "start_time": "2024-10-20T04:30:33.434Z"
   },
   {
    "duration": 8,
    "start_time": "2024-10-20T04:30:33.438Z"
   },
   {
    "duration": 4,
    "start_time": "2024-10-20T04:33:35.183Z"
   },
   {
    "duration": 3,
    "start_time": "2024-10-20T04:52:45.369Z"
   },
   {
    "duration": 57,
    "start_time": "2024-10-20T04:53:21.854Z"
   },
   {
    "duration": 3,
    "start_time": "2024-10-20T04:53:28.497Z"
   },
   {
    "duration": 5,
    "start_time": "2024-10-20T04:53:46.681Z"
   },
   {
    "duration": 4,
    "start_time": "2024-10-20T04:54:50.568Z"
   },
   {
    "duration": 4,
    "start_time": "2024-10-20T04:54:53.242Z"
   },
   {
    "duration": 12,
    "start_time": "2024-10-20T04:58:26.617Z"
   },
   {
    "duration": 3,
    "start_time": "2024-10-20T04:59:36.351Z"
   },
   {
    "duration": 4,
    "start_time": "2024-10-20T04:59:49.067Z"
   },
   {
    "duration": 16,
    "start_time": "2024-10-20T05:00:43.206Z"
   },
   {
    "duration": 1878,
    "start_time": "2024-10-20T05:02:28.384Z"
   },
   {
    "duration": 476,
    "start_time": "2024-10-20T05:02:30.264Z"
   },
   {
    "duration": 3,
    "start_time": "2024-10-20T05:02:30.742Z"
   },
   {
    "duration": 169,
    "start_time": "2024-10-20T05:02:30.747Z"
   },
   {
    "duration": 93,
    "start_time": "2024-10-20T05:02:30.918Z"
   },
   {
    "duration": 195,
    "start_time": "2024-10-20T05:02:31.013Z"
   },
   {
    "duration": 20,
    "start_time": "2024-10-20T05:02:31.210Z"
   },
   {
    "duration": 155,
    "start_time": "2024-10-20T05:02:31.232Z"
   },
   {
    "duration": 11,
    "start_time": "2024-10-20T05:02:31.389Z"
   },
   {
    "duration": 9,
    "start_time": "2024-10-20T05:02:31.401Z"
   },
   {
    "duration": 4,
    "start_time": "2024-10-20T05:02:31.424Z"
   },
   {
    "duration": 10,
    "start_time": "2024-10-20T05:02:31.430Z"
   },
   {
    "duration": 5,
    "start_time": "2024-10-20T05:02:31.441Z"
   },
   {
    "duration": 3,
    "start_time": "2024-10-20T05:02:31.449Z"
   },
   {
    "duration": 5,
    "start_time": "2024-10-20T05:02:31.454Z"
   },
   {
    "duration": 4,
    "start_time": "2024-10-20T05:02:31.460Z"
   },
   {
    "duration": 232,
    "start_time": "2024-10-20T05:02:31.465Z"
   },
   {
    "duration": 3,
    "start_time": "2024-10-20T05:02:31.699Z"
   },
   {
    "duration": 7,
    "start_time": "2024-10-20T05:02:31.703Z"
   },
   {
    "duration": 25,
    "start_time": "2024-10-20T05:03:27.274Z"
   },
   {
    "duration": 59,
    "start_time": "2024-10-20T05:03:41.880Z"
   },
   {
    "duration": 476,
    "start_time": "2024-10-20T05:03:41.941Z"
   },
   {
    "duration": 3,
    "start_time": "2024-10-20T05:03:42.418Z"
   },
   {
    "duration": 168,
    "start_time": "2024-10-20T05:03:42.424Z"
   },
   {
    "duration": 97,
    "start_time": "2024-10-20T05:03:42.594Z"
   },
   {
    "duration": 181,
    "start_time": "2024-10-20T05:03:42.692Z"
   },
   {
    "duration": 14,
    "start_time": "2024-10-20T05:03:42.875Z"
   },
   {
    "duration": 158,
    "start_time": "2024-10-20T05:03:42.890Z"
   },
   {
    "duration": 10,
    "start_time": "2024-10-20T05:03:43.050Z"
   },
   {
    "duration": 9,
    "start_time": "2024-10-20T05:03:43.062Z"
   },
   {
    "duration": 4,
    "start_time": "2024-10-20T05:03:43.073Z"
   },
   {
    "duration": 13,
    "start_time": "2024-10-20T05:03:43.079Z"
   },
   {
    "duration": 31,
    "start_time": "2024-10-20T05:03:43.093Z"
   },
   {
    "duration": 3,
    "start_time": "2024-10-20T05:03:43.127Z"
   },
   {
    "duration": 3,
    "start_time": "2024-10-20T05:03:43.132Z"
   },
   {
    "duration": 3,
    "start_time": "2024-10-20T05:03:43.137Z"
   },
   {
    "duration": 335,
    "start_time": "2024-10-20T05:03:43.142Z"
   },
   {
    "duration": 2,
    "start_time": "2024-10-20T05:03:43.479Z"
   },
   {
    "duration": 8,
    "start_time": "2024-10-20T05:03:43.483Z"
   },
   {
    "duration": 55,
    "start_time": "2024-10-20T10:54:53.986Z"
   },
   {
    "duration": 2,
    "start_time": "2024-10-20T10:54:59.639Z"
   },
   {
    "duration": 462,
    "start_time": "2024-10-20T10:54:59.643Z"
   },
   {
    "duration": 2,
    "start_time": "2024-10-20T10:55:00.107Z"
   },
   {
    "duration": 172,
    "start_time": "2024-10-20T10:55:00.110Z"
   },
   {
    "duration": 97,
    "start_time": "2024-10-20T10:55:00.284Z"
   },
   {
    "duration": 179,
    "start_time": "2024-10-20T10:55:00.382Z"
   },
   {
    "duration": 13,
    "start_time": "2024-10-20T10:55:00.563Z"
   },
   {
    "duration": 162,
    "start_time": "2024-10-20T10:55:00.578Z"
   },
   {
    "duration": 11,
    "start_time": "2024-10-20T10:55:00.741Z"
   },
   {
    "duration": 8,
    "start_time": "2024-10-20T10:55:00.754Z"
   },
   {
    "duration": 5,
    "start_time": "2024-10-20T10:55:00.763Z"
   },
   {
    "duration": 10,
    "start_time": "2024-10-20T10:55:00.769Z"
   },
   {
    "duration": 4,
    "start_time": "2024-10-20T10:55:00.782Z"
   },
   {
    "duration": 4,
    "start_time": "2024-10-20T10:55:00.788Z"
   },
   {
    "duration": 5,
    "start_time": "2024-10-20T10:55:00.824Z"
   },
   {
    "duration": 3,
    "start_time": "2024-10-20T10:55:00.831Z"
   },
   {
    "duration": 330,
    "start_time": "2024-10-20T10:55:00.836Z"
   },
   {
    "duration": 3,
    "start_time": "2024-10-20T10:55:01.168Z"
   },
   {
    "duration": 10,
    "start_time": "2024-10-20T10:55:01.174Z"
   },
   {
    "duration": 62,
    "start_time": "2024-10-20T10:55:01.185Z"
   },
   {
    "duration": 208,
    "start_time": "2024-10-20T22:53:35.717Z"
   },
   {
    "duration": 2745,
    "start_time": "2024-10-20T22:53:43.433Z"
   },
   {
    "duration": 647,
    "start_time": "2024-10-20T22:53:46.181Z"
   },
   {
    "duration": 3,
    "start_time": "2024-10-20T22:53:46.829Z"
   },
   {
    "duration": 202,
    "start_time": "2024-10-20T22:53:46.835Z"
   },
   {
    "duration": 106,
    "start_time": "2024-10-20T22:53:47.039Z"
   },
   {
    "duration": 234,
    "start_time": "2024-10-20T22:53:47.148Z"
   },
   {
    "duration": 21,
    "start_time": "2024-10-20T22:53:47.384Z"
   },
   {
    "duration": 161,
    "start_time": "2024-10-20T22:53:47.406Z"
   },
   {
    "duration": 11,
    "start_time": "2024-10-20T22:53:47.568Z"
   },
   {
    "duration": 23,
    "start_time": "2024-10-20T22:53:47.582Z"
   },
   {
    "duration": 5,
    "start_time": "2024-10-20T22:53:47.607Z"
   },
   {
    "duration": 16,
    "start_time": "2024-10-20T22:53:47.614Z"
   },
   {
    "duration": 7,
    "start_time": "2024-10-20T22:53:47.632Z"
   },
   {
    "duration": 4,
    "start_time": "2024-10-20T22:53:47.642Z"
   },
   {
    "duration": 5,
    "start_time": "2024-10-20T22:53:47.647Z"
   },
   {
    "duration": 4,
    "start_time": "2024-10-20T22:53:47.654Z"
   },
   {
    "duration": 381,
    "start_time": "2024-10-20T22:53:47.660Z"
   },
   {
    "duration": 5,
    "start_time": "2024-10-20T22:53:48.043Z"
   },
   {
    "duration": 8,
    "start_time": "2024-10-20T22:53:48.051Z"
   },
   {
    "duration": 407,
    "start_time": "2024-10-20T22:53:48.062Z"
   },
   {
    "duration": 497,
    "start_time": "2024-10-20T22:53:48.471Z"
   },
   {
    "duration": 397,
    "start_time": "2024-10-20T22:54:14.510Z"
   },
   {
    "duration": 2,
    "start_time": "2024-10-21T02:41:40.590Z"
   },
   {
    "duration": 510,
    "start_time": "2024-10-21T02:41:40.595Z"
   },
   {
    "duration": 4,
    "start_time": "2024-10-21T02:41:41.107Z"
   },
   {
    "duration": 170,
    "start_time": "2024-10-21T02:41:41.114Z"
   },
   {
    "duration": 98,
    "start_time": "2024-10-21T02:41:41.287Z"
   },
   {
    "duration": 193,
    "start_time": "2024-10-21T02:41:41.386Z"
   },
   {
    "duration": 25,
    "start_time": "2024-10-21T02:41:41.581Z"
   },
   {
    "duration": 157,
    "start_time": "2024-10-21T02:41:41.608Z"
   },
   {
    "duration": 10,
    "start_time": "2024-10-21T02:41:41.767Z"
   },
   {
    "duration": 8,
    "start_time": "2024-10-21T02:41:41.779Z"
   },
   {
    "duration": 16,
    "start_time": "2024-10-21T02:41:41.789Z"
   },
   {
    "duration": 13,
    "start_time": "2024-10-21T02:41:41.807Z"
   },
   {
    "duration": 5,
    "start_time": "2024-10-21T02:41:41.821Z"
   },
   {
    "duration": 3,
    "start_time": "2024-10-21T02:41:41.829Z"
   },
   {
    "duration": 4,
    "start_time": "2024-10-21T02:41:41.833Z"
   },
   {
    "duration": 3,
    "start_time": "2024-10-21T02:41:41.839Z"
   },
   {
    "duration": 400,
    "start_time": "2024-10-21T02:41:41.844Z"
   },
   {
    "duration": 3,
    "start_time": "2024-10-21T02:41:42.246Z"
   },
   {
    "duration": 8,
    "start_time": "2024-10-21T02:41:42.250Z"
   },
   {
    "duration": 5,
    "start_time": "2024-10-21T02:41:42.260Z"
   },
   {
    "duration": 5,
    "start_time": "2024-10-21T02:41:42.267Z"
   },
   {
    "duration": 0,
    "start_time": "2024-10-21T02:41:42.274Z"
   },
   {
    "duration": 0,
    "start_time": "2024-10-21T02:41:42.275Z"
   },
   {
    "duration": 0,
    "start_time": "2024-10-21T02:41:42.276Z"
   },
   {
    "duration": 1,
    "start_time": "2024-10-21T02:41:42.305Z"
   },
   {
    "duration": 0,
    "start_time": "2024-10-21T02:41:42.306Z"
   },
   {
    "duration": 4,
    "start_time": "2024-10-21T02:42:14.993Z"
   },
   {
    "duration": 5,
    "start_time": "2024-10-21T02:42:34.577Z"
   },
   {
    "duration": 4,
    "start_time": "2024-10-21T02:44:38.708Z"
   },
   {
    "duration": 4,
    "start_time": "2024-10-21T02:45:05.173Z"
   },
   {
    "duration": 4,
    "start_time": "2024-10-21T02:46:55.455Z"
   },
   {
    "duration": 4,
    "start_time": "2024-10-21T02:47:28.822Z"
   },
   {
    "duration": 10,
    "start_time": "2024-10-22T19:37:33.682Z"
   },
   {
    "duration": 4,
    "start_time": "2024-10-22T19:37:36.566Z"
   },
   {
    "duration": 163,
    "start_time": "2024-10-22T19:37:47.790Z"
   },
   {
    "duration": 2754,
    "start_time": "2024-10-22T19:37:55.287Z"
   },
   {
    "duration": 618,
    "start_time": "2024-10-22T19:37:58.043Z"
   },
   {
    "duration": 3,
    "start_time": "2024-10-22T19:37:58.663Z"
   },
   {
    "duration": 180,
    "start_time": "2024-10-22T19:37:58.669Z"
   },
   {
    "duration": 101,
    "start_time": "2024-10-22T19:37:58.852Z"
   },
   {
    "duration": 192,
    "start_time": "2024-10-22T19:37:58.955Z"
   },
   {
    "duration": 16,
    "start_time": "2024-10-22T19:37:59.149Z"
   },
   {
    "duration": 188,
    "start_time": "2024-10-22T19:37:59.167Z"
   },
   {
    "duration": 12,
    "start_time": "2024-10-22T19:37:59.356Z"
   },
   {
    "duration": 19,
    "start_time": "2024-10-22T19:37:59.371Z"
   },
   {
    "duration": 5,
    "start_time": "2024-10-22T19:37:59.391Z"
   },
   {
    "duration": 10,
    "start_time": "2024-10-22T19:37:59.399Z"
   },
   {
    "duration": 5,
    "start_time": "2024-10-22T19:37:59.410Z"
   },
   {
    "duration": 4,
    "start_time": "2024-10-22T19:37:59.417Z"
   },
   {
    "duration": 4,
    "start_time": "2024-10-22T19:37:59.423Z"
   },
   {
    "duration": 3,
    "start_time": "2024-10-22T19:37:59.428Z"
   },
   {
    "duration": 390,
    "start_time": "2024-10-22T19:37:59.433Z"
   },
   {
    "duration": 2,
    "start_time": "2024-10-22T19:37:59.825Z"
   },
   {
    "duration": 8,
    "start_time": "2024-10-22T19:37:59.829Z"
   },
   {
    "duration": 6,
    "start_time": "2024-10-22T19:37:59.838Z"
   },
   {
    "duration": 4,
    "start_time": "2024-10-22T19:37:59.845Z"
   },
   {
    "duration": 4,
    "start_time": "2024-10-22T19:37:59.851Z"
   },
   {
    "duration": 34,
    "start_time": "2024-10-22T19:37:59.856Z"
   },
   {
    "duration": 4,
    "start_time": "2024-10-22T19:37:59.892Z"
   },
   {
    "duration": 374,
    "start_time": "2024-10-22T19:37:59.898Z"
   },
   {
    "duration": 392,
    "start_time": "2024-10-22T19:38:00.274Z"
   },
   {
    "duration": 7,
    "start_time": "2024-10-22T19:39:14.715Z"
   },
   {
    "duration": 4,
    "start_time": "2024-10-22T19:47:39.661Z"
   },
   {
    "duration": 4,
    "start_time": "2024-10-22T19:48:33.724Z"
   },
   {
    "duration": 4,
    "start_time": "2024-10-22T19:48:41.610Z"
   },
   {
    "duration": 155,
    "start_time": "2024-10-22T20:51:15.343Z"
   },
   {
    "duration": 2687,
    "start_time": "2024-10-22T20:51:21.757Z"
   },
   {
    "duration": 600,
    "start_time": "2024-10-22T20:51:24.446Z"
   },
   {
    "duration": 2,
    "start_time": "2024-10-22T20:51:25.048Z"
   },
   {
    "duration": 187,
    "start_time": "2024-10-22T20:51:25.054Z"
   },
   {
    "duration": 109,
    "start_time": "2024-10-22T20:51:25.243Z"
   },
   {
    "duration": 196,
    "start_time": "2024-10-22T20:51:25.354Z"
   },
   {
    "duration": 19,
    "start_time": "2024-10-22T20:51:25.552Z"
   },
   {
    "duration": 168,
    "start_time": "2024-10-22T20:51:25.573Z"
   },
   {
    "duration": 12,
    "start_time": "2024-10-22T20:51:25.743Z"
   },
   {
    "duration": 16,
    "start_time": "2024-10-22T20:51:25.758Z"
   },
   {
    "duration": 5,
    "start_time": "2024-10-22T20:51:25.775Z"
   },
   {
    "duration": 10,
    "start_time": "2024-10-22T20:51:25.783Z"
   },
   {
    "duration": 5,
    "start_time": "2024-10-22T20:51:25.794Z"
   },
   {
    "duration": 4,
    "start_time": "2024-10-22T20:51:25.801Z"
   },
   {
    "duration": 4,
    "start_time": "2024-10-22T20:51:25.806Z"
   },
   {
    "duration": 3,
    "start_time": "2024-10-22T20:51:25.812Z"
   },
   {
    "duration": 391,
    "start_time": "2024-10-22T20:51:25.817Z"
   },
   {
    "duration": 2,
    "start_time": "2024-10-22T20:51:26.210Z"
   },
   {
    "duration": 9,
    "start_time": "2024-10-22T20:51:26.215Z"
   },
   {
    "duration": 5,
    "start_time": "2024-10-22T20:51:26.225Z"
   },
   {
    "duration": 4,
    "start_time": "2024-10-22T20:51:26.232Z"
   },
   {
    "duration": 34,
    "start_time": "2024-10-22T20:51:26.238Z"
   },
   {
    "duration": 4,
    "start_time": "2024-10-22T20:51:26.274Z"
   },
   {
    "duration": 4,
    "start_time": "2024-10-22T20:51:26.279Z"
   },
   {
    "duration": 593,
    "start_time": "2024-10-22T20:51:26.285Z"
   },
   {
    "duration": 485,
    "start_time": "2024-10-22T20:51:26.881Z"
   },
   {
    "duration": 2,
    "start_time": "2024-10-22T21:16:30.742Z"
   },
   {
    "duration": 234,
    "start_time": "2024-10-22T21:16:59.480Z"
   },
   {
    "duration": 23,
    "start_time": "2024-10-22T21:18:25.968Z"
   },
   {
    "duration": 3,
    "start_time": "2024-10-22T21:20:02.470Z"
   },
   {
    "duration": 497,
    "start_time": "2024-10-22T21:20:02.592Z"
   },
   {
    "duration": 3,
    "start_time": "2024-10-22T21:20:03.092Z"
   },
   {
    "duration": 191,
    "start_time": "2024-10-22T21:20:03.097Z"
   },
   {
    "duration": 133,
    "start_time": "2024-10-22T21:20:03.290Z"
   },
   {
    "duration": 209,
    "start_time": "2024-10-22T21:20:03.427Z"
   },
   {
    "duration": 21,
    "start_time": "2024-10-22T21:20:03.638Z"
   },
   {
    "duration": 168,
    "start_time": "2024-10-22T21:20:03.661Z"
   },
   {
    "duration": 12,
    "start_time": "2024-10-22T21:20:03.831Z"
   },
   {
    "duration": 7,
    "start_time": "2024-10-22T21:20:03.845Z"
   },
   {
    "duration": 19,
    "start_time": "2024-10-22T21:20:03.854Z"
   },
   {
    "duration": 12,
    "start_time": "2024-10-22T21:20:03.875Z"
   },
   {
    "duration": 6,
    "start_time": "2024-10-22T21:20:03.889Z"
   },
   {
    "duration": 4,
    "start_time": "2024-10-22T21:20:03.896Z"
   },
   {
    "duration": 5,
    "start_time": "2024-10-22T21:20:03.904Z"
   },
   {
    "duration": 4,
    "start_time": "2024-10-22T21:20:03.911Z"
   },
   {
    "duration": 463,
    "start_time": "2024-10-22T21:20:03.918Z"
   },
   {
    "duration": 2,
    "start_time": "2024-10-22T21:20:04.384Z"
   },
   {
    "duration": 9,
    "start_time": "2024-10-22T21:20:04.388Z"
   },
   {
    "duration": 5,
    "start_time": "2024-10-22T21:20:04.399Z"
   },
   {
    "duration": 5,
    "start_time": "2024-10-22T21:20:04.408Z"
   },
   {
    "duration": 5,
    "start_time": "2024-10-22T21:20:04.414Z"
   },
   {
    "duration": 4,
    "start_time": "2024-10-22T21:20:04.420Z"
   },
   {
    "duration": 47,
    "start_time": "2024-10-22T21:20:04.426Z"
   },
   {
    "duration": 266,
    "start_time": "2024-10-22T21:20:04.474Z"
   },
   {
    "duration": 414,
    "start_time": "2024-10-22T21:20:04.742Z"
   },
   {
    "duration": 400,
    "start_time": "2024-10-22T21:20:05.158Z"
   },
   {
    "duration": 235,
    "start_time": "2024-10-22T21:21:53.601Z"
   },
   {
    "duration": 333,
    "start_time": "2024-10-22T21:23:20.380Z"
   },
   {
    "duration": 15,
    "start_time": "2024-10-22T21:30:21.162Z"
   },
   {
    "duration": 14,
    "start_time": "2024-10-22T21:30:41.087Z"
   },
   {
    "duration": 6,
    "start_time": "2024-10-22T21:31:44.732Z"
   },
   {
    "duration": 7,
    "start_time": "2024-10-22T21:32:35.522Z"
   },
   {
    "duration": 9,
    "start_time": "2024-10-22T21:34:12.260Z"
   },
   {
    "duration": 16,
    "start_time": "2024-10-22T21:45:09.147Z"
   },
   {
    "duration": 4,
    "start_time": "2024-10-22T21:47:05.117Z"
   },
   {
    "duration": 7,
    "start_time": "2024-10-22T21:56:13.673Z"
   },
   {
    "duration": 4,
    "start_time": "2024-10-22T21:56:44.049Z"
   },
   {
    "duration": 4,
    "start_time": "2024-10-22T22:00:00.691Z"
   },
   {
    "duration": 4,
    "start_time": "2024-10-22T22:00:51.067Z"
   },
   {
    "duration": 247,
    "start_time": "2024-10-22T22:02:02.900Z"
   },
   {
    "duration": 4,
    "start_time": "2024-10-22T22:13:54.784Z"
   },
   {
    "duration": 285,
    "start_time": "2024-10-22T22:14:10.186Z"
   },
   {
    "duration": 5,
    "start_time": "2024-10-22T22:22:15.250Z"
   },
   {
    "duration": 5,
    "start_time": "2024-10-22T22:26:53.121Z"
   },
   {
    "duration": 4,
    "start_time": "2024-10-22T22:27:25.024Z"
   },
   {
    "duration": 2978,
    "start_time": "2024-10-23T23:12:12.055Z"
   },
   {
    "duration": 676,
    "start_time": "2024-10-23T23:12:15.035Z"
   },
   {
    "duration": 8,
    "start_time": "2024-10-23T23:12:15.713Z"
   },
   {
    "duration": 181,
    "start_time": "2024-10-23T23:12:15.724Z"
   },
   {
    "duration": 161,
    "start_time": "2024-10-23T23:12:15.908Z"
   },
   {
    "duration": 196,
    "start_time": "2024-10-23T23:12:16.071Z"
   },
   {
    "duration": 16,
    "start_time": "2024-10-23T23:12:16.270Z"
   },
   {
    "duration": 173,
    "start_time": "2024-10-23T23:12:16.288Z"
   },
   {
    "duration": 16,
    "start_time": "2024-10-23T23:12:16.463Z"
   },
   {
    "duration": 8,
    "start_time": "2024-10-23T23:12:16.484Z"
   },
   {
    "duration": 5,
    "start_time": "2024-10-23T23:12:16.494Z"
   },
   {
    "duration": 32,
    "start_time": "2024-10-23T23:12:16.500Z"
   },
   {
    "duration": 6,
    "start_time": "2024-10-23T23:12:16.534Z"
   },
   {
    "duration": 4,
    "start_time": "2024-10-23T23:12:16.542Z"
   },
   {
    "duration": 3,
    "start_time": "2024-10-23T23:12:16.548Z"
   },
   {
    "duration": 3,
    "start_time": "2024-10-23T23:12:16.553Z"
   },
   {
    "duration": 680,
    "start_time": "2024-10-23T23:12:16.557Z"
   },
   {
    "duration": 3,
    "start_time": "2024-10-23T23:12:17.239Z"
   },
   {
    "duration": 10,
    "start_time": "2024-10-23T23:12:17.243Z"
   },
   {
    "duration": 5,
    "start_time": "2024-10-23T23:12:17.255Z"
   },
   {
    "duration": 5,
    "start_time": "2024-10-23T23:12:17.262Z"
   },
   {
    "duration": 4,
    "start_time": "2024-10-23T23:12:17.269Z"
   },
   {
    "duration": 57,
    "start_time": "2024-10-23T23:12:17.275Z"
   },
   {
    "duration": 6,
    "start_time": "2024-10-23T23:12:17.334Z"
   },
   {
    "duration": 430,
    "start_time": "2024-10-23T23:12:17.342Z"
   },
   {
    "duration": 225,
    "start_time": "2024-10-23T23:12:17.778Z"
   },
   {
    "duration": 383,
    "start_time": "2024-10-23T23:12:18.005Z"
   },
   {
    "duration": 360,
    "start_time": "2024-10-23T23:12:18.392Z"
   },
   {
    "duration": 11,
    "start_time": "2024-10-23T23:12:18.754Z"
   },
   {
    "duration": 8,
    "start_time": "2024-10-23T23:12:18.767Z"
   },
   {
    "duration": 6,
    "start_time": "2024-10-23T23:12:18.777Z"
   },
   {
    "duration": 6,
    "start_time": "2024-10-23T23:12:18.784Z"
   },
   {
    "duration": 349,
    "start_time": "2024-10-23T23:12:18.791Z"
   },
   {
    "duration": 273,
    "start_time": "2024-10-23T23:12:19.141Z"
   },
   {
    "duration": 3,
    "start_time": "2024-10-23T23:12:19.416Z"
   },
   {
    "duration": 333,
    "start_time": "2024-10-23T23:13:41.879Z"
   },
   {
    "duration": 22,
    "start_time": "2024-10-23T23:13:54.994Z"
   },
   {
    "duration": 131,
    "start_time": "2024-10-23T23:14:07.851Z"
   },
   {
    "duration": 123,
    "start_time": "2024-10-23T23:14:16.303Z"
   },
   {
    "duration": 113,
    "start_time": "2024-10-23T23:14:28.799Z"
   },
   {
    "duration": 3,
    "start_time": "2024-10-23T23:14:49.050Z"
   },
   {
    "duration": 580,
    "start_time": "2024-10-23T23:14:49.062Z"
   },
   {
    "duration": 3,
    "start_time": "2024-10-23T23:14:49.644Z"
   },
   {
    "duration": 211,
    "start_time": "2024-10-23T23:14:49.648Z"
   },
   {
    "duration": 116,
    "start_time": "2024-10-23T23:14:49.861Z"
   },
   {
    "duration": 195,
    "start_time": "2024-10-23T23:14:49.980Z"
   },
   {
    "duration": 21,
    "start_time": "2024-10-23T23:14:50.179Z"
   },
   {
    "duration": 180,
    "start_time": "2024-10-23T23:14:50.201Z"
   },
   {
    "duration": 13,
    "start_time": "2024-10-23T23:14:50.383Z"
   },
   {
    "duration": 9,
    "start_time": "2024-10-23T23:14:50.399Z"
   },
   {
    "duration": 127,
    "start_time": "2024-10-23T23:14:50.416Z"
   },
   {
    "duration": 7,
    "start_time": "2024-10-23T23:14:50.546Z"
   },
   {
    "duration": 5,
    "start_time": "2024-10-23T23:14:50.556Z"
   },
   {
    "duration": 14,
    "start_time": "2024-10-23T23:14:50.562Z"
   },
   {
    "duration": 5,
    "start_time": "2024-10-23T23:14:50.580Z"
   },
   {
    "duration": 4,
    "start_time": "2024-10-23T23:14:50.587Z"
   },
   {
    "duration": 3,
    "start_time": "2024-10-23T23:14:50.593Z"
   },
   {
    "duration": 35,
    "start_time": "2024-10-23T23:14:50.598Z"
   },
   {
    "duration": 381,
    "start_time": "2024-10-23T23:14:50.635Z"
   },
   {
    "duration": 2,
    "start_time": "2024-10-23T23:14:51.018Z"
   },
   {
    "duration": 17,
    "start_time": "2024-10-23T23:14:51.022Z"
   },
   {
    "duration": 7,
    "start_time": "2024-10-23T23:14:51.041Z"
   },
   {
    "duration": 4,
    "start_time": "2024-10-23T23:14:51.050Z"
   },
   {
    "duration": 5,
    "start_time": "2024-10-23T23:14:51.056Z"
   },
   {
    "duration": 5,
    "start_time": "2024-10-23T23:14:51.063Z"
   },
   {
    "duration": 5,
    "start_time": "2024-10-23T23:14:51.071Z"
   },
   {
    "duration": 583,
    "start_time": "2024-10-23T23:14:51.078Z"
   },
   {
    "duration": 495,
    "start_time": "2024-10-23T23:14:51.664Z"
   },
   {
    "duration": 474,
    "start_time": "2024-10-23T23:14:52.161Z"
   },
   {
    "duration": 382,
    "start_time": "2024-10-23T23:14:52.637Z"
   },
   {
    "duration": 16,
    "start_time": "2024-10-23T23:14:53.021Z"
   },
   {
    "duration": 8,
    "start_time": "2024-10-23T23:14:53.039Z"
   },
   {
    "duration": 4,
    "start_time": "2024-10-23T23:14:53.048Z"
   },
   {
    "duration": 5,
    "start_time": "2024-10-23T23:14:53.055Z"
   },
   {
    "duration": 295,
    "start_time": "2024-10-23T23:14:53.061Z"
   },
   {
    "duration": 258,
    "start_time": "2024-10-23T23:14:53.357Z"
   },
   {
    "duration": 15,
    "start_time": "2024-10-23T23:14:53.617Z"
   },
   {
    "duration": 3,
    "start_time": "2024-10-23T23:15:34.288Z"
   },
   {
    "duration": 26,
    "start_time": "2024-10-23T23:15:44.081Z"
   },
   {
    "duration": 14,
    "start_time": "2024-10-23T23:16:28.778Z"
   },
   {
    "duration": 188,
    "start_time": "2024-10-23T23:16:43.393Z"
   },
   {
    "duration": 76,
    "start_time": "2024-10-23T23:17:37.918Z"
   },
   {
    "duration": 3,
    "start_time": "2024-10-23T23:19:39.942Z"
   },
   {
    "duration": 542,
    "start_time": "2024-10-23T23:19:39.947Z"
   },
   {
    "duration": 3,
    "start_time": "2024-10-23T23:19:40.491Z"
   },
   {
    "duration": 176,
    "start_time": "2024-10-23T23:19:40.497Z"
   },
   {
    "duration": 114,
    "start_time": "2024-10-23T23:19:40.675Z"
   },
   {
    "duration": 267,
    "start_time": "2024-10-23T23:19:40.791Z"
   },
   {
    "duration": 15,
    "start_time": "2024-10-23T23:19:41.060Z"
   },
   {
    "duration": 214,
    "start_time": "2024-10-23T23:19:41.077Z"
   },
   {
    "duration": 16,
    "start_time": "2024-10-23T23:19:41.295Z"
   },
   {
    "duration": 5,
    "start_time": "2024-10-23T23:19:41.313Z"
   },
   {
    "duration": 78,
    "start_time": "2024-10-23T23:19:41.320Z"
   },
   {
    "duration": 7,
    "start_time": "2024-10-23T23:19:41.400Z"
   },
   {
    "duration": 22,
    "start_time": "2024-10-23T23:19:41.409Z"
   },
   {
    "duration": 15,
    "start_time": "2024-10-23T23:19:41.432Z"
   },
   {
    "duration": 7,
    "start_time": "2024-10-23T23:19:41.449Z"
   },
   {
    "duration": 4,
    "start_time": "2024-10-23T23:19:41.457Z"
   },
   {
    "duration": 5,
    "start_time": "2024-10-23T23:19:41.463Z"
   },
   {
    "duration": 4,
    "start_time": "2024-10-23T23:19:41.469Z"
   },
   {
    "duration": 429,
    "start_time": "2024-10-23T23:19:41.475Z"
   },
   {
    "duration": 3,
    "start_time": "2024-10-23T23:19:41.906Z"
   },
   {
    "duration": 21,
    "start_time": "2024-10-23T23:19:41.911Z"
   },
   {
    "duration": 4,
    "start_time": "2024-10-23T23:19:41.934Z"
   },
   {
    "duration": 11,
    "start_time": "2024-10-23T23:19:41.940Z"
   },
   {
    "duration": 10,
    "start_time": "2024-10-23T23:19:41.955Z"
   },
   {
    "duration": 5,
    "start_time": "2024-10-23T23:19:41.968Z"
   },
   {
    "duration": 5,
    "start_time": "2024-10-23T23:19:41.975Z"
   },
   {
    "duration": 549,
    "start_time": "2024-10-23T23:19:41.982Z"
   },
   {
    "duration": 497,
    "start_time": "2024-10-23T23:19:42.534Z"
   },
   {
    "duration": 410,
    "start_time": "2024-10-23T23:19:43.034Z"
   },
   {
    "duration": 372,
    "start_time": "2024-10-23T23:19:43.446Z"
   },
   {
    "duration": 14,
    "start_time": "2024-10-23T23:19:43.820Z"
   },
   {
    "duration": 7,
    "start_time": "2024-10-23T23:19:43.836Z"
   },
   {
    "duration": 4,
    "start_time": "2024-10-23T23:19:43.845Z"
   },
   {
    "duration": 5,
    "start_time": "2024-10-23T23:19:43.851Z"
   },
   {
    "duration": 280,
    "start_time": "2024-10-23T23:19:43.857Z"
   },
   {
    "duration": 274,
    "start_time": "2024-10-23T23:19:44.139Z"
   },
   {
    "duration": 8,
    "start_time": "2024-10-23T23:19:44.415Z"
   },
   {
    "duration": 3,
    "start_time": "2024-10-23T23:21:00.141Z"
   },
   {
    "duration": 553,
    "start_time": "2024-10-23T23:21:00.146Z"
   },
   {
    "duration": 2,
    "start_time": "2024-10-23T23:21:00.703Z"
   },
   {
    "duration": 174,
    "start_time": "2024-10-23T23:21:00.707Z"
   },
   {
    "duration": 117,
    "start_time": "2024-10-23T23:21:00.883Z"
   },
   {
    "duration": 182,
    "start_time": "2024-10-23T23:21:01.002Z"
   },
   {
    "duration": 17,
    "start_time": "2024-10-23T23:21:01.186Z"
   },
   {
    "duration": 165,
    "start_time": "2024-10-23T23:21:01.206Z"
   },
   {
    "duration": 12,
    "start_time": "2024-10-23T23:21:01.373Z"
   },
   {
    "duration": 5,
    "start_time": "2024-10-23T23:21:01.387Z"
   },
   {
    "duration": 87,
    "start_time": "2024-10-23T23:21:01.394Z"
   },
   {
    "duration": 7,
    "start_time": "2024-10-23T23:21:01.484Z"
   },
   {
    "duration": 5,
    "start_time": "2024-10-23T23:21:01.493Z"
   },
   {
    "duration": 30,
    "start_time": "2024-10-23T23:21:01.503Z"
   },
   {
    "duration": 5,
    "start_time": "2024-10-23T23:21:01.535Z"
   },
   {
    "duration": 4,
    "start_time": "2024-10-23T23:21:01.542Z"
   },
   {
    "duration": 4,
    "start_time": "2024-10-23T23:21:01.548Z"
   },
   {
    "duration": 5,
    "start_time": "2024-10-23T23:21:01.553Z"
   },
   {
    "duration": 321,
    "start_time": "2024-10-23T23:21:01.560Z"
   },
   {
    "duration": 3,
    "start_time": "2024-10-23T23:21:01.885Z"
   },
   {
    "duration": 11,
    "start_time": "2024-10-23T23:21:01.890Z"
   },
   {
    "duration": 5,
    "start_time": "2024-10-23T23:21:01.903Z"
   },
   {
    "duration": 26,
    "start_time": "2024-10-23T23:21:01.910Z"
   },
   {
    "duration": 6,
    "start_time": "2024-10-23T23:21:01.938Z"
   },
   {
    "duration": 16,
    "start_time": "2024-10-23T23:21:01.946Z"
   },
   {
    "duration": 7,
    "start_time": "2024-10-23T23:21:01.964Z"
   },
   {
    "duration": 265,
    "start_time": "2024-10-23T23:21:01.973Z"
   },
   {
    "duration": 245,
    "start_time": "2024-10-23T23:21:02.240Z"
   },
   {
    "duration": 762,
    "start_time": "2024-10-23T23:21:02.486Z"
   },
   {
    "duration": 539,
    "start_time": "2024-10-23T23:21:03.249Z"
   },
   {
    "duration": 10,
    "start_time": "2024-10-23T23:21:03.789Z"
   },
   {
    "duration": 8,
    "start_time": "2024-10-23T23:21:03.800Z"
   },
   {
    "duration": 25,
    "start_time": "2024-10-23T23:21:03.810Z"
   },
   {
    "duration": 7,
    "start_time": "2024-10-23T23:21:03.837Z"
   },
   {
    "duration": 293,
    "start_time": "2024-10-23T23:21:03.847Z"
   },
   {
    "duration": 277,
    "start_time": "2024-10-23T23:21:04.142Z"
   },
   {
    "duration": 12,
    "start_time": "2024-10-23T23:21:04.421Z"
   },
   {
    "duration": 231,
    "start_time": "2024-10-23T23:22:48.563Z"
   },
   {
    "duration": 15,
    "start_time": "2024-10-23T23:23:20.120Z"
   },
   {
    "duration": 3,
    "start_time": "2024-10-23T23:23:31.404Z"
   },
   {
    "duration": 541,
    "start_time": "2024-10-23T23:23:31.431Z"
   },
   {
    "duration": 8,
    "start_time": "2024-10-23T23:23:31.975Z"
   },
   {
    "duration": 166,
    "start_time": "2024-10-23T23:23:31.985Z"
   },
   {
    "duration": 105,
    "start_time": "2024-10-23T23:23:32.153Z"
   },
   {
    "duration": 187,
    "start_time": "2024-10-23T23:23:32.260Z"
   },
   {
    "duration": 15,
    "start_time": "2024-10-23T23:23:32.450Z"
   },
   {
    "duration": 172,
    "start_time": "2024-10-23T23:23:32.466Z"
   },
   {
    "duration": 12,
    "start_time": "2024-10-23T23:23:32.640Z"
   },
   {
    "duration": 5,
    "start_time": "2024-10-23T23:23:32.654Z"
   },
   {
    "duration": 83,
    "start_time": "2024-10-23T23:23:32.661Z"
   },
   {
    "duration": 9,
    "start_time": "2024-10-23T23:23:32.747Z"
   },
   {
    "duration": 4,
    "start_time": "2024-10-23T23:23:32.758Z"
   },
   {
    "duration": 13,
    "start_time": "2024-10-23T23:23:32.764Z"
   },
   {
    "duration": 5,
    "start_time": "2024-10-23T23:23:32.784Z"
   },
   {
    "duration": 4,
    "start_time": "2024-10-23T23:23:32.791Z"
   },
   {
    "duration": 4,
    "start_time": "2024-10-23T23:23:32.797Z"
   },
   {
    "duration": 34,
    "start_time": "2024-10-23T23:23:32.802Z"
   },
   {
    "duration": 347,
    "start_time": "2024-10-23T23:23:32.839Z"
   },
   {
    "duration": 2,
    "start_time": "2024-10-23T23:23:33.188Z"
   },
   {
    "duration": 9,
    "start_time": "2024-10-23T23:23:33.192Z"
   },
   {
    "duration": 5,
    "start_time": "2024-10-23T23:23:33.203Z"
   },
   {
    "duration": 5,
    "start_time": "2024-10-23T23:23:33.232Z"
   },
   {
    "duration": 4,
    "start_time": "2024-10-23T23:23:33.239Z"
   },
   {
    "duration": 3,
    "start_time": "2024-10-23T23:23:33.246Z"
   },
   {
    "duration": 6,
    "start_time": "2024-10-23T23:23:33.251Z"
   },
   {
    "duration": 286,
    "start_time": "2024-10-23T23:23:33.258Z"
   },
   {
    "duration": 329,
    "start_time": "2024-10-23T23:23:33.546Z"
   },
   {
    "duration": 681,
    "start_time": "2024-10-23T23:23:33.878Z"
   },
   {
    "duration": 342,
    "start_time": "2024-10-23T23:23:34.561Z"
   },
   {
    "duration": 10,
    "start_time": "2024-10-23T23:23:34.905Z"
   },
   {
    "duration": 18,
    "start_time": "2024-10-23T23:23:34.916Z"
   },
   {
    "duration": 4,
    "start_time": "2024-10-23T23:23:34.935Z"
   },
   {
    "duration": 5,
    "start_time": "2024-10-23T23:23:34.941Z"
   },
   {
    "duration": 288,
    "start_time": "2024-10-23T23:23:34.947Z"
   },
   {
    "duration": 395,
    "start_time": "2024-10-23T23:23:35.236Z"
   },
   {
    "duration": 5,
    "start_time": "2024-10-23T23:23:35.633Z"
   },
   {
    "duration": 40,
    "start_time": "2024-10-23T23:24:37.820Z"
   },
   {
    "duration": 189,
    "start_time": "2024-10-23T23:24:58.191Z"
   },
   {
    "duration": 123,
    "start_time": "2024-10-23T23:25:27.624Z"
   },
   {
    "duration": 3,
    "start_time": "2024-10-23T23:25:38.204Z"
   },
   {
    "duration": 529,
    "start_time": "2024-10-23T23:25:38.209Z"
   },
   {
    "duration": 2,
    "start_time": "2024-10-23T23:25:38.740Z"
   },
   {
    "duration": 169,
    "start_time": "2024-10-23T23:25:38.745Z"
   },
   {
    "duration": 99,
    "start_time": "2024-10-23T23:25:38.916Z"
   },
   {
    "duration": 182,
    "start_time": "2024-10-23T23:25:39.017Z"
   },
   {
    "duration": 13,
    "start_time": "2024-10-23T23:25:39.201Z"
   },
   {
    "duration": 164,
    "start_time": "2024-10-23T23:25:39.216Z"
   },
   {
    "duration": 12,
    "start_time": "2024-10-23T23:25:39.383Z"
   },
   {
    "duration": 5,
    "start_time": "2024-10-23T23:25:39.396Z"
   },
   {
    "duration": 75,
    "start_time": "2024-10-23T23:25:39.403Z"
   },
   {
    "duration": 31,
    "start_time": "2024-10-23T23:25:39.479Z"
   },
   {
    "duration": 160,
    "start_time": "2024-10-23T23:25:39.512Z"
   },
   {
    "duration": 95,
    "start_time": "2024-10-23T23:25:39.674Z"
   },
   {
    "duration": 9,
    "start_time": "2024-10-23T23:25:39.771Z"
   },
   {
    "duration": 5,
    "start_time": "2024-10-23T23:25:39.782Z"
   },
   {
    "duration": 11,
    "start_time": "2024-10-23T23:25:39.789Z"
   },
   {
    "duration": 31,
    "start_time": "2024-10-23T23:25:39.802Z"
   },
   {
    "duration": 4,
    "start_time": "2024-10-23T23:25:39.835Z"
   },
   {
    "duration": 3,
    "start_time": "2024-10-23T23:25:39.842Z"
   },
   {
    "duration": 3,
    "start_time": "2024-10-23T23:25:39.847Z"
   },
   {
    "duration": 350,
    "start_time": "2024-10-23T23:25:39.852Z"
   },
   {
    "duration": 2,
    "start_time": "2024-10-23T23:25:40.204Z"
   },
   {
    "duration": 23,
    "start_time": "2024-10-23T23:25:40.210Z"
   },
   {
    "duration": 5,
    "start_time": "2024-10-23T23:25:40.234Z"
   },
   {
    "duration": 3,
    "start_time": "2024-10-23T23:25:40.241Z"
   },
   {
    "duration": 4,
    "start_time": "2024-10-23T23:25:40.246Z"
   },
   {
    "duration": 5,
    "start_time": "2024-10-23T23:25:40.251Z"
   },
   {
    "duration": 4,
    "start_time": "2024-10-23T23:25:40.257Z"
   },
   {
    "duration": 285,
    "start_time": "2024-10-23T23:25:40.263Z"
   },
   {
    "duration": 231,
    "start_time": "2024-10-23T23:25:40.549Z"
   },
   {
    "duration": 330,
    "start_time": "2024-10-23T23:25:40.782Z"
   },
   {
    "duration": 430,
    "start_time": "2024-10-23T23:25:41.115Z"
   },
   {
    "duration": 8,
    "start_time": "2024-10-23T23:25:41.547Z"
   },
   {
    "duration": 6,
    "start_time": "2024-10-23T23:25:41.557Z"
   },
   {
    "duration": 4,
    "start_time": "2024-10-23T23:25:41.565Z"
   },
   {
    "duration": 4,
    "start_time": "2024-10-23T23:25:41.570Z"
   },
   {
    "duration": 301,
    "start_time": "2024-10-23T23:25:41.576Z"
   },
   {
    "duration": 239,
    "start_time": "2024-10-23T23:25:41.879Z"
   },
   {
    "duration": 6,
    "start_time": "2024-10-23T23:25:42.132Z"
   },
   {
    "duration": 2690,
    "start_time": "2024-10-24T11:15:01.947Z"
   },
   {
    "duration": 1002,
    "start_time": "2024-10-24T11:15:04.639Z"
   },
   {
    "duration": 3,
    "start_time": "2024-10-24T11:15:05.642Z"
   },
   {
    "duration": 180,
    "start_time": "2024-10-24T11:15:05.647Z"
   },
   {
    "duration": 99,
    "start_time": "2024-10-24T11:15:05.829Z"
   },
   {
    "duration": 188,
    "start_time": "2024-10-24T11:15:05.930Z"
   },
   {
    "duration": 14,
    "start_time": "2024-10-24T11:15:06.119Z"
   },
   {
    "duration": 164,
    "start_time": "2024-10-24T11:15:06.143Z"
   },
   {
    "duration": 13,
    "start_time": "2024-10-24T11:15:06.309Z"
   },
   {
    "duration": 15,
    "start_time": "2024-10-24T11:15:06.327Z"
   },
   {
    "duration": 60,
    "start_time": "2024-10-24T11:15:06.344Z"
   },
   {
    "duration": 44,
    "start_time": "2024-10-24T11:15:06.406Z"
   },
   {
    "duration": 157,
    "start_time": "2024-10-24T11:15:06.451Z"
   },
   {
    "duration": 99,
    "start_time": "2024-10-24T11:15:06.610Z"
   },
   {
    "duration": 7,
    "start_time": "2024-10-24T11:15:06.711Z"
   },
   {
    "duration": 7,
    "start_time": "2024-10-24T11:15:06.720Z"
   },
   {
    "duration": 10,
    "start_time": "2024-10-24T11:15:06.743Z"
   },
   {
    "duration": 11,
    "start_time": "2024-10-24T11:15:06.755Z"
   },
   {
    "duration": 5,
    "start_time": "2024-10-24T11:15:06.767Z"
   },
   {
    "duration": 3,
    "start_time": "2024-10-24T11:15:06.774Z"
   },
   {
    "duration": 4,
    "start_time": "2024-10-24T11:15:06.779Z"
   },
   {
    "duration": 3,
    "start_time": "2024-10-24T11:15:06.785Z"
   },
   {
    "duration": 376,
    "start_time": "2024-10-24T11:15:06.790Z"
   },
   {
    "duration": 3,
    "start_time": "2024-10-24T11:15:07.168Z"
   },
   {
    "duration": 9,
    "start_time": "2024-10-24T11:15:07.173Z"
   },
   {
    "duration": 5,
    "start_time": "2024-10-24T11:15:07.183Z"
   },
   {
    "duration": 3,
    "start_time": "2024-10-24T11:15:07.190Z"
   },
   {
    "duration": 4,
    "start_time": "2024-10-24T11:15:07.197Z"
   },
   {
    "duration": 41,
    "start_time": "2024-10-24T11:15:07.202Z"
   },
   {
    "duration": 4,
    "start_time": "2024-10-24T11:15:07.245Z"
   },
   {
    "duration": 313,
    "start_time": "2024-10-24T11:15:07.250Z"
   },
   {
    "duration": 228,
    "start_time": "2024-10-24T11:15:07.566Z"
   },
   {
    "duration": 349,
    "start_time": "2024-10-24T11:15:07.796Z"
   },
   {
    "duration": 371,
    "start_time": "2024-10-24T11:15:08.147Z"
   },
   {
    "duration": 10,
    "start_time": "2024-10-24T11:15:08.520Z"
   },
   {
    "duration": 15,
    "start_time": "2024-10-24T11:15:08.532Z"
   },
   {
    "duration": 4,
    "start_time": "2024-10-24T11:15:08.549Z"
   },
   {
    "duration": 4,
    "start_time": "2024-10-24T11:15:08.554Z"
   },
   {
    "duration": 299,
    "start_time": "2024-10-24T11:15:08.560Z"
   },
   {
    "duration": 264,
    "start_time": "2024-10-24T11:15:08.861Z"
   },
   {
    "duration": 5,
    "start_time": "2024-10-24T11:15:09.127Z"
   },
   {
    "duration": 260,
    "start_time": "2024-10-24T11:15:33.027Z"
   },
   {
    "duration": 380,
    "start_time": "2024-10-24T11:17:20.248Z"
   },
   {
    "duration": 355,
    "start_time": "2024-10-24T11:17:34.552Z"
   },
   {
    "duration": 347,
    "start_time": "2024-10-24T11:17:45.241Z"
   },
   {
    "duration": 3,
    "start_time": "2024-10-24T11:17:54.034Z"
   },
   {
    "duration": 543,
    "start_time": "2024-10-24T11:17:54.040Z"
   },
   {
    "duration": 3,
    "start_time": "2024-10-24T11:17:54.585Z"
   },
   {
    "duration": 172,
    "start_time": "2024-10-24T11:17:54.590Z"
   },
   {
    "duration": 98,
    "start_time": "2024-10-24T11:17:54.765Z"
   },
   {
    "duration": 184,
    "start_time": "2024-10-24T11:17:54.864Z"
   },
   {
    "duration": 14,
    "start_time": "2024-10-24T11:17:55.050Z"
   },
   {
    "duration": 166,
    "start_time": "2024-10-24T11:17:55.066Z"
   },
   {
    "duration": 16,
    "start_time": "2024-10-24T11:17:55.233Z"
   },
   {
    "duration": 4,
    "start_time": "2024-10-24T11:17:55.252Z"
   },
   {
    "duration": 63,
    "start_time": "2024-10-24T11:17:55.261Z"
   },
   {
    "duration": 46,
    "start_time": "2024-10-24T11:17:55.326Z"
   },
   {
    "duration": 244,
    "start_time": "2024-10-24T11:17:55.375Z"
   },
   {
    "duration": 96,
    "start_time": "2024-10-24T11:17:55.622Z"
   },
   {
    "duration": 6,
    "start_time": "2024-10-24T11:17:55.720Z"
   },
   {
    "duration": 16,
    "start_time": "2024-10-24T11:17:55.728Z"
   },
   {
    "duration": 13,
    "start_time": "2024-10-24T11:17:55.745Z"
   },
   {
    "duration": 5,
    "start_time": "2024-10-24T11:17:55.760Z"
   },
   {
    "duration": 4,
    "start_time": "2024-10-24T11:17:55.766Z"
   },
   {
    "duration": 4,
    "start_time": "2024-10-24T11:17:55.771Z"
   },
   {
    "duration": 3,
    "start_time": "2024-10-24T11:17:55.777Z"
   },
   {
    "duration": 379,
    "start_time": "2024-10-24T11:17:55.782Z"
   },
   {
    "duration": 3,
    "start_time": "2024-10-24T11:17:56.163Z"
   },
   {
    "duration": 8,
    "start_time": "2024-10-24T11:17:56.168Z"
   },
   {
    "duration": 5,
    "start_time": "2024-10-24T11:17:56.177Z"
   },
   {
    "duration": 5,
    "start_time": "2024-10-24T11:17:56.184Z"
   },
   {
    "duration": 4,
    "start_time": "2024-10-24T11:17:56.190Z"
   },
   {
    "duration": 4,
    "start_time": "2024-10-24T11:17:56.196Z"
   },
   {
    "duration": 4,
    "start_time": "2024-10-24T11:17:56.246Z"
   },
   {
    "duration": 250,
    "start_time": "2024-10-24T11:17:56.251Z"
   },
   {
    "duration": 240,
    "start_time": "2024-10-24T11:17:56.503Z"
   },
   {
    "duration": 368,
    "start_time": "2024-10-24T11:17:56.745Z"
   },
   {
    "duration": 358,
    "start_time": "2024-10-24T11:17:57.115Z"
   },
   {
    "duration": 9,
    "start_time": "2024-10-24T11:17:57.475Z"
   },
   {
    "duration": 6,
    "start_time": "2024-10-24T11:17:57.486Z"
   },
   {
    "duration": 4,
    "start_time": "2024-10-24T11:17:57.494Z"
   },
   {
    "duration": 4,
    "start_time": "2024-10-24T11:17:57.499Z"
   },
   {
    "duration": 323,
    "start_time": "2024-10-24T11:17:57.505Z"
   },
   {
    "duration": 288,
    "start_time": "2024-10-24T11:17:57.830Z"
   },
   {
    "duration": 5,
    "start_time": "2024-10-24T11:17:58.119Z"
   },
   {
    "duration": 294,
    "start_time": "2024-10-24T11:21:05.894Z"
   },
   {
    "duration": 4,
    "start_time": "2024-10-24T11:53:53.945Z"
   },
   {
    "duration": 17,
    "start_time": "2024-10-24T11:55:13.893Z"
   },
   {
    "duration": 4,
    "start_time": "2024-10-24T11:55:24.664Z"
   },
   {
    "duration": 2804,
    "start_time": "2024-10-24T12:23:56.685Z"
   },
   {
    "duration": 670,
    "start_time": "2024-10-24T12:23:59.492Z"
   },
   {
    "duration": 3,
    "start_time": "2024-10-24T12:24:00.167Z"
   },
   {
    "duration": 247,
    "start_time": "2024-10-24T12:24:00.173Z"
   },
   {
    "duration": 109,
    "start_time": "2024-10-24T12:24:00.421Z"
   },
   {
    "duration": 181,
    "start_time": "2024-10-24T12:24:00.532Z"
   },
   {
    "duration": 17,
    "start_time": "2024-10-24T12:24:00.714Z"
   },
   {
    "duration": 176,
    "start_time": "2024-10-24T12:24:00.734Z"
   },
   {
    "duration": 10,
    "start_time": "2024-10-24T12:24:00.912Z"
   },
   {
    "duration": 5,
    "start_time": "2024-10-24T12:24:00.927Z"
   },
   {
    "duration": 86,
    "start_time": "2024-10-24T12:24:00.933Z"
   },
   {
    "duration": 37,
    "start_time": "2024-10-24T12:24:01.021Z"
   },
   {
    "duration": 179,
    "start_time": "2024-10-24T12:24:01.060Z"
   },
   {
    "duration": 94,
    "start_time": "2024-10-24T12:24:01.242Z"
   },
   {
    "duration": 7,
    "start_time": "2024-10-24T12:24:01.338Z"
   },
   {
    "duration": 4,
    "start_time": "2024-10-24T12:24:01.347Z"
   },
   {
    "duration": 11,
    "start_time": "2024-10-24T12:24:01.353Z"
   },
   {
    "duration": 5,
    "start_time": "2024-10-24T12:24:01.366Z"
   },
   {
    "duration": 3,
    "start_time": "2024-10-24T12:24:01.373Z"
   },
   {
    "duration": 32,
    "start_time": "2024-10-24T12:24:01.378Z"
   },
   {
    "duration": 4,
    "start_time": "2024-10-24T12:24:01.411Z"
   },
   {
    "duration": 361,
    "start_time": "2024-10-24T12:24:01.417Z"
   },
   {
    "duration": 3,
    "start_time": "2024-10-24T12:24:01.780Z"
   },
   {
    "duration": 29,
    "start_time": "2024-10-24T12:24:01.784Z"
   },
   {
    "duration": 5,
    "start_time": "2024-10-24T12:24:01.814Z"
   },
   {
    "duration": 5,
    "start_time": "2024-10-24T12:24:01.820Z"
   },
   {
    "duration": 7,
    "start_time": "2024-10-24T12:24:01.827Z"
   },
   {
    "duration": 5,
    "start_time": "2024-10-24T12:24:01.838Z"
   },
   {
    "duration": 5,
    "start_time": "2024-10-24T12:24:01.844Z"
   },
   {
    "duration": 286,
    "start_time": "2024-10-24T12:24:01.851Z"
   },
   {
    "duration": 242,
    "start_time": "2024-10-24T12:24:02.138Z"
   },
   {
    "duration": 348,
    "start_time": "2024-10-24T12:24:02.382Z"
   },
   {
    "duration": 405,
    "start_time": "2024-10-24T12:24:02.732Z"
   },
   {
    "duration": 10,
    "start_time": "2024-10-24T12:24:03.138Z"
   },
   {
    "duration": 7,
    "start_time": "2024-10-24T12:24:03.151Z"
   },
   {
    "duration": 4,
    "start_time": "2024-10-24T12:24:03.160Z"
   },
   {
    "duration": 6,
    "start_time": "2024-10-24T12:24:03.166Z"
   },
   {
    "duration": 331,
    "start_time": "2024-10-24T12:24:03.174Z"
   },
   {
    "duration": 282,
    "start_time": "2024-10-24T12:24:03.507Z"
   },
   {
    "duration": 6,
    "start_time": "2024-10-24T12:24:03.791Z"
   },
   {
    "duration": 4,
    "start_time": "2024-10-24T12:24:03.809Z"
   },
   {
    "duration": 6,
    "start_time": "2024-10-24T12:24:03.815Z"
   },
   {
    "duration": 4,
    "start_time": "2024-10-24T12:24:03.823Z"
   },
   {
    "duration": 0,
    "start_time": "2024-10-24T12:27:55.484Z"
   },
   {
    "duration": 0,
    "start_time": "2024-10-24T12:27:55.485Z"
   },
   {
    "duration": 0,
    "start_time": "2024-10-24T12:27:55.486Z"
   },
   {
    "duration": 0,
    "start_time": "2024-10-24T12:27:55.487Z"
   },
   {
    "duration": 0,
    "start_time": "2024-10-24T12:27:55.489Z"
   },
   {
    "duration": 0,
    "start_time": "2024-10-24T12:27:55.489Z"
   },
   {
    "duration": 0,
    "start_time": "2024-10-24T12:27:55.490Z"
   },
   {
    "duration": 0,
    "start_time": "2024-10-24T12:27:55.491Z"
   },
   {
    "duration": 0,
    "start_time": "2024-10-24T12:27:55.492Z"
   },
   {
    "duration": 0,
    "start_time": "2024-10-24T12:27:55.493Z"
   },
   {
    "duration": 0,
    "start_time": "2024-10-24T12:27:55.494Z"
   },
   {
    "duration": 0,
    "start_time": "2024-10-24T12:27:55.495Z"
   },
   {
    "duration": 0,
    "start_time": "2024-10-24T12:27:55.495Z"
   },
   {
    "duration": 0,
    "start_time": "2024-10-24T12:27:55.496Z"
   },
   {
    "duration": 0,
    "start_time": "2024-10-24T12:27:55.497Z"
   },
   {
    "duration": 0,
    "start_time": "2024-10-24T12:27:55.508Z"
   },
   {
    "duration": 0,
    "start_time": "2024-10-24T12:27:55.509Z"
   },
   {
    "duration": 0,
    "start_time": "2024-10-24T12:27:55.510Z"
   },
   {
    "duration": 0,
    "start_time": "2024-10-24T12:27:55.511Z"
   },
   {
    "duration": 0,
    "start_time": "2024-10-24T12:27:55.513Z"
   },
   {
    "duration": 0,
    "start_time": "2024-10-24T12:27:55.514Z"
   },
   {
    "duration": 0,
    "start_time": "2024-10-24T12:27:55.515Z"
   },
   {
    "duration": 0,
    "start_time": "2024-10-24T12:27:55.516Z"
   },
   {
    "duration": 0,
    "start_time": "2024-10-24T12:27:55.517Z"
   },
   {
    "duration": 0,
    "start_time": "2024-10-24T12:27:55.518Z"
   },
   {
    "duration": 0,
    "start_time": "2024-10-24T12:27:55.519Z"
   },
   {
    "duration": 0,
    "start_time": "2024-10-24T12:27:55.520Z"
   },
   {
    "duration": 0,
    "start_time": "2024-10-24T12:27:55.521Z"
   },
   {
    "duration": 0,
    "start_time": "2024-10-24T12:27:55.522Z"
   },
   {
    "duration": 0,
    "start_time": "2024-10-24T12:27:55.523Z"
   },
   {
    "duration": 0,
    "start_time": "2024-10-24T12:27:55.524Z"
   },
   {
    "duration": 0,
    "start_time": "2024-10-24T12:27:55.525Z"
   },
   {
    "duration": 0,
    "start_time": "2024-10-24T12:27:55.526Z"
   },
   {
    "duration": 0,
    "start_time": "2024-10-24T12:27:55.527Z"
   },
   {
    "duration": 0,
    "start_time": "2024-10-24T12:27:55.528Z"
   },
   {
    "duration": 0,
    "start_time": "2024-10-24T12:27:55.529Z"
   },
   {
    "duration": 0,
    "start_time": "2024-10-24T12:27:55.530Z"
   },
   {
    "duration": 0,
    "start_time": "2024-10-24T12:27:55.531Z"
   },
   {
    "duration": 0,
    "start_time": "2024-10-24T12:27:55.532Z"
   },
   {
    "duration": 0,
    "start_time": "2024-10-24T12:27:55.533Z"
   },
   {
    "duration": 0,
    "start_time": "2024-10-24T12:27:55.534Z"
   },
   {
    "duration": 0,
    "start_time": "2024-10-24T12:27:55.535Z"
   },
   {
    "duration": 0,
    "start_time": "2024-10-24T12:27:55.537Z"
   },
   {
    "duration": 0,
    "start_time": "2024-10-24T12:27:55.538Z"
   },
   {
    "duration": 0,
    "start_time": "2024-10-24T12:27:55.539Z"
   },
   {
    "duration": 3,
    "start_time": "2024-10-24T12:27:58.349Z"
   },
   {
    "duration": 493,
    "start_time": "2024-10-24T12:27:58.354Z"
   },
   {
    "duration": 3,
    "start_time": "2024-10-24T12:27:58.851Z"
   },
   {
    "duration": 185,
    "start_time": "2024-10-24T12:27:58.856Z"
   },
   {
    "duration": 101,
    "start_time": "2024-10-24T12:27:59.045Z"
   },
   {
    "duration": 185,
    "start_time": "2024-10-24T12:27:59.148Z"
   },
   {
    "duration": 15,
    "start_time": "2024-10-24T12:27:59.335Z"
   },
   {
    "duration": 175,
    "start_time": "2024-10-24T12:27:59.351Z"
   },
   {
    "duration": 14,
    "start_time": "2024-10-24T12:27:59.530Z"
   },
   {
    "duration": 5,
    "start_time": "2024-10-24T12:27:59.546Z"
   },
   {
    "duration": 74,
    "start_time": "2024-10-24T12:27:59.553Z"
   },
   {
    "duration": 35,
    "start_time": "2024-10-24T12:27:59.629Z"
   },
   {
    "duration": 185,
    "start_time": "2024-10-24T12:27:59.666Z"
   },
   {
    "duration": 101,
    "start_time": "2024-10-24T12:27:59.856Z"
   },
   {
    "duration": 7,
    "start_time": "2024-10-24T12:27:59.959Z"
   },
   {
    "duration": 6,
    "start_time": "2024-10-24T12:27:59.968Z"
   },
   {
    "duration": 11,
    "start_time": "2024-10-24T12:27:59.976Z"
   },
   {
    "duration": 5,
    "start_time": "2024-10-24T12:28:00.010Z"
   },
   {
    "duration": 3,
    "start_time": "2024-10-24T12:28:00.017Z"
   },
   {
    "duration": 4,
    "start_time": "2024-10-24T12:28:00.022Z"
   },
   {
    "duration": 3,
    "start_time": "2024-10-24T12:28:00.028Z"
   },
   {
    "duration": 453,
    "start_time": "2024-10-24T12:28:00.032Z"
   },
   {
    "duration": 2,
    "start_time": "2024-10-24T12:28:00.487Z"
   },
   {
    "duration": 22,
    "start_time": "2024-10-24T12:28:00.492Z"
   },
   {
    "duration": 5,
    "start_time": "2024-10-24T12:28:00.515Z"
   },
   {
    "duration": 11,
    "start_time": "2024-10-24T12:28:00.521Z"
   },
   {
    "duration": 4,
    "start_time": "2024-10-24T12:28:00.534Z"
   },
   {
    "duration": 4,
    "start_time": "2024-10-24T12:28:00.541Z"
   },
   {
    "duration": 5,
    "start_time": "2024-10-24T12:28:00.546Z"
   },
   {
    "duration": 304,
    "start_time": "2024-10-24T12:28:00.552Z"
   },
   {
    "duration": 226,
    "start_time": "2024-10-24T12:28:00.858Z"
   },
   {
    "duration": 446,
    "start_time": "2024-10-24T12:28:01.085Z"
   },
   {
    "duration": 370,
    "start_time": "2024-10-24T12:28:01.534Z"
   },
   {
    "duration": 9,
    "start_time": "2024-10-24T12:28:01.909Z"
   },
   {
    "duration": 7,
    "start_time": "2024-10-24T12:28:01.920Z"
   },
   {
    "duration": 4,
    "start_time": "2024-10-24T12:28:01.930Z"
   },
   {
    "duration": 4,
    "start_time": "2024-10-24T12:28:01.936Z"
   },
   {
    "duration": 313,
    "start_time": "2024-10-24T12:28:01.942Z"
   },
   {
    "duration": 275,
    "start_time": "2024-10-24T12:28:02.257Z"
   },
   {
    "duration": 4,
    "start_time": "2024-10-24T12:28:02.534Z"
   },
   {
    "duration": 6,
    "start_time": "2024-10-24T12:28:02.543Z"
   },
   {
    "duration": 5,
    "start_time": "2024-10-24T12:28:02.550Z"
   },
   {
    "duration": 4,
    "start_time": "2024-10-24T12:28:02.557Z"
   },
   {
    "duration": 0,
    "start_time": "2024-10-24T13:16:27.109Z"
   },
   {
    "duration": 0,
    "start_time": "2024-10-24T13:16:27.110Z"
   },
   {
    "duration": 0,
    "start_time": "2024-10-24T13:16:27.111Z"
   },
   {
    "duration": 0,
    "start_time": "2024-10-24T13:16:27.112Z"
   },
   {
    "duration": 0,
    "start_time": "2024-10-24T13:16:27.113Z"
   },
   {
    "duration": 0,
    "start_time": "2024-10-24T13:16:27.114Z"
   },
   {
    "duration": 0,
    "start_time": "2024-10-24T13:16:27.115Z"
   },
   {
    "duration": 0,
    "start_time": "2024-10-24T13:16:27.117Z"
   },
   {
    "duration": 0,
    "start_time": "2024-10-24T13:16:27.118Z"
   },
   {
    "duration": 0,
    "start_time": "2024-10-24T13:16:27.119Z"
   },
   {
    "duration": 0,
    "start_time": "2024-10-24T13:16:27.121Z"
   },
   {
    "duration": 0,
    "start_time": "2024-10-24T13:16:27.122Z"
   },
   {
    "duration": 0,
    "start_time": "2024-10-24T13:16:27.124Z"
   },
   {
    "duration": 0,
    "start_time": "2024-10-24T13:16:27.125Z"
   },
   {
    "duration": 0,
    "start_time": "2024-10-24T13:16:27.127Z"
   },
   {
    "duration": 0,
    "start_time": "2024-10-24T13:16:27.128Z"
   },
   {
    "duration": 0,
    "start_time": "2024-10-24T13:16:27.130Z"
   },
   {
    "duration": 0,
    "start_time": "2024-10-24T13:16:27.131Z"
   },
   {
    "duration": 0,
    "start_time": "2024-10-24T13:16:27.133Z"
   },
   {
    "duration": 0,
    "start_time": "2024-10-24T13:16:27.134Z"
   },
   {
    "duration": 0,
    "start_time": "2024-10-24T13:16:27.135Z"
   },
   {
    "duration": 0,
    "start_time": "2024-10-24T13:16:27.138Z"
   },
   {
    "duration": 0,
    "start_time": "2024-10-24T13:16:27.139Z"
   },
   {
    "duration": 0,
    "start_time": "2024-10-24T13:16:27.141Z"
   },
   {
    "duration": 0,
    "start_time": "2024-10-24T13:16:27.142Z"
   },
   {
    "duration": 0,
    "start_time": "2024-10-24T13:16:27.143Z"
   },
   {
    "duration": 0,
    "start_time": "2024-10-24T13:16:27.145Z"
   },
   {
    "duration": 0,
    "start_time": "2024-10-24T13:16:27.146Z"
   },
   {
    "duration": 0,
    "start_time": "2024-10-24T13:16:27.147Z"
   },
   {
    "duration": 0,
    "start_time": "2024-10-24T13:16:27.209Z"
   },
   {
    "duration": 0,
    "start_time": "2024-10-24T13:16:27.210Z"
   },
   {
    "duration": 0,
    "start_time": "2024-10-24T13:16:27.213Z"
   },
   {
    "duration": 0,
    "start_time": "2024-10-24T13:16:27.214Z"
   },
   {
    "duration": 0,
    "start_time": "2024-10-24T13:16:27.215Z"
   },
   {
    "duration": 0,
    "start_time": "2024-10-24T13:16:27.216Z"
   },
   {
    "duration": 0,
    "start_time": "2024-10-24T13:16:27.217Z"
   },
   {
    "duration": 0,
    "start_time": "2024-10-24T13:16:27.218Z"
   },
   {
    "duration": 0,
    "start_time": "2024-10-24T13:16:27.219Z"
   },
   {
    "duration": 0,
    "start_time": "2024-10-24T13:16:27.220Z"
   },
   {
    "duration": 0,
    "start_time": "2024-10-24T13:16:27.221Z"
   },
   {
    "duration": 0,
    "start_time": "2024-10-24T13:16:27.222Z"
   },
   {
    "duration": 0,
    "start_time": "2024-10-24T13:16:27.223Z"
   },
   {
    "duration": 0,
    "start_time": "2024-10-24T13:16:27.224Z"
   },
   {
    "duration": 0,
    "start_time": "2024-10-24T13:16:27.225Z"
   },
   {
    "duration": 0,
    "start_time": "2024-10-24T13:16:27.226Z"
   },
   {
    "duration": 3,
    "start_time": "2024-10-24T13:16:41.660Z"
   },
   {
    "duration": 505,
    "start_time": "2024-10-24T13:16:41.665Z"
   },
   {
    "duration": 3,
    "start_time": "2024-10-24T13:16:42.172Z"
   },
   {
    "duration": 172,
    "start_time": "2024-10-24T13:16:42.176Z"
   },
   {
    "duration": 105,
    "start_time": "2024-10-24T13:16:42.351Z"
   },
   {
    "duration": 185,
    "start_time": "2024-10-24T13:16:42.458Z"
   },
   {
    "duration": 13,
    "start_time": "2024-10-24T13:16:42.645Z"
   },
   {
    "duration": 163,
    "start_time": "2024-10-24T13:16:42.660Z"
   },
   {
    "duration": 12,
    "start_time": "2024-10-24T13:16:42.825Z"
   },
   {
    "duration": 5,
    "start_time": "2024-10-24T13:16:42.838Z"
   },
   {
    "duration": 78,
    "start_time": "2024-10-24T13:16:42.844Z"
   },
   {
    "duration": 32,
    "start_time": "2024-10-24T13:16:42.923Z"
   },
   {
    "duration": 166,
    "start_time": "2024-10-24T13:16:42.957Z"
   },
   {
    "duration": 96,
    "start_time": "2024-10-24T13:16:43.126Z"
   },
   {
    "duration": 7,
    "start_time": "2024-10-24T13:16:43.223Z"
   },
   {
    "duration": 4,
    "start_time": "2024-10-24T13:16:43.232Z"
   },
   {
    "duration": 10,
    "start_time": "2024-10-24T13:16:43.238Z"
   },
   {
    "duration": 5,
    "start_time": "2024-10-24T13:16:43.249Z"
   },
   {
    "duration": 3,
    "start_time": "2024-10-24T13:16:43.257Z"
   },
   {
    "duration": 4,
    "start_time": "2024-10-24T13:16:43.261Z"
   },
   {
    "duration": 4,
    "start_time": "2024-10-24T13:16:43.266Z"
   },
   {
    "duration": 409,
    "start_time": "2024-10-24T13:16:43.271Z"
   },
   {
    "duration": 3,
    "start_time": "2024-10-24T13:16:43.682Z"
   },
   {
    "duration": 23,
    "start_time": "2024-10-24T13:16:43.686Z"
   },
   {
    "duration": 5,
    "start_time": "2024-10-24T13:16:43.710Z"
   },
   {
    "duration": 5,
    "start_time": "2024-10-24T13:16:43.717Z"
   },
   {
    "duration": 5,
    "start_time": "2024-10-24T13:16:43.723Z"
   },
   {
    "duration": 4,
    "start_time": "2024-10-24T13:16:43.729Z"
   },
   {
    "duration": 4,
    "start_time": "2024-10-24T13:16:43.736Z"
   },
   {
    "duration": 275,
    "start_time": "2024-10-24T13:16:43.741Z"
   },
   {
    "duration": 247,
    "start_time": "2024-10-24T13:16:44.019Z"
   },
   {
    "duration": 321,
    "start_time": "2024-10-24T13:16:44.268Z"
   },
   {
    "duration": 445,
    "start_time": "2024-10-24T13:16:44.592Z"
   },
   {
    "duration": 10,
    "start_time": "2024-10-24T13:16:45.038Z"
   },
   {
    "duration": 10,
    "start_time": "2024-10-24T13:16:45.050Z"
   },
   {
    "duration": 5,
    "start_time": "2024-10-24T13:16:45.062Z"
   },
   {
    "duration": 5,
    "start_time": "2024-10-24T13:16:45.068Z"
   },
   {
    "duration": 319,
    "start_time": "2024-10-24T13:16:45.075Z"
   },
   {
    "duration": 283,
    "start_time": "2024-10-24T13:16:45.396Z"
   },
   {
    "duration": 4,
    "start_time": "2024-10-24T13:16:45.681Z"
   },
   {
    "duration": 4,
    "start_time": "2024-10-24T13:16:45.690Z"
   },
   {
    "duration": 5,
    "start_time": "2024-10-24T13:16:45.709Z"
   },
   {
    "duration": 2,
    "start_time": "2024-10-24T13:16:45.716Z"
   },
   {
    "duration": 53182,
    "start_time": "2024-10-24T13:16:45.720Z"
   },
   {
    "duration": 0,
    "start_time": "2024-10-24T13:17:38.904Z"
   },
   {
    "duration": 3,
    "start_time": "2024-10-24T13:17:42.023Z"
   },
   {
    "duration": 471,
    "start_time": "2024-10-24T13:17:42.043Z"
   },
   {
    "duration": 3,
    "start_time": "2024-10-24T13:17:42.516Z"
   },
   {
    "duration": 169,
    "start_time": "2024-10-24T13:17:42.521Z"
   },
   {
    "duration": 98,
    "start_time": "2024-10-24T13:17:42.692Z"
   },
   {
    "duration": 181,
    "start_time": "2024-10-24T13:17:42.792Z"
   },
   {
    "duration": 15,
    "start_time": "2024-10-24T13:17:42.975Z"
   },
   {
    "duration": 167,
    "start_time": "2024-10-24T13:17:42.991Z"
   },
   {
    "duration": 13,
    "start_time": "2024-10-24T13:17:43.160Z"
   },
   {
    "duration": 5,
    "start_time": "2024-10-24T13:17:43.175Z"
   },
   {
    "duration": 74,
    "start_time": "2024-10-24T13:17:43.183Z"
   },
   {
    "duration": 31,
    "start_time": "2024-10-24T13:17:43.258Z"
   },
   {
    "duration": 164,
    "start_time": "2024-10-24T13:17:43.291Z"
   },
   {
    "duration": 99,
    "start_time": "2024-10-24T13:17:43.457Z"
   },
   {
    "duration": 8,
    "start_time": "2024-10-24T13:17:43.557Z"
   },
   {
    "duration": 5,
    "start_time": "2024-10-24T13:17:43.567Z"
   },
   {
    "duration": 9,
    "start_time": "2024-10-24T13:17:43.573Z"
   },
   {
    "duration": 26,
    "start_time": "2024-10-24T13:17:43.583Z"
   },
   {
    "duration": 5,
    "start_time": "2024-10-24T13:17:43.610Z"
   },
   {
    "duration": 4,
    "start_time": "2024-10-24T13:17:43.616Z"
   },
   {
    "duration": 4,
    "start_time": "2024-10-24T13:17:43.621Z"
   },
   {
    "duration": 386,
    "start_time": "2024-10-24T13:17:43.627Z"
   },
   {
    "duration": 2,
    "start_time": "2024-10-24T13:17:44.016Z"
   },
   {
    "duration": 22,
    "start_time": "2024-10-24T13:17:44.021Z"
   },
   {
    "duration": 12,
    "start_time": "2024-10-24T13:17:44.046Z"
   },
   {
    "duration": 15,
    "start_time": "2024-10-24T13:17:44.060Z"
   },
   {
    "duration": 12,
    "start_time": "2024-10-24T13:17:44.076Z"
   },
   {
    "duration": 13,
    "start_time": "2024-10-24T13:17:44.090Z"
   },
   {
    "duration": 4,
    "start_time": "2024-10-24T13:17:44.107Z"
   },
   {
    "duration": 265,
    "start_time": "2024-10-24T13:17:44.113Z"
   },
   {
    "duration": 258,
    "start_time": "2024-10-24T13:17:44.380Z"
   },
   {
    "duration": 355,
    "start_time": "2024-10-24T13:17:44.640Z"
   },
   {
    "duration": 389,
    "start_time": "2024-10-24T13:17:44.997Z"
   },
   {
    "duration": 23,
    "start_time": "2024-10-24T13:17:45.388Z"
   },
   {
    "duration": 8,
    "start_time": "2024-10-24T13:17:45.413Z"
   },
   {
    "duration": 4,
    "start_time": "2024-10-24T13:17:45.422Z"
   },
   {
    "duration": 3,
    "start_time": "2024-10-24T13:17:45.429Z"
   },
   {
    "duration": 279,
    "start_time": "2024-10-24T13:17:45.434Z"
   },
   {
    "duration": 264,
    "start_time": "2024-10-24T13:17:45.715Z"
   },
   {
    "duration": 5,
    "start_time": "2024-10-24T13:17:45.981Z"
   },
   {
    "duration": 5,
    "start_time": "2024-10-24T13:17:45.987Z"
   },
   {
    "duration": 5,
    "start_time": "2024-10-24T13:17:46.009Z"
   },
   {
    "duration": 3,
    "start_time": "2024-10-24T13:17:46.016Z"
   },
   {
    "duration": 0,
    "start_time": "2024-10-24T13:41:39.510Z"
   },
   {
    "duration": 0,
    "start_time": "2024-10-24T13:41:39.511Z"
   },
   {
    "duration": 0,
    "start_time": "2024-10-24T13:41:39.512Z"
   },
   {
    "duration": 0,
    "start_time": "2024-10-24T13:41:39.513Z"
   },
   {
    "duration": 0,
    "start_time": "2024-10-24T13:41:39.514Z"
   },
   {
    "duration": 0,
    "start_time": "2024-10-24T13:41:39.515Z"
   },
   {
    "duration": 0,
    "start_time": "2024-10-24T13:41:39.516Z"
   },
   {
    "duration": 0,
    "start_time": "2024-10-24T13:41:39.517Z"
   },
   {
    "duration": 0,
    "start_time": "2024-10-24T13:41:39.517Z"
   },
   {
    "duration": 0,
    "start_time": "2024-10-24T13:41:39.518Z"
   },
   {
    "duration": 0,
    "start_time": "2024-10-24T13:41:39.519Z"
   },
   {
    "duration": 0,
    "start_time": "2024-10-24T13:41:39.520Z"
   },
   {
    "duration": 0,
    "start_time": "2024-10-24T13:41:39.521Z"
   },
   {
    "duration": 0,
    "start_time": "2024-10-24T13:41:39.521Z"
   },
   {
    "duration": 0,
    "start_time": "2024-10-24T13:41:39.522Z"
   },
   {
    "duration": 0,
    "start_time": "2024-10-24T13:41:39.523Z"
   },
   {
    "duration": 0,
    "start_time": "2024-10-24T13:41:39.524Z"
   },
   {
    "duration": 0,
    "start_time": "2024-10-24T13:41:39.525Z"
   },
   {
    "duration": 0,
    "start_time": "2024-10-24T13:41:39.526Z"
   },
   {
    "duration": 0,
    "start_time": "2024-10-24T13:41:39.527Z"
   },
   {
    "duration": 0,
    "start_time": "2024-10-24T13:41:39.528Z"
   },
   {
    "duration": 0,
    "start_time": "2024-10-24T13:41:39.528Z"
   },
   {
    "duration": 0,
    "start_time": "2024-10-24T13:41:39.529Z"
   },
   {
    "duration": 0,
    "start_time": "2024-10-24T13:41:39.530Z"
   },
   {
    "duration": 0,
    "start_time": "2024-10-24T13:41:39.531Z"
   },
   {
    "duration": 0,
    "start_time": "2024-10-24T13:41:39.532Z"
   },
   {
    "duration": 0,
    "start_time": "2024-10-24T13:41:39.533Z"
   },
   {
    "duration": 0,
    "start_time": "2024-10-24T13:41:39.534Z"
   },
   {
    "duration": 0,
    "start_time": "2024-10-24T13:41:39.536Z"
   },
   {
    "duration": 0,
    "start_time": "2024-10-24T13:41:39.537Z"
   },
   {
    "duration": 0,
    "start_time": "2024-10-24T13:41:39.538Z"
   },
   {
    "duration": 0,
    "start_time": "2024-10-24T13:41:39.539Z"
   },
   {
    "duration": 0,
    "start_time": "2024-10-24T13:41:39.546Z"
   },
   {
    "duration": 0,
    "start_time": "2024-10-24T13:41:39.547Z"
   },
   {
    "duration": 0,
    "start_time": "2024-10-24T13:41:39.549Z"
   },
   {
    "duration": 0,
    "start_time": "2024-10-24T13:41:39.550Z"
   },
   {
    "duration": 0,
    "start_time": "2024-10-24T13:41:39.551Z"
   },
   {
    "duration": 0,
    "start_time": "2024-10-24T13:41:39.609Z"
   },
   {
    "duration": 0,
    "start_time": "2024-10-24T13:41:39.611Z"
   },
   {
    "duration": 0,
    "start_time": "2024-10-24T13:41:39.613Z"
   },
   {
    "duration": 0,
    "start_time": "2024-10-24T13:41:39.614Z"
   },
   {
    "duration": 0,
    "start_time": "2024-10-24T13:41:39.616Z"
   },
   {
    "duration": 0,
    "start_time": "2024-10-24T13:41:39.617Z"
   },
   {
    "duration": 0,
    "start_time": "2024-10-24T13:41:39.619Z"
   },
   {
    "duration": 0,
    "start_time": "2024-10-24T13:41:39.620Z"
   },
   {
    "duration": 0,
    "start_time": "2024-10-24T13:41:39.621Z"
   },
   {
    "duration": 0,
    "start_time": "2024-10-24T13:41:39.623Z"
   },
   {
    "duration": 0,
    "start_time": "2024-10-24T13:41:39.625Z"
   },
   {
    "duration": 0,
    "start_time": "2024-10-24T13:41:39.626Z"
   },
   {
    "duration": 3,
    "start_time": "2024-10-24T13:41:43.832Z"
   },
   {
    "duration": 475,
    "start_time": "2024-10-24T13:41:43.837Z"
   },
   {
    "duration": 2,
    "start_time": "2024-10-24T13:41:44.314Z"
   },
   {
    "duration": 174,
    "start_time": "2024-10-24T13:41:44.318Z"
   },
   {
    "duration": 192,
    "start_time": "2024-10-24T13:41:44.495Z"
   },
   {
    "duration": 194,
    "start_time": "2024-10-24T13:41:44.689Z"
   },
   {
    "duration": 24,
    "start_time": "2024-10-24T13:41:44.885Z"
   },
   {
    "duration": 164,
    "start_time": "2024-10-24T13:41:44.910Z"
   },
   {
    "duration": 14,
    "start_time": "2024-10-24T13:41:45.076Z"
   },
   {
    "duration": 4,
    "start_time": "2024-10-24T13:41:45.092Z"
   },
   {
    "duration": 60,
    "start_time": "2024-10-24T13:41:45.109Z"
   },
   {
    "duration": 44,
    "start_time": "2024-10-24T13:41:45.171Z"
   },
   {
    "duration": 158,
    "start_time": "2024-10-24T13:41:45.219Z"
   },
   {
    "duration": 100,
    "start_time": "2024-10-24T13:41:45.379Z"
   },
   {
    "duration": 7,
    "start_time": "2024-10-24T13:41:45.481Z"
   },
   {
    "duration": 5,
    "start_time": "2024-10-24T13:41:45.490Z"
   },
   {
    "duration": 12,
    "start_time": "2024-10-24T13:41:45.508Z"
   },
   {
    "duration": 5,
    "start_time": "2024-10-24T13:41:45.522Z"
   },
   {
    "duration": 4,
    "start_time": "2024-10-24T13:41:45.529Z"
   },
   {
    "duration": 4,
    "start_time": "2024-10-24T13:41:45.535Z"
   },
   {
    "duration": 4,
    "start_time": "2024-10-24T13:41:45.540Z"
   },
   {
    "duration": 368,
    "start_time": "2024-10-24T13:41:45.545Z"
   },
   {
    "duration": 2,
    "start_time": "2024-10-24T13:41:45.915Z"
   },
   {
    "duration": 9,
    "start_time": "2024-10-24T13:41:45.919Z"
   },
   {
    "duration": 4,
    "start_time": "2024-10-24T13:41:45.930Z"
   },
   {
    "duration": 4,
    "start_time": "2024-10-24T13:41:45.936Z"
   },
   {
    "duration": 5,
    "start_time": "2024-10-24T13:41:45.942Z"
   },
   {
    "duration": 4,
    "start_time": "2024-10-24T13:41:45.948Z"
   },
   {
    "duration": 5,
    "start_time": "2024-10-24T13:41:45.955Z"
   },
   {
    "duration": 302,
    "start_time": "2024-10-24T13:41:45.962Z"
   },
   {
    "duration": 244,
    "start_time": "2024-10-24T13:41:46.266Z"
   },
   {
    "duration": 380,
    "start_time": "2024-10-24T13:41:46.512Z"
   },
   {
    "duration": 410,
    "start_time": "2024-10-24T13:41:46.895Z"
   },
   {
    "duration": 11,
    "start_time": "2024-10-24T13:41:47.307Z"
   },
   {
    "duration": 6,
    "start_time": "2024-10-24T13:41:47.320Z"
   },
   {
    "duration": 4,
    "start_time": "2024-10-24T13:41:47.328Z"
   },
   {
    "duration": 4,
    "start_time": "2024-10-24T13:41:47.337Z"
   },
   {
    "duration": 299,
    "start_time": "2024-10-24T13:41:47.342Z"
   },
   {
    "duration": 248,
    "start_time": "2024-10-24T13:41:47.642Z"
   },
   {
    "duration": 3,
    "start_time": "2024-10-24T13:41:47.893Z"
   },
   {
    "duration": 6,
    "start_time": "2024-10-24T13:41:47.910Z"
   },
   {
    "duration": 5,
    "start_time": "2024-10-24T13:41:47.917Z"
   },
   {
    "duration": 5,
    "start_time": "2024-10-24T13:41:47.924Z"
   },
   {
    "duration": 2854,
    "start_time": "2024-10-24T16:14:36.463Z"
   },
   {
    "duration": 656,
    "start_time": "2024-10-24T16:14:39.319Z"
   },
   {
    "duration": 3,
    "start_time": "2024-10-24T16:14:39.976Z"
   },
   {
    "duration": 182,
    "start_time": "2024-10-24T16:14:39.982Z"
   },
   {
    "duration": 102,
    "start_time": "2024-10-24T16:14:40.166Z"
   },
   {
    "duration": 198,
    "start_time": "2024-10-24T16:14:40.270Z"
   },
   {
    "duration": 18,
    "start_time": "2024-10-24T16:14:40.470Z"
   },
   {
    "duration": 194,
    "start_time": "2024-10-24T16:14:40.490Z"
   },
   {
    "duration": 10,
    "start_time": "2024-10-24T16:14:40.687Z"
   },
   {
    "duration": 4,
    "start_time": "2024-10-24T16:14:40.701Z"
   },
   {
    "duration": 93,
    "start_time": "2024-10-24T16:14:40.707Z"
   },
   {
    "duration": 39,
    "start_time": "2024-10-24T16:14:40.803Z"
   },
   {
    "duration": 155,
    "start_time": "2024-10-24T16:14:40.845Z"
   },
   {
    "duration": 98,
    "start_time": "2024-10-24T16:14:41.002Z"
   },
   {
    "duration": 7,
    "start_time": "2024-10-24T16:14:41.102Z"
   },
   {
    "duration": 6,
    "start_time": "2024-10-24T16:14:41.124Z"
   },
   {
    "duration": 10,
    "start_time": "2024-10-24T16:14:41.132Z"
   },
   {
    "duration": 6,
    "start_time": "2024-10-24T16:14:41.144Z"
   },
   {
    "duration": 4,
    "start_time": "2024-10-24T16:14:41.152Z"
   },
   {
    "duration": 6,
    "start_time": "2024-10-24T16:14:41.158Z"
   },
   {
    "duration": 6,
    "start_time": "2024-10-24T16:14:41.165Z"
   },
   {
    "duration": 410,
    "start_time": "2024-10-24T16:14:41.174Z"
   },
   {
    "duration": 3,
    "start_time": "2024-10-24T16:14:41.585Z"
   },
   {
    "duration": 11,
    "start_time": "2024-10-24T16:14:41.589Z"
   },
   {
    "duration": 26,
    "start_time": "2024-10-24T16:14:41.601Z"
   },
   {
    "duration": 6,
    "start_time": "2024-10-24T16:14:41.628Z"
   },
   {
    "duration": 4,
    "start_time": "2024-10-24T16:14:41.635Z"
   },
   {
    "duration": 4,
    "start_time": "2024-10-24T16:14:41.643Z"
   },
   {
    "duration": 6,
    "start_time": "2024-10-24T16:14:41.649Z"
   },
   {
    "duration": 396,
    "start_time": "2024-10-24T16:14:41.656Z"
   },
   {
    "duration": 255,
    "start_time": "2024-10-24T16:14:42.054Z"
   },
   {
    "duration": 409,
    "start_time": "2024-10-24T16:14:42.311Z"
   },
   {
    "duration": 462,
    "start_time": "2024-10-24T16:14:42.721Z"
   },
   {
    "duration": 11,
    "start_time": "2024-10-24T16:14:43.185Z"
   },
   {
    "duration": 7,
    "start_time": "2024-10-24T16:14:43.199Z"
   },
   {
    "duration": 16,
    "start_time": "2024-10-24T16:14:43.208Z"
   },
   {
    "duration": 5,
    "start_time": "2024-10-24T16:14:43.226Z"
   },
   {
    "duration": 313,
    "start_time": "2024-10-24T16:14:43.235Z"
   },
   {
    "duration": 283,
    "start_time": "2024-10-24T16:14:43.550Z"
   },
   {
    "duration": 9,
    "start_time": "2024-10-24T16:14:43.835Z"
   },
   {
    "duration": 8,
    "start_time": "2024-10-24T16:14:43.847Z"
   },
   {
    "duration": 10,
    "start_time": "2024-10-24T16:14:43.857Z"
   },
   {
    "duration": 3,
    "start_time": "2024-10-24T16:14:43.869Z"
   },
   {
    "duration": 10,
    "start_time": "2024-10-30T00:35:02.849Z"
   },
   {
    "duration": 2781,
    "start_time": "2024-10-30T00:35:05.818Z"
   },
   {
    "duration": 616,
    "start_time": "2024-10-30T00:35:08.602Z"
   },
   {
    "duration": 6,
    "start_time": "2024-10-30T00:35:09.219Z"
   },
   {
    "duration": 197,
    "start_time": "2024-10-30T00:35:09.227Z"
   },
   {
    "duration": 107,
    "start_time": "2024-10-30T00:35:09.427Z"
   },
   {
    "duration": 256,
    "start_time": "2024-10-30T00:35:09.536Z"
   },
   {
    "duration": 31,
    "start_time": "2024-10-30T00:35:09.793Z"
   },
   {
    "duration": 165,
    "start_time": "2024-10-30T00:35:09.826Z"
   },
   {
    "duration": 11,
    "start_time": "2024-10-30T00:35:09.993Z"
   },
   {
    "duration": 18,
    "start_time": "2024-10-30T00:35:10.006Z"
   },
   {
    "duration": 62,
    "start_time": "2024-10-30T00:35:10.026Z"
   },
   {
    "duration": 44,
    "start_time": "2024-10-30T00:35:10.089Z"
   },
   {
    "duration": 150,
    "start_time": "2024-10-30T00:35:10.135Z"
   },
   {
    "duration": 103,
    "start_time": "2024-10-30T00:35:10.288Z"
   },
   {
    "duration": 9,
    "start_time": "2024-10-30T00:35:10.392Z"
   },
   {
    "duration": 5,
    "start_time": "2024-10-30T00:35:10.403Z"
   },
   {
    "duration": 12,
    "start_time": "2024-10-30T00:35:10.424Z"
   },
   {
    "duration": 5,
    "start_time": "2024-10-30T00:35:10.437Z"
   },
   {
    "duration": 4,
    "start_time": "2024-10-30T00:35:10.444Z"
   },
   {
    "duration": 5,
    "start_time": "2024-10-30T00:35:10.449Z"
   },
   {
    "duration": 3,
    "start_time": "2024-10-30T00:35:10.455Z"
   },
   {
    "duration": 354,
    "start_time": "2024-10-30T00:35:10.462Z"
   },
   {
    "duration": 8,
    "start_time": "2024-10-30T00:35:10.818Z"
   },
   {
    "duration": 7,
    "start_time": "2024-10-30T00:35:10.828Z"
   },
   {
    "duration": 5,
    "start_time": "2024-10-30T00:35:10.837Z"
   },
   {
    "duration": 5,
    "start_time": "2024-10-30T00:35:10.843Z"
   },
   {
    "duration": 4,
    "start_time": "2024-10-30T00:35:10.849Z"
   },
   {
    "duration": 4,
    "start_time": "2024-10-30T00:35:10.855Z"
   },
   {
    "duration": 4,
    "start_time": "2024-10-30T00:35:10.861Z"
   },
   {
    "duration": 378,
    "start_time": "2024-10-30T00:35:10.866Z"
   },
   {
    "duration": 381,
    "start_time": "2024-10-30T00:35:11.245Z"
   },
   {
    "duration": 480,
    "start_time": "2024-10-30T00:35:11.628Z"
   },
   {
    "duration": 532,
    "start_time": "2024-10-30T00:35:12.110Z"
   },
   {
    "duration": 8,
    "start_time": "2024-10-30T00:35:12.644Z"
   },
   {
    "duration": 9,
    "start_time": "2024-10-30T00:35:12.654Z"
   },
   {
    "duration": 5,
    "start_time": "2024-10-30T00:35:12.665Z"
   },
   {
    "duration": 6,
    "start_time": "2024-10-30T00:35:12.723Z"
   },
   {
    "duration": 477,
    "start_time": "2024-10-30T00:35:12.731Z"
   },
   {
    "duration": 276,
    "start_time": "2024-10-30T00:35:13.210Z"
   },
   {
    "duration": 4,
    "start_time": "2024-10-30T00:35:13.488Z"
   },
   {
    "duration": 0,
    "start_time": "2024-10-30T00:35:13.494Z"
   },
   {
    "duration": 4,
    "start_time": "2024-10-30T00:35:36.099Z"
   },
   {
    "duration": 328,
    "start_time": "2024-10-30T00:40:06.464Z"
   },
   {
    "duration": 3,
    "start_time": "2024-10-30T00:42:01.037Z"
   },
   {
    "duration": 507,
    "start_time": "2024-10-30T00:42:01.044Z"
   },
   {
    "duration": 2,
    "start_time": "2024-10-30T00:42:01.553Z"
   },
   {
    "duration": 172,
    "start_time": "2024-10-30T00:42:01.557Z"
   },
   {
    "duration": 107,
    "start_time": "2024-10-30T00:42:01.731Z"
   },
   {
    "duration": 188,
    "start_time": "2024-10-30T00:42:01.841Z"
   },
   {
    "duration": 16,
    "start_time": "2024-10-30T00:42:02.031Z"
   },
   {
    "duration": 164,
    "start_time": "2024-10-30T00:42:02.048Z"
   },
   {
    "duration": 20,
    "start_time": "2024-10-30T00:42:02.213Z"
   },
   {
    "duration": 8,
    "start_time": "2024-10-30T00:42:02.235Z"
   },
   {
    "duration": 80,
    "start_time": "2024-10-30T00:42:02.244Z"
   },
   {
    "duration": 31,
    "start_time": "2024-10-30T00:42:02.326Z"
   },
   {
    "duration": 224,
    "start_time": "2024-10-30T00:42:02.358Z"
   },
   {
    "duration": 95,
    "start_time": "2024-10-30T00:42:02.584Z"
   },
   {
    "duration": 7,
    "start_time": "2024-10-30T00:42:02.683Z"
   },
   {
    "duration": 4,
    "start_time": "2024-10-30T00:42:02.692Z"
   },
   {
    "duration": 28,
    "start_time": "2024-10-30T00:42:02.697Z"
   },
   {
    "duration": 5,
    "start_time": "2024-10-30T00:42:02.726Z"
   },
   {
    "duration": 3,
    "start_time": "2024-10-30T00:42:02.733Z"
   },
   {
    "duration": 4,
    "start_time": "2024-10-30T00:42:02.738Z"
   },
   {
    "duration": 3,
    "start_time": "2024-10-30T00:42:02.744Z"
   },
   {
    "duration": 336,
    "start_time": "2024-10-30T00:42:02.749Z"
   },
   {
    "duration": 2,
    "start_time": "2024-10-30T00:42:03.087Z"
   },
   {
    "duration": 8,
    "start_time": "2024-10-30T00:42:03.090Z"
   },
   {
    "duration": 4,
    "start_time": "2024-10-30T00:42:03.099Z"
   },
   {
    "duration": 4,
    "start_time": "2024-10-30T00:42:03.124Z"
   },
   {
    "duration": 3,
    "start_time": "2024-10-30T00:42:03.130Z"
   },
   {
    "duration": 3,
    "start_time": "2024-10-30T00:42:03.135Z"
   },
   {
    "duration": 4,
    "start_time": "2024-10-30T00:42:03.140Z"
   },
   {
    "duration": 253,
    "start_time": "2024-10-30T00:42:03.146Z"
   },
   {
    "duration": 269,
    "start_time": "2024-10-30T00:42:03.401Z"
   },
   {
    "duration": 339,
    "start_time": "2024-10-30T00:42:03.672Z"
   },
   {
    "duration": 367,
    "start_time": "2024-10-30T00:42:04.013Z"
   },
   {
    "duration": 10,
    "start_time": "2024-10-30T00:42:04.382Z"
   },
   {
    "duration": 6,
    "start_time": "2024-10-30T00:42:04.394Z"
   },
   {
    "duration": 23,
    "start_time": "2024-10-30T00:42:04.402Z"
   },
   {
    "duration": 4,
    "start_time": "2024-10-30T00:42:04.426Z"
   },
   {
    "duration": 280,
    "start_time": "2024-10-30T00:42:04.432Z"
   },
   {
    "duration": 280,
    "start_time": "2024-10-30T00:42:04.714Z"
   },
   {
    "duration": 4,
    "start_time": "2024-10-30T00:42:04.996Z"
   },
   {
    "duration": 123,
    "start_time": "2024-10-30T00:42:05.002Z"
   },
   {
    "duration": 23,
    "start_time": "2024-10-30T00:48:37.643Z"
   },
   {
    "duration": 3,
    "start_time": "2024-10-30T00:48:41.223Z"
   },
   {
    "duration": 518,
    "start_time": "2024-10-30T00:48:41.229Z"
   },
   {
    "duration": 3,
    "start_time": "2024-10-30T00:48:41.749Z"
   },
   {
    "duration": 173,
    "start_time": "2024-10-30T00:48:41.754Z"
   },
   {
    "duration": 105,
    "start_time": "2024-10-30T00:48:41.929Z"
   },
   {
    "duration": 183,
    "start_time": "2024-10-30T00:48:42.036Z"
   },
   {
    "duration": 15,
    "start_time": "2024-10-30T00:48:42.224Z"
   },
   {
    "duration": 165,
    "start_time": "2024-10-30T00:48:42.241Z"
   },
   {
    "duration": 19,
    "start_time": "2024-10-30T00:48:42.409Z"
   },
   {
    "duration": 4,
    "start_time": "2024-10-30T00:48:42.431Z"
   },
   {
    "duration": 63,
    "start_time": "2024-10-30T00:48:42.437Z"
   },
   {
    "duration": 48,
    "start_time": "2024-10-30T00:48:42.503Z"
   },
   {
    "duration": 158,
    "start_time": "2024-10-30T00:48:42.553Z"
   },
   {
    "duration": 91,
    "start_time": "2024-10-30T00:48:42.712Z"
   },
   {
    "duration": 21,
    "start_time": "2024-10-30T00:48:42.805Z"
   },
   {
    "duration": 4,
    "start_time": "2024-10-30T00:48:42.827Z"
   },
   {
    "duration": 10,
    "start_time": "2024-10-30T00:48:42.832Z"
   },
   {
    "duration": 5,
    "start_time": "2024-10-30T00:48:42.843Z"
   },
   {
    "duration": 3,
    "start_time": "2024-10-30T00:48:42.850Z"
   },
   {
    "duration": 5,
    "start_time": "2024-10-30T00:48:42.854Z"
   },
   {
    "duration": 3,
    "start_time": "2024-10-30T00:48:42.861Z"
   },
   {
    "duration": 357,
    "start_time": "2024-10-30T00:48:42.866Z"
   },
   {
    "duration": 2,
    "start_time": "2024-10-30T00:48:43.225Z"
   },
   {
    "duration": 7,
    "start_time": "2024-10-30T00:48:43.232Z"
   },
   {
    "duration": 5,
    "start_time": "2024-10-30T00:48:43.240Z"
   },
   {
    "duration": 4,
    "start_time": "2024-10-30T00:48:43.247Z"
   },
   {
    "duration": 3,
    "start_time": "2024-10-30T00:48:43.253Z"
   },
   {
    "duration": 4,
    "start_time": "2024-10-30T00:48:43.258Z"
   },
   {
    "duration": 4,
    "start_time": "2024-10-30T00:48:43.265Z"
   },
   {
    "duration": 315,
    "start_time": "2024-10-30T00:48:43.270Z"
   },
   {
    "duration": 240,
    "start_time": "2024-10-30T00:48:43.587Z"
   },
   {
    "duration": 376,
    "start_time": "2024-10-30T00:48:43.829Z"
   },
   {
    "duration": 357,
    "start_time": "2024-10-30T00:48:44.207Z"
   },
   {
    "duration": 11,
    "start_time": "2024-10-30T00:48:44.565Z"
   },
   {
    "duration": 8,
    "start_time": "2024-10-30T00:48:44.578Z"
   },
   {
    "duration": 6,
    "start_time": "2024-10-30T00:48:44.588Z"
   },
   {
    "duration": 4,
    "start_time": "2024-10-30T00:48:44.596Z"
   },
   {
    "duration": 307,
    "start_time": "2024-10-30T00:48:44.602Z"
   },
   {
    "duration": 285,
    "start_time": "2024-10-30T00:48:44.910Z"
   },
   {
    "duration": 4,
    "start_time": "2024-10-30T00:48:45.196Z"
   },
   {
    "duration": 27,
    "start_time": "2024-10-30T00:48:45.202Z"
   },
   {
    "duration": 0,
    "start_time": "2024-10-30T00:48:45.231Z"
   },
   {
    "duration": 748,
    "start_time": "2024-10-30T00:49:27.241Z"
   },
   {
    "duration": 4,
    "start_time": "2024-10-30T00:50:11.918Z"
   },
   {
    "duration": 3,
    "start_time": "2024-10-30T00:51:20.499Z"
   },
   {
    "duration": 478,
    "start_time": "2024-10-30T00:51:20.516Z"
   },
   {
    "duration": 3,
    "start_time": "2024-10-30T00:51:20.996Z"
   },
   {
    "duration": 181,
    "start_time": "2024-10-30T00:51:21.000Z"
   },
   {
    "duration": 106,
    "start_time": "2024-10-30T00:51:21.185Z"
   },
   {
    "duration": 182,
    "start_time": "2024-10-30T00:51:21.293Z"
   },
   {
    "duration": 14,
    "start_time": "2024-10-30T00:51:21.477Z"
   },
   {
    "duration": 163,
    "start_time": "2024-10-30T00:51:21.493Z"
   },
   {
    "duration": 12,
    "start_time": "2024-10-30T00:51:21.659Z"
   },
   {
    "duration": 5,
    "start_time": "2024-10-30T00:51:21.672Z"
   },
   {
    "duration": 73,
    "start_time": "2024-10-30T00:51:21.681Z"
   },
   {
    "duration": 31,
    "start_time": "2024-10-30T00:51:21.755Z"
   },
   {
    "duration": 189,
    "start_time": "2024-10-30T00:51:21.788Z"
   },
   {
    "duration": 97,
    "start_time": "2024-10-30T00:51:21.979Z"
   },
   {
    "duration": 10,
    "start_time": "2024-10-30T00:51:22.078Z"
   },
   {
    "duration": 4,
    "start_time": "2024-10-30T00:51:22.090Z"
   },
   {
    "duration": 29,
    "start_time": "2024-10-30T00:51:22.096Z"
   },
   {
    "duration": 6,
    "start_time": "2024-10-30T00:51:22.127Z"
   },
   {
    "duration": 5,
    "start_time": "2024-10-30T00:51:22.135Z"
   },
   {
    "duration": 5,
    "start_time": "2024-10-30T00:51:22.142Z"
   },
   {
    "duration": 3,
    "start_time": "2024-10-30T00:51:22.149Z"
   },
   {
    "duration": 349,
    "start_time": "2024-10-30T00:51:22.154Z"
   },
   {
    "duration": 3,
    "start_time": "2024-10-30T00:51:22.505Z"
   },
   {
    "duration": 19,
    "start_time": "2024-10-30T00:51:22.510Z"
   },
   {
    "duration": 4,
    "start_time": "2024-10-30T00:51:22.530Z"
   },
   {
    "duration": 4,
    "start_time": "2024-10-30T00:51:22.536Z"
   },
   {
    "duration": 4,
    "start_time": "2024-10-30T00:51:22.543Z"
   },
   {
    "duration": 4,
    "start_time": "2024-10-30T00:51:22.549Z"
   },
   {
    "duration": 4,
    "start_time": "2024-10-30T00:51:22.558Z"
   },
   {
    "duration": 293,
    "start_time": "2024-10-30T00:51:22.563Z"
   },
   {
    "duration": 222,
    "start_time": "2024-10-30T00:51:22.858Z"
   },
   {
    "duration": 355,
    "start_time": "2024-10-30T00:51:23.082Z"
   },
   {
    "duration": 367,
    "start_time": "2024-10-30T00:51:23.439Z"
   },
   {
    "duration": 19,
    "start_time": "2024-10-30T00:51:23.807Z"
   },
   {
    "duration": 7,
    "start_time": "2024-10-30T00:51:23.828Z"
   },
   {
    "duration": 4,
    "start_time": "2024-10-30T00:51:23.836Z"
   },
   {
    "duration": 4,
    "start_time": "2024-10-30T00:51:23.842Z"
   },
   {
    "duration": 283,
    "start_time": "2024-10-30T00:51:23.847Z"
   },
   {
    "duration": 273,
    "start_time": "2024-10-30T00:51:24.132Z"
   },
   {
    "duration": 4,
    "start_time": "2024-10-30T00:51:24.407Z"
   },
   {
    "duration": 4,
    "start_time": "2024-10-30T00:51:24.425Z"
   },
   {
    "duration": 4,
    "start_time": "2024-10-30T00:51:24.431Z"
   },
   {
    "duration": 355,
    "start_time": "2024-10-30T00:51:24.438Z"
   },
   {
    "duration": 3,
    "start_time": "2024-10-30T00:52:39.551Z"
   },
   {
    "duration": 489,
    "start_time": "2024-10-30T00:52:39.558Z"
   },
   {
    "duration": 3,
    "start_time": "2024-10-30T00:52:40.049Z"
   },
   {
    "duration": 172,
    "start_time": "2024-10-30T00:52:40.054Z"
   },
   {
    "duration": 103,
    "start_time": "2024-10-30T00:52:40.228Z"
   },
   {
    "duration": 180,
    "start_time": "2024-10-30T00:52:40.333Z"
   },
   {
    "duration": 14,
    "start_time": "2024-10-30T00:52:40.516Z"
   },
   {
    "duration": 157,
    "start_time": "2024-10-30T00:52:40.534Z"
   },
   {
    "duration": 12,
    "start_time": "2024-10-30T00:52:40.693Z"
   },
   {
    "duration": 4,
    "start_time": "2024-10-30T00:52:40.707Z"
   },
   {
    "duration": 62,
    "start_time": "2024-10-30T00:52:40.724Z"
   },
   {
    "duration": 43,
    "start_time": "2024-10-30T00:52:40.788Z"
   },
   {
    "duration": 163,
    "start_time": "2024-10-30T00:52:40.833Z"
   },
   {
    "duration": 98,
    "start_time": "2024-10-30T00:52:40.998Z"
   },
   {
    "duration": 8,
    "start_time": "2024-10-30T00:52:41.100Z"
   },
   {
    "duration": 14,
    "start_time": "2024-10-30T00:52:41.110Z"
   },
   {
    "duration": 10,
    "start_time": "2024-10-30T00:52:41.127Z"
   },
   {
    "duration": 5,
    "start_time": "2024-10-30T00:52:41.138Z"
   },
   {
    "duration": 3,
    "start_time": "2024-10-30T00:52:41.144Z"
   },
   {
    "duration": 6,
    "start_time": "2024-10-30T00:52:41.149Z"
   },
   {
    "duration": 3,
    "start_time": "2024-10-30T00:52:41.156Z"
   },
   {
    "duration": 332,
    "start_time": "2024-10-30T00:52:41.161Z"
   },
   {
    "duration": 3,
    "start_time": "2024-10-30T00:52:41.494Z"
   },
   {
    "duration": 7,
    "start_time": "2024-10-30T00:52:41.500Z"
   },
   {
    "duration": 17,
    "start_time": "2024-10-30T00:52:41.509Z"
   },
   {
    "duration": 4,
    "start_time": "2024-10-30T00:52:41.528Z"
   },
   {
    "duration": 6,
    "start_time": "2024-10-30T00:52:41.533Z"
   },
   {
    "duration": 4,
    "start_time": "2024-10-30T00:52:41.542Z"
   },
   {
    "duration": 4,
    "start_time": "2024-10-30T00:52:41.547Z"
   },
   {
    "duration": 280,
    "start_time": "2024-10-30T00:52:41.553Z"
   },
   {
    "duration": 242,
    "start_time": "2024-10-30T00:52:41.835Z"
   },
   {
    "duration": 330,
    "start_time": "2024-10-30T00:52:42.079Z"
   },
   {
    "duration": 360,
    "start_time": "2024-10-30T00:52:42.412Z"
   },
   {
    "duration": 10,
    "start_time": "2024-10-30T00:52:42.774Z"
   },
   {
    "duration": 6,
    "start_time": "2024-10-30T00:52:42.785Z"
   },
   {
    "duration": 4,
    "start_time": "2024-10-30T00:52:42.793Z"
   },
   {
    "duration": 26,
    "start_time": "2024-10-30T00:52:42.798Z"
   },
   {
    "duration": 287,
    "start_time": "2024-10-30T00:52:42.825Z"
   },
   {
    "duration": 283,
    "start_time": "2024-10-30T00:52:43.114Z"
   },
   {
    "duration": 3,
    "start_time": "2024-10-30T00:52:43.399Z"
   },
   {
    "duration": 5,
    "start_time": "2024-10-30T00:52:43.404Z"
   },
   {
    "duration": 7,
    "start_time": "2024-10-30T00:52:43.426Z"
   },
   {
    "duration": 166,
    "start_time": "2024-10-30T00:52:43.435Z"
   },
   {
    "duration": 155,
    "start_time": "2024-10-30T00:54:07.799Z"
   },
   {
    "duration": 3,
    "start_time": "2024-10-30T00:54:42.648Z"
   },
   {
    "duration": 499,
    "start_time": "2024-10-30T00:54:42.706Z"
   },
   {
    "duration": 3,
    "start_time": "2024-10-30T00:54:43.207Z"
   },
   {
    "duration": 193,
    "start_time": "2024-10-30T00:54:43.211Z"
   },
   {
    "duration": 100,
    "start_time": "2024-10-30T00:54:43.406Z"
   },
   {
    "duration": 184,
    "start_time": "2024-10-30T00:54:43.508Z"
   },
   {
    "duration": 15,
    "start_time": "2024-10-30T00:54:43.694Z"
   },
   {
    "duration": 159,
    "start_time": "2024-10-30T00:54:43.724Z"
   },
   {
    "duration": 8,
    "start_time": "2024-10-30T00:54:43.884Z"
   },
   {
    "duration": 7,
    "start_time": "2024-10-30T00:54:43.893Z"
   },
   {
    "duration": 67,
    "start_time": "2024-10-30T00:54:43.901Z"
   },
   {
    "duration": 31,
    "start_time": "2024-10-30T00:54:43.971Z"
   },
   {
    "duration": 169,
    "start_time": "2024-10-30T00:54:44.004Z"
   },
   {
    "duration": 96,
    "start_time": "2024-10-30T00:54:44.175Z"
   },
   {
    "duration": 8,
    "start_time": "2024-10-30T00:54:44.275Z"
   },
   {
    "duration": 4,
    "start_time": "2024-10-30T00:54:44.285Z"
   },
   {
    "duration": 11,
    "start_time": "2024-10-30T00:54:44.291Z"
   },
   {
    "duration": 22,
    "start_time": "2024-10-30T00:54:44.304Z"
   },
   {
    "duration": 4,
    "start_time": "2024-10-30T00:54:44.328Z"
   },
   {
    "duration": 4,
    "start_time": "2024-10-30T00:54:44.334Z"
   },
   {
    "duration": 4,
    "start_time": "2024-10-30T00:54:44.339Z"
   },
   {
    "duration": 349,
    "start_time": "2024-10-30T00:54:44.344Z"
   },
   {
    "duration": 2,
    "start_time": "2024-10-30T00:54:44.696Z"
   },
   {
    "duration": 8,
    "start_time": "2024-10-30T00:54:44.700Z"
   },
   {
    "duration": 4,
    "start_time": "2024-10-30T00:54:44.724Z"
   },
   {
    "duration": 4,
    "start_time": "2024-10-30T00:54:44.730Z"
   },
   {
    "duration": 4,
    "start_time": "2024-10-30T00:54:44.736Z"
   },
   {
    "duration": 5,
    "start_time": "2024-10-30T00:54:44.742Z"
   },
   {
    "duration": 4,
    "start_time": "2024-10-30T00:54:44.748Z"
   },
   {
    "duration": 273,
    "start_time": "2024-10-30T00:54:44.753Z"
   },
   {
    "duration": 250,
    "start_time": "2024-10-30T00:54:45.028Z"
   },
   {
    "duration": 318,
    "start_time": "2024-10-30T00:54:45.280Z"
   },
   {
    "duration": 332,
    "start_time": "2024-10-30T00:54:45.601Z"
   },
   {
    "duration": 10,
    "start_time": "2024-10-30T00:54:45.935Z"
   },
   {
    "duration": 7,
    "start_time": "2024-10-30T00:54:45.947Z"
   },
   {
    "duration": 5,
    "start_time": "2024-10-30T00:54:45.955Z"
   },
   {
    "duration": 7,
    "start_time": "2024-10-30T00:54:45.961Z"
   },
   {
    "duration": 306,
    "start_time": "2024-10-30T00:54:45.970Z"
   },
   {
    "duration": 273,
    "start_time": "2024-10-30T00:54:46.278Z"
   },
   {
    "duration": 7,
    "start_time": "2024-10-30T00:54:46.553Z"
   },
   {
    "duration": 302,
    "start_time": "2024-10-30T00:54:46.561Z"
   },
   {
    "duration": 5,
    "start_time": "2024-10-30T00:54:46.868Z"
   },
   {
    "duration": 753,
    "start_time": "2024-10-30T00:54:46.875Z"
   },
   {
    "duration": 2,
    "start_time": "2024-10-30T00:56:03.506Z"
   },
   {
    "duration": 460,
    "start_time": "2024-10-30T00:56:03.510Z"
   },
   {
    "duration": 2,
    "start_time": "2024-10-30T00:56:03.972Z"
   },
   {
    "duration": 168,
    "start_time": "2024-10-30T00:56:03.976Z"
   },
   {
    "duration": 105,
    "start_time": "2024-10-30T00:56:04.147Z"
   },
   {
    "duration": 191,
    "start_time": "2024-10-30T00:56:04.254Z"
   },
   {
    "duration": 15,
    "start_time": "2024-10-30T00:56:04.446Z"
   },
   {
    "duration": 161,
    "start_time": "2024-10-30T00:56:04.463Z"
   },
   {
    "duration": 8,
    "start_time": "2024-10-30T00:56:04.626Z"
   },
   {
    "duration": 4,
    "start_time": "2024-10-30T00:56:04.636Z"
   },
   {
    "duration": 58,
    "start_time": "2024-10-30T00:56:04.642Z"
   },
   {
    "duration": 48,
    "start_time": "2024-10-30T00:56:04.702Z"
   },
   {
    "duration": 160,
    "start_time": "2024-10-30T00:56:04.754Z"
   },
   {
    "duration": 94,
    "start_time": "2024-10-30T00:56:04.915Z"
   },
   {
    "duration": 18,
    "start_time": "2024-10-30T00:56:05.011Z"
   },
   {
    "duration": 4,
    "start_time": "2024-10-30T00:56:05.031Z"
   },
   {
    "duration": 12,
    "start_time": "2024-10-30T00:56:05.036Z"
   },
   {
    "duration": 5,
    "start_time": "2024-10-30T00:56:05.049Z"
   },
   {
    "duration": 3,
    "start_time": "2024-10-30T00:56:05.055Z"
   },
   {
    "duration": 3,
    "start_time": "2024-10-30T00:56:05.060Z"
   },
   {
    "duration": 4,
    "start_time": "2024-10-30T00:56:05.064Z"
   },
   {
    "duration": 418,
    "start_time": "2024-10-30T00:56:05.070Z"
   },
   {
    "duration": 2,
    "start_time": "2024-10-30T00:56:05.490Z"
   },
   {
    "duration": 9,
    "start_time": "2024-10-30T00:56:05.494Z"
   },
   {
    "duration": 21,
    "start_time": "2024-10-30T00:56:05.505Z"
   },
   {
    "duration": 4,
    "start_time": "2024-10-30T00:56:05.527Z"
   },
   {
    "duration": 4,
    "start_time": "2024-10-30T00:56:05.533Z"
   },
   {
    "duration": 4,
    "start_time": "2024-10-30T00:56:05.539Z"
   },
   {
    "duration": 3,
    "start_time": "2024-10-30T00:56:05.546Z"
   },
   {
    "duration": 246,
    "start_time": "2024-10-30T00:56:05.551Z"
   },
   {
    "duration": 259,
    "start_time": "2024-10-30T00:56:05.799Z"
   },
   {
    "duration": 339,
    "start_time": "2024-10-30T00:56:06.059Z"
   },
   {
    "duration": 403,
    "start_time": "2024-10-30T00:56:06.400Z"
   },
   {
    "duration": 9,
    "start_time": "2024-10-30T00:56:06.805Z"
   },
   {
    "duration": 7,
    "start_time": "2024-10-30T00:56:06.824Z"
   },
   {
    "duration": 4,
    "start_time": "2024-10-30T00:56:06.832Z"
   },
   {
    "duration": 3,
    "start_time": "2024-10-30T00:56:06.841Z"
   },
   {
    "duration": 279,
    "start_time": "2024-10-30T00:56:06.846Z"
   },
   {
    "duration": 270,
    "start_time": "2024-10-30T00:56:07.127Z"
   },
   {
    "duration": 4,
    "start_time": "2024-10-30T00:56:07.399Z"
   },
   {
    "duration": 185,
    "start_time": "2024-10-30T00:56:07.405Z"
   },
   {
    "duration": 5,
    "start_time": "2024-10-30T00:56:07.592Z"
   },
   {
    "duration": 156,
    "start_time": "2024-10-30T00:56:07.599Z"
   },
   {
    "duration": 0,
    "start_time": "2024-10-30T00:59:39.147Z"
   },
   {
    "duration": 0,
    "start_time": "2024-10-30T00:59:39.148Z"
   },
   {
    "duration": 0,
    "start_time": "2024-10-30T00:59:39.150Z"
   },
   {
    "duration": 0,
    "start_time": "2024-10-30T00:59:39.151Z"
   },
   {
    "duration": 0,
    "start_time": "2024-10-30T00:59:39.152Z"
   },
   {
    "duration": 0,
    "start_time": "2024-10-30T00:59:39.153Z"
   },
   {
    "duration": 0,
    "start_time": "2024-10-30T00:59:39.154Z"
   },
   {
    "duration": 0,
    "start_time": "2024-10-30T00:59:39.156Z"
   },
   {
    "duration": 0,
    "start_time": "2024-10-30T00:59:39.157Z"
   },
   {
    "duration": 0,
    "start_time": "2024-10-30T00:59:39.159Z"
   },
   {
    "duration": 0,
    "start_time": "2024-10-30T00:59:39.160Z"
   },
   {
    "duration": 0,
    "start_time": "2024-10-30T00:59:39.162Z"
   },
   {
    "duration": 0,
    "start_time": "2024-10-30T00:59:39.164Z"
   },
   {
    "duration": 0,
    "start_time": "2024-10-30T00:59:39.165Z"
   },
   {
    "duration": 0,
    "start_time": "2024-10-30T00:59:39.167Z"
   },
   {
    "duration": 0,
    "start_time": "2024-10-30T00:59:39.168Z"
   },
   {
    "duration": 0,
    "start_time": "2024-10-30T00:59:39.170Z"
   },
   {
    "duration": 0,
    "start_time": "2024-10-30T00:59:39.171Z"
   },
   {
    "duration": 0,
    "start_time": "2024-10-30T00:59:39.173Z"
   },
   {
    "duration": 0,
    "start_time": "2024-10-30T00:59:39.174Z"
   },
   {
    "duration": 0,
    "start_time": "2024-10-30T00:59:39.175Z"
   },
   {
    "duration": 0,
    "start_time": "2024-10-30T00:59:39.176Z"
   },
   {
    "duration": 0,
    "start_time": "2024-10-30T00:59:39.177Z"
   },
   {
    "duration": 0,
    "start_time": "2024-10-30T00:59:39.178Z"
   },
   {
    "duration": 0,
    "start_time": "2024-10-30T00:59:39.179Z"
   },
   {
    "duration": 0,
    "start_time": "2024-10-30T00:59:39.224Z"
   },
   {
    "duration": 0,
    "start_time": "2024-10-30T00:59:39.225Z"
   },
   {
    "duration": 0,
    "start_time": "2024-10-30T00:59:39.226Z"
   },
   {
    "duration": 0,
    "start_time": "2024-10-30T00:59:39.227Z"
   },
   {
    "duration": 0,
    "start_time": "2024-10-30T00:59:39.229Z"
   },
   {
    "duration": 0,
    "start_time": "2024-10-30T00:59:39.230Z"
   },
   {
    "duration": 0,
    "start_time": "2024-10-30T00:59:39.231Z"
   },
   {
    "duration": 0,
    "start_time": "2024-10-30T00:59:39.232Z"
   },
   {
    "duration": 0,
    "start_time": "2024-10-30T00:59:39.233Z"
   },
   {
    "duration": 0,
    "start_time": "2024-10-30T00:59:39.235Z"
   },
   {
    "duration": 0,
    "start_time": "2024-10-30T00:59:39.236Z"
   },
   {
    "duration": 0,
    "start_time": "2024-10-30T00:59:39.237Z"
   },
   {
    "duration": 0,
    "start_time": "2024-10-30T00:59:39.241Z"
   },
   {
    "duration": 0,
    "start_time": "2024-10-30T00:59:39.242Z"
   },
   {
    "duration": 0,
    "start_time": "2024-10-30T00:59:39.244Z"
   },
   {
    "duration": 0,
    "start_time": "2024-10-30T00:59:39.245Z"
   },
   {
    "duration": 0,
    "start_time": "2024-10-30T00:59:39.247Z"
   },
   {
    "duration": 0,
    "start_time": "2024-10-30T00:59:39.248Z"
   },
   {
    "duration": 3,
    "start_time": "2024-10-30T00:59:41.162Z"
   },
   {
    "duration": 521,
    "start_time": "2024-10-30T00:59:41.168Z"
   },
   {
    "duration": 4,
    "start_time": "2024-10-30T00:59:41.691Z"
   },
   {
    "duration": 170,
    "start_time": "2024-10-30T00:59:41.696Z"
   },
   {
    "duration": 104,
    "start_time": "2024-10-30T00:59:41.868Z"
   },
   {
    "duration": 322,
    "start_time": "2024-10-30T00:59:41.974Z"
   },
   {
    "duration": 14,
    "start_time": "2024-10-30T00:59:42.298Z"
   },
   {
    "duration": 155,
    "start_time": "2024-10-30T00:59:42.324Z"
   },
   {
    "duration": 10,
    "start_time": "2024-10-30T00:59:42.481Z"
   },
   {
    "duration": 6,
    "start_time": "2024-10-30T00:59:42.493Z"
   },
   {
    "duration": 73,
    "start_time": "2024-10-30T00:59:42.501Z"
   },
   {
    "duration": 32,
    "start_time": "2024-10-30T00:59:42.575Z"
   },
   {
    "duration": 166,
    "start_time": "2024-10-30T00:59:42.608Z"
   },
   {
    "duration": 94,
    "start_time": "2024-10-30T00:59:42.776Z"
   },
   {
    "duration": 7,
    "start_time": "2024-10-30T00:59:42.874Z"
   },
   {
    "duration": 5,
    "start_time": "2024-10-30T00:59:42.882Z"
   },
   {
    "duration": 10,
    "start_time": "2024-10-30T00:59:42.888Z"
   },
   {
    "duration": 26,
    "start_time": "2024-10-30T00:59:42.900Z"
   },
   {
    "duration": 3,
    "start_time": "2024-10-30T00:59:42.928Z"
   },
   {
    "duration": 3,
    "start_time": "2024-10-30T00:59:42.933Z"
   },
   {
    "duration": 3,
    "start_time": "2024-10-30T00:59:42.938Z"
   },
   {
    "duration": 340,
    "start_time": "2024-10-30T00:59:42.943Z"
   },
   {
    "duration": 3,
    "start_time": "2024-10-30T00:59:43.284Z"
   },
   {
    "duration": 8,
    "start_time": "2024-10-30T00:59:43.289Z"
   },
   {
    "duration": 5,
    "start_time": "2024-10-30T00:59:43.299Z"
   },
   {
    "duration": 4,
    "start_time": "2024-10-30T00:59:43.325Z"
   },
   {
    "duration": 5,
    "start_time": "2024-10-30T00:59:43.331Z"
   },
   {
    "duration": 4,
    "start_time": "2024-10-30T00:59:43.338Z"
   },
   {
    "duration": 4,
    "start_time": "2024-10-30T00:59:43.344Z"
   },
   {
    "duration": 261,
    "start_time": "2024-10-30T00:59:43.349Z"
   },
   {
    "duration": 259,
    "start_time": "2024-10-30T00:59:43.611Z"
   },
   {
    "duration": 325,
    "start_time": "2024-10-30T00:59:43.873Z"
   },
   {
    "duration": 317,
    "start_time": "2024-10-30T00:59:44.200Z"
   },
   {
    "duration": 10,
    "start_time": "2024-10-30T00:59:44.519Z"
   },
   {
    "duration": 7,
    "start_time": "2024-10-30T00:59:44.531Z"
   },
   {
    "duration": 3,
    "start_time": "2024-10-30T00:59:44.540Z"
   },
   {
    "duration": 4,
    "start_time": "2024-10-30T00:59:44.544Z"
   },
   {
    "duration": 291,
    "start_time": "2024-10-30T00:59:44.550Z"
   },
   {
    "duration": 256,
    "start_time": "2024-10-30T00:59:44.843Z"
   },
   {
    "duration": 4,
    "start_time": "2024-10-30T00:59:45.101Z"
   },
   {
    "duration": 168,
    "start_time": "2024-10-30T00:59:45.106Z"
   },
   {
    "duration": 5,
    "start_time": "2024-10-30T00:59:45.279Z"
   },
   {
    "duration": 0,
    "start_time": "2024-10-30T01:01:12.399Z"
   },
   {
    "duration": 0,
    "start_time": "2024-10-30T01:01:12.401Z"
   },
   {
    "duration": 0,
    "start_time": "2024-10-30T01:01:12.402Z"
   },
   {
    "duration": 0,
    "start_time": "2024-10-30T01:01:12.404Z"
   },
   {
    "duration": 0,
    "start_time": "2024-10-30T01:01:12.406Z"
   },
   {
    "duration": 0,
    "start_time": "2024-10-30T01:01:12.407Z"
   },
   {
    "duration": 0,
    "start_time": "2024-10-30T01:01:12.408Z"
   },
   {
    "duration": 0,
    "start_time": "2024-10-30T01:01:12.408Z"
   },
   {
    "duration": 0,
    "start_time": "2024-10-30T01:01:12.409Z"
   },
   {
    "duration": 0,
    "start_time": "2024-10-30T01:01:12.409Z"
   },
   {
    "duration": 1,
    "start_time": "2024-10-30T01:01:12.409Z"
   },
   {
    "duration": 0,
    "start_time": "2024-10-30T01:01:12.410Z"
   },
   {
    "duration": 0,
    "start_time": "2024-10-30T01:01:12.410Z"
   },
   {
    "duration": 0,
    "start_time": "2024-10-30T01:01:12.423Z"
   },
   {
    "duration": 0,
    "start_time": "2024-10-30T01:01:12.425Z"
   },
   {
    "duration": 0,
    "start_time": "2024-10-30T01:01:12.427Z"
   },
   {
    "duration": 0,
    "start_time": "2024-10-30T01:01:12.428Z"
   },
   {
    "duration": 0,
    "start_time": "2024-10-30T01:01:12.429Z"
   },
   {
    "duration": 0,
    "start_time": "2024-10-30T01:01:12.430Z"
   },
   {
    "duration": 0,
    "start_time": "2024-10-30T01:01:12.432Z"
   },
   {
    "duration": 0,
    "start_time": "2024-10-30T01:01:12.433Z"
   },
   {
    "duration": 0,
    "start_time": "2024-10-30T01:01:12.434Z"
   },
   {
    "duration": 0,
    "start_time": "2024-10-30T01:01:12.435Z"
   },
   {
    "duration": 0,
    "start_time": "2024-10-30T01:01:12.436Z"
   },
   {
    "duration": 0,
    "start_time": "2024-10-30T01:01:12.437Z"
   },
   {
    "duration": 0,
    "start_time": "2024-10-30T01:01:12.439Z"
   },
   {
    "duration": 0,
    "start_time": "2024-10-30T01:01:12.441Z"
   },
   {
    "duration": 0,
    "start_time": "2024-10-30T01:01:12.442Z"
   },
   {
    "duration": 0,
    "start_time": "2024-10-30T01:01:12.444Z"
   },
   {
    "duration": 0,
    "start_time": "2024-10-30T01:01:12.445Z"
   },
   {
    "duration": 0,
    "start_time": "2024-10-30T01:01:12.447Z"
   },
   {
    "duration": 0,
    "start_time": "2024-10-30T01:01:12.448Z"
   },
   {
    "duration": 0,
    "start_time": "2024-10-30T01:01:12.450Z"
   },
   {
    "duration": 0,
    "start_time": "2024-10-30T01:01:12.452Z"
   },
   {
    "duration": 0,
    "start_time": "2024-10-30T01:01:12.453Z"
   },
   {
    "duration": 0,
    "start_time": "2024-10-30T01:01:12.455Z"
   },
   {
    "duration": 0,
    "start_time": "2024-10-30T01:01:12.458Z"
   },
   {
    "duration": 0,
    "start_time": "2024-10-30T01:01:12.459Z"
   },
   {
    "duration": 0,
    "start_time": "2024-10-30T01:01:12.524Z"
   },
   {
    "duration": 0,
    "start_time": "2024-10-30T01:01:12.525Z"
   },
   {
    "duration": 0,
    "start_time": "2024-10-30T01:01:12.526Z"
   },
   {
    "duration": 0,
    "start_time": "2024-10-30T01:01:12.527Z"
   },
   {
    "duration": 0,
    "start_time": "2024-10-30T01:01:12.528Z"
   },
   {
    "duration": 3,
    "start_time": "2024-10-30T01:01:16.110Z"
   },
   {
    "duration": 447,
    "start_time": "2024-10-30T01:01:16.168Z"
   },
   {
    "duration": 3,
    "start_time": "2024-10-30T01:01:16.617Z"
   },
   {
    "duration": 172,
    "start_time": "2024-10-30T01:01:16.621Z"
   },
   {
    "duration": 103,
    "start_time": "2024-10-30T01:01:16.794Z"
   },
   {
    "duration": 181,
    "start_time": "2024-10-30T01:01:16.900Z"
   },
   {
    "duration": 15,
    "start_time": "2024-10-30T01:01:17.083Z"
   },
   {
    "duration": 166,
    "start_time": "2024-10-30T01:01:17.099Z"
   },
   {
    "duration": 8,
    "start_time": "2024-10-30T01:01:17.266Z"
   },
   {
    "duration": 5,
    "start_time": "2024-10-30T01:01:17.277Z"
   },
   {
    "duration": 77,
    "start_time": "2024-10-30T01:01:17.284Z"
   },
   {
    "duration": 32,
    "start_time": "2024-10-30T01:01:17.363Z"
   },
   {
    "duration": 171,
    "start_time": "2024-10-30T01:01:17.397Z"
   },
   {
    "duration": 111,
    "start_time": "2024-10-30T01:01:17.570Z"
   },
   {
    "duration": 8,
    "start_time": "2024-10-30T01:01:17.684Z"
   },
   {
    "duration": 4,
    "start_time": "2024-10-30T01:01:17.694Z"
   },
   {
    "duration": 28,
    "start_time": "2024-10-30T01:01:17.700Z"
   },
   {
    "duration": 7,
    "start_time": "2024-10-30T01:01:17.729Z"
   },
   {
    "duration": 4,
    "start_time": "2024-10-30T01:01:17.737Z"
   },
   {
    "duration": 4,
    "start_time": "2024-10-30T01:01:17.743Z"
   },
   {
    "duration": 4,
    "start_time": "2024-10-30T01:01:17.748Z"
   },
   {
    "duration": 373,
    "start_time": "2024-10-30T01:01:17.753Z"
   },
   {
    "duration": 5,
    "start_time": "2024-10-30T01:01:18.128Z"
   },
   {
    "duration": 9,
    "start_time": "2024-10-30T01:01:18.136Z"
   },
   {
    "duration": 5,
    "start_time": "2024-10-30T01:01:18.146Z"
   },
   {
    "duration": 5,
    "start_time": "2024-10-30T01:01:18.152Z"
   },
   {
    "duration": 4,
    "start_time": "2024-10-30T01:01:18.158Z"
   },
   {
    "duration": 4,
    "start_time": "2024-10-30T01:01:18.164Z"
   },
   {
    "duration": 5,
    "start_time": "2024-10-30T01:01:18.169Z"
   },
   {
    "duration": 305,
    "start_time": "2024-10-30T01:01:18.176Z"
   },
   {
    "duration": 244,
    "start_time": "2024-10-30T01:01:18.483Z"
   },
   {
    "duration": 366,
    "start_time": "2024-10-30T01:01:18.729Z"
   },
   {
    "duration": 329,
    "start_time": "2024-10-30T01:01:19.096Z"
   },
   {
    "duration": 9,
    "start_time": "2024-10-30T01:01:19.428Z"
   },
   {
    "duration": 6,
    "start_time": "2024-10-30T01:01:19.440Z"
   },
   {
    "duration": 4,
    "start_time": "2024-10-30T01:01:19.447Z"
   },
   {
    "duration": 5,
    "start_time": "2024-10-30T01:01:19.454Z"
   },
   {
    "duration": 280,
    "start_time": "2024-10-30T01:01:19.461Z"
   },
   {
    "duration": 246,
    "start_time": "2024-10-30T01:01:19.743Z"
   },
   {
    "duration": 4,
    "start_time": "2024-10-30T01:01:19.991Z"
   },
   {
    "duration": 167,
    "start_time": "2024-10-30T01:01:19.997Z"
   },
   {
    "duration": 4,
    "start_time": "2024-10-30T01:01:20.170Z"
   },
   {
    "duration": 0,
    "start_time": "2024-10-30T01:02:22.109Z"
   },
   {
    "duration": 0,
    "start_time": "2024-10-30T01:02:22.110Z"
   },
   {
    "duration": 0,
    "start_time": "2024-10-30T01:02:22.112Z"
   },
   {
    "duration": 0,
    "start_time": "2024-10-30T01:02:22.113Z"
   },
   {
    "duration": 0,
    "start_time": "2024-10-30T01:02:22.124Z"
   },
   {
    "duration": 0,
    "start_time": "2024-10-30T01:02:22.125Z"
   },
   {
    "duration": 0,
    "start_time": "2024-10-30T01:02:22.127Z"
   },
   {
    "duration": 0,
    "start_time": "2024-10-30T01:02:22.128Z"
   },
   {
    "duration": 0,
    "start_time": "2024-10-30T01:02:22.130Z"
   },
   {
    "duration": 0,
    "start_time": "2024-10-30T01:02:22.131Z"
   },
   {
    "duration": 0,
    "start_time": "2024-10-30T01:02:22.133Z"
   },
   {
    "duration": 0,
    "start_time": "2024-10-30T01:02:22.134Z"
   },
   {
    "duration": 0,
    "start_time": "2024-10-30T01:02:22.135Z"
   },
   {
    "duration": 0,
    "start_time": "2024-10-30T01:02:22.137Z"
   },
   {
    "duration": 0,
    "start_time": "2024-10-30T01:02:22.138Z"
   },
   {
    "duration": 0,
    "start_time": "2024-10-30T01:02:22.140Z"
   },
   {
    "duration": 0,
    "start_time": "2024-10-30T01:02:22.141Z"
   },
   {
    "duration": 0,
    "start_time": "2024-10-30T01:02:22.143Z"
   },
   {
    "duration": 0,
    "start_time": "2024-10-30T01:02:22.144Z"
   },
   {
    "duration": 0,
    "start_time": "2024-10-30T01:02:22.146Z"
   },
   {
    "duration": 0,
    "start_time": "2024-10-30T01:02:22.147Z"
   },
   {
    "duration": 0,
    "start_time": "2024-10-30T01:02:22.148Z"
   },
   {
    "duration": 0,
    "start_time": "2024-10-30T01:02:22.150Z"
   },
   {
    "duration": 0,
    "start_time": "2024-10-30T01:02:22.151Z"
   },
   {
    "duration": 0,
    "start_time": "2024-10-30T01:02:22.152Z"
   },
   {
    "duration": 0,
    "start_time": "2024-10-30T01:02:22.153Z"
   },
   {
    "duration": 0,
    "start_time": "2024-10-30T01:02:22.154Z"
   },
   {
    "duration": 0,
    "start_time": "2024-10-30T01:02:22.155Z"
   },
   {
    "duration": 0,
    "start_time": "2024-10-30T01:02:22.156Z"
   },
   {
    "duration": 0,
    "start_time": "2024-10-30T01:02:22.157Z"
   },
   {
    "duration": 0,
    "start_time": "2024-10-30T01:02:22.158Z"
   },
   {
    "duration": 0,
    "start_time": "2024-10-30T01:02:22.159Z"
   },
   {
    "duration": 0,
    "start_time": "2024-10-30T01:02:22.160Z"
   },
   {
    "duration": 0,
    "start_time": "2024-10-30T01:02:22.162Z"
   },
   {
    "duration": 0,
    "start_time": "2024-10-30T01:02:22.162Z"
   },
   {
    "duration": 0,
    "start_time": "2024-10-30T01:02:22.224Z"
   },
   {
    "duration": 0,
    "start_time": "2024-10-30T01:02:22.226Z"
   },
   {
    "duration": 0,
    "start_time": "2024-10-30T01:02:22.227Z"
   },
   {
    "duration": 0,
    "start_time": "2024-10-30T01:02:22.227Z"
   },
   {
    "duration": 0,
    "start_time": "2024-10-30T01:02:22.228Z"
   },
   {
    "duration": 0,
    "start_time": "2024-10-30T01:02:22.229Z"
   },
   {
    "duration": 0,
    "start_time": "2024-10-30T01:02:22.230Z"
   },
   {
    "duration": 0,
    "start_time": "2024-10-30T01:02:22.232Z"
   },
   {
    "duration": 3,
    "start_time": "2024-10-30T01:02:24.036Z"
   },
   {
    "duration": 501,
    "start_time": "2024-10-30T01:02:24.043Z"
   },
   {
    "duration": 3,
    "start_time": "2024-10-30T01:02:24.546Z"
   },
   {
    "duration": 170,
    "start_time": "2024-10-30T01:02:24.551Z"
   },
   {
    "duration": 90,
    "start_time": "2024-10-30T01:02:24.724Z"
   },
   {
    "duration": 183,
    "start_time": "2024-10-30T01:02:24.825Z"
   },
   {
    "duration": 19,
    "start_time": "2024-10-30T01:02:25.009Z"
   },
   {
    "duration": 158,
    "start_time": "2024-10-30T01:02:25.030Z"
   },
   {
    "duration": 9,
    "start_time": "2024-10-30T01:02:25.190Z"
   },
   {
    "duration": 4,
    "start_time": "2024-10-30T01:02:25.201Z"
   },
   {
    "duration": 69,
    "start_time": "2024-10-30T01:02:25.209Z"
   },
   {
    "duration": 31,
    "start_time": "2024-10-30T01:02:25.280Z"
   },
   {
    "duration": 155,
    "start_time": "2024-10-30T01:02:25.325Z"
   },
   {
    "duration": 104,
    "start_time": "2024-10-30T01:02:25.482Z"
   },
   {
    "duration": 6,
    "start_time": "2024-10-30T01:02:25.588Z"
   },
   {
    "duration": 5,
    "start_time": "2024-10-30T01:02:25.596Z"
   },
   {
    "duration": 27,
    "start_time": "2024-10-30T01:02:25.602Z"
   },
   {
    "duration": 5,
    "start_time": "2024-10-30T01:02:25.630Z"
   },
   {
    "duration": 4,
    "start_time": "2024-10-30T01:02:25.637Z"
   },
   {
    "duration": 4,
    "start_time": "2024-10-30T01:02:25.642Z"
   },
   {
    "duration": 3,
    "start_time": "2024-10-30T01:02:25.647Z"
   },
   {
    "duration": 476,
    "start_time": "2024-10-30T01:02:25.651Z"
   },
   {
    "duration": 3,
    "start_time": "2024-10-30T01:02:26.129Z"
   },
   {
    "duration": 9,
    "start_time": "2024-10-30T01:02:26.134Z"
   },
   {
    "duration": 5,
    "start_time": "2024-10-30T01:02:26.144Z"
   },
   {
    "duration": 4,
    "start_time": "2024-10-30T01:02:26.151Z"
   },
   {
    "duration": 4,
    "start_time": "2024-10-30T01:02:26.156Z"
   },
   {
    "duration": 4,
    "start_time": "2024-10-30T01:02:26.162Z"
   },
   {
    "duration": 3,
    "start_time": "2024-10-30T01:02:26.171Z"
   },
   {
    "duration": 258,
    "start_time": "2024-10-30T01:02:26.225Z"
   },
   {
    "duration": 208,
    "start_time": "2024-10-30T01:02:26.485Z"
   },
   {
    "duration": 364,
    "start_time": "2024-10-30T01:02:26.724Z"
   },
   {
    "duration": 349,
    "start_time": "2024-10-30T01:02:27.090Z"
   },
   {
    "duration": 9,
    "start_time": "2024-10-30T01:02:27.441Z"
   },
   {
    "duration": 6,
    "start_time": "2024-10-30T01:02:27.452Z"
   },
   {
    "duration": 5,
    "start_time": "2024-10-30T01:02:27.460Z"
   },
   {
    "duration": 4,
    "start_time": "2024-10-30T01:02:27.466Z"
   },
   {
    "duration": 335,
    "start_time": "2024-10-30T01:02:27.471Z"
   },
   {
    "duration": 285,
    "start_time": "2024-10-30T01:02:27.808Z"
   },
   {
    "duration": 4,
    "start_time": "2024-10-30T01:02:28.095Z"
   },
   {
    "duration": 179,
    "start_time": "2024-10-30T01:02:28.100Z"
   },
   {
    "duration": 5,
    "start_time": "2024-10-30T01:02:28.280Z"
   },
   {
    "duration": 0,
    "start_time": "2024-10-30T01:03:26.804Z"
   },
   {
    "duration": 0,
    "start_time": "2024-10-30T01:03:26.806Z"
   },
   {
    "duration": 0,
    "start_time": "2024-10-30T01:03:26.807Z"
   },
   {
    "duration": 0,
    "start_time": "2024-10-30T01:03:26.808Z"
   },
   {
    "duration": 0,
    "start_time": "2024-10-30T01:03:26.809Z"
   },
   {
    "duration": 0,
    "start_time": "2024-10-30T01:03:26.824Z"
   },
   {
    "duration": 0,
    "start_time": "2024-10-30T01:03:26.825Z"
   },
   {
    "duration": 0,
    "start_time": "2024-10-30T01:03:26.826Z"
   },
   {
    "duration": 0,
    "start_time": "2024-10-30T01:03:26.827Z"
   },
   {
    "duration": 0,
    "start_time": "2024-10-30T01:03:26.828Z"
   },
   {
    "duration": 0,
    "start_time": "2024-10-30T01:03:26.829Z"
   },
   {
    "duration": 0,
    "start_time": "2024-10-30T01:03:26.830Z"
   },
   {
    "duration": 0,
    "start_time": "2024-10-30T01:03:26.831Z"
   },
   {
    "duration": 0,
    "start_time": "2024-10-30T01:03:26.832Z"
   },
   {
    "duration": 0,
    "start_time": "2024-10-30T01:03:26.833Z"
   },
   {
    "duration": 0,
    "start_time": "2024-10-30T01:03:26.834Z"
   },
   {
    "duration": 0,
    "start_time": "2024-10-30T01:03:26.835Z"
   },
   {
    "duration": 0,
    "start_time": "2024-10-30T01:03:26.836Z"
   },
   {
    "duration": 0,
    "start_time": "2024-10-30T01:03:26.837Z"
   },
   {
    "duration": 0,
    "start_time": "2024-10-30T01:03:26.838Z"
   },
   {
    "duration": 0,
    "start_time": "2024-10-30T01:03:26.839Z"
   },
   {
    "duration": 0,
    "start_time": "2024-10-30T01:03:26.840Z"
   },
   {
    "duration": 0,
    "start_time": "2024-10-30T01:03:26.841Z"
   },
   {
    "duration": 0,
    "start_time": "2024-10-30T01:03:26.842Z"
   },
   {
    "duration": 0,
    "start_time": "2024-10-30T01:03:26.843Z"
   },
   {
    "duration": 0,
    "start_time": "2024-10-30T01:03:26.843Z"
   },
   {
    "duration": 0,
    "start_time": "2024-10-30T01:03:26.845Z"
   },
   {
    "duration": 0,
    "start_time": "2024-10-30T01:03:26.848Z"
   },
   {
    "duration": 0,
    "start_time": "2024-10-30T01:03:26.849Z"
   },
   {
    "duration": 0,
    "start_time": "2024-10-30T01:03:26.850Z"
   },
   {
    "duration": 0,
    "start_time": "2024-10-30T01:03:26.851Z"
   },
   {
    "duration": 0,
    "start_time": "2024-10-30T01:03:26.852Z"
   },
   {
    "duration": 0,
    "start_time": "2024-10-30T01:03:26.854Z"
   },
   {
    "duration": 0,
    "start_time": "2024-10-30T01:03:26.855Z"
   },
   {
    "duration": 0,
    "start_time": "2024-10-30T01:03:26.856Z"
   },
   {
    "duration": 0,
    "start_time": "2024-10-30T01:03:26.857Z"
   },
   {
    "duration": 0,
    "start_time": "2024-10-30T01:03:26.858Z"
   },
   {
    "duration": 0,
    "start_time": "2024-10-30T01:03:26.859Z"
   },
   {
    "duration": 0,
    "start_time": "2024-10-30T01:03:26.860Z"
   },
   {
    "duration": 0,
    "start_time": "2024-10-30T01:03:26.861Z"
   },
   {
    "duration": 0,
    "start_time": "2024-10-30T01:03:26.862Z"
   },
   {
    "duration": 0,
    "start_time": "2024-10-30T01:03:26.864Z"
   },
   {
    "duration": 0,
    "start_time": "2024-10-30T01:03:26.865Z"
   },
   {
    "duration": 4,
    "start_time": "2024-10-30T01:03:28.901Z"
   },
   {
    "duration": 511,
    "start_time": "2024-10-30T01:03:28.908Z"
   },
   {
    "duration": 5,
    "start_time": "2024-10-30T01:03:29.423Z"
   },
   {
    "duration": 216,
    "start_time": "2024-10-30T01:03:29.429Z"
   },
   {
    "duration": 108,
    "start_time": "2024-10-30T01:03:29.648Z"
   },
   {
    "duration": 187,
    "start_time": "2024-10-30T01:03:29.759Z"
   },
   {
    "duration": 14,
    "start_time": "2024-10-30T01:03:29.948Z"
   },
   {
    "duration": 163,
    "start_time": "2024-10-30T01:03:29.964Z"
   },
   {
    "duration": 7,
    "start_time": "2024-10-30T01:03:30.129Z"
   },
   {
    "duration": 5,
    "start_time": "2024-10-30T01:03:30.138Z"
   },
   {
    "duration": 57,
    "start_time": "2024-10-30T01:03:30.144Z"
   },
   {
    "duration": 51,
    "start_time": "2024-10-30T01:03:30.203Z"
   },
   {
    "duration": 163,
    "start_time": "2024-10-30T01:03:30.256Z"
   },
   {
    "duration": 97,
    "start_time": "2024-10-30T01:03:30.426Z"
   },
   {
    "duration": 10,
    "start_time": "2024-10-30T01:03:30.525Z"
   },
   {
    "duration": 5,
    "start_time": "2024-10-30T01:03:30.538Z"
   },
   {
    "duration": 11,
    "start_time": "2024-10-30T01:03:30.545Z"
   },
   {
    "duration": 5,
    "start_time": "2024-10-30T01:03:30.558Z"
   },
   {
    "duration": 3,
    "start_time": "2024-10-30T01:03:30.565Z"
   },
   {
    "duration": 5,
    "start_time": "2024-10-30T01:03:30.570Z"
   },
   {
    "duration": 4,
    "start_time": "2024-10-30T01:03:30.576Z"
   },
   {
    "duration": 411,
    "start_time": "2024-10-30T01:03:30.581Z"
   },
   {
    "duration": 3,
    "start_time": "2024-10-30T01:03:30.994Z"
   },
   {
    "duration": 7,
    "start_time": "2024-10-30T01:03:30.999Z"
   },
   {
    "duration": 4,
    "start_time": "2024-10-30T01:03:31.024Z"
   },
   {
    "duration": 4,
    "start_time": "2024-10-30T01:03:31.030Z"
   },
   {
    "duration": 4,
    "start_time": "2024-10-30T01:03:31.036Z"
   },
   {
    "duration": 3,
    "start_time": "2024-10-30T01:03:31.042Z"
   },
   {
    "duration": 3,
    "start_time": "2024-10-30T01:03:31.048Z"
   },
   {
    "duration": 278,
    "start_time": "2024-10-30T01:03:31.053Z"
   },
   {
    "duration": 246,
    "start_time": "2024-10-30T01:03:31.333Z"
   },
   {
    "duration": 366,
    "start_time": "2024-10-30T01:03:31.581Z"
   },
   {
    "duration": 375,
    "start_time": "2024-10-30T01:03:31.949Z"
   },
   {
    "duration": 10,
    "start_time": "2024-10-30T01:03:32.326Z"
   },
   {
    "duration": 7,
    "start_time": "2024-10-30T01:03:32.338Z"
   },
   {
    "duration": 8,
    "start_time": "2024-10-30T01:03:32.347Z"
   },
   {
    "duration": 5,
    "start_time": "2024-10-30T01:03:32.357Z"
   },
   {
    "duration": 317,
    "start_time": "2024-10-30T01:03:32.363Z"
   },
   {
    "duration": 274,
    "start_time": "2024-10-30T01:03:32.682Z"
   },
   {
    "duration": 4,
    "start_time": "2024-10-30T01:03:32.958Z"
   },
   {
    "duration": 174,
    "start_time": "2024-10-30T01:03:32.966Z"
   },
   {
    "duration": 5,
    "start_time": "2024-10-30T01:03:33.143Z"
   },
   {
    "duration": 2809,
    "start_time": "2024-10-30T08:44:39.594Z"
   },
   {
    "duration": 649,
    "start_time": "2024-10-30T08:44:42.405Z"
   },
   {
    "duration": 3,
    "start_time": "2024-10-30T08:44:43.056Z"
   },
   {
    "duration": 256,
    "start_time": "2024-10-30T08:44:43.061Z"
   },
   {
    "duration": 101,
    "start_time": "2024-10-30T08:44:43.320Z"
   },
   {
    "duration": 194,
    "start_time": "2024-10-30T08:44:43.432Z"
   },
   {
    "duration": 15,
    "start_time": "2024-10-30T08:44:43.630Z"
   },
   {
    "duration": 168,
    "start_time": "2024-10-30T08:44:43.648Z"
   },
   {
    "duration": 15,
    "start_time": "2024-10-30T08:44:43.818Z"
   },
   {
    "duration": 4,
    "start_time": "2024-10-30T08:44:43.836Z"
   },
   {
    "duration": 58,
    "start_time": "2024-10-30T08:44:43.842Z"
   },
   {
    "duration": 48,
    "start_time": "2024-10-30T08:44:43.902Z"
   },
   {
    "duration": 164,
    "start_time": "2024-10-30T08:44:43.952Z"
   },
   {
    "duration": 101,
    "start_time": "2024-10-30T08:44:44.118Z"
   },
   {
    "duration": 8,
    "start_time": "2024-10-30T08:44:44.230Z"
   },
   {
    "duration": 5,
    "start_time": "2024-10-30T08:44:44.240Z"
   },
   {
    "duration": 10,
    "start_time": "2024-10-30T08:44:44.247Z"
   },
   {
    "duration": 5,
    "start_time": "2024-10-30T08:44:44.259Z"
   },
   {
    "duration": 4,
    "start_time": "2024-10-30T08:44:44.265Z"
   },
   {
    "duration": 4,
    "start_time": "2024-10-30T08:44:44.270Z"
   },
   {
    "duration": 4,
    "start_time": "2024-10-30T08:44:44.276Z"
   },
   {
    "duration": 422,
    "start_time": "2024-10-30T08:44:44.282Z"
   },
   {
    "duration": 3,
    "start_time": "2024-10-30T08:44:44.705Z"
   },
   {
    "duration": 22,
    "start_time": "2024-10-30T08:44:44.710Z"
   },
   {
    "duration": 4,
    "start_time": "2024-10-30T08:44:44.734Z"
   },
   {
    "duration": 4,
    "start_time": "2024-10-30T08:44:44.740Z"
   },
   {
    "duration": 4,
    "start_time": "2024-10-30T08:44:44.746Z"
   },
   {
    "duration": 5,
    "start_time": "2024-10-30T08:44:44.754Z"
   },
   {
    "duration": 3,
    "start_time": "2024-10-30T08:44:44.761Z"
   },
   {
    "duration": 304,
    "start_time": "2024-10-30T08:44:44.766Z"
   },
   {
    "duration": 220,
    "start_time": "2024-10-30T08:44:45.072Z"
   },
   {
    "duration": 371,
    "start_time": "2024-10-30T08:44:45.294Z"
   },
   {
    "duration": 352,
    "start_time": "2024-10-30T08:44:45.667Z"
   },
   {
    "duration": 16,
    "start_time": "2024-10-30T08:44:46.021Z"
   },
   {
    "duration": 6,
    "start_time": "2024-10-30T08:44:46.039Z"
   },
   {
    "duration": 4,
    "start_time": "2024-10-30T08:44:46.046Z"
   },
   {
    "duration": 3,
    "start_time": "2024-10-30T08:44:46.052Z"
   },
   {
    "duration": 295,
    "start_time": "2024-10-30T08:44:46.057Z"
   },
   {
    "duration": 255,
    "start_time": "2024-10-30T08:44:46.354Z"
   },
   {
    "duration": 4,
    "start_time": "2024-10-30T08:44:46.611Z"
   },
   {
    "duration": 177,
    "start_time": "2024-10-30T08:44:46.617Z"
   },
   {
    "duration": 5,
    "start_time": "2024-10-30T08:44:46.798Z"
   },
   {
    "duration": 460037,
    "start_time": "2024-10-30T08:44:46.805Z"
   },
   {
    "duration": 2879,
    "start_time": "2024-10-31T18:13:04.857Z"
   },
   {
    "duration": 615,
    "start_time": "2024-10-31T18:13:07.739Z"
   },
   {
    "duration": 2,
    "start_time": "2024-10-31T18:13:08.356Z"
   },
   {
    "duration": 187,
    "start_time": "2024-10-31T18:13:08.360Z"
   },
   {
    "duration": 106,
    "start_time": "2024-10-31T18:13:08.550Z"
   },
   {
    "duration": 189,
    "start_time": "2024-10-31T18:13:08.657Z"
   },
   {
    "duration": 14,
    "start_time": "2024-10-31T18:13:08.848Z"
   },
   {
    "duration": 174,
    "start_time": "2024-10-31T18:13:08.864Z"
   },
   {
    "duration": 11,
    "start_time": "2024-10-31T18:13:09.040Z"
   },
   {
    "duration": 5,
    "start_time": "2024-10-31T18:13:09.052Z"
   },
   {
    "duration": 73,
    "start_time": "2024-10-31T18:13:09.059Z"
   },
   {
    "duration": 30,
    "start_time": "2024-10-31T18:13:09.134Z"
   },
   {
    "duration": 162,
    "start_time": "2024-10-31T18:13:09.166Z"
   },
   {
    "duration": 96,
    "start_time": "2024-10-31T18:13:09.332Z"
   },
   {
    "duration": 8,
    "start_time": "2024-10-31T18:13:09.430Z"
   },
   {
    "duration": 5,
    "start_time": "2024-10-31T18:13:09.439Z"
   },
   {
    "duration": 10,
    "start_time": "2024-10-31T18:13:09.445Z"
   },
   {
    "duration": 5,
    "start_time": "2024-10-31T18:13:09.456Z"
   },
   {
    "duration": 3,
    "start_time": "2024-10-31T18:13:09.462Z"
   },
   {
    "duration": 4,
    "start_time": "2024-10-31T18:13:09.467Z"
   },
   {
    "duration": 39,
    "start_time": "2024-10-31T18:13:09.472Z"
   },
   {
    "duration": 375,
    "start_time": "2024-10-31T18:13:09.513Z"
   },
   {
    "duration": 3,
    "start_time": "2024-10-31T18:13:09.890Z"
   },
   {
    "duration": 20,
    "start_time": "2024-10-31T18:13:09.894Z"
   },
   {
    "duration": 5,
    "start_time": "2024-10-31T18:13:09.916Z"
   },
   {
    "duration": 4,
    "start_time": "2024-10-31T18:13:09.923Z"
   },
   {
    "duration": 5,
    "start_time": "2024-10-31T18:13:09.929Z"
   },
   {
    "duration": 5,
    "start_time": "2024-10-31T18:13:09.935Z"
   },
   {
    "duration": 7,
    "start_time": "2024-10-31T18:13:09.942Z"
   },
   {
    "duration": 337,
    "start_time": "2024-10-31T18:13:09.950Z"
   },
   {
    "duration": 261,
    "start_time": "2024-10-31T18:13:10.289Z"
   },
   {
    "duration": 337,
    "start_time": "2024-10-31T18:13:10.552Z"
   },
   {
    "duration": 422,
    "start_time": "2024-10-31T18:13:10.891Z"
   },
   {
    "duration": 11,
    "start_time": "2024-10-31T18:13:11.316Z"
   },
   {
    "duration": 7,
    "start_time": "2024-10-31T18:13:11.329Z"
   },
   {
    "duration": 4,
    "start_time": "2024-10-31T18:13:11.338Z"
   },
   {
    "duration": 4,
    "start_time": "2024-10-31T18:13:11.344Z"
   },
   {
    "duration": 322,
    "start_time": "2024-10-31T18:13:11.350Z"
   },
   {
    "duration": 273,
    "start_time": "2024-10-31T18:13:11.674Z"
   },
   {
    "duration": 5,
    "start_time": "2024-10-31T18:13:11.950Z"
   },
   {
    "duration": 173,
    "start_time": "2024-10-31T18:13:11.960Z"
   },
   {
    "duration": 5,
    "start_time": "2024-10-31T18:13:12.135Z"
   },
   {
    "duration": 0,
    "start_time": "2024-10-31T18:19:23.636Z"
   },
   {
    "duration": 0,
    "start_time": "2024-10-31T18:19:23.637Z"
   },
   {
    "duration": 0,
    "start_time": "2024-10-31T18:19:23.639Z"
   },
   {
    "duration": 0,
    "start_time": "2024-10-31T18:19:23.640Z"
   },
   {
    "duration": 0,
    "start_time": "2024-10-31T18:19:23.641Z"
   },
   {
    "duration": 0,
    "start_time": "2024-10-31T18:19:23.642Z"
   },
   {
    "duration": 0,
    "start_time": "2024-10-31T18:19:23.643Z"
   },
   {
    "duration": 0,
    "start_time": "2024-10-31T18:19:23.644Z"
   },
   {
    "duration": 0,
    "start_time": "2024-10-31T18:19:23.646Z"
   },
   {
    "duration": 0,
    "start_time": "2024-10-31T18:19:23.647Z"
   },
   {
    "duration": 0,
    "start_time": "2024-10-31T18:19:23.649Z"
   },
   {
    "duration": 0,
    "start_time": "2024-10-31T18:19:23.650Z"
   },
   {
    "duration": 0,
    "start_time": "2024-10-31T18:19:23.652Z"
   },
   {
    "duration": 0,
    "start_time": "2024-10-31T18:19:23.653Z"
   },
   {
    "duration": 0,
    "start_time": "2024-10-31T18:19:23.654Z"
   },
   {
    "duration": 0,
    "start_time": "2024-10-31T18:19:23.656Z"
   },
   {
    "duration": 0,
    "start_time": "2024-10-31T18:19:23.657Z"
   },
   {
    "duration": 0,
    "start_time": "2024-10-31T18:19:23.659Z"
   },
   {
    "duration": 0,
    "start_time": "2024-10-31T18:19:23.660Z"
   },
   {
    "duration": 0,
    "start_time": "2024-10-31T18:19:23.662Z"
   },
   {
    "duration": 0,
    "start_time": "2024-10-31T18:19:23.663Z"
   },
   {
    "duration": 0,
    "start_time": "2024-10-31T18:19:23.664Z"
   },
   {
    "duration": 0,
    "start_time": "2024-10-31T18:19:23.666Z"
   },
   {
    "duration": 0,
    "start_time": "2024-10-31T18:19:23.712Z"
   },
   {
    "duration": 0,
    "start_time": "2024-10-31T18:19:23.713Z"
   },
   {
    "duration": 0,
    "start_time": "2024-10-31T18:19:23.714Z"
   },
   {
    "duration": 0,
    "start_time": "2024-10-31T18:19:23.715Z"
   },
   {
    "duration": 0,
    "start_time": "2024-10-31T18:19:23.717Z"
   },
   {
    "duration": 0,
    "start_time": "2024-10-31T18:19:23.718Z"
   },
   {
    "duration": 0,
    "start_time": "2024-10-31T18:19:23.719Z"
   },
   {
    "duration": 0,
    "start_time": "2024-10-31T18:19:23.720Z"
   },
   {
    "duration": 0,
    "start_time": "2024-10-31T18:19:23.722Z"
   },
   {
    "duration": 0,
    "start_time": "2024-10-31T18:19:23.723Z"
   },
   {
    "duration": 0,
    "start_time": "2024-10-31T18:19:23.724Z"
   },
   {
    "duration": 0,
    "start_time": "2024-10-31T18:19:23.725Z"
   },
   {
    "duration": 0,
    "start_time": "2024-10-31T18:19:23.726Z"
   },
   {
    "duration": 0,
    "start_time": "2024-10-31T18:19:23.728Z"
   },
   {
    "duration": 0,
    "start_time": "2024-10-31T18:19:23.730Z"
   },
   {
    "duration": 0,
    "start_time": "2024-10-31T18:19:23.732Z"
   },
   {
    "duration": 0,
    "start_time": "2024-10-31T18:19:23.733Z"
   },
   {
    "duration": 0,
    "start_time": "2024-10-31T18:19:23.735Z"
   },
   {
    "duration": 0,
    "start_time": "2024-10-31T18:19:23.736Z"
   },
   {
    "duration": 0,
    "start_time": "2024-10-31T18:19:23.738Z"
   },
   {
    "duration": 0,
    "start_time": "2024-10-31T18:19:23.739Z"
   },
   {
    "duration": 3,
    "start_time": "2024-10-31T18:19:24.789Z"
   },
   {
    "duration": 528,
    "start_time": "2024-10-31T18:19:24.794Z"
   },
   {
    "duration": 3,
    "start_time": "2024-10-31T18:19:25.323Z"
   },
   {
    "duration": 184,
    "start_time": "2024-10-31T18:19:25.329Z"
   },
   {
    "duration": 96,
    "start_time": "2024-10-31T18:19:25.516Z"
   },
   {
    "duration": 186,
    "start_time": "2024-10-31T18:19:25.614Z"
   },
   {
    "duration": 19,
    "start_time": "2024-10-31T18:19:25.802Z"
   },
   {
    "duration": 160,
    "start_time": "2024-10-31T18:19:25.822Z"
   },
   {
    "duration": 11,
    "start_time": "2024-10-31T18:19:25.984Z"
   },
   {
    "duration": 16,
    "start_time": "2024-10-31T18:19:25.997Z"
   },
   {
    "duration": 3,
    "start_time": "2024-10-31T18:19:26.014Z"
   },
   {
    "duration": 3,
    "start_time": "2024-10-31T18:19:26.018Z"
   },
   {
    "duration": 5,
    "start_time": "2024-10-31T18:19:26.023Z"
   },
   {
    "duration": 170,
    "start_time": "2024-10-31T18:19:26.032Z"
   },
   {
    "duration": 97,
    "start_time": "2024-10-31T18:19:26.203Z"
   },
   {
    "duration": 16,
    "start_time": "2024-10-31T18:19:26.302Z"
   },
   {
    "duration": 5,
    "start_time": "2024-10-31T18:19:26.320Z"
   },
   {
    "duration": 11,
    "start_time": "2024-10-31T18:19:26.327Z"
   },
   {
    "duration": 5,
    "start_time": "2024-10-31T18:19:26.341Z"
   },
   {
    "duration": 4,
    "start_time": "2024-10-31T18:19:26.347Z"
   },
   {
    "duration": 3,
    "start_time": "2024-10-31T18:19:26.353Z"
   },
   {
    "duration": 3,
    "start_time": "2024-10-31T18:19:26.358Z"
   },
   {
    "duration": 485,
    "start_time": "2024-10-31T18:19:26.363Z"
   },
   {
    "duration": 3,
    "start_time": "2024-10-31T18:19:26.850Z"
   },
   {
    "duration": 61,
    "start_time": "2024-10-31T18:19:26.854Z"
   },
   {
    "duration": 6,
    "start_time": "2024-10-31T18:19:26.917Z"
   },
   {
    "duration": 5,
    "start_time": "2024-10-31T18:19:26.925Z"
   },
   {
    "duration": 5,
    "start_time": "2024-10-31T18:19:26.932Z"
   },
   {
    "duration": 4,
    "start_time": "2024-10-31T18:19:26.939Z"
   },
   {
    "duration": 4,
    "start_time": "2024-10-31T18:19:26.945Z"
   },
   {
    "duration": 507,
    "start_time": "2024-10-31T18:19:26.951Z"
   },
   {
    "duration": 267,
    "start_time": "2024-10-31T18:19:27.512Z"
   },
   {
    "duration": 417,
    "start_time": "2024-10-31T18:19:27.781Z"
   },
   {
    "duration": 389,
    "start_time": "2024-10-31T18:19:28.201Z"
   },
   {
    "duration": 9,
    "start_time": "2024-10-31T18:19:28.592Z"
   },
   {
    "duration": 7,
    "start_time": "2024-10-31T18:19:28.611Z"
   },
   {
    "duration": 4,
    "start_time": "2024-10-31T18:19:28.620Z"
   },
   {
    "duration": 4,
    "start_time": "2024-10-31T18:19:28.625Z"
   },
   {
    "duration": 267,
    "start_time": "2024-10-31T18:19:28.631Z"
   },
   {
    "duration": 372,
    "start_time": "2024-10-31T18:19:28.900Z"
   },
   {
    "duration": 3,
    "start_time": "2024-10-31T18:19:29.278Z"
   },
   {
    "duration": 170,
    "start_time": "2024-10-31T18:19:29.283Z"
   },
   {
    "duration": 4,
    "start_time": "2024-10-31T18:19:29.456Z"
   },
   {
    "duration": 0,
    "start_time": "2024-10-31T18:21:01.686Z"
   },
   {
    "duration": 0,
    "start_time": "2024-10-31T18:21:01.687Z"
   },
   {
    "duration": 0,
    "start_time": "2024-10-31T18:21:01.689Z"
   },
   {
    "duration": 0,
    "start_time": "2024-10-31T18:21:01.690Z"
   },
   {
    "duration": 0,
    "start_time": "2024-10-31T18:21:01.692Z"
   },
   {
    "duration": 0,
    "start_time": "2024-10-31T18:21:01.693Z"
   },
   {
    "duration": 0,
    "start_time": "2024-10-31T18:21:01.694Z"
   },
   {
    "duration": 0,
    "start_time": "2024-10-31T18:21:01.695Z"
   },
   {
    "duration": 0,
    "start_time": "2024-10-31T18:21:01.696Z"
   },
   {
    "duration": 0,
    "start_time": "2024-10-31T18:21:01.711Z"
   },
   {
    "duration": 0,
    "start_time": "2024-10-31T18:21:01.713Z"
   },
   {
    "duration": 0,
    "start_time": "2024-10-31T18:21:01.714Z"
   },
   {
    "duration": 0,
    "start_time": "2024-10-31T18:21:01.715Z"
   },
   {
    "duration": 0,
    "start_time": "2024-10-31T18:21:01.716Z"
   },
   {
    "duration": 0,
    "start_time": "2024-10-31T18:21:01.717Z"
   },
   {
    "duration": 0,
    "start_time": "2024-10-31T18:21:01.718Z"
   },
   {
    "duration": 0,
    "start_time": "2024-10-31T18:21:01.719Z"
   },
   {
    "duration": 0,
    "start_time": "2024-10-31T18:21:01.720Z"
   },
   {
    "duration": 0,
    "start_time": "2024-10-31T18:21:01.721Z"
   },
   {
    "duration": 0,
    "start_time": "2024-10-31T18:21:01.722Z"
   },
   {
    "duration": 0,
    "start_time": "2024-10-31T18:21:01.724Z"
   },
   {
    "duration": 0,
    "start_time": "2024-10-31T18:21:01.725Z"
   },
   {
    "duration": 0,
    "start_time": "2024-10-31T18:21:01.726Z"
   },
   {
    "duration": 0,
    "start_time": "2024-10-31T18:21:01.728Z"
   },
   {
    "duration": 0,
    "start_time": "2024-10-31T18:21:01.729Z"
   },
   {
    "duration": 0,
    "start_time": "2024-10-31T18:21:01.731Z"
   },
   {
    "duration": 0,
    "start_time": "2024-10-31T18:21:01.732Z"
   },
   {
    "duration": 0,
    "start_time": "2024-10-31T18:21:01.733Z"
   },
   {
    "duration": 0,
    "start_time": "2024-10-31T18:21:01.735Z"
   },
   {
    "duration": 0,
    "start_time": "2024-10-31T18:21:01.736Z"
   },
   {
    "duration": 0,
    "start_time": "2024-10-31T18:21:01.741Z"
   },
   {
    "duration": 0,
    "start_time": "2024-10-31T18:21:01.742Z"
   },
   {
    "duration": 1,
    "start_time": "2024-10-31T18:21:01.743Z"
   },
   {
    "duration": 0,
    "start_time": "2024-10-31T18:21:01.745Z"
   },
   {
    "duration": 0,
    "start_time": "2024-10-31T18:21:01.746Z"
   },
   {
    "duration": 0,
    "start_time": "2024-10-31T18:21:01.747Z"
   },
   {
    "duration": 0,
    "start_time": "2024-10-31T18:21:01.749Z"
   },
   {
    "duration": 0,
    "start_time": "2024-10-31T18:21:01.751Z"
   },
   {
    "duration": 0,
    "start_time": "2024-10-31T18:21:01.812Z"
   },
   {
    "duration": 0,
    "start_time": "2024-10-31T18:21:01.814Z"
   },
   {
    "duration": 0,
    "start_time": "2024-10-31T18:21:01.816Z"
   },
   {
    "duration": 0,
    "start_time": "2024-10-31T18:21:01.817Z"
   },
   {
    "duration": 0,
    "start_time": "2024-10-31T18:21:01.819Z"
   },
   {
    "duration": 0,
    "start_time": "2024-10-31T18:21:01.820Z"
   },
   {
    "duration": 4,
    "start_time": "2024-10-31T18:21:03.870Z"
   },
   {
    "duration": 497,
    "start_time": "2024-10-31T18:21:03.921Z"
   },
   {
    "duration": 3,
    "start_time": "2024-10-31T18:21:04.420Z"
   },
   {
    "duration": 166,
    "start_time": "2024-10-31T18:21:04.425Z"
   },
   {
    "duration": 101,
    "start_time": "2024-10-31T18:21:04.593Z"
   },
   {
    "duration": 195,
    "start_time": "2024-10-31T18:21:04.698Z"
   },
   {
    "duration": 23,
    "start_time": "2024-10-31T18:21:04.895Z"
   },
   {
    "duration": 171,
    "start_time": "2024-10-31T18:21:04.920Z"
   },
   {
    "duration": 19,
    "start_time": "2024-10-31T18:21:05.093Z"
   },
   {
    "duration": 3,
    "start_time": "2024-10-31T18:21:05.114Z"
   },
   {
    "duration": 3,
    "start_time": "2024-10-31T18:21:05.119Z"
   },
   {
    "duration": 2,
    "start_time": "2024-10-31T18:21:05.125Z"
   },
   {
    "duration": 8,
    "start_time": "2024-10-31T18:21:05.129Z"
   },
   {
    "duration": 183,
    "start_time": "2024-10-31T18:21:05.139Z"
   },
   {
    "duration": 103,
    "start_time": "2024-10-31T18:21:05.326Z"
   },
   {
    "duration": 7,
    "start_time": "2024-10-31T18:21:05.431Z"
   },
   {
    "duration": 4,
    "start_time": "2024-10-31T18:21:05.440Z"
   },
   {
    "duration": 10,
    "start_time": "2024-10-31T18:21:05.445Z"
   },
   {
    "duration": 5,
    "start_time": "2024-10-31T18:21:05.457Z"
   },
   {
    "duration": 4,
    "start_time": "2024-10-31T18:21:05.463Z"
   },
   {
    "duration": 3,
    "start_time": "2024-10-31T18:21:05.469Z"
   },
   {
    "duration": 38,
    "start_time": "2024-10-31T18:21:05.475Z"
   },
   {
    "duration": 516,
    "start_time": "2024-10-31T18:21:05.515Z"
   },
   {
    "duration": 3,
    "start_time": "2024-10-31T18:21:06.032Z"
   },
   {
    "duration": 8,
    "start_time": "2024-10-31T18:21:06.037Z"
   },
   {
    "duration": 5,
    "start_time": "2024-10-31T18:21:06.047Z"
   },
   {
    "duration": 59,
    "start_time": "2024-10-31T18:21:06.055Z"
   },
   {
    "duration": 4,
    "start_time": "2024-10-31T18:21:06.117Z"
   },
   {
    "duration": 6,
    "start_time": "2024-10-31T18:21:06.123Z"
   },
   {
    "duration": 5,
    "start_time": "2024-10-31T18:21:06.130Z"
   },
   {
    "duration": 407,
    "start_time": "2024-10-31T18:21:06.137Z"
   },
   {
    "duration": 226,
    "start_time": "2024-10-31T18:21:06.546Z"
   },
   {
    "duration": 316,
    "start_time": "2024-10-31T18:21:06.774Z"
   },
   {
    "duration": 393,
    "start_time": "2024-10-31T18:21:07.092Z"
   },
   {
    "duration": 9,
    "start_time": "2024-10-31T18:21:07.487Z"
   },
   {
    "duration": 15,
    "start_time": "2024-10-31T18:21:07.499Z"
   },
   {
    "duration": 4,
    "start_time": "2024-10-31T18:21:07.515Z"
   },
   {
    "duration": 4,
    "start_time": "2024-10-31T18:21:07.520Z"
   },
   {
    "duration": 281,
    "start_time": "2024-10-31T18:21:07.525Z"
   },
   {
    "duration": 376,
    "start_time": "2024-10-31T18:21:07.811Z"
   },
   {
    "duration": 4,
    "start_time": "2024-10-31T18:21:08.189Z"
   },
   {
    "duration": 161,
    "start_time": "2024-10-31T18:21:08.212Z"
   },
   {
    "duration": 5,
    "start_time": "2024-10-31T18:21:08.375Z"
   },
   {
    "duration": 0,
    "start_time": "2024-10-31T18:24:45.591Z"
   },
   {
    "duration": 0,
    "start_time": "2024-10-31T18:24:45.593Z"
   },
   {
    "duration": 0,
    "start_time": "2024-10-31T18:24:45.594Z"
   },
   {
    "duration": 0,
    "start_time": "2024-10-31T18:24:45.611Z"
   },
   {
    "duration": 0,
    "start_time": "2024-10-31T18:24:45.612Z"
   },
   {
    "duration": 0,
    "start_time": "2024-10-31T18:24:45.614Z"
   },
   {
    "duration": 0,
    "start_time": "2024-10-31T18:24:45.616Z"
   },
   {
    "duration": 0,
    "start_time": "2024-10-31T18:24:45.618Z"
   },
   {
    "duration": 0,
    "start_time": "2024-10-31T18:24:45.619Z"
   },
   {
    "duration": 0,
    "start_time": "2024-10-31T18:24:45.621Z"
   },
   {
    "duration": 0,
    "start_time": "2024-10-31T18:24:45.622Z"
   },
   {
    "duration": 0,
    "start_time": "2024-10-31T18:24:45.624Z"
   },
   {
    "duration": 0,
    "start_time": "2024-10-31T18:24:45.625Z"
   },
   {
    "duration": 0,
    "start_time": "2024-10-31T18:24:45.626Z"
   },
   {
    "duration": 0,
    "start_time": "2024-10-31T18:24:45.628Z"
   },
   {
    "duration": 0,
    "start_time": "2024-10-31T18:24:45.629Z"
   },
   {
    "duration": 0,
    "start_time": "2024-10-31T18:24:45.631Z"
   },
   {
    "duration": 0,
    "start_time": "2024-10-31T18:24:45.632Z"
   },
   {
    "duration": 0,
    "start_time": "2024-10-31T18:24:45.634Z"
   },
   {
    "duration": 0,
    "start_time": "2024-10-31T18:24:45.635Z"
   },
   {
    "duration": 0,
    "start_time": "2024-10-31T18:24:45.637Z"
   },
   {
    "duration": 0,
    "start_time": "2024-10-31T18:24:45.638Z"
   },
   {
    "duration": 0,
    "start_time": "2024-10-31T18:24:45.640Z"
   },
   {
    "duration": 0,
    "start_time": "2024-10-31T18:24:45.642Z"
   },
   {
    "duration": 0,
    "start_time": "2024-10-31T18:24:45.644Z"
   },
   {
    "duration": 0,
    "start_time": "2024-10-31T18:24:45.646Z"
   },
   {
    "duration": 0,
    "start_time": "2024-10-31T18:24:45.647Z"
   },
   {
    "duration": 0,
    "start_time": "2024-10-31T18:24:45.649Z"
   },
   {
    "duration": 0,
    "start_time": "2024-10-31T18:24:45.650Z"
   },
   {
    "duration": 0,
    "start_time": "2024-10-31T18:24:45.652Z"
   },
   {
    "duration": 0,
    "start_time": "2024-10-31T18:24:45.653Z"
   },
   {
    "duration": 0,
    "start_time": "2024-10-31T18:24:45.654Z"
   },
   {
    "duration": 0,
    "start_time": "2024-10-31T18:24:45.712Z"
   },
   {
    "duration": 0,
    "start_time": "2024-10-31T18:24:45.713Z"
   },
   {
    "duration": 0,
    "start_time": "2024-10-31T18:24:45.714Z"
   },
   {
    "duration": 0,
    "start_time": "2024-10-31T18:24:45.715Z"
   },
   {
    "duration": 0,
    "start_time": "2024-10-31T18:24:45.716Z"
   },
   {
    "duration": 0,
    "start_time": "2024-10-31T18:24:45.718Z"
   },
   {
    "duration": 0,
    "start_time": "2024-10-31T18:24:45.718Z"
   },
   {
    "duration": 0,
    "start_time": "2024-10-31T18:24:45.719Z"
   },
   {
    "duration": 0,
    "start_time": "2024-10-31T18:24:45.720Z"
   },
   {
    "duration": 0,
    "start_time": "2024-10-31T18:24:45.721Z"
   },
   {
    "duration": 0,
    "start_time": "2024-10-31T18:24:45.722Z"
   },
   {
    "duration": 0,
    "start_time": "2024-10-31T18:24:45.723Z"
   },
   {
    "duration": 0,
    "start_time": "2024-10-31T18:24:45.724Z"
   },
   {
    "duration": 3,
    "start_time": "2024-10-31T18:24:51.005Z"
   },
   {
    "duration": 483,
    "start_time": "2024-10-31T18:24:51.022Z"
   },
   {
    "duration": 3,
    "start_time": "2024-10-31T18:24:51.507Z"
   },
   {
    "duration": 172,
    "start_time": "2024-10-31T18:24:51.512Z"
   },
   {
    "duration": 103,
    "start_time": "2024-10-31T18:24:51.685Z"
   },
   {
    "duration": 184,
    "start_time": "2024-10-31T18:24:51.790Z"
   },
   {
    "duration": 14,
    "start_time": "2024-10-31T18:24:51.976Z"
   },
   {
    "duration": 263,
    "start_time": "2024-10-31T18:24:51.992Z"
   },
   {
    "duration": 13,
    "start_time": "2024-10-31T18:24:52.312Z"
   },
   {
    "duration": 3,
    "start_time": "2024-10-31T18:24:52.327Z"
   },
   {
    "duration": 3,
    "start_time": "2024-10-31T18:24:52.331Z"
   },
   {
    "duration": 3,
    "start_time": "2024-10-31T18:24:52.335Z"
   },
   {
    "duration": 3,
    "start_time": "2024-10-31T18:24:52.339Z"
   },
   {
    "duration": 311,
    "start_time": "2024-10-31T18:24:52.344Z"
   },
   {
    "duration": 224,
    "start_time": "2024-10-31T18:24:52.711Z"
   },
   {
    "duration": 8,
    "start_time": "2024-10-31T18:24:52.936Z"
   },
   {
    "duration": 4,
    "start_time": "2024-10-31T18:24:52.946Z"
   },
   {
    "duration": 10,
    "start_time": "2024-10-31T18:24:52.952Z"
   },
   {
    "duration": 5,
    "start_time": "2024-10-31T18:24:52.963Z"
   },
   {
    "duration": 3,
    "start_time": "2024-10-31T18:24:52.970Z"
   },
   {
    "duration": 37,
    "start_time": "2024-10-31T18:24:52.976Z"
   },
   {
    "duration": 4,
    "start_time": "2024-10-31T18:24:53.014Z"
   },
   {
    "duration": 379,
    "start_time": "2024-10-31T18:24:53.020Z"
   },
   {
    "duration": 11,
    "start_time": "2024-10-31T18:24:53.401Z"
   },
   {
    "duration": 8,
    "start_time": "2024-10-31T18:24:53.413Z"
   },
   {
    "duration": 5,
    "start_time": "2024-10-31T18:24:53.423Z"
   },
   {
    "duration": 6,
    "start_time": "2024-10-31T18:24:53.429Z"
   },
   {
    "duration": 7,
    "start_time": "2024-10-31T18:24:53.438Z"
   },
   {
    "duration": 4,
    "start_time": "2024-10-31T18:24:53.447Z"
   },
   {
    "duration": 4,
    "start_time": "2024-10-31T18:24:53.452Z"
   },
   {
    "duration": 299,
    "start_time": "2024-10-31T18:24:53.457Z"
   },
   {
    "duration": 207,
    "start_time": "2024-10-31T18:24:53.758Z"
   },
   {
    "duration": 317,
    "start_time": "2024-10-31T18:24:53.967Z"
   },
   {
    "duration": 387,
    "start_time": "2024-10-31T18:24:54.286Z"
   },
   {
    "duration": 11,
    "start_time": "2024-10-31T18:24:54.675Z"
   },
   {
    "duration": 25,
    "start_time": "2024-10-31T18:24:54.688Z"
   },
   {
    "duration": 6,
    "start_time": "2024-10-31T18:24:54.719Z"
   },
   {
    "duration": 4,
    "start_time": "2024-10-31T18:24:54.727Z"
   },
   {
    "duration": 285,
    "start_time": "2024-10-31T18:24:54.734Z"
   },
   {
    "duration": 270,
    "start_time": "2024-10-31T18:24:55.021Z"
   },
   {
    "duration": 5,
    "start_time": "2024-10-31T18:24:55.293Z"
   },
   {
    "duration": 173,
    "start_time": "2024-10-31T18:24:55.312Z"
   },
   {
    "duration": 5,
    "start_time": "2024-10-31T18:24:55.487Z"
   },
   {
    "duration": 220,
    "start_time": "2024-10-31T18:24:55.493Z"
   },
   {
    "duration": 7,
    "start_time": "2024-10-31T18:33:44.447Z"
   },
   {
    "duration": 3,
    "start_time": "2024-10-31T18:34:08.490Z"
   },
   {
    "duration": 927,
    "start_time": "2024-10-31T18:34:17.714Z"
   },
   {
    "duration": 516,
    "start_time": "2024-10-31T18:35:33.952Z"
   },
   {
    "duration": 1276,
    "start_time": "2024-10-31T18:37:14.666Z"
   },
   {
    "duration": 1355,
    "start_time": "2024-10-31T18:37:28.731Z"
   },
   {
    "duration": 356,
    "start_time": "2024-10-31T18:40:09.645Z"
   },
   {
    "duration": 481,
    "start_time": "2024-10-31T18:45:34.204Z"
   },
   {
    "duration": 5,
    "start_time": "2024-10-31T19:13:38.064Z"
   },
   {
    "duration": 3,
    "start_time": "2024-10-31T19:15:22.329Z"
   },
   {
    "duration": 520,
    "start_time": "2024-10-31T19:15:22.341Z"
   },
   {
    "duration": 3,
    "start_time": "2024-10-31T19:15:22.863Z"
   },
   {
    "duration": 185,
    "start_time": "2024-10-31T19:15:22.868Z"
   },
   {
    "duration": 112,
    "start_time": "2024-10-31T19:15:23.055Z"
   },
   {
    "duration": 207,
    "start_time": "2024-10-31T19:15:23.170Z"
   },
   {
    "duration": 15,
    "start_time": "2024-10-31T19:15:23.379Z"
   },
   {
    "duration": 165,
    "start_time": "2024-10-31T19:15:23.395Z"
   },
   {
    "duration": 11,
    "start_time": "2024-10-31T19:15:23.562Z"
   },
   {
    "duration": 178,
    "start_time": "2024-10-31T19:15:23.575Z"
   },
   {
    "duration": 102,
    "start_time": "2024-10-31T19:15:23.755Z"
   },
   {
    "duration": 10,
    "start_time": "2024-10-31T19:15:23.858Z"
   },
   {
    "duration": 4,
    "start_time": "2024-10-31T19:15:23.871Z"
   },
   {
    "duration": 11,
    "start_time": "2024-10-31T19:15:23.878Z"
   },
   {
    "duration": 5,
    "start_time": "2024-10-31T19:15:23.911Z"
   },
   {
    "duration": 5,
    "start_time": "2024-10-31T19:15:23.917Z"
   },
   {
    "duration": 3,
    "start_time": "2024-10-31T19:15:23.925Z"
   },
   {
    "duration": 4,
    "start_time": "2024-10-31T19:15:23.930Z"
   },
   {
    "duration": 359,
    "start_time": "2024-10-31T19:15:23.936Z"
   },
   {
    "duration": 4,
    "start_time": "2024-10-31T19:15:24.297Z"
   },
   {
    "duration": 15,
    "start_time": "2024-10-31T19:15:24.303Z"
   },
   {
    "duration": 8,
    "start_time": "2024-10-31T19:15:24.319Z"
   },
   {
    "duration": 1271,
    "start_time": "2024-10-31T19:15:24.329Z"
   },
   {
    "duration": 351,
    "start_time": "2024-10-31T19:15:25.602Z"
   },
   {
    "duration": 525,
    "start_time": "2024-10-31T19:15:25.954Z"
   },
   {
    "duration": 8,
    "start_time": "2024-10-31T19:15:26.481Z"
   },
   {
    "duration": 4,
    "start_time": "2024-10-31T19:15:26.490Z"
   },
   {
    "duration": 5,
    "start_time": "2024-10-31T19:15:26.512Z"
   },
   {
    "duration": 293,
    "start_time": "2024-10-31T19:15:26.519Z"
   },
   {
    "duration": 273,
    "start_time": "2024-10-31T19:15:26.813Z"
   },
   {
    "duration": 9,
    "start_time": "2024-10-31T19:15:27.089Z"
   },
   {
    "duration": 4,
    "start_time": "2024-10-31T19:15:27.111Z"
   },
   {
    "duration": 188,
    "start_time": "2024-10-31T19:15:27.117Z"
   },
   {
    "duration": 4,
    "start_time": "2024-10-31T19:15:27.311Z"
   },
   {
    "duration": 0,
    "start_time": "2024-10-31T19:16:11.048Z"
   },
   {
    "duration": 0,
    "start_time": "2024-10-31T19:16:11.049Z"
   },
   {
    "duration": 0,
    "start_time": "2024-10-31T19:16:11.050Z"
   },
   {
    "duration": 0,
    "start_time": "2024-10-31T19:16:11.051Z"
   },
   {
    "duration": 0,
    "start_time": "2024-10-31T19:16:11.052Z"
   },
   {
    "duration": 0,
    "start_time": "2024-10-31T19:16:11.053Z"
   },
   {
    "duration": 0,
    "start_time": "2024-10-31T19:16:11.054Z"
   },
   {
    "duration": 0,
    "start_time": "2024-10-31T19:16:11.055Z"
   },
   {
    "duration": 0,
    "start_time": "2024-10-31T19:16:11.056Z"
   },
   {
    "duration": 0,
    "start_time": "2024-10-31T19:16:11.057Z"
   },
   {
    "duration": 0,
    "start_time": "2024-10-31T19:16:11.058Z"
   },
   {
    "duration": 0,
    "start_time": "2024-10-31T19:16:11.059Z"
   },
   {
    "duration": 0,
    "start_time": "2024-10-31T19:16:11.060Z"
   },
   {
    "duration": 0,
    "start_time": "2024-10-31T19:16:11.061Z"
   },
   {
    "duration": 0,
    "start_time": "2024-10-31T19:16:11.062Z"
   },
   {
    "duration": 0,
    "start_time": "2024-10-31T19:16:11.063Z"
   },
   {
    "duration": 0,
    "start_time": "2024-10-31T19:16:11.065Z"
   },
   {
    "duration": 0,
    "start_time": "2024-10-31T19:16:11.069Z"
   },
   {
    "duration": 0,
    "start_time": "2024-10-31T19:16:11.070Z"
   },
   {
    "duration": 0,
    "start_time": "2024-10-31T19:16:11.072Z"
   },
   {
    "duration": 0,
    "start_time": "2024-10-31T19:16:11.073Z"
   },
   {
    "duration": 0,
    "start_time": "2024-10-31T19:16:11.075Z"
   },
   {
    "duration": 0,
    "start_time": "2024-10-31T19:16:11.112Z"
   },
   {
    "duration": 0,
    "start_time": "2024-10-31T19:16:11.113Z"
   },
   {
    "duration": 0,
    "start_time": "2024-10-31T19:16:11.114Z"
   },
   {
    "duration": 0,
    "start_time": "2024-10-31T19:16:11.115Z"
   },
   {
    "duration": 0,
    "start_time": "2024-10-31T19:16:11.116Z"
   },
   {
    "duration": 0,
    "start_time": "2024-10-31T19:16:11.117Z"
   },
   {
    "duration": 0,
    "start_time": "2024-10-31T19:16:11.118Z"
   },
   {
    "duration": 0,
    "start_time": "2024-10-31T19:16:11.119Z"
   },
   {
    "duration": 0,
    "start_time": "2024-10-31T19:16:11.120Z"
   },
   {
    "duration": 0,
    "start_time": "2024-10-31T19:16:11.121Z"
   },
   {
    "duration": 0,
    "start_time": "2024-10-31T19:16:11.122Z"
   },
   {
    "duration": 0,
    "start_time": "2024-10-31T19:16:11.123Z"
   },
   {
    "duration": 0,
    "start_time": "2024-10-31T19:16:11.124Z"
   },
   {
    "duration": 3,
    "start_time": "2024-10-31T19:16:17.152Z"
   },
   {
    "duration": 465,
    "start_time": "2024-10-31T19:16:17.159Z"
   },
   {
    "duration": 3,
    "start_time": "2024-10-31T19:16:17.627Z"
   },
   {
    "duration": 175,
    "start_time": "2024-10-31T19:16:17.631Z"
   },
   {
    "duration": 101,
    "start_time": "2024-10-31T19:16:17.813Z"
   },
   {
    "duration": 185,
    "start_time": "2024-10-31T19:16:17.916Z"
   },
   {
    "duration": 21,
    "start_time": "2024-10-31T19:16:18.103Z"
   },
   {
    "duration": 161,
    "start_time": "2024-10-31T19:16:18.126Z"
   },
   {
    "duration": 13,
    "start_time": "2024-10-31T19:16:18.289Z"
   },
   {
    "duration": 167,
    "start_time": "2024-10-31T19:16:18.312Z"
   },
   {
    "duration": 103,
    "start_time": "2024-10-31T19:16:18.483Z"
   },
   {
    "duration": 9,
    "start_time": "2024-10-31T19:16:18.587Z"
   },
   {
    "duration": 4,
    "start_time": "2024-10-31T19:16:18.598Z"
   },
   {
    "duration": 11,
    "start_time": "2024-10-31T19:16:18.611Z"
   },
   {
    "duration": 5,
    "start_time": "2024-10-31T19:16:18.623Z"
   },
   {
    "duration": 3,
    "start_time": "2024-10-31T19:16:18.630Z"
   },
   {
    "duration": 4,
    "start_time": "2024-10-31T19:16:18.635Z"
   },
   {
    "duration": 3,
    "start_time": "2024-10-31T19:16:18.640Z"
   },
   {
    "duration": 337,
    "start_time": "2024-10-31T19:16:18.645Z"
   },
   {
    "duration": 3,
    "start_time": "2024-10-31T19:16:18.983Z"
   },
   {
    "duration": 8,
    "start_time": "2024-10-31T19:16:18.987Z"
   },
   {
    "duration": 7,
    "start_time": "2024-10-31T19:16:19.012Z"
   },
   {
    "duration": 1244,
    "start_time": "2024-10-31T19:16:19.021Z"
   },
   {
    "duration": 379,
    "start_time": "2024-10-31T19:16:20.267Z"
   },
   {
    "duration": 511,
    "start_time": "2024-10-31T19:16:20.649Z"
   },
   {
    "duration": 9,
    "start_time": "2024-10-31T19:16:21.161Z"
   },
   {
    "duration": 5,
    "start_time": "2024-10-31T19:16:21.172Z"
   },
   {
    "duration": 5,
    "start_time": "2024-10-31T19:16:21.178Z"
   },
   {
    "duration": 281,
    "start_time": "2024-10-31T19:16:21.211Z"
   },
   {
    "duration": 275,
    "start_time": "2024-10-31T19:16:21.494Z"
   },
   {
    "duration": 8,
    "start_time": "2024-10-31T19:16:21.771Z"
   },
   {
    "duration": 4,
    "start_time": "2024-10-31T19:16:21.781Z"
   },
   {
    "duration": 195,
    "start_time": "2024-10-31T19:16:21.787Z"
   },
   {
    "duration": 4,
    "start_time": "2024-10-31T19:16:21.984Z"
   },
   {
    "duration": 0,
    "start_time": "2024-10-31T19:20:18.918Z"
   },
   {
    "duration": 0,
    "start_time": "2024-10-31T19:20:18.919Z"
   },
   {
    "duration": 0,
    "start_time": "2024-10-31T19:20:18.920Z"
   },
   {
    "duration": 0,
    "start_time": "2024-10-31T19:20:18.922Z"
   },
   {
    "duration": 0,
    "start_time": "2024-10-31T19:20:18.924Z"
   },
   {
    "duration": 0,
    "start_time": "2024-10-31T19:20:18.925Z"
   },
   {
    "duration": 0,
    "start_time": "2024-10-31T19:20:18.926Z"
   },
   {
    "duration": 0,
    "start_time": "2024-10-31T19:20:18.928Z"
   },
   {
    "duration": 0,
    "start_time": "2024-10-31T19:20:18.929Z"
   },
   {
    "duration": 0,
    "start_time": "2024-10-31T19:20:18.931Z"
   },
   {
    "duration": 0,
    "start_time": "2024-10-31T19:20:18.932Z"
   },
   {
    "duration": 0,
    "start_time": "2024-10-31T19:20:18.934Z"
   },
   {
    "duration": 0,
    "start_time": "2024-10-31T19:20:18.936Z"
   },
   {
    "duration": 0,
    "start_time": "2024-10-31T19:20:18.937Z"
   },
   {
    "duration": 0,
    "start_time": "2024-10-31T19:20:18.939Z"
   },
   {
    "duration": 0,
    "start_time": "2024-10-31T19:20:18.940Z"
   },
   {
    "duration": 0,
    "start_time": "2024-10-31T19:20:18.942Z"
   },
   {
    "duration": 0,
    "start_time": "2024-10-31T19:20:18.943Z"
   },
   {
    "duration": 0,
    "start_time": "2024-10-31T19:20:18.944Z"
   },
   {
    "duration": 0,
    "start_time": "2024-10-31T19:20:18.946Z"
   },
   {
    "duration": 0,
    "start_time": "2024-10-31T19:20:18.947Z"
   },
   {
    "duration": 0,
    "start_time": "2024-10-31T19:20:18.947Z"
   },
   {
    "duration": 0,
    "start_time": "2024-10-31T19:20:18.948Z"
   },
   {
    "duration": 0,
    "start_time": "2024-10-31T19:20:18.949Z"
   },
   {
    "duration": 0,
    "start_time": "2024-10-31T19:20:18.950Z"
   },
   {
    "duration": 0,
    "start_time": "2024-10-31T19:20:18.951Z"
   },
   {
    "duration": 0,
    "start_time": "2024-10-31T19:20:18.952Z"
   },
   {
    "duration": 0,
    "start_time": "2024-10-31T19:20:18.953Z"
   },
   {
    "duration": 0,
    "start_time": "2024-10-31T19:20:18.954Z"
   },
   {
    "duration": 0,
    "start_time": "2024-10-31T19:20:19.011Z"
   },
   {
    "duration": 0,
    "start_time": "2024-10-31T19:20:19.013Z"
   },
   {
    "duration": 0,
    "start_time": "2024-10-31T19:20:19.017Z"
   },
   {
    "duration": 0,
    "start_time": "2024-10-31T19:20:19.017Z"
   },
   {
    "duration": 0,
    "start_time": "2024-10-31T19:20:19.019Z"
   },
   {
    "duration": 0,
    "start_time": "2024-10-31T19:20:19.020Z"
   },
   {
    "duration": 3,
    "start_time": "2024-10-31T19:20:23.300Z"
   },
   {
    "duration": 560,
    "start_time": "2024-10-31T19:20:23.306Z"
   },
   {
    "duration": 3,
    "start_time": "2024-10-31T19:20:23.869Z"
   },
   {
    "duration": 179,
    "start_time": "2024-10-31T19:20:23.875Z"
   },
   {
    "duration": 105,
    "start_time": "2024-10-31T19:20:24.057Z"
   },
   {
    "duration": 189,
    "start_time": "2024-10-31T19:20:24.164Z"
   },
   {
    "duration": 15,
    "start_time": "2024-10-31T19:20:24.355Z"
   },
   {
    "duration": 172,
    "start_time": "2024-10-31T19:20:24.372Z"
   },
   {
    "duration": 11,
    "start_time": "2024-10-31T19:20:24.546Z"
   },
   {
    "duration": 189,
    "start_time": "2024-10-31T19:20:24.559Z"
   },
   {
    "duration": 110,
    "start_time": "2024-10-31T19:20:24.751Z"
   },
   {
    "duration": 8,
    "start_time": "2024-10-31T19:20:24.863Z"
   },
   {
    "duration": 5,
    "start_time": "2024-10-31T19:20:24.873Z"
   },
   {
    "duration": 10,
    "start_time": "2024-10-31T19:20:24.880Z"
   },
   {
    "duration": 6,
    "start_time": "2024-10-31T19:20:24.912Z"
   },
   {
    "duration": 5,
    "start_time": "2024-10-31T19:20:24.920Z"
   },
   {
    "duration": 4,
    "start_time": "2024-10-31T19:20:24.927Z"
   },
   {
    "duration": 3,
    "start_time": "2024-10-31T19:20:24.932Z"
   },
   {
    "duration": 395,
    "start_time": "2024-10-31T19:20:24.937Z"
   },
   {
    "duration": 2,
    "start_time": "2024-10-31T19:20:25.335Z"
   },
   {
    "duration": 9,
    "start_time": "2024-10-31T19:20:25.339Z"
   },
   {
    "duration": 8,
    "start_time": "2024-10-31T19:20:25.350Z"
   },
   {
    "duration": 1448,
    "start_time": "2024-10-31T19:20:25.359Z"
   },
   {
    "duration": 213,
    "start_time": "2024-10-31T19:20:26.812Z"
   },
   {
    "duration": 494,
    "start_time": "2024-10-31T19:20:27.027Z"
   },
   {
    "duration": 8,
    "start_time": "2024-10-31T19:20:27.523Z"
   },
   {
    "duration": 4,
    "start_time": "2024-10-31T19:20:27.533Z"
   },
   {
    "duration": 4,
    "start_time": "2024-10-31T19:20:27.540Z"
   },
   {
    "duration": 311,
    "start_time": "2024-10-31T19:20:27.548Z"
   },
   {
    "duration": 268,
    "start_time": "2024-10-31T19:20:27.861Z"
   },
   {
    "duration": 8,
    "start_time": "2024-10-31T19:20:28.132Z"
   },
   {
    "duration": 4,
    "start_time": "2024-10-31T19:20:28.141Z"
   },
   {
    "duration": 174,
    "start_time": "2024-10-31T19:20:28.147Z"
   },
   {
    "duration": 4,
    "start_time": "2024-10-31T19:20:28.323Z"
   },
   {
    "duration": 178,
    "start_time": "2024-10-31T19:20:28.329Z"
   },
   {
    "duration": 154,
    "start_time": "2024-10-31T19:22:47.616Z"
   },
   {
    "duration": 3,
    "start_time": "2024-10-31T19:23:07.126Z"
   },
   {
    "duration": 470,
    "start_time": "2024-10-31T19:23:07.132Z"
   },
   {
    "duration": 6,
    "start_time": "2024-10-31T19:23:07.605Z"
   },
   {
    "duration": 172,
    "start_time": "2024-10-31T19:23:07.613Z"
   },
   {
    "duration": 100,
    "start_time": "2024-10-31T19:23:07.788Z"
   },
   {
    "duration": 205,
    "start_time": "2024-10-31T19:23:07.890Z"
   },
   {
    "duration": 22,
    "start_time": "2024-10-31T19:23:08.096Z"
   },
   {
    "duration": 161,
    "start_time": "2024-10-31T19:23:08.120Z"
   },
   {
    "duration": 13,
    "start_time": "2024-10-31T19:23:08.282Z"
   },
   {
    "duration": 172,
    "start_time": "2024-10-31T19:23:08.297Z"
   },
   {
    "duration": 103,
    "start_time": "2024-10-31T19:23:08.472Z"
   },
   {
    "duration": 7,
    "start_time": "2024-10-31T19:23:08.577Z"
   },
   {
    "duration": 4,
    "start_time": "2024-10-31T19:23:08.586Z"
   },
   {
    "duration": 27,
    "start_time": "2024-10-31T19:23:08.591Z"
   },
   {
    "duration": 5,
    "start_time": "2024-10-31T19:23:08.619Z"
   },
   {
    "duration": 3,
    "start_time": "2024-10-31T19:23:08.626Z"
   },
   {
    "duration": 4,
    "start_time": "2024-10-31T19:23:08.631Z"
   },
   {
    "duration": 4,
    "start_time": "2024-10-31T19:23:08.637Z"
   },
   {
    "duration": 324,
    "start_time": "2024-10-31T19:23:08.642Z"
   },
   {
    "duration": 3,
    "start_time": "2024-10-31T19:23:08.967Z"
   },
   {
    "duration": 8,
    "start_time": "2024-10-31T19:23:08.972Z"
   },
   {
    "duration": 7,
    "start_time": "2024-10-31T19:23:08.981Z"
   },
   {
    "duration": 1399,
    "start_time": "2024-10-31T19:23:09.012Z"
   },
   {
    "duration": 207,
    "start_time": "2024-10-31T19:23:10.414Z"
   },
   {
    "duration": 472,
    "start_time": "2024-10-31T19:23:10.623Z"
   },
   {
    "duration": 16,
    "start_time": "2024-10-31T19:23:11.097Z"
   },
   {
    "duration": 4,
    "start_time": "2024-10-31T19:23:11.115Z"
   },
   {
    "duration": 4,
    "start_time": "2024-10-31T19:23:11.121Z"
   },
   {
    "duration": 276,
    "start_time": "2024-10-31T19:23:11.129Z"
   },
   {
    "duration": 260,
    "start_time": "2024-10-31T19:23:11.412Z"
   },
   {
    "duration": 9,
    "start_time": "2024-10-31T19:23:11.674Z"
   },
   {
    "duration": 4,
    "start_time": "2024-10-31T19:23:11.684Z"
   },
   {
    "duration": 177,
    "start_time": "2024-10-31T19:23:11.689Z"
   },
   {
    "duration": 5,
    "start_time": "2024-10-31T19:23:11.868Z"
   },
   {
    "duration": 154,
    "start_time": "2024-10-31T19:23:18.915Z"
   },
   {
    "duration": 159,
    "start_time": "2024-10-31T21:39:58.863Z"
   },
   {
    "duration": 3117,
    "start_time": "2024-10-31T21:40:03.703Z"
   },
   {
    "duration": 651,
    "start_time": "2024-10-31T21:40:06.822Z"
   },
   {
    "duration": 3,
    "start_time": "2024-10-31T21:40:07.475Z"
   },
   {
    "duration": 182,
    "start_time": "2024-10-31T21:40:07.480Z"
   },
   {
    "duration": 108,
    "start_time": "2024-10-31T21:40:07.664Z"
   },
   {
    "duration": 192,
    "start_time": "2024-10-31T21:40:07.774Z"
   },
   {
    "duration": 15,
    "start_time": "2024-10-31T21:40:07.967Z"
   },
   {
    "duration": 175,
    "start_time": "2024-10-31T21:40:07.984Z"
   },
   {
    "duration": 11,
    "start_time": "2024-10-31T21:40:08.161Z"
   },
   {
    "duration": 183,
    "start_time": "2024-10-31T21:40:08.175Z"
   },
   {
    "duration": 102,
    "start_time": "2024-10-31T21:40:08.360Z"
   },
   {
    "duration": 7,
    "start_time": "2024-10-31T21:40:08.464Z"
   },
   {
    "duration": 5,
    "start_time": "2024-10-31T21:40:08.474Z"
   },
   {
    "duration": 10,
    "start_time": "2024-10-31T21:40:08.480Z"
   },
   {
    "duration": 5,
    "start_time": "2024-10-31T21:40:08.512Z"
   },
   {
    "duration": 4,
    "start_time": "2024-10-31T21:40:08.519Z"
   },
   {
    "duration": 4,
    "start_time": "2024-10-31T21:40:08.524Z"
   },
   {
    "duration": 3,
    "start_time": "2024-10-31T21:40:08.531Z"
   },
   {
    "duration": 359,
    "start_time": "2024-10-31T21:40:08.536Z"
   },
   {
    "duration": 14,
    "start_time": "2024-10-31T21:40:08.898Z"
   },
   {
    "duration": 2,
    "start_time": "2024-10-31T21:40:08.914Z"
   },
   {
    "duration": 9,
    "start_time": "2024-10-31T21:40:08.917Z"
   },
   {
    "duration": 7,
    "start_time": "2024-10-31T21:40:08.928Z"
   },
   {
    "duration": 1360,
    "start_time": "2024-10-31T21:40:08.936Z"
   },
   {
    "duration": 198,
    "start_time": "2024-10-31T21:40:10.298Z"
   },
   {
    "duration": 471,
    "start_time": "2024-10-31T21:40:10.498Z"
   },
   {
    "duration": 8,
    "start_time": "2024-10-31T21:40:10.971Z"
   },
   {
    "duration": 4,
    "start_time": "2024-10-31T21:40:10.984Z"
   },
   {
    "duration": 4,
    "start_time": "2024-10-31T21:40:10.989Z"
   },
   {
    "duration": 294,
    "start_time": "2024-10-31T21:40:11.011Z"
   },
   {
    "duration": 268,
    "start_time": "2024-10-31T21:40:11.311Z"
   },
   {
    "duration": 8,
    "start_time": "2024-10-31T21:40:11.582Z"
   },
   {
    "duration": 20,
    "start_time": "2024-10-31T21:40:11.592Z"
   },
   {
    "duration": 270,
    "start_time": "2024-10-31T21:40:11.614Z"
   },
   {
    "duration": 4,
    "start_time": "2024-10-31T21:40:11.886Z"
   },
   {
    "duration": 345,
    "start_time": "2024-10-31T21:40:11.892Z"
   },
   {
    "duration": 4,
    "start_time": "2024-10-31T21:40:24.549Z"
   },
   {
    "duration": 7,
    "start_time": "2024-10-31T21:42:05.666Z"
   },
   {
    "duration": 3,
    "start_time": "2024-10-31T21:42:10.535Z"
   },
   {
    "duration": 489,
    "start_time": "2024-10-31T21:42:10.563Z"
   },
   {
    "duration": 3,
    "start_time": "2024-10-31T21:42:11.054Z"
   },
   {
    "duration": 172,
    "start_time": "2024-10-31T21:42:11.059Z"
   },
   {
    "duration": 107,
    "start_time": "2024-10-31T21:42:11.232Z"
   },
   {
    "duration": 188,
    "start_time": "2024-10-31T21:42:11.342Z"
   },
   {
    "duration": 19,
    "start_time": "2024-10-31T21:42:11.532Z"
   },
   {
    "duration": 170,
    "start_time": "2024-10-31T21:42:11.553Z"
   },
   {
    "duration": 11,
    "start_time": "2024-10-31T21:42:11.725Z"
   },
   {
    "duration": 182,
    "start_time": "2024-10-31T21:42:11.738Z"
   },
   {
    "duration": 105,
    "start_time": "2024-10-31T21:42:11.922Z"
   },
   {
    "duration": 7,
    "start_time": "2024-10-31T21:42:12.029Z"
   },
   {
    "duration": 5,
    "start_time": "2024-10-31T21:42:12.038Z"
   },
   {
    "duration": 11,
    "start_time": "2024-10-31T21:42:12.044Z"
   },
   {
    "duration": 4,
    "start_time": "2024-10-31T21:42:12.058Z"
   },
   {
    "duration": 4,
    "start_time": "2024-10-31T21:42:12.063Z"
   },
   {
    "duration": 4,
    "start_time": "2024-10-31T21:42:12.069Z"
   },
   {
    "duration": 38,
    "start_time": "2024-10-31T21:42:12.075Z"
   },
   {
    "duration": 358,
    "start_time": "2024-10-31T21:42:12.115Z"
   },
   {
    "duration": 7,
    "start_time": "2024-10-31T21:42:12.475Z"
   },
   {
    "duration": 4,
    "start_time": "2024-10-31T21:42:12.483Z"
   },
   {
    "duration": 2,
    "start_time": "2024-10-31T21:42:12.489Z"
   },
   {
    "duration": 8,
    "start_time": "2024-10-31T21:42:12.512Z"
   },
   {
    "duration": 7,
    "start_time": "2024-10-31T21:42:12.522Z"
   },
   {
    "duration": 1674,
    "start_time": "2024-10-31T21:42:12.531Z"
   },
   {
    "duration": 207,
    "start_time": "2024-10-31T21:42:14.207Z"
   },
   {
    "duration": 500,
    "start_time": "2024-10-31T21:42:14.416Z"
   },
   {
    "duration": 11,
    "start_time": "2024-10-31T21:42:14.918Z"
   },
   {
    "duration": 4,
    "start_time": "2024-10-31T21:42:14.931Z"
   },
   {
    "duration": 4,
    "start_time": "2024-10-31T21:42:14.936Z"
   },
   {
    "duration": 298,
    "start_time": "2024-10-31T21:42:14.942Z"
   },
   {
    "duration": 255,
    "start_time": "2024-10-31T21:42:15.242Z"
   },
   {
    "duration": 17,
    "start_time": "2024-10-31T21:42:15.499Z"
   },
   {
    "duration": 4,
    "start_time": "2024-10-31T21:42:15.518Z"
   },
   {
    "duration": 178,
    "start_time": "2024-10-31T21:42:15.524Z"
   },
   {
    "duration": 4,
    "start_time": "2024-10-31T21:42:15.711Z"
   },
   {
    "duration": 174,
    "start_time": "2024-10-31T21:42:15.717Z"
   },
   {
    "duration": 3,
    "start_time": "2024-10-31T21:42:44.717Z"
   },
   {
    "duration": 504,
    "start_time": "2024-10-31T21:42:44.750Z"
   },
   {
    "duration": 3,
    "start_time": "2024-10-31T21:42:45.256Z"
   },
   {
    "duration": 176,
    "start_time": "2024-10-31T21:42:45.261Z"
   },
   {
    "duration": 104,
    "start_time": "2024-10-31T21:42:45.439Z"
   },
   {
    "duration": 182,
    "start_time": "2024-10-31T21:42:45.545Z"
   },
   {
    "duration": 15,
    "start_time": "2024-10-31T21:42:45.729Z"
   },
   {
    "duration": 160,
    "start_time": "2024-10-31T21:42:45.745Z"
   },
   {
    "duration": 11,
    "start_time": "2024-10-31T21:42:45.912Z"
   },
   {
    "duration": 186,
    "start_time": "2024-10-31T21:42:45.925Z"
   },
   {
    "duration": 119,
    "start_time": "2024-10-31T21:42:46.116Z"
   },
   {
    "duration": 7,
    "start_time": "2024-10-31T21:42:46.237Z"
   },
   {
    "duration": 4,
    "start_time": "2024-10-31T21:42:46.246Z"
   },
   {
    "duration": 10,
    "start_time": "2024-10-31T21:42:46.253Z"
   },
   {
    "duration": 4,
    "start_time": "2024-10-31T21:42:46.268Z"
   },
   {
    "duration": 4,
    "start_time": "2024-10-31T21:42:46.274Z"
   },
   {
    "duration": 34,
    "start_time": "2024-10-31T21:42:46.280Z"
   },
   {
    "duration": 4,
    "start_time": "2024-10-31T21:42:46.316Z"
   },
   {
    "duration": 6,
    "start_time": "2024-10-31T21:42:46.323Z"
   },
   {
    "duration": 4,
    "start_time": "2024-10-31T21:42:46.330Z"
   },
   {
    "duration": 345,
    "start_time": "2024-10-31T21:42:46.336Z"
   },
   {
    "duration": 2,
    "start_time": "2024-10-31T21:42:46.683Z"
   },
   {
    "duration": 8,
    "start_time": "2024-10-31T21:42:46.687Z"
   },
   {
    "duration": 7,
    "start_time": "2024-10-31T21:42:46.713Z"
   },
   {
    "duration": 1694,
    "start_time": "2024-10-31T21:42:46.722Z"
   },
   {
    "duration": 202,
    "start_time": "2024-10-31T21:42:48.418Z"
   },
   {
    "duration": 592,
    "start_time": "2024-10-31T21:42:48.622Z"
   },
   {
    "duration": 8,
    "start_time": "2024-10-31T21:42:49.216Z"
   },
   {
    "duration": 4,
    "start_time": "2024-10-31T21:42:49.226Z"
   },
   {
    "duration": 4,
    "start_time": "2024-10-31T21:42:49.232Z"
   },
   {
    "duration": 301,
    "start_time": "2024-10-31T21:42:49.237Z"
   },
   {
    "duration": 251,
    "start_time": "2024-10-31T21:42:49.540Z"
   },
   {
    "duration": 20,
    "start_time": "2024-10-31T21:42:49.792Z"
   },
   {
    "duration": 4,
    "start_time": "2024-10-31T21:42:49.814Z"
   },
   {
    "duration": 178,
    "start_time": "2024-10-31T21:42:49.820Z"
   },
   {
    "duration": 4,
    "start_time": "2024-10-31T21:42:50.000Z"
   },
   {
    "duration": 167,
    "start_time": "2024-10-31T21:42:50.006Z"
   },
   {
    "duration": 3,
    "start_time": "2024-10-31T21:43:49.763Z"
   },
   {
    "duration": 457,
    "start_time": "2024-10-31T21:43:49.790Z"
   },
   {
    "duration": 3,
    "start_time": "2024-10-31T21:43:50.249Z"
   },
   {
    "duration": 171,
    "start_time": "2024-10-31T21:43:50.254Z"
   },
   {
    "duration": 105,
    "start_time": "2024-10-31T21:43:50.427Z"
   },
   {
    "duration": 187,
    "start_time": "2024-10-31T21:43:50.535Z"
   },
   {
    "duration": 14,
    "start_time": "2024-10-31T21:43:50.724Z"
   },
   {
    "duration": 164,
    "start_time": "2024-10-31T21:43:50.740Z"
   },
   {
    "duration": 17,
    "start_time": "2024-10-31T21:43:50.906Z"
   },
   {
    "duration": 189,
    "start_time": "2024-10-31T21:43:50.925Z"
   },
   {
    "duration": 105,
    "start_time": "2024-10-31T21:43:51.116Z"
   },
   {
    "duration": 7,
    "start_time": "2024-10-31T21:43:51.223Z"
   },
   {
    "duration": 5,
    "start_time": "2024-10-31T21:43:51.232Z"
   },
   {
    "duration": 10,
    "start_time": "2024-10-31T21:43:51.238Z"
   },
   {
    "duration": 5,
    "start_time": "2024-10-31T21:43:51.252Z"
   },
   {
    "duration": 4,
    "start_time": "2024-10-31T21:43:51.259Z"
   },
   {
    "duration": 4,
    "start_time": "2024-10-31T21:43:51.265Z"
   },
   {
    "duration": 4,
    "start_time": "2024-10-31T21:43:51.311Z"
   },
   {
    "duration": 6,
    "start_time": "2024-10-31T21:43:51.316Z"
   },
   {
    "duration": 3,
    "start_time": "2024-10-31T21:43:51.324Z"
   },
   {
    "duration": 386,
    "start_time": "2024-10-31T21:43:51.328Z"
   },
   {
    "duration": 3,
    "start_time": "2024-10-31T21:43:51.715Z"
   },
   {
    "duration": 8,
    "start_time": "2024-10-31T21:43:51.720Z"
   },
   {
    "duration": 8,
    "start_time": "2024-10-31T21:43:51.729Z"
   },
   {
    "duration": 1560,
    "start_time": "2024-10-31T21:43:51.738Z"
   },
   {
    "duration": 318,
    "start_time": "2024-10-31T21:43:53.300Z"
   },
   {
    "duration": 465,
    "start_time": "2024-10-31T21:43:53.620Z"
   },
   {
    "duration": 8,
    "start_time": "2024-10-31T21:43:54.088Z"
   },
   {
    "duration": 16,
    "start_time": "2024-10-31T21:43:54.098Z"
   },
   {
    "duration": 4,
    "start_time": "2024-10-31T21:43:54.116Z"
   },
   {
    "duration": 290,
    "start_time": "2024-10-31T21:43:54.122Z"
   },
   {
    "duration": 275,
    "start_time": "2024-10-31T21:43:54.413Z"
   },
   {
    "duration": 27,
    "start_time": "2024-10-31T21:43:54.691Z"
   },
   {
    "duration": 5,
    "start_time": "2024-10-31T21:43:54.720Z"
   },
   {
    "duration": 177,
    "start_time": "2024-10-31T21:43:54.727Z"
   },
   {
    "duration": 10,
    "start_time": "2024-10-31T21:43:54.906Z"
   },
   {
    "duration": 158,
    "start_time": "2024-10-31T21:43:54.917Z"
   },
   {
    "duration": 3,
    "start_time": "2024-10-31T21:50:16.563Z"
   },
   {
    "duration": 462,
    "start_time": "2024-10-31T21:50:16.571Z"
   },
   {
    "duration": 2,
    "start_time": "2024-10-31T21:50:17.035Z"
   },
   {
    "duration": 172,
    "start_time": "2024-10-31T21:50:17.039Z"
   },
   {
    "duration": 102,
    "start_time": "2024-10-31T21:50:17.213Z"
   },
   {
    "duration": 184,
    "start_time": "2024-10-31T21:50:17.317Z"
   },
   {
    "duration": 21,
    "start_time": "2024-10-31T21:50:17.503Z"
   },
   {
    "duration": 171,
    "start_time": "2024-10-31T21:50:17.525Z"
   },
   {
    "duration": 17,
    "start_time": "2024-10-31T21:50:17.698Z"
   },
   {
    "duration": 175,
    "start_time": "2024-10-31T21:50:17.717Z"
   },
   {
    "duration": 101,
    "start_time": "2024-10-31T21:50:17.895Z"
   },
   {
    "duration": 15,
    "start_time": "2024-10-31T21:50:17.998Z"
   },
   {
    "duration": 9,
    "start_time": "2024-10-31T21:50:18.014Z"
   },
   {
    "duration": 14,
    "start_time": "2024-10-31T21:50:18.025Z"
   },
   {
    "duration": 5,
    "start_time": "2024-10-31T21:50:18.043Z"
   },
   {
    "duration": 4,
    "start_time": "2024-10-31T21:50:18.049Z"
   },
   {
    "duration": 4,
    "start_time": "2024-10-31T21:50:18.055Z"
   },
   {
    "duration": 4,
    "start_time": "2024-10-31T21:50:18.060Z"
   },
   {
    "duration": 3,
    "start_time": "2024-10-31T21:50:18.065Z"
   },
   {
    "duration": 416,
    "start_time": "2024-10-31T21:50:18.070Z"
   },
   {
    "duration": 3,
    "start_time": "2024-10-31T21:50:18.488Z"
   },
   {
    "duration": 23,
    "start_time": "2024-10-31T21:50:18.493Z"
   },
   {
    "duration": 10,
    "start_time": "2024-10-31T21:50:18.517Z"
   },
   {
    "duration": 1693,
    "start_time": "2024-10-31T21:50:18.529Z"
   },
   {
    "duration": 212,
    "start_time": "2024-10-31T21:50:20.224Z"
   },
   {
    "duration": 510,
    "start_time": "2024-10-31T21:50:20.438Z"
   },
   {
    "duration": 7,
    "start_time": "2024-10-31T21:50:20.950Z"
   },
   {
    "duration": 3,
    "start_time": "2024-10-31T21:50:20.959Z"
   },
   {
    "duration": 5,
    "start_time": "2024-10-31T21:50:20.964Z"
   },
   {
    "duration": 322,
    "start_time": "2024-10-31T21:50:20.970Z"
   },
   {
    "duration": 279,
    "start_time": "2024-10-31T21:50:21.293Z"
   },
   {
    "duration": 8,
    "start_time": "2024-10-31T21:50:21.574Z"
   },
   {
    "duration": 4,
    "start_time": "2024-10-31T21:50:21.584Z"
   },
   {
    "duration": 319,
    "start_time": "2024-10-31T21:50:21.590Z"
   },
   {
    "duration": 5,
    "start_time": "2024-10-31T21:50:21.910Z"
   },
   {
    "duration": 161,
    "start_time": "2024-10-31T21:50:21.917Z"
   },
   {
    "duration": 219,
    "start_time": "2024-10-31T21:52:17.087Z"
   },
   {
    "duration": 497,
    "start_time": "2024-10-31T21:53:51.121Z"
   },
   {
    "duration": 3,
    "start_time": "2024-10-31T21:54:54.827Z"
   },
   {
    "duration": 458,
    "start_time": "2024-10-31T21:54:54.835Z"
   },
   {
    "duration": 3,
    "start_time": "2024-10-31T21:54:55.295Z"
   },
   {
    "duration": 179,
    "start_time": "2024-10-31T21:54:55.300Z"
   },
   {
    "duration": 98,
    "start_time": "2024-10-31T21:54:55.481Z"
   },
   {
    "duration": 183,
    "start_time": "2024-10-31T21:54:55.582Z"
   },
   {
    "duration": 13,
    "start_time": "2024-10-31T21:54:55.768Z"
   },
   {
    "duration": 167,
    "start_time": "2024-10-31T21:54:55.783Z"
   },
   {
    "duration": 11,
    "start_time": "2024-10-31T21:54:55.952Z"
   },
   {
    "duration": 171,
    "start_time": "2024-10-31T21:54:55.965Z"
   },
   {
    "duration": 102,
    "start_time": "2024-10-31T21:54:56.138Z"
   },
   {
    "duration": 9,
    "start_time": "2024-10-31T21:54:56.242Z"
   },
   {
    "duration": 5,
    "start_time": "2024-10-31T21:54:56.252Z"
   },
   {
    "duration": 10,
    "start_time": "2024-10-31T21:54:56.258Z"
   },
   {
    "duration": 5,
    "start_time": "2024-10-31T21:54:56.271Z"
   },
   {
    "duration": 3,
    "start_time": "2024-10-31T21:54:56.277Z"
   },
   {
    "duration": 31,
    "start_time": "2024-10-31T21:54:56.282Z"
   },
   {
    "duration": 4,
    "start_time": "2024-10-31T21:54:56.314Z"
   },
   {
    "duration": 4,
    "start_time": "2024-10-31T21:54:56.319Z"
   },
   {
    "duration": 422,
    "start_time": "2024-10-31T21:54:56.324Z"
   },
   {
    "duration": 2,
    "start_time": "2024-10-31T21:54:56.748Z"
   },
   {
    "duration": 59,
    "start_time": "2024-10-31T21:54:56.752Z"
   },
   {
    "duration": 10,
    "start_time": "2024-10-31T21:54:56.813Z"
   },
   {
    "duration": 1565,
    "start_time": "2024-10-31T21:54:56.824Z"
   },
   {
    "duration": 225,
    "start_time": "2024-10-31T21:54:58.391Z"
   },
   {
    "duration": 511,
    "start_time": "2024-10-31T21:54:58.618Z"
   },
   {
    "duration": 9,
    "start_time": "2024-10-31T21:54:59.131Z"
   },
   {
    "duration": 4,
    "start_time": "2024-10-31T21:54:59.141Z"
   },
   {
    "duration": 4,
    "start_time": "2024-10-31T21:54:59.147Z"
   },
   {
    "duration": 290,
    "start_time": "2024-10-31T21:54:59.153Z"
   },
   {
    "duration": 249,
    "start_time": "2024-10-31T21:54:59.445Z"
   },
   {
    "duration": 20,
    "start_time": "2024-10-31T21:54:59.696Z"
   },
   {
    "duration": 4,
    "start_time": "2024-10-31T21:54:59.718Z"
   },
   {
    "duration": 173,
    "start_time": "2024-10-31T21:54:59.723Z"
   },
   {
    "duration": 5,
    "start_time": "2024-10-31T21:54:59.898Z"
   },
   {
    "duration": 157,
    "start_time": "2024-10-31T21:54:59.912Z"
   },
   {
    "duration": 3,
    "start_time": "2024-10-31T21:55:51.491Z"
   },
   {
    "duration": 518,
    "start_time": "2024-10-31T21:55:51.498Z"
   },
   {
    "duration": 3,
    "start_time": "2024-10-31T21:55:52.018Z"
   },
   {
    "duration": 177,
    "start_time": "2024-10-31T21:55:52.023Z"
   },
   {
    "duration": 99,
    "start_time": "2024-10-31T21:55:52.203Z"
   },
   {
    "duration": 286,
    "start_time": "2024-10-31T21:55:52.314Z"
   },
   {
    "duration": 22,
    "start_time": "2024-10-31T21:55:52.602Z"
   },
   {
    "duration": 157,
    "start_time": "2024-10-31T21:55:52.626Z"
   },
   {
    "duration": 11,
    "start_time": "2024-10-31T21:55:52.785Z"
   },
   {
    "duration": 174,
    "start_time": "2024-10-31T21:55:52.798Z"
   },
   {
    "duration": 104,
    "start_time": "2024-10-31T21:55:52.974Z"
   },
   {
    "duration": 8,
    "start_time": "2024-10-31T21:55:53.080Z"
   },
   {
    "duration": 4,
    "start_time": "2024-10-31T21:55:53.090Z"
   },
   {
    "duration": 26,
    "start_time": "2024-10-31T21:55:53.095Z"
   },
   {
    "duration": 5,
    "start_time": "2024-10-31T21:55:53.126Z"
   },
   {
    "duration": 3,
    "start_time": "2024-10-31T21:55:53.133Z"
   },
   {
    "duration": 4,
    "start_time": "2024-10-31T21:55:53.138Z"
   },
   {
    "duration": 4,
    "start_time": "2024-10-31T21:55:53.143Z"
   },
   {
    "duration": 4,
    "start_time": "2024-10-31T21:55:53.148Z"
   },
   {
    "duration": 366,
    "start_time": "2024-10-31T21:55:53.153Z"
   },
   {
    "duration": 3,
    "start_time": "2024-10-31T21:55:53.521Z"
   },
   {
    "duration": 8,
    "start_time": "2024-10-31T21:55:53.526Z"
   },
   {
    "duration": 10,
    "start_time": "2024-10-31T21:55:53.536Z"
   },
   {
    "duration": 1311,
    "start_time": "2024-10-31T21:55:53.548Z"
   },
   {
    "duration": 231,
    "start_time": "2024-10-31T21:55:54.860Z"
   },
   {
    "duration": 656,
    "start_time": "2024-10-31T21:55:55.092Z"
   },
   {
    "duration": 8,
    "start_time": "2024-10-31T21:55:55.750Z"
   },
   {
    "duration": 4,
    "start_time": "2024-10-31T21:55:55.759Z"
   },
   {
    "duration": 3,
    "start_time": "2024-10-31T21:55:55.765Z"
   },
   {
    "duration": 326,
    "start_time": "2024-10-31T21:55:55.770Z"
   },
   {
    "duration": 288,
    "start_time": "2024-10-31T21:55:56.098Z"
   },
   {
    "duration": 9,
    "start_time": "2024-10-31T21:55:56.388Z"
   },
   {
    "duration": 7,
    "start_time": "2024-10-31T21:55:56.411Z"
   },
   {
    "duration": 157,
    "start_time": "2024-10-31T21:55:56.420Z"
   },
   {
    "duration": 148,
    "start_time": "2024-10-31T21:56:40.319Z"
   },
   {
    "duration": 4,
    "start_time": "2024-10-31T21:58:47.695Z"
   },
   {
    "duration": 3,
    "start_time": "2024-10-31T22:00:24.756Z"
   },
   {
    "duration": 500,
    "start_time": "2024-10-31T22:00:24.783Z"
   },
   {
    "duration": 3,
    "start_time": "2024-10-31T22:00:25.285Z"
   },
   {
    "duration": 183,
    "start_time": "2024-10-31T22:00:25.290Z"
   },
   {
    "duration": 101,
    "start_time": "2024-10-31T22:00:25.476Z"
   },
   {
    "duration": 189,
    "start_time": "2024-10-31T22:00:25.581Z"
   },
   {
    "duration": 15,
    "start_time": "2024-10-31T22:00:25.772Z"
   },
   {
    "duration": 171,
    "start_time": "2024-10-31T22:00:25.789Z"
   },
   {
    "duration": 12,
    "start_time": "2024-10-31T22:00:25.962Z"
   },
   {
    "duration": 176,
    "start_time": "2024-10-31T22:00:25.975Z"
   },
   {
    "duration": 108,
    "start_time": "2024-10-31T22:00:26.154Z"
   },
   {
    "duration": 7,
    "start_time": "2024-10-31T22:00:26.264Z"
   },
   {
    "duration": 4,
    "start_time": "2024-10-31T22:00:26.273Z"
   },
   {
    "duration": 10,
    "start_time": "2024-10-31T22:00:26.279Z"
   },
   {
    "duration": 5,
    "start_time": "2024-10-31T22:00:26.313Z"
   },
   {
    "duration": 4,
    "start_time": "2024-10-31T22:00:26.319Z"
   },
   {
    "duration": 4,
    "start_time": "2024-10-31T22:00:26.324Z"
   },
   {
    "duration": 4,
    "start_time": "2024-10-31T22:00:26.329Z"
   },
   {
    "duration": 4,
    "start_time": "2024-10-31T22:00:26.334Z"
   },
   {
    "duration": 361,
    "start_time": "2024-10-31T22:00:26.339Z"
   },
   {
    "duration": 10,
    "start_time": "2024-10-31T22:00:26.702Z"
   },
   {
    "duration": 7,
    "start_time": "2024-10-31T22:00:26.714Z"
   },
   {
    "duration": 9,
    "start_time": "2024-10-31T22:00:26.723Z"
   },
   {
    "duration": 1300,
    "start_time": "2024-10-31T22:00:26.734Z"
   },
   {
    "duration": 346,
    "start_time": "2024-10-31T22:00:28.036Z"
   },
   {
    "duration": 498,
    "start_time": "2024-10-31T22:00:28.384Z"
   },
   {
    "duration": 8,
    "start_time": "2024-10-31T22:00:28.884Z"
   },
   {
    "duration": 4,
    "start_time": "2024-10-31T22:00:28.895Z"
   },
   {
    "duration": 4,
    "start_time": "2024-10-31T22:00:28.912Z"
   },
   {
    "duration": 283,
    "start_time": "2024-10-31T22:00:28.917Z"
   },
   {
    "duration": 268,
    "start_time": "2024-10-31T22:00:29.202Z"
   },
   {
    "duration": 15,
    "start_time": "2024-10-31T22:00:29.471Z"
   },
   {
    "duration": 4,
    "start_time": "2024-10-31T22:00:29.488Z"
   },
   {
    "duration": 536619,
    "start_time": "2024-10-31T22:00:29.494Z"
   },
   {
    "duration": 3,
    "start_time": "2024-10-31T22:10:06.485Z"
   },
   {
    "duration": 487,
    "start_time": "2024-10-31T22:10:06.493Z"
   },
   {
    "duration": 3,
    "start_time": "2024-10-31T22:10:06.982Z"
   },
   {
    "duration": 174,
    "start_time": "2024-10-31T22:10:06.986Z"
   },
   {
    "duration": 99,
    "start_time": "2024-10-31T22:10:07.163Z"
   },
   {
    "duration": 204,
    "start_time": "2024-10-31T22:10:07.265Z"
   },
   {
    "duration": 15,
    "start_time": "2024-10-31T22:10:07.470Z"
   },
   {
    "duration": 165,
    "start_time": "2024-10-31T22:10:07.486Z"
   },
   {
    "duration": 12,
    "start_time": "2024-10-31T22:10:07.653Z"
   },
   {
    "duration": 173,
    "start_time": "2024-10-31T22:10:07.667Z"
   },
   {
    "duration": 105,
    "start_time": "2024-10-31T22:10:07.842Z"
   },
   {
    "duration": 7,
    "start_time": "2024-10-31T22:10:07.949Z"
   },
   {
    "duration": 4,
    "start_time": "2024-10-31T22:10:07.958Z"
   },
   {
    "duration": 10,
    "start_time": "2024-10-31T22:10:07.963Z"
   },
   {
    "duration": 4,
    "start_time": "2024-10-31T22:10:07.977Z"
   },
   {
    "duration": 29,
    "start_time": "2024-10-31T22:10:07.983Z"
   },
   {
    "duration": 4,
    "start_time": "2024-10-31T22:10:08.014Z"
   },
   {
    "duration": 4,
    "start_time": "2024-10-31T22:10:08.021Z"
   },
   {
    "duration": 3,
    "start_time": "2024-10-31T22:10:08.033Z"
   },
   {
    "duration": 331,
    "start_time": "2024-10-31T22:10:08.038Z"
   },
   {
    "duration": 3,
    "start_time": "2024-10-31T22:10:08.370Z"
   },
   {
    "duration": 8,
    "start_time": "2024-10-31T22:10:08.375Z"
   },
   {
    "duration": 30,
    "start_time": "2024-10-31T22:10:08.385Z"
   },
   {
    "duration": 1385,
    "start_time": "2024-10-31T22:10:08.416Z"
   },
   {
    "duration": 239,
    "start_time": "2024-10-31T22:10:09.803Z"
   },
   {
    "duration": 535,
    "start_time": "2024-10-31T22:10:10.044Z"
   },
   {
    "duration": 9,
    "start_time": "2024-10-31T22:10:10.581Z"
   },
   {
    "duration": 4,
    "start_time": "2024-10-31T22:10:10.592Z"
   },
   {
    "duration": 3,
    "start_time": "2024-10-31T22:10:10.611Z"
   },
   {
    "duration": 285,
    "start_time": "2024-10-31T22:10:10.616Z"
   },
   {
    "duration": 280,
    "start_time": "2024-10-31T22:10:10.903Z"
   },
   {
    "duration": 27,
    "start_time": "2024-10-31T22:10:11.185Z"
   },
   {
    "duration": 4,
    "start_time": "2024-10-31T22:10:11.214Z"
   },
   {
    "duration": 57004,
    "start_time": "2024-10-31T22:10:11.219Z"
   },
   {
    "duration": 3,
    "start_time": "2024-10-31T22:11:09.390Z"
   },
   {
    "duration": 509,
    "start_time": "2024-10-31T22:11:09.411Z"
   },
   {
    "duration": 3,
    "start_time": "2024-10-31T22:11:09.922Z"
   },
   {
    "duration": 183,
    "start_time": "2024-10-31T22:11:09.927Z"
   },
   {
    "duration": 104,
    "start_time": "2024-10-31T22:11:10.112Z"
   },
   {
    "duration": 198,
    "start_time": "2024-10-31T22:11:10.218Z"
   },
   {
    "duration": 14,
    "start_time": "2024-10-31T22:11:10.418Z"
   },
   {
    "duration": 170,
    "start_time": "2024-10-31T22:11:10.434Z"
   },
   {
    "duration": 17,
    "start_time": "2024-10-31T22:11:10.605Z"
   },
   {
    "duration": 180,
    "start_time": "2024-10-31T22:11:10.625Z"
   },
   {
    "duration": 109,
    "start_time": "2024-10-31T22:11:10.806Z"
   },
   {
    "duration": 7,
    "start_time": "2024-10-31T22:11:10.917Z"
   },
   {
    "duration": 5,
    "start_time": "2024-10-31T22:11:10.926Z"
   },
   {
    "duration": 11,
    "start_time": "2024-10-31T22:11:10.932Z"
   },
   {
    "duration": 4,
    "start_time": "2024-10-31T22:11:10.947Z"
   },
   {
    "duration": 3,
    "start_time": "2024-10-31T22:11:10.953Z"
   },
   {
    "duration": 4,
    "start_time": "2024-10-31T22:11:10.958Z"
   },
   {
    "duration": 4,
    "start_time": "2024-10-31T22:11:10.963Z"
   },
   {
    "duration": 3,
    "start_time": "2024-10-31T22:11:10.968Z"
   },
   {
    "duration": 377,
    "start_time": "2024-10-31T22:11:11.013Z"
   },
   {
    "duration": 3,
    "start_time": "2024-10-31T22:11:11.392Z"
   },
   {
    "duration": 21,
    "start_time": "2024-10-31T22:11:11.396Z"
   },
   {
    "duration": 9,
    "start_time": "2024-10-31T22:11:11.419Z"
   },
   {
    "duration": 1365,
    "start_time": "2024-10-31T22:11:11.429Z"
   },
   {
    "duration": 228,
    "start_time": "2024-10-31T22:11:12.796Z"
   },
   {
    "duration": 529,
    "start_time": "2024-10-31T22:11:13.025Z"
   },
   {
    "duration": 9,
    "start_time": "2024-10-31T22:11:13.556Z"
   },
   {
    "duration": 4,
    "start_time": "2024-10-31T22:11:13.566Z"
   },
   {
    "duration": 5,
    "start_time": "2024-10-31T22:11:13.572Z"
   },
   {
    "duration": 314,
    "start_time": "2024-10-31T22:11:13.579Z"
   },
   {
    "duration": 285,
    "start_time": "2024-10-31T22:11:13.895Z"
   },
   {
    "duration": 15,
    "start_time": "2024-10-31T22:11:14.182Z"
   },
   {
    "duration": 535330,
    "start_time": "2024-10-31T22:11:14.211Z"
   },
   {
    "duration": 427561,
    "start_time": "2024-10-31T22:26:28.182Z"
   },
   {
    "duration": 4,
    "start_time": "2024-10-31T22:35:18.082Z"
   },
   {
    "duration": 2711,
    "start_time": "2024-11-01T15:27:27.470Z"
   },
   {
    "duration": 613,
    "start_time": "2024-11-01T15:27:30.183Z"
   },
   {
    "duration": 2,
    "start_time": "2024-11-01T15:27:30.798Z"
   },
   {
    "duration": 187,
    "start_time": "2024-11-01T15:27:30.803Z"
   },
   {
    "duration": 105,
    "start_time": "2024-11-01T15:27:30.992Z"
   },
   {
    "duration": 195,
    "start_time": "2024-11-01T15:27:31.101Z"
   },
   {
    "duration": 15,
    "start_time": "2024-11-01T15:27:31.297Z"
   },
   {
    "duration": 171,
    "start_time": "2024-11-01T15:27:31.313Z"
   },
   {
    "duration": 11,
    "start_time": "2024-11-01T15:27:31.485Z"
   },
   {
    "duration": 169,
    "start_time": "2024-11-01T15:27:31.500Z"
   },
   {
    "duration": 155,
    "start_time": "2024-11-01T15:27:31.671Z"
   },
   {
    "duration": 15,
    "start_time": "2024-11-01T15:27:31.828Z"
   },
   {
    "duration": 5,
    "start_time": "2024-11-01T15:27:31.845Z"
   },
   {
    "duration": 12,
    "start_time": "2024-11-01T15:27:31.851Z"
   },
   {
    "duration": 5,
    "start_time": "2024-11-01T15:27:31.865Z"
   },
   {
    "duration": 4,
    "start_time": "2024-11-01T15:27:31.872Z"
   },
   {
    "duration": 3,
    "start_time": "2024-11-01T15:27:31.878Z"
   },
   {
    "duration": 3,
    "start_time": "2024-11-01T15:27:31.883Z"
   },
   {
    "duration": 4,
    "start_time": "2024-11-01T15:27:31.888Z"
   },
   {
    "duration": 428,
    "start_time": "2024-11-01T15:27:31.893Z"
   },
   {
    "duration": 2,
    "start_time": "2024-11-01T15:27:32.323Z"
   },
   {
    "duration": 20,
    "start_time": "2024-11-01T15:27:32.326Z"
   },
   {
    "duration": 10,
    "start_time": "2024-11-01T15:27:32.347Z"
   },
   {
    "duration": 1287,
    "start_time": "2024-11-01T15:27:32.360Z"
   },
   {
    "duration": 302,
    "start_time": "2024-11-01T15:27:33.649Z"
   },
   {
    "duration": 0,
    "start_time": "2024-11-01T15:27:33.952Z"
   },
   {
    "duration": 0,
    "start_time": "2024-11-01T15:27:33.954Z"
   },
   {
    "duration": 0,
    "start_time": "2024-11-01T15:27:33.955Z"
   },
   {
    "duration": 0,
    "start_time": "2024-11-01T15:27:33.956Z"
   },
   {
    "duration": 0,
    "start_time": "2024-11-01T15:27:33.958Z"
   },
   {
    "duration": 0,
    "start_time": "2024-11-01T15:27:33.958Z"
   },
   {
    "duration": 0,
    "start_time": "2024-11-01T15:27:33.960Z"
   },
   {
    "duration": 0,
    "start_time": "2024-11-01T15:27:33.961Z"
   },
   {
    "duration": 0,
    "start_time": "2024-11-01T15:27:33.962Z"
   },
   {
    "duration": 3,
    "start_time": "2024-11-01T15:27:47.267Z"
   },
   {
    "duration": 475,
    "start_time": "2024-11-01T15:27:47.289Z"
   },
   {
    "duration": 2,
    "start_time": "2024-11-01T15:27:47.766Z"
   },
   {
    "duration": 176,
    "start_time": "2024-11-01T15:27:47.770Z"
   },
   {
    "duration": 103,
    "start_time": "2024-11-01T15:27:47.947Z"
   },
   {
    "duration": 191,
    "start_time": "2024-11-01T15:27:48.053Z"
   },
   {
    "duration": 17,
    "start_time": "2024-11-01T15:27:48.246Z"
   },
   {
    "duration": 166,
    "start_time": "2024-11-01T15:27:48.264Z"
   },
   {
    "duration": 17,
    "start_time": "2024-11-01T15:27:48.432Z"
   },
   {
    "duration": 176,
    "start_time": "2024-11-01T15:27:48.451Z"
   },
   {
    "duration": 99,
    "start_time": "2024-11-01T15:27:48.629Z"
   },
   {
    "duration": 15,
    "start_time": "2024-11-01T15:27:48.730Z"
   },
   {
    "duration": 5,
    "start_time": "2024-11-01T15:27:48.747Z"
   },
   {
    "duration": 12,
    "start_time": "2024-11-01T15:27:48.754Z"
   },
   {
    "duration": 5,
    "start_time": "2024-11-01T15:27:48.770Z"
   },
   {
    "duration": 4,
    "start_time": "2024-11-01T15:27:48.777Z"
   },
   {
    "duration": 4,
    "start_time": "2024-11-01T15:27:48.782Z"
   },
   {
    "duration": 3,
    "start_time": "2024-11-01T15:27:48.788Z"
   },
   {
    "duration": 3,
    "start_time": "2024-11-01T15:27:48.793Z"
   },
   {
    "duration": 402,
    "start_time": "2024-11-01T15:27:48.798Z"
   },
   {
    "duration": 4,
    "start_time": "2024-11-01T15:27:49.202Z"
   },
   {
    "duration": 8,
    "start_time": "2024-11-01T15:27:49.208Z"
   },
   {
    "duration": 27,
    "start_time": "2024-11-01T15:27:49.217Z"
   },
   {
    "duration": 1270,
    "start_time": "2024-11-01T15:27:49.246Z"
   },
   {
    "duration": 125,
    "start_time": "2024-11-01T15:27:50.518Z"
   },
   {
    "duration": 0,
    "start_time": "2024-11-01T15:27:50.645Z"
   },
   {
    "duration": 0,
    "start_time": "2024-11-01T15:27:50.646Z"
   },
   {
    "duration": 0,
    "start_time": "2024-11-01T15:27:50.648Z"
   },
   {
    "duration": 0,
    "start_time": "2024-11-01T15:27:50.649Z"
   },
   {
    "duration": 0,
    "start_time": "2024-11-01T15:27:50.650Z"
   },
   {
    "duration": 0,
    "start_time": "2024-11-01T15:27:50.652Z"
   },
   {
    "duration": 0,
    "start_time": "2024-11-01T15:27:50.653Z"
   },
   {
    "duration": 0,
    "start_time": "2024-11-01T15:27:50.654Z"
   },
   {
    "duration": 0,
    "start_time": "2024-11-01T15:27:50.656Z"
   },
   {
    "duration": 3,
    "start_time": "2024-11-01T19:04:22.532Z"
   },
   {
    "duration": 468,
    "start_time": "2024-11-01T19:04:22.621Z"
   },
   {
    "duration": 4,
    "start_time": "2024-11-01T19:04:23.091Z"
   },
   {
    "duration": 182,
    "start_time": "2024-11-01T19:04:23.097Z"
   },
   {
    "duration": 109,
    "start_time": "2024-11-01T19:04:23.281Z"
   },
   {
    "duration": 191,
    "start_time": "2024-11-01T19:04:23.393Z"
   },
   {
    "duration": 15,
    "start_time": "2024-11-01T19:04:23.586Z"
   },
   {
    "duration": 171,
    "start_time": "2024-11-01T19:04:23.603Z"
   },
   {
    "duration": 12,
    "start_time": "2024-11-01T19:04:23.775Z"
   },
   {
    "duration": 184,
    "start_time": "2024-11-01T19:04:23.789Z"
   },
   {
    "duration": 104,
    "start_time": "2024-11-01T19:04:23.975Z"
   },
   {
    "duration": 8,
    "start_time": "2024-11-01T19:04:24.081Z"
   },
   {
    "duration": 5,
    "start_time": "2024-11-01T19:04:24.091Z"
   },
   {
    "duration": 12,
    "start_time": "2024-11-01T19:04:24.098Z"
   },
   {
    "duration": 30,
    "start_time": "2024-11-01T19:04:24.114Z"
   },
   {
    "duration": 5,
    "start_time": "2024-11-01T19:04:24.146Z"
   },
   {
    "duration": 4,
    "start_time": "2024-11-01T19:04:24.153Z"
   },
   {
    "duration": 5,
    "start_time": "2024-11-01T19:04:24.159Z"
   },
   {
    "duration": 4,
    "start_time": "2024-11-01T19:04:24.166Z"
   },
   {
    "duration": 366,
    "start_time": "2024-11-01T19:04:24.173Z"
   },
   {
    "duration": 3,
    "start_time": "2024-11-01T19:04:24.543Z"
   },
   {
    "duration": 8,
    "start_time": "2024-11-01T19:04:24.549Z"
   },
   {
    "duration": 10,
    "start_time": "2024-11-01T19:04:24.559Z"
   },
   {
    "duration": 1356,
    "start_time": "2024-11-01T19:04:24.573Z"
   },
   {
    "duration": 343,
    "start_time": "2024-11-01T19:04:25.931Z"
   },
   {
    "duration": 532,
    "start_time": "2024-11-01T19:04:26.275Z"
   },
   {
    "duration": 8,
    "start_time": "2024-11-01T19:04:26.809Z"
   },
   {
    "duration": 4,
    "start_time": "2024-11-01T19:04:26.819Z"
   },
   {
    "duration": 4,
    "start_time": "2024-11-01T19:04:26.843Z"
   },
   {
    "duration": 296,
    "start_time": "2024-11-01T19:04:26.849Z"
   },
   {
    "duration": 277,
    "start_time": "2024-11-01T19:04:27.147Z"
   },
   {
    "duration": 27,
    "start_time": "2024-11-01T19:04:27.426Z"
   },
   {
    "duration": 5,
    "start_time": "2024-11-01T19:04:27.455Z"
   },
   {
    "duration": 439273,
    "start_time": "2024-11-01T19:04:27.462Z"
   },
   {
    "duration": 2750,
    "start_time": "2024-11-01T21:10:38.974Z"
   },
   {
    "duration": 645,
    "start_time": "2024-11-01T21:10:41.726Z"
   },
   {
    "duration": 8,
    "start_time": "2024-11-01T21:10:42.375Z"
   },
   {
    "duration": 189,
    "start_time": "2024-11-01T21:10:42.385Z"
   },
   {
    "duration": 103,
    "start_time": "2024-11-01T21:10:42.577Z"
   },
   {
    "duration": 249,
    "start_time": "2024-11-01T21:10:42.681Z"
   },
   {
    "duration": 14,
    "start_time": "2024-11-01T21:10:42.932Z"
   },
   {
    "duration": 167,
    "start_time": "2024-11-01T21:10:42.948Z"
   },
   {
    "duration": 15,
    "start_time": "2024-11-01T21:10:43.117Z"
   },
   {
    "duration": 182,
    "start_time": "2024-11-01T21:10:43.134Z"
   },
   {
    "duration": 93,
    "start_time": "2024-11-01T21:10:43.318Z"
   },
   {
    "duration": 14,
    "start_time": "2024-11-01T21:10:43.412Z"
   },
   {
    "duration": 5,
    "start_time": "2024-11-01T21:10:43.427Z"
   },
   {
    "duration": 10,
    "start_time": "2024-11-01T21:10:43.436Z"
   },
   {
    "duration": 5,
    "start_time": "2024-11-01T21:10:43.447Z"
   },
   {
    "duration": 4,
    "start_time": "2024-11-01T21:10:43.453Z"
   },
   {
    "duration": 4,
    "start_time": "2024-11-01T21:10:43.459Z"
   },
   {
    "duration": 3,
    "start_time": "2024-11-01T21:10:43.465Z"
   },
   {
    "duration": 3,
    "start_time": "2024-11-01T21:10:43.471Z"
   },
   {
    "duration": 425,
    "start_time": "2024-11-01T21:10:43.477Z"
   },
   {
    "duration": 3,
    "start_time": "2024-11-01T21:10:43.904Z"
   },
   {
    "duration": 20,
    "start_time": "2024-11-01T21:10:43.909Z"
   },
   {
    "duration": 11,
    "start_time": "2024-11-01T21:10:43.931Z"
   },
   {
    "duration": 1280,
    "start_time": "2024-11-01T21:10:43.944Z"
   },
   {
    "duration": 293,
    "start_time": "2024-11-01T21:10:45.226Z"
   },
   {
    "duration": 501,
    "start_time": "2024-11-01T21:10:45.525Z"
   },
   {
    "duration": 9,
    "start_time": "2024-11-01T21:10:46.029Z"
   },
   {
    "duration": 7,
    "start_time": "2024-11-01T21:10:46.039Z"
   },
   {
    "duration": 7,
    "start_time": "2024-11-01T21:10:46.047Z"
   },
   {
    "duration": 277,
    "start_time": "2024-11-01T21:10:46.056Z"
   },
   {
    "duration": 268,
    "start_time": "2024-11-01T21:10:46.336Z"
   },
   {
    "duration": 23,
    "start_time": "2024-11-01T21:10:46.606Z"
   },
   {
    "duration": 4,
    "start_time": "2024-11-01T21:10:46.632Z"
   },
   {
    "duration": 257,
    "start_time": "2024-11-01T21:10:46.638Z"
   },
   {
    "duration": 37,
    "start_time": "2024-11-01T21:11:20.109Z"
   },
   {
    "duration": 27,
    "start_time": "2024-11-01T21:13:20.318Z"
   },
   {
    "duration": 81156,
    "start_time": "2024-11-01T21:13:30.200Z"
   },
   {
    "duration": 3,
    "start_time": "2024-11-01T21:17:50.311Z"
   },
   {
    "duration": 483,
    "start_time": "2024-11-01T21:17:50.319Z"
   },
   {
    "duration": 3,
    "start_time": "2024-11-01T21:17:50.804Z"
   },
   {
    "duration": 257,
    "start_time": "2024-11-01T21:17:50.808Z"
   },
   {
    "duration": 104,
    "start_time": "2024-11-01T21:17:51.067Z"
   },
   {
    "duration": 190,
    "start_time": "2024-11-01T21:17:51.174Z"
   },
   {
    "duration": 16,
    "start_time": "2024-11-01T21:17:51.365Z"
   },
   {
    "duration": 162,
    "start_time": "2024-11-01T21:17:51.383Z"
   },
   {
    "duration": 11,
    "start_time": "2024-11-01T21:17:51.546Z"
   },
   {
    "duration": 169,
    "start_time": "2024-11-01T21:17:51.559Z"
   },
   {
    "duration": 104,
    "start_time": "2024-11-01T21:17:51.729Z"
   },
   {
    "duration": 8,
    "start_time": "2024-11-01T21:17:51.835Z"
   },
   {
    "duration": 4,
    "start_time": "2024-11-01T21:17:51.844Z"
   },
   {
    "duration": 10,
    "start_time": "2024-11-01T21:17:51.850Z"
   },
   {
    "duration": 4,
    "start_time": "2024-11-01T21:17:51.863Z"
   },
   {
    "duration": 4,
    "start_time": "2024-11-01T21:17:51.869Z"
   },
   {
    "duration": 4,
    "start_time": "2024-11-01T21:17:51.875Z"
   },
   {
    "duration": 44,
    "start_time": "2024-11-01T21:17:51.880Z"
   },
   {
    "duration": 3,
    "start_time": "2024-11-01T21:17:51.926Z"
   },
   {
    "duration": 358,
    "start_time": "2024-11-01T21:17:51.931Z"
   },
   {
    "duration": 3,
    "start_time": "2024-11-01T21:17:52.291Z"
   },
   {
    "duration": 8,
    "start_time": "2024-11-01T21:17:52.295Z"
   },
   {
    "duration": 27,
    "start_time": "2024-11-01T21:17:52.305Z"
   },
   {
    "duration": 1209,
    "start_time": "2024-11-01T21:17:52.334Z"
   },
   {
    "duration": 218,
    "start_time": "2024-11-01T21:17:53.545Z"
   },
   {
    "duration": 611,
    "start_time": "2024-11-01T21:17:53.765Z"
   },
   {
    "duration": 8,
    "start_time": "2024-11-01T21:17:54.378Z"
   },
   {
    "duration": 4,
    "start_time": "2024-11-01T21:17:54.387Z"
   },
   {
    "duration": 4,
    "start_time": "2024-11-01T21:17:54.393Z"
   },
   {
    "duration": 302,
    "start_time": "2024-11-01T21:17:54.399Z"
   },
   {
    "duration": 289,
    "start_time": "2024-11-01T21:17:54.703Z"
   },
   {
    "duration": 16,
    "start_time": "2024-11-01T21:17:54.994Z"
   },
   {
    "duration": 350,
    "start_time": "2024-11-01T21:17:55.012Z"
   },
   {
    "duration": 53033,
    "start_time": "2024-11-01T21:18:47.781Z"
   },
   {
    "duration": 4,
    "start_time": "2024-11-01T21:22:32.917Z"
   },
   {
    "duration": 500,
    "start_time": "2024-11-01T21:22:32.925Z"
   },
   {
    "duration": 3,
    "start_time": "2024-11-01T21:22:33.427Z"
   },
   {
    "duration": 168,
    "start_time": "2024-11-01T21:22:33.431Z"
   },
   {
    "duration": 98,
    "start_time": "2024-11-01T21:22:33.601Z"
   },
   {
    "duration": 199,
    "start_time": "2024-11-01T21:22:33.702Z"
   },
   {
    "duration": 22,
    "start_time": "2024-11-01T21:22:33.903Z"
   },
   {
    "duration": 166,
    "start_time": "2024-11-01T21:22:33.927Z"
   },
   {
    "duration": 11,
    "start_time": "2024-11-01T21:22:34.095Z"
   },
   {
    "duration": 265,
    "start_time": "2024-11-01T21:22:34.107Z"
   },
   {
    "duration": 97,
    "start_time": "2024-11-01T21:22:34.375Z"
   },
   {
    "duration": 6,
    "start_time": "2024-11-01T21:22:34.474Z"
   },
   {
    "duration": 4,
    "start_time": "2024-11-01T21:22:34.482Z"
   },
   {
    "duration": 11,
    "start_time": "2024-11-01T21:22:34.488Z"
   },
   {
    "duration": 26,
    "start_time": "2024-11-01T21:22:34.501Z"
   },
   {
    "duration": 4,
    "start_time": "2024-11-01T21:22:34.529Z"
   },
   {
    "duration": 3,
    "start_time": "2024-11-01T21:22:34.535Z"
   },
   {
    "duration": 3,
    "start_time": "2024-11-01T21:22:34.540Z"
   },
   {
    "duration": 3,
    "start_time": "2024-11-01T21:22:34.545Z"
   },
   {
    "duration": 340,
    "start_time": "2024-11-01T21:22:34.549Z"
   },
   {
    "duration": 2,
    "start_time": "2024-11-01T21:22:34.891Z"
   },
   {
    "duration": 9,
    "start_time": "2024-11-01T21:22:34.895Z"
   },
   {
    "duration": 26,
    "start_time": "2024-11-01T21:22:34.905Z"
   },
   {
    "duration": 1261,
    "start_time": "2024-11-01T21:22:34.933Z"
   },
   {
    "duration": 217,
    "start_time": "2024-11-01T21:22:36.196Z"
   },
   {
    "duration": 592,
    "start_time": "2024-11-01T21:22:36.415Z"
   },
   {
    "duration": 16,
    "start_time": "2024-11-01T21:22:37.008Z"
   },
   {
    "duration": 5,
    "start_time": "2024-11-01T21:22:37.026Z"
   },
   {
    "duration": 3,
    "start_time": "2024-11-01T21:22:37.035Z"
   },
   {
    "duration": 274,
    "start_time": "2024-11-01T21:22:37.040Z"
   },
   {
    "duration": 287,
    "start_time": "2024-11-01T21:22:37.315Z"
   },
   {
    "duration": 24,
    "start_time": "2024-11-01T21:22:37.604Z"
   },
   {
    "duration": 534261,
    "start_time": "2024-11-01T21:22:37.629Z"
   },
   {
    "duration": 2640,
    "start_time": "2024-11-02T11:41:44.831Z"
   },
   {
    "duration": 624,
    "start_time": "2024-11-02T11:41:47.473Z"
   },
   {
    "duration": 3,
    "start_time": "2024-11-02T11:41:48.099Z"
   },
   {
    "duration": 179,
    "start_time": "2024-11-02T11:41:48.104Z"
   },
   {
    "duration": 101,
    "start_time": "2024-11-02T11:41:48.287Z"
   },
   {
    "duration": 187,
    "start_time": "2024-11-02T11:41:48.389Z"
   },
   {
    "duration": 14,
    "start_time": "2024-11-02T11:41:48.578Z"
   },
   {
    "duration": 167,
    "start_time": "2024-11-02T11:41:48.594Z"
   },
   {
    "duration": 11,
    "start_time": "2024-11-02T11:41:48.763Z"
   },
   {
    "duration": 172,
    "start_time": "2024-11-02T11:41:48.777Z"
   },
   {
    "duration": 100,
    "start_time": "2024-11-02T11:41:48.951Z"
   },
   {
    "duration": 8,
    "start_time": "2024-11-02T11:41:49.052Z"
   },
   {
    "duration": 4,
    "start_time": "2024-11-02T11:41:49.062Z"
   },
   {
    "duration": 10,
    "start_time": "2024-11-02T11:41:49.068Z"
   },
   {
    "duration": 5,
    "start_time": "2024-11-02T11:41:49.080Z"
   },
   {
    "duration": 4,
    "start_time": "2024-11-02T11:41:49.087Z"
   },
   {
    "duration": 4,
    "start_time": "2024-11-02T11:41:49.093Z"
   },
   {
    "duration": 3,
    "start_time": "2024-11-02T11:41:49.100Z"
   },
   {
    "duration": 40,
    "start_time": "2024-11-02T11:41:49.104Z"
   },
   {
    "duration": 424,
    "start_time": "2024-11-02T11:41:49.145Z"
   },
   {
    "duration": 2,
    "start_time": "2024-11-02T11:41:49.571Z"
   },
   {
    "duration": 9,
    "start_time": "2024-11-02T11:41:49.575Z"
   },
   {
    "duration": 9,
    "start_time": "2024-11-02T11:41:49.585Z"
   },
   {
    "duration": 1331,
    "start_time": "2024-11-02T11:41:49.596Z"
   },
   {
    "duration": 215,
    "start_time": "2024-11-02T11:41:50.929Z"
   },
   {
    "duration": 564,
    "start_time": "2024-11-02T11:41:51.146Z"
   },
   {
    "duration": 7,
    "start_time": "2024-11-02T11:41:51.713Z"
   },
   {
    "duration": 4,
    "start_time": "2024-11-02T11:41:51.724Z"
   },
   {
    "duration": 6,
    "start_time": "2024-11-02T11:41:51.743Z"
   },
   {
    "duration": 280,
    "start_time": "2024-11-02T11:41:51.751Z"
   },
   {
    "duration": 278,
    "start_time": "2024-11-02T11:41:52.033Z"
   },
   {
    "duration": 18,
    "start_time": "2024-11-02T11:41:52.312Z"
   },
   {
    "duration": 185681,
    "start_time": "2024-11-02T11:41:52.342Z"
   },
   {
    "duration": 593,
    "start_time": "2024-11-02T11:47:36.008Z"
   },
   {
    "duration": 3,
    "start_time": "2024-11-02T11:47:48.064Z"
   },
   {
    "duration": 484,
    "start_time": "2024-11-02T11:47:48.069Z"
   },
   {
    "duration": 3,
    "start_time": "2024-11-02T11:47:48.554Z"
   },
   {
    "duration": 177,
    "start_time": "2024-11-02T11:47:48.560Z"
   },
   {
    "duration": 106,
    "start_time": "2024-11-02T11:47:48.738Z"
   },
   {
    "duration": 186,
    "start_time": "2024-11-02T11:47:48.845Z"
   },
   {
    "duration": 19,
    "start_time": "2024-11-02T11:47:49.033Z"
   },
   {
    "duration": 161,
    "start_time": "2024-11-02T11:47:49.054Z"
   },
   {
    "duration": 11,
    "start_time": "2024-11-02T11:47:49.218Z"
   },
   {
    "duration": 174,
    "start_time": "2024-11-02T11:47:49.230Z"
   },
   {
    "duration": 98,
    "start_time": "2024-11-02T11:47:49.406Z"
   },
   {
    "duration": 7,
    "start_time": "2024-11-02T11:47:49.505Z"
   },
   {
    "duration": 4,
    "start_time": "2024-11-02T11:47:49.514Z"
   },
   {
    "duration": 26,
    "start_time": "2024-11-02T11:47:49.520Z"
   },
   {
    "duration": 5,
    "start_time": "2024-11-02T11:47:49.548Z"
   },
   {
    "duration": 3,
    "start_time": "2024-11-02T11:47:49.555Z"
   },
   {
    "duration": 4,
    "start_time": "2024-11-02T11:47:49.560Z"
   },
   {
    "duration": 3,
    "start_time": "2024-11-02T11:47:49.565Z"
   },
   {
    "duration": 4,
    "start_time": "2024-11-02T11:47:49.569Z"
   },
   {
    "duration": 341,
    "start_time": "2024-11-02T11:47:49.575Z"
   },
   {
    "duration": 2,
    "start_time": "2024-11-02T11:47:49.918Z"
   },
   {
    "duration": 23,
    "start_time": "2024-11-02T11:47:49.922Z"
   },
   {
    "duration": 10,
    "start_time": "2024-11-02T11:47:49.946Z"
   },
   {
    "duration": 1367,
    "start_time": "2024-11-02T11:47:49.959Z"
   },
   {
    "duration": 220,
    "start_time": "2024-11-02T11:47:51.328Z"
   },
   {
    "duration": 508,
    "start_time": "2024-11-02T11:47:51.550Z"
   },
   {
    "duration": 7,
    "start_time": "2024-11-02T11:47:52.060Z"
   },
   {
    "duration": 3,
    "start_time": "2024-11-02T11:47:52.069Z"
   },
   {
    "duration": 4,
    "start_time": "2024-11-02T11:47:52.075Z"
   },
   {
    "duration": 292,
    "start_time": "2024-11-02T11:47:52.080Z"
   },
   {
    "duration": 254,
    "start_time": "2024-11-02T11:47:52.374Z"
   },
   {
    "duration": 25,
    "start_time": "2024-11-02T11:47:52.630Z"
   },
   {
    "duration": 1354639,
    "start_time": "2024-11-02T11:47:52.657Z"
   },
   {
    "duration": 4,
    "start_time": "2024-11-02T12:18:50.877Z"
   },
   {
    "duration": 497,
    "start_time": "2024-11-02T12:18:50.883Z"
   },
   {
    "duration": 2,
    "start_time": "2024-11-02T12:18:51.382Z"
   },
   {
    "duration": 170,
    "start_time": "2024-11-02T12:18:51.386Z"
   },
   {
    "duration": 104,
    "start_time": "2024-11-02T12:18:51.559Z"
   },
   {
    "duration": 182,
    "start_time": "2024-11-02T12:18:51.665Z"
   },
   {
    "duration": 16,
    "start_time": "2024-11-02T12:18:51.848Z"
   },
   {
    "duration": 162,
    "start_time": "2024-11-02T12:18:51.866Z"
   },
   {
    "duration": 19,
    "start_time": "2024-11-02T12:18:52.030Z"
   },
   {
    "duration": 172,
    "start_time": "2024-11-02T12:18:52.051Z"
   },
   {
    "duration": 102,
    "start_time": "2024-11-02T12:18:52.225Z"
   },
   {
    "duration": 19,
    "start_time": "2024-11-02T12:18:52.329Z"
   },
   {
    "duration": 4,
    "start_time": "2024-11-02T12:18:52.351Z"
   },
   {
    "duration": 10,
    "start_time": "2024-11-02T12:18:52.357Z"
   },
   {
    "duration": 5,
    "start_time": "2024-11-02T12:18:52.369Z"
   },
   {
    "duration": 3,
    "start_time": "2024-11-02T12:18:52.376Z"
   },
   {
    "duration": 4,
    "start_time": "2024-11-02T12:18:52.381Z"
   },
   {
    "duration": 3,
    "start_time": "2024-11-02T12:18:52.387Z"
   },
   {
    "duration": 3,
    "start_time": "2024-11-02T12:18:52.392Z"
   },
   {
    "duration": 391,
    "start_time": "2024-11-02T12:18:52.398Z"
   },
   {
    "duration": 2,
    "start_time": "2024-11-02T12:18:52.791Z"
   },
   {
    "duration": 8,
    "start_time": "2024-11-02T12:18:52.796Z"
   },
   {
    "duration": 10,
    "start_time": "2024-11-02T12:18:52.806Z"
   },
   {
    "duration": 1375,
    "start_time": "2024-11-02T12:18:52.818Z"
   },
   {
    "duration": 213,
    "start_time": "2024-11-02T12:18:54.194Z"
   },
   {
    "duration": 503,
    "start_time": "2024-11-02T12:18:54.409Z"
   },
   {
    "duration": 8,
    "start_time": "2024-11-02T12:18:54.914Z"
   },
   {
    "duration": 4,
    "start_time": "2024-11-02T12:18:54.923Z"
   },
   {
    "duration": 3,
    "start_time": "2024-11-02T12:18:54.943Z"
   },
   {
    "duration": 282,
    "start_time": "2024-11-02T12:18:54.948Z"
   },
   {
    "duration": 275,
    "start_time": "2024-11-02T12:18:55.242Z"
   },
   {
    "duration": 24,
    "start_time": "2024-11-02T12:18:55.519Z"
   },
   {
    "duration": 652953,
    "start_time": "2024-11-02T12:18:55.544Z"
   },
   {
    "duration": 62,
    "start_time": "2024-11-02T12:33:31.619Z"
   },
   {
    "duration": 4,
    "start_time": "2024-11-02T12:33:34.850Z"
   },
   {
    "duration": 457,
    "start_time": "2024-11-02T12:33:34.858Z"
   },
   {
    "duration": 3,
    "start_time": "2024-11-02T12:33:35.317Z"
   },
   {
    "duration": 178,
    "start_time": "2024-11-02T12:33:35.321Z"
   },
   {
    "duration": 100,
    "start_time": "2024-11-02T12:33:35.500Z"
   },
   {
    "duration": 185,
    "start_time": "2024-11-02T12:33:35.603Z"
   },
   {
    "duration": 14,
    "start_time": "2024-11-02T12:33:35.790Z"
   },
   {
    "duration": 163,
    "start_time": "2024-11-02T12:33:35.805Z"
   },
   {
    "duration": 13,
    "start_time": "2024-11-02T12:33:35.969Z"
   },
   {
    "duration": 174,
    "start_time": "2024-11-02T12:33:35.983Z"
   },
   {
    "duration": 108,
    "start_time": "2024-11-02T12:33:36.159Z"
   },
   {
    "duration": 7,
    "start_time": "2024-11-02T12:33:36.270Z"
   },
   {
    "duration": 5,
    "start_time": "2024-11-02T12:33:36.279Z"
   },
   {
    "duration": 9,
    "start_time": "2024-11-02T12:33:36.285Z"
   },
   {
    "duration": 6,
    "start_time": "2024-11-02T12:33:36.298Z"
   },
   {
    "duration": 4,
    "start_time": "2024-11-02T12:33:36.306Z"
   },
   {
    "duration": 32,
    "start_time": "2024-11-02T12:33:36.312Z"
   },
   {
    "duration": 4,
    "start_time": "2024-11-02T12:33:36.345Z"
   },
   {
    "duration": 3,
    "start_time": "2024-11-02T12:33:36.350Z"
   },
   {
    "duration": 358,
    "start_time": "2024-11-02T12:33:36.356Z"
   },
   {
    "duration": 3,
    "start_time": "2024-11-02T12:33:36.716Z"
   },
   {
    "duration": 24,
    "start_time": "2024-11-02T12:33:36.721Z"
   },
   {
    "duration": 10,
    "start_time": "2024-11-02T12:33:36.746Z"
   },
   {
    "duration": 1240,
    "start_time": "2024-11-02T12:33:36.758Z"
   },
   {
    "duration": 219,
    "start_time": "2024-11-02T12:33:38.000Z"
   },
   {
    "duration": 611,
    "start_time": "2024-11-02T12:33:38.221Z"
   },
   {
    "duration": 12,
    "start_time": "2024-11-02T12:33:38.835Z"
   },
   {
    "duration": 4,
    "start_time": "2024-11-02T12:33:38.849Z"
   },
   {
    "duration": 4,
    "start_time": "2024-11-02T12:33:38.855Z"
   },
   {
    "duration": 273,
    "start_time": "2024-11-02T12:33:38.861Z"
   },
   {
    "duration": 267,
    "start_time": "2024-11-02T12:33:39.135Z"
   },
   {
    "duration": 14,
    "start_time": "2024-11-02T12:33:39.404Z"
   },
   {
    "duration": 656592,
    "start_time": "2024-11-02T12:33:39.420Z"
   },
   {
    "duration": 66,
    "start_time": "2024-11-02T12:44:36.014Z"
   },
   {
    "duration": 2733,
    "start_time": "2024-11-02T15:14:16.447Z"
   },
   {
    "duration": 665,
    "start_time": "2024-11-02T15:14:19.182Z"
   },
   {
    "duration": 3,
    "start_time": "2024-11-02T15:14:19.849Z"
   },
   {
    "duration": 183,
    "start_time": "2024-11-02T15:14:19.854Z"
   },
   {
    "duration": 106,
    "start_time": "2024-11-02T15:14:20.039Z"
   },
   {
    "duration": 185,
    "start_time": "2024-11-02T15:14:20.147Z"
   },
   {
    "duration": 14,
    "start_time": "2024-11-02T15:14:20.334Z"
   },
   {
    "duration": 174,
    "start_time": "2024-11-02T15:14:20.350Z"
   },
   {
    "duration": 11,
    "start_time": "2024-11-02T15:14:20.525Z"
   },
   {
    "duration": 6,
    "start_time": "2024-11-02T15:14:20.540Z"
   },
   {
    "duration": 5,
    "start_time": "2024-11-02T15:14:20.548Z"
   },
   {
    "duration": 10,
    "start_time": "2024-11-02T15:14:20.554Z"
   },
   {
    "duration": 5,
    "start_time": "2024-11-02T15:14:20.565Z"
   },
   {
    "duration": 3,
    "start_time": "2024-11-02T15:14:20.571Z"
   },
   {
    "duration": 36,
    "start_time": "2024-11-02T15:14:20.576Z"
   },
   {
    "duration": 4,
    "start_time": "2024-11-02T15:14:20.614Z"
   },
   {
    "duration": 4,
    "start_time": "2024-11-02T15:14:20.619Z"
   },
   {
    "duration": 421,
    "start_time": "2024-11-02T15:14:20.624Z"
   },
   {
    "duration": 3,
    "start_time": "2024-11-02T15:14:21.047Z"
   },
   {
    "duration": 8,
    "start_time": "2024-11-02T15:14:21.051Z"
   },
   {
    "duration": 10,
    "start_time": "2024-11-02T15:14:21.061Z"
   },
   {
    "duration": 1256,
    "start_time": "2024-11-02T15:14:21.072Z"
   },
   {
    "duration": 216,
    "start_time": "2024-11-02T15:14:22.330Z"
   },
   {
    "duration": 588,
    "start_time": "2024-11-02T15:14:22.548Z"
   },
   {
    "duration": 8,
    "start_time": "2024-11-02T15:14:23.138Z"
   },
   {
    "duration": 3,
    "start_time": "2024-11-02T15:14:23.148Z"
   },
   {
    "duration": 6,
    "start_time": "2024-11-02T15:14:23.153Z"
   },
   {
    "duration": 309,
    "start_time": "2024-11-02T15:14:23.162Z"
   },
   {
    "duration": 264,
    "start_time": "2024-11-02T15:14:23.475Z"
   },
   {
    "duration": 17,
    "start_time": "2024-11-02T15:14:23.741Z"
   },
   {
    "duration": 3,
    "start_time": "2024-11-02T15:14:23.760Z"
   },
   {
    "duration": 176841,
    "start_time": "2024-11-02T15:14:23.764Z"
   },
   {
    "duration": 3,
    "start_time": "2024-11-02T15:24:50.498Z"
   },
   {
    "duration": 502,
    "start_time": "2024-11-02T15:24:50.503Z"
   },
   {
    "duration": 3,
    "start_time": "2024-11-02T15:24:51.007Z"
   },
   {
    "duration": 167,
    "start_time": "2024-11-02T15:24:51.012Z"
   },
   {
    "duration": 103,
    "start_time": "2024-11-02T15:24:51.181Z"
   },
   {
    "duration": 180,
    "start_time": "2024-11-02T15:24:51.286Z"
   },
   {
    "duration": 17,
    "start_time": "2024-11-02T15:24:51.468Z"
   },
   {
    "duration": 167,
    "start_time": "2024-11-02T15:24:51.487Z"
   },
   {
    "duration": 11,
    "start_time": "2024-11-02T15:24:51.656Z"
   },
   {
    "duration": 7,
    "start_time": "2024-11-02T15:24:51.669Z"
   },
   {
    "duration": 4,
    "start_time": "2024-11-02T15:24:51.678Z"
   },
   {
    "duration": 29,
    "start_time": "2024-11-02T15:24:51.684Z"
   },
   {
    "duration": 4,
    "start_time": "2024-11-02T15:24:51.716Z"
   },
   {
    "duration": 3,
    "start_time": "2024-11-02T15:24:51.722Z"
   },
   {
    "duration": 3,
    "start_time": "2024-11-02T15:24:51.727Z"
   },
   {
    "duration": 4,
    "start_time": "2024-11-02T15:24:51.732Z"
   },
   {
    "duration": 3,
    "start_time": "2024-11-02T15:24:51.737Z"
   },
   {
    "duration": 353,
    "start_time": "2024-11-02T15:24:51.742Z"
   },
   {
    "duration": 2,
    "start_time": "2024-11-02T15:24:52.097Z"
   },
   {
    "duration": 17,
    "start_time": "2024-11-02T15:24:52.101Z"
   },
   {
    "duration": 10,
    "start_time": "2024-11-02T15:24:52.119Z"
   },
   {
    "duration": 1362,
    "start_time": "2024-11-02T15:24:52.131Z"
   },
   {
    "duration": 225,
    "start_time": "2024-11-02T15:24:53.495Z"
   },
   {
    "duration": 503,
    "start_time": "2024-11-02T15:24:53.722Z"
   },
   {
    "duration": 8,
    "start_time": "2024-11-02T15:24:54.227Z"
   },
   {
    "duration": 3,
    "start_time": "2024-11-02T15:24:54.237Z"
   },
   {
    "duration": 4,
    "start_time": "2024-11-02T15:24:54.242Z"
   },
   {
    "duration": 295,
    "start_time": "2024-11-02T15:24:54.248Z"
   },
   {
    "duration": 247,
    "start_time": "2024-11-02T15:24:54.546Z"
   },
   {
    "duration": 25,
    "start_time": "2024-11-02T15:24:54.796Z"
   },
   {
    "duration": 4,
    "start_time": "2024-11-02T15:24:54.823Z"
   },
   {
    "duration": 351274,
    "start_time": "2024-11-02T15:24:54.829Z"
   },
   {
    "duration": 3,
    "start_time": "2024-11-02T15:30:48.412Z"
   },
   {
    "duration": 503,
    "start_time": "2024-11-02T15:30:48.419Z"
   },
   {
    "duration": 4,
    "start_time": "2024-11-02T15:30:48.924Z"
   },
   {
    "duration": 180,
    "start_time": "2024-11-02T15:30:48.930Z"
   },
   {
    "duration": 101,
    "start_time": "2024-11-02T15:30:49.112Z"
   },
   {
    "duration": 182,
    "start_time": "2024-11-02T15:30:49.214Z"
   },
   {
    "duration": 25,
    "start_time": "2024-11-02T15:30:49.398Z"
   },
   {
    "duration": 155,
    "start_time": "2024-11-02T15:30:49.425Z"
   },
   {
    "duration": 11,
    "start_time": "2024-11-02T15:30:49.582Z"
   },
   {
    "duration": 20,
    "start_time": "2024-11-02T15:30:49.595Z"
   },
   {
    "duration": 4,
    "start_time": "2024-11-02T15:30:49.620Z"
   },
   {
    "duration": 10,
    "start_time": "2024-11-02T15:30:49.626Z"
   },
   {
    "duration": 5,
    "start_time": "2024-11-02T15:30:49.637Z"
   },
   {
    "duration": 3,
    "start_time": "2024-11-02T15:30:49.644Z"
   },
   {
    "duration": 4,
    "start_time": "2024-11-02T15:30:49.649Z"
   },
   {
    "duration": 5,
    "start_time": "2024-11-02T15:30:49.654Z"
   },
   {
    "duration": 3,
    "start_time": "2024-11-02T15:30:49.661Z"
   },
   {
    "duration": 424,
    "start_time": "2024-11-02T15:30:49.665Z"
   },
   {
    "duration": 2,
    "start_time": "2024-11-02T15:30:50.091Z"
   },
   {
    "duration": 20,
    "start_time": "2024-11-02T15:30:50.095Z"
   },
   {
    "duration": 10,
    "start_time": "2024-11-02T15:30:50.116Z"
   },
   {
    "duration": 1287,
    "start_time": "2024-11-02T15:30:50.127Z"
   },
   {
    "duration": 211,
    "start_time": "2024-11-02T15:30:51.417Z"
   },
   {
    "duration": 505,
    "start_time": "2024-11-02T15:30:51.631Z"
   },
   {
    "duration": 9,
    "start_time": "2024-11-02T15:30:52.138Z"
   },
   {
    "duration": 4,
    "start_time": "2024-11-02T15:30:52.148Z"
   },
   {
    "duration": 4,
    "start_time": "2024-11-02T15:30:52.154Z"
   },
   {
    "duration": 302,
    "start_time": "2024-11-02T15:30:52.159Z"
   },
   {
    "duration": 384,
    "start_time": "2024-11-02T15:30:52.465Z"
   },
   {
    "duration": 16,
    "start_time": "2024-11-02T15:30:52.852Z"
   },
   {
    "duration": 3,
    "start_time": "2024-11-02T15:30:52.870Z"
   },
   {
    "duration": 433842,
    "start_time": "2024-11-02T15:30:52.876Z"
   },
   {
    "duration": 3,
    "start_time": "2024-11-02T15:42:56.331Z"
   },
   {
    "duration": 440,
    "start_time": "2024-11-02T15:42:56.336Z"
   },
   {
    "duration": 3,
    "start_time": "2024-11-02T15:42:56.778Z"
   },
   {
    "duration": 173,
    "start_time": "2024-11-02T15:42:56.782Z"
   },
   {
    "duration": 99,
    "start_time": "2024-11-02T15:42:56.958Z"
   },
   {
    "duration": 185,
    "start_time": "2024-11-02T15:42:57.059Z"
   },
   {
    "duration": 15,
    "start_time": "2024-11-02T15:42:57.245Z"
   },
   {
    "duration": 165,
    "start_time": "2024-11-02T15:42:57.262Z"
   },
   {
    "duration": 12,
    "start_time": "2024-11-02T15:42:57.428Z"
   },
   {
    "duration": 9,
    "start_time": "2024-11-02T15:42:57.441Z"
   },
   {
    "duration": 3,
    "start_time": "2024-11-02T15:42:57.453Z"
   },
   {
    "duration": 9,
    "start_time": "2024-11-02T15:42:57.458Z"
   },
   {
    "duration": 5,
    "start_time": "2024-11-02T15:42:57.469Z"
   },
   {
    "duration": 3,
    "start_time": "2024-11-02T15:42:57.477Z"
   },
   {
    "duration": 3,
    "start_time": "2024-11-02T15:42:57.512Z"
   },
   {
    "duration": 4,
    "start_time": "2024-11-02T15:42:57.517Z"
   },
   {
    "duration": 4,
    "start_time": "2024-11-02T15:42:57.522Z"
   },
   {
    "duration": 345,
    "start_time": "2024-11-02T15:42:57.527Z"
   },
   {
    "duration": 3,
    "start_time": "2024-11-02T15:42:57.874Z"
   },
   {
    "duration": 9,
    "start_time": "2024-11-02T15:42:57.879Z"
   },
   {
    "duration": 25,
    "start_time": "2024-11-02T15:42:57.890Z"
   },
   {
    "duration": 1232,
    "start_time": "2024-11-02T15:42:57.917Z"
   },
   {
    "duration": 214,
    "start_time": "2024-11-02T15:42:59.151Z"
   },
   {
    "duration": 606,
    "start_time": "2024-11-02T15:42:59.366Z"
   },
   {
    "duration": 8,
    "start_time": "2024-11-02T15:42:59.974Z"
   },
   {
    "duration": 4,
    "start_time": "2024-11-02T15:42:59.983Z"
   },
   {
    "duration": 23,
    "start_time": "2024-11-02T15:42:59.989Z"
   },
   {
    "duration": 273,
    "start_time": "2024-11-02T15:43:00.015Z"
   },
   {
    "duration": 288,
    "start_time": "2024-11-02T15:43:00.292Z"
   },
   {
    "duration": 15,
    "start_time": "2024-11-02T15:43:00.582Z"
   },
   {
    "duration": 3,
    "start_time": "2024-11-02T15:43:00.611Z"
   },
   {
    "duration": 434599,
    "start_time": "2024-11-02T15:43:00.615Z"
   },
   {
    "duration": 4,
    "start_time": "2024-11-02T15:51:15.193Z"
   },
   {
    "duration": 444,
    "start_time": "2024-11-02T15:51:15.199Z"
   },
   {
    "duration": 3,
    "start_time": "2024-11-02T15:51:15.645Z"
   },
   {
    "duration": 173,
    "start_time": "2024-11-02T15:51:15.649Z"
   },
   {
    "duration": 102,
    "start_time": "2024-11-02T15:51:15.824Z"
   },
   {
    "duration": 185,
    "start_time": "2024-11-02T15:51:15.928Z"
   },
   {
    "duration": 16,
    "start_time": "2024-11-02T15:51:16.114Z"
   },
   {
    "duration": 163,
    "start_time": "2024-11-02T15:51:16.132Z"
   },
   {
    "duration": 21,
    "start_time": "2024-11-02T15:51:16.297Z"
   },
   {
    "duration": 8,
    "start_time": "2024-11-02T15:51:16.319Z"
   },
   {
    "duration": 4,
    "start_time": "2024-11-02T15:51:16.328Z"
   },
   {
    "duration": 10,
    "start_time": "2024-11-02T15:51:16.334Z"
   },
   {
    "duration": 5,
    "start_time": "2024-11-02T15:51:16.346Z"
   },
   {
    "duration": 3,
    "start_time": "2024-11-02T15:51:16.354Z"
   },
   {
    "duration": 3,
    "start_time": "2024-11-02T15:51:16.359Z"
   },
   {
    "duration": 3,
    "start_time": "2024-11-02T15:51:16.364Z"
   },
   {
    "duration": 2,
    "start_time": "2024-11-02T15:51:16.369Z"
   },
   {
    "duration": 354,
    "start_time": "2024-11-02T15:51:16.413Z"
   },
   {
    "duration": 3,
    "start_time": "2024-11-02T15:51:16.768Z"
   },
   {
    "duration": 9,
    "start_time": "2024-11-02T15:51:16.772Z"
   },
   {
    "duration": 30,
    "start_time": "2024-11-02T15:51:16.782Z"
   },
   {
    "duration": 1253,
    "start_time": "2024-11-02T15:51:16.814Z"
   },
   {
    "duration": 336,
    "start_time": "2024-11-02T15:51:18.069Z"
   },
   {
    "duration": 482,
    "start_time": "2024-11-02T15:51:18.411Z"
   },
   {
    "duration": 18,
    "start_time": "2024-11-02T15:51:18.894Z"
   },
   {
    "duration": 4,
    "start_time": "2024-11-02T15:51:18.914Z"
   },
   {
    "duration": 4,
    "start_time": "2024-11-02T15:51:18.920Z"
   },
   {
    "duration": 278,
    "start_time": "2024-11-02T15:51:18.925Z"
   },
   {
    "duration": 274,
    "start_time": "2024-11-02T15:51:19.205Z"
   },
   {
    "duration": 17,
    "start_time": "2024-11-02T15:51:19.481Z"
   },
   {
    "duration": 0,
    "start_time": "2024-11-02T15:52:21.823Z"
   },
   {
    "duration": 3,
    "start_time": "2024-11-02T15:52:23.266Z"
   },
   {
    "duration": 465,
    "start_time": "2024-11-02T15:52:23.271Z"
   },
   {
    "duration": 3,
    "start_time": "2024-11-02T15:52:23.738Z"
   },
   {
    "duration": 173,
    "start_time": "2024-11-02T15:52:23.742Z"
   },
   {
    "duration": 103,
    "start_time": "2024-11-02T15:52:23.918Z"
   },
   {
    "duration": 180,
    "start_time": "2024-11-02T15:52:24.023Z"
   },
   {
    "duration": 16,
    "start_time": "2024-11-02T15:52:24.212Z"
   },
   {
    "duration": 163,
    "start_time": "2024-11-02T15:52:24.230Z"
   },
   {
    "duration": 17,
    "start_time": "2024-11-02T15:52:24.396Z"
   },
   {
    "duration": 8,
    "start_time": "2024-11-02T15:52:24.415Z"
   },
   {
    "duration": 4,
    "start_time": "2024-11-02T15:52:24.426Z"
   },
   {
    "duration": 11,
    "start_time": "2024-11-02T15:52:24.432Z"
   },
   {
    "duration": 5,
    "start_time": "2024-11-02T15:52:24.445Z"
   },
   {
    "duration": 4,
    "start_time": "2024-11-02T15:52:24.451Z"
   },
   {
    "duration": 4,
    "start_time": "2024-11-02T15:52:24.457Z"
   },
   {
    "duration": 3,
    "start_time": "2024-11-02T15:52:24.462Z"
   },
   {
    "duration": 46,
    "start_time": "2024-11-02T15:52:24.467Z"
   },
   {
    "duration": 372,
    "start_time": "2024-11-02T15:52:24.515Z"
   },
   {
    "duration": 3,
    "start_time": "2024-11-02T15:52:24.889Z"
   },
   {
    "duration": 20,
    "start_time": "2024-11-02T15:52:24.894Z"
   },
   {
    "duration": 13,
    "start_time": "2024-11-02T15:52:24.916Z"
   },
   {
    "duration": 1430,
    "start_time": "2024-11-02T15:52:24.931Z"
   },
   {
    "duration": 220,
    "start_time": "2024-11-02T15:52:26.363Z"
   },
   {
    "duration": 489,
    "start_time": "2024-11-02T15:52:26.585Z"
   },
   {
    "duration": 8,
    "start_time": "2024-11-02T15:52:27.076Z"
   },
   {
    "duration": 4,
    "start_time": "2024-11-02T15:52:27.085Z"
   },
   {
    "duration": 3,
    "start_time": "2024-11-02T15:52:27.111Z"
   },
   {
    "duration": 284,
    "start_time": "2024-11-02T15:52:27.116Z"
   },
   {
    "duration": 265,
    "start_time": "2024-11-02T15:52:27.404Z"
   },
   {
    "duration": 15,
    "start_time": "2024-11-02T15:52:27.671Z"
   },
   {
    "duration": 2876,
    "start_time": "2024-11-02T20:09:16.294Z"
   },
   {
    "duration": 656,
    "start_time": "2024-11-02T20:09:19.172Z"
   },
   {
    "duration": 3,
    "start_time": "2024-11-02T20:09:19.830Z"
   },
   {
    "duration": 192,
    "start_time": "2024-11-02T20:09:19.836Z"
   },
   {
    "duration": 108,
    "start_time": "2024-11-02T20:09:20.030Z"
   },
   {
    "duration": 188,
    "start_time": "2024-11-02T20:09:20.140Z"
   },
   {
    "duration": 19,
    "start_time": "2024-11-02T20:09:20.330Z"
   },
   {
    "duration": 171,
    "start_time": "2024-11-02T20:09:20.351Z"
   },
   {
    "duration": 13,
    "start_time": "2024-11-02T20:09:20.524Z"
   },
   {
    "duration": 10,
    "start_time": "2024-11-02T20:09:20.541Z"
   },
   {
    "duration": 21,
    "start_time": "2024-11-02T20:09:20.552Z"
   },
   {
    "duration": 11,
    "start_time": "2024-11-02T20:09:20.575Z"
   },
   {
    "duration": 7,
    "start_time": "2024-11-02T20:09:20.587Z"
   },
   {
    "duration": 5,
    "start_time": "2024-11-02T20:09:20.595Z"
   },
   {
    "duration": 4,
    "start_time": "2024-11-02T20:09:20.604Z"
   },
   {
    "duration": 5,
    "start_time": "2024-11-02T20:09:20.609Z"
   },
   {
    "duration": 4,
    "start_time": "2024-11-02T20:09:20.615Z"
   },
   {
    "duration": 407,
    "start_time": "2024-11-02T20:09:20.621Z"
   },
   {
    "duration": 4,
    "start_time": "2024-11-02T20:09:21.030Z"
   },
   {
    "duration": 10,
    "start_time": "2024-11-02T20:09:21.037Z"
   },
   {
    "duration": 35,
    "start_time": "2024-11-02T20:09:21.048Z"
   },
   {
    "duration": 1361,
    "start_time": "2024-11-02T20:09:21.085Z"
   },
   {
    "duration": 323,
    "start_time": "2024-11-02T20:09:22.449Z"
   },
   {
    "duration": 521,
    "start_time": "2024-11-02T20:09:22.775Z"
   },
   {
    "duration": 8,
    "start_time": "2024-11-02T20:09:23.298Z"
   },
   {
    "duration": 5,
    "start_time": "2024-11-02T20:09:23.307Z"
   },
   {
    "duration": 3,
    "start_time": "2024-11-02T20:09:23.314Z"
   },
   {
    "duration": 322,
    "start_time": "2024-11-02T20:09:23.321Z"
   },
   {
    "duration": 296,
    "start_time": "2024-11-02T20:09:23.645Z"
   },
   {
    "duration": 29,
    "start_time": "2024-11-02T20:09:23.942Z"
   },
   {
    "duration": 437711,
    "start_time": "2024-11-02T20:09:23.973Z"
   },
   {
    "duration": 2601,
    "start_time": "2024-11-05T14:32:43.568Z"
   },
   {
    "duration": 605,
    "start_time": "2024-11-05T14:32:46.171Z"
   },
   {
    "duration": 3,
    "start_time": "2024-11-05T14:32:46.778Z"
   },
   {
    "duration": 182,
    "start_time": "2024-11-05T14:32:46.782Z"
   },
   {
    "duration": 101,
    "start_time": "2024-11-05T14:32:46.966Z"
   },
   {
    "duration": 181,
    "start_time": "2024-11-05T14:32:47.069Z"
   },
   {
    "duration": 15,
    "start_time": "2024-11-05T14:32:47.252Z"
   },
   {
    "duration": 171,
    "start_time": "2024-11-05T14:32:47.269Z"
   },
   {
    "duration": 10,
    "start_time": "2024-11-05T14:32:47.442Z"
   },
   {
    "duration": 7,
    "start_time": "2024-11-05T14:32:47.456Z"
   },
   {
    "duration": 24,
    "start_time": "2024-11-05T14:32:47.465Z"
   },
   {
    "duration": 10,
    "start_time": "2024-11-05T14:32:47.491Z"
   },
   {
    "duration": 5,
    "start_time": "2024-11-05T14:32:47.502Z"
   },
   {
    "duration": 3,
    "start_time": "2024-11-05T14:32:47.509Z"
   },
   {
    "duration": 3,
    "start_time": "2024-11-05T14:32:47.514Z"
   },
   {
    "duration": 3,
    "start_time": "2024-11-05T14:32:47.519Z"
   },
   {
    "duration": 3,
    "start_time": "2024-11-05T14:32:47.524Z"
   },
   {
    "duration": 415,
    "start_time": "2024-11-05T14:32:47.528Z"
   },
   {
    "duration": 2,
    "start_time": "2024-11-05T14:32:47.946Z"
   },
   {
    "duration": 10,
    "start_time": "2024-11-05T14:32:47.949Z"
   },
   {
    "duration": 30,
    "start_time": "2024-11-05T14:32:47.960Z"
   },
   {
    "duration": 1278,
    "start_time": "2024-11-05T14:32:47.991Z"
   },
   {
    "duration": 209,
    "start_time": "2024-11-05T14:32:49.271Z"
   },
   {
    "duration": 580,
    "start_time": "2024-11-05T14:32:49.482Z"
   },
   {
    "duration": 10,
    "start_time": "2024-11-05T14:32:50.064Z"
   },
   {
    "duration": 4,
    "start_time": "2024-11-05T14:32:50.087Z"
   },
   {
    "duration": 4,
    "start_time": "2024-11-05T14:32:50.093Z"
   },
   {
    "duration": 274,
    "start_time": "2024-11-05T14:32:50.101Z"
   },
   {
    "duration": 273,
    "start_time": "2024-11-05T14:32:50.376Z"
   },
   {
    "duration": 15,
    "start_time": "2024-11-05T14:32:50.652Z"
   },
   {
    "duration": 440020,
    "start_time": "2024-11-05T14:32:50.669Z"
   },
   {
    "duration": 3,
    "start_time": "2024-11-05T15:39:02.552Z"
   },
   {
    "duration": 455,
    "start_time": "2024-11-05T15:39:02.584Z"
   },
   {
    "duration": 3,
    "start_time": "2024-11-05T15:39:03.041Z"
   },
   {
    "duration": 211,
    "start_time": "2024-11-05T15:39:03.046Z"
   },
   {
    "duration": 97,
    "start_time": "2024-11-05T15:39:03.259Z"
   },
   {
    "duration": 193,
    "start_time": "2024-11-05T15:39:03.359Z"
   },
   {
    "duration": 15,
    "start_time": "2024-11-05T15:39:03.554Z"
   },
   {
    "duration": 167,
    "start_time": "2024-11-05T15:39:03.570Z"
   },
   {
    "duration": 11,
    "start_time": "2024-11-05T15:39:03.739Z"
   },
   {
    "duration": 7,
    "start_time": "2024-11-05T15:39:03.752Z"
   },
   {
    "duration": 5,
    "start_time": "2024-11-05T15:39:03.761Z"
   },
   {
    "duration": 28,
    "start_time": "2024-11-05T15:39:03.767Z"
   },
   {
    "duration": 4,
    "start_time": "2024-11-05T15:39:03.797Z"
   },
   {
    "duration": 3,
    "start_time": "2024-11-05T15:39:03.803Z"
   },
   {
    "duration": 3,
    "start_time": "2024-11-05T15:39:03.810Z"
   },
   {
    "duration": 3,
    "start_time": "2024-11-05T15:39:03.815Z"
   },
   {
    "duration": 3,
    "start_time": "2024-11-05T15:39:03.820Z"
   },
   {
    "duration": 362,
    "start_time": "2024-11-05T15:39:03.825Z"
   },
   {
    "duration": 3,
    "start_time": "2024-11-05T15:39:04.189Z"
   },
   {
    "duration": 11,
    "start_time": "2024-11-05T15:39:04.194Z"
   },
   {
    "duration": 10,
    "start_time": "2024-11-05T15:39:04.207Z"
   },
   {
    "duration": 1457,
    "start_time": "2024-11-05T15:39:04.219Z"
   },
   {
    "duration": 217,
    "start_time": "2024-11-05T15:39:05.677Z"
   },
   {
    "duration": 499,
    "start_time": "2024-11-05T15:39:05.896Z"
   },
   {
    "duration": 10,
    "start_time": "2024-11-05T15:39:06.397Z"
   },
   {
    "duration": 4,
    "start_time": "2024-11-05T15:39:06.408Z"
   },
   {
    "duration": 3,
    "start_time": "2024-11-05T15:39:06.414Z"
   },
   {
    "duration": 273,
    "start_time": "2024-11-05T15:39:06.419Z"
   },
   {
    "duration": 265,
    "start_time": "2024-11-05T15:39:06.695Z"
   },
   {
    "duration": 24,
    "start_time": "2024-11-05T15:39:06.963Z"
   },
   {
    "duration": 45001,
    "start_time": "2024-11-05T15:39:06.989Z"
   },
   {
    "duration": 4,
    "start_time": "2024-11-05T15:39:55.001Z"
   },
   {
    "duration": 482,
    "start_time": "2024-11-05T15:39:55.038Z"
   },
   {
    "duration": 4,
    "start_time": "2024-11-05T15:39:55.522Z"
   },
   {
    "duration": 183,
    "start_time": "2024-11-05T15:39:55.527Z"
   },
   {
    "duration": 98,
    "start_time": "2024-11-05T15:39:55.712Z"
   },
   {
    "duration": 185,
    "start_time": "2024-11-05T15:39:55.813Z"
   },
   {
    "duration": 14,
    "start_time": "2024-11-05T15:39:56.000Z"
   },
   {
    "duration": 160,
    "start_time": "2024-11-05T15:39:56.015Z"
   },
   {
    "duration": 16,
    "start_time": "2024-11-05T15:39:56.177Z"
   },
   {
    "duration": 8,
    "start_time": "2024-11-05T15:39:56.194Z"
   },
   {
    "duration": 4,
    "start_time": "2024-11-05T15:39:56.203Z"
   },
   {
    "duration": 11,
    "start_time": "2024-11-05T15:39:56.209Z"
   },
   {
    "duration": 5,
    "start_time": "2024-11-05T15:39:56.222Z"
   },
   {
    "duration": 3,
    "start_time": "2024-11-05T15:39:56.230Z"
   },
   {
    "duration": 3,
    "start_time": "2024-11-05T15:39:56.237Z"
   },
   {
    "duration": 44,
    "start_time": "2024-11-05T15:39:56.242Z"
   },
   {
    "duration": 4,
    "start_time": "2024-11-05T15:39:56.287Z"
   },
   {
    "duration": 352,
    "start_time": "2024-11-05T15:39:56.293Z"
   },
   {
    "duration": 3,
    "start_time": "2024-11-05T15:39:56.646Z"
   },
   {
    "duration": 8,
    "start_time": "2024-11-05T15:39:56.651Z"
   },
   {
    "duration": 26,
    "start_time": "2024-11-05T15:39:56.661Z"
   },
   {
    "duration": 1324,
    "start_time": "2024-11-05T15:39:56.689Z"
   },
   {
    "duration": 225,
    "start_time": "2024-11-05T15:39:58.015Z"
   },
   {
    "duration": 494,
    "start_time": "2024-11-05T15:39:58.242Z"
   },
   {
    "duration": 8,
    "start_time": "2024-11-05T15:39:58.739Z"
   },
   {
    "duration": 4,
    "start_time": "2024-11-05T15:39:58.749Z"
   },
   {
    "duration": 4,
    "start_time": "2024-11-05T15:39:58.755Z"
   },
   {
    "duration": 297,
    "start_time": "2024-11-05T15:39:58.760Z"
   },
   {
    "duration": 397,
    "start_time": "2024-11-05T15:39:59.058Z"
   },
   {
    "duration": 15,
    "start_time": "2024-11-05T15:39:59.457Z"
   },
   {
    "duration": 13,
    "start_time": "2024-11-05T15:39:59.474Z"
   },
   {
    "duration": 116268,
    "start_time": "2024-11-05T15:39:59.489Z"
   },
   {
    "duration": 2711,
    "start_time": "2024-11-09T00:16:05.505Z"
   },
   {
    "duration": 616,
    "start_time": "2024-11-09T00:16:08.218Z"
   },
   {
    "duration": 3,
    "start_time": "2024-11-09T00:16:08.837Z"
   },
   {
    "duration": 176,
    "start_time": "2024-11-09T00:16:08.842Z"
   },
   {
    "duration": 107,
    "start_time": "2024-11-09T00:16:09.020Z"
   },
   {
    "duration": 183,
    "start_time": "2024-11-09T00:16:09.129Z"
   },
   {
    "duration": 15,
    "start_time": "2024-11-09T00:16:09.314Z"
   },
   {
    "duration": 168,
    "start_time": "2024-11-09T00:16:09.331Z"
   },
   {
    "duration": 11,
    "start_time": "2024-11-09T00:16:09.500Z"
   },
   {
    "duration": 6,
    "start_time": "2024-11-09T00:16:09.515Z"
   },
   {
    "duration": 4,
    "start_time": "2024-11-09T00:16:09.523Z"
   },
   {
    "duration": 10,
    "start_time": "2024-11-09T00:16:09.529Z"
   },
   {
    "duration": 5,
    "start_time": "2024-11-09T00:16:09.540Z"
   },
   {
    "duration": 3,
    "start_time": "2024-11-09T00:16:09.547Z"
   },
   {
    "duration": 5,
    "start_time": "2024-11-09T00:16:09.586Z"
   },
   {
    "duration": 4,
    "start_time": "2024-11-09T00:16:09.593Z"
   },
   {
    "duration": 3,
    "start_time": "2024-11-09T00:16:09.598Z"
   },
   {
    "duration": 362,
    "start_time": "2024-11-09T00:16:09.603Z"
   },
   {
    "duration": 2,
    "start_time": "2024-11-09T00:16:09.968Z"
   },
   {
    "duration": 17,
    "start_time": "2024-11-09T00:16:09.972Z"
   },
   {
    "duration": 10,
    "start_time": "2024-11-09T00:16:09.991Z"
   },
   {
    "duration": 1316,
    "start_time": "2024-11-09T00:16:10.003Z"
   },
   {
    "duration": 210,
    "start_time": "2024-11-09T00:16:11.321Z"
   },
   {
    "duration": 581,
    "start_time": "2024-11-09T00:16:11.533Z"
   },
   {
    "duration": 7,
    "start_time": "2024-11-09T00:16:12.116Z"
   },
   {
    "duration": 4,
    "start_time": "2024-11-09T00:16:12.124Z"
   },
   {
    "duration": 4,
    "start_time": "2024-11-09T00:16:12.130Z"
   },
   {
    "duration": 307,
    "start_time": "2024-11-09T00:16:12.138Z"
   },
   {
    "duration": 282,
    "start_time": "2024-11-09T00:16:12.447Z"
   },
   {
    "duration": 15,
    "start_time": "2024-11-09T00:16:12.731Z"
   },
   {
    "duration": 3,
    "start_time": "2024-11-09T00:16:12.748Z"
   },
   {
    "duration": 4,
    "start_time": "2024-11-09T00:20:54.660Z"
   },
   {
    "duration": 498,
    "start_time": "2024-11-09T00:20:54.666Z"
   },
   {
    "duration": 3,
    "start_time": "2024-11-09T00:20:55.165Z"
   },
   {
    "duration": 171,
    "start_time": "2024-11-09T00:20:55.171Z"
   },
   {
    "duration": 103,
    "start_time": "2024-11-09T00:20:55.344Z"
   },
   {
    "duration": 182,
    "start_time": "2024-11-09T00:20:55.449Z"
   },
   {
    "duration": 21,
    "start_time": "2024-11-09T00:20:55.633Z"
   },
   {
    "duration": 161,
    "start_time": "2024-11-09T00:20:55.657Z"
   },
   {
    "duration": 12,
    "start_time": "2024-11-09T00:20:55.821Z"
   },
   {
    "duration": 7,
    "start_time": "2024-11-09T00:20:55.834Z"
   },
   {
    "duration": 4,
    "start_time": "2024-11-09T00:20:55.843Z"
   },
   {
    "duration": 11,
    "start_time": "2024-11-09T00:20:55.850Z"
   },
   {
    "duration": 26,
    "start_time": "2024-11-09T00:20:55.863Z"
   },
   {
    "duration": 3,
    "start_time": "2024-11-09T00:20:55.891Z"
   },
   {
    "duration": 4,
    "start_time": "2024-11-09T00:20:55.895Z"
   },
   {
    "duration": 3,
    "start_time": "2024-11-09T00:20:55.901Z"
   },
   {
    "duration": 3,
    "start_time": "2024-11-09T00:20:55.905Z"
   },
   {
    "duration": 337,
    "start_time": "2024-11-09T00:20:55.910Z"
   },
   {
    "duration": 4,
    "start_time": "2024-11-09T00:20:56.250Z"
   },
   {
    "duration": 10,
    "start_time": "2024-11-09T00:20:56.255Z"
   },
   {
    "duration": 27,
    "start_time": "2024-11-09T00:20:56.266Z"
   },
   {
    "duration": 1238,
    "start_time": "2024-11-09T00:20:56.294Z"
   },
   {
    "duration": 322,
    "start_time": "2024-11-09T00:20:57.534Z"
   },
   {
    "duration": 500,
    "start_time": "2024-11-09T00:20:57.860Z"
   },
   {
    "duration": 8,
    "start_time": "2024-11-09T00:20:58.361Z"
   },
   {
    "duration": 4,
    "start_time": "2024-11-09T00:20:58.370Z"
   },
   {
    "duration": 3,
    "start_time": "2024-11-09T00:20:58.386Z"
   },
   {
    "duration": 279,
    "start_time": "2024-11-09T00:20:58.391Z"
   },
   {
    "duration": 282,
    "start_time": "2024-11-09T00:20:58.672Z"
   },
   {
    "duration": 15,
    "start_time": "2024-11-09T00:20:58.956Z"
   },
   {
    "duration": 3,
    "start_time": "2024-11-09T00:20:58.986Z"
   },
   {
    "duration": 116640,
    "start_time": "2024-11-09T00:20:58.990Z"
   },
   {
    "duration": 979,
    "start_time": "2024-11-09T01:22:03.986Z"
   },
   {
    "duration": 508,
    "start_time": "2024-11-09T01:22:04.966Z"
   },
   {
    "duration": 2,
    "start_time": "2024-11-09T01:22:05.476Z"
   },
   {
    "duration": 179,
    "start_time": "2024-11-09T01:22:05.481Z"
   },
   {
    "duration": 100,
    "start_time": "2024-11-09T01:22:05.661Z"
   },
   {
    "duration": 181,
    "start_time": "2024-11-09T01:22:05.763Z"
   },
   {
    "duration": 15,
    "start_time": "2024-11-09T01:22:05.946Z"
   },
   {
    "duration": 169,
    "start_time": "2024-11-09T01:22:05.963Z"
   },
   {
    "duration": 11,
    "start_time": "2024-11-09T01:22:06.134Z"
   },
   {
    "duration": 7,
    "start_time": "2024-11-09T01:22:06.148Z"
   },
   {
    "duration": 5,
    "start_time": "2024-11-09T01:22:06.157Z"
   },
   {
    "duration": 30,
    "start_time": "2024-11-09T01:22:06.163Z"
   },
   {
    "duration": 6,
    "start_time": "2024-11-09T01:22:06.195Z"
   },
   {
    "duration": 4,
    "start_time": "2024-11-09T01:22:06.202Z"
   },
   {
    "duration": 4,
    "start_time": "2024-11-09T01:22:06.207Z"
   },
   {
    "duration": 4,
    "start_time": "2024-11-09T01:22:06.212Z"
   },
   {
    "duration": 4,
    "start_time": "2024-11-09T01:22:06.217Z"
   },
   {
    "duration": 345,
    "start_time": "2024-11-09T01:22:06.222Z"
   },
   {
    "duration": 3,
    "start_time": "2024-11-09T01:22:06.569Z"
   },
   {
    "duration": 17,
    "start_time": "2024-11-09T01:22:06.574Z"
   },
   {
    "duration": 9,
    "start_time": "2024-11-09T01:22:06.593Z"
   },
   {
    "duration": 1251,
    "start_time": "2024-11-09T01:22:06.604Z"
   },
   {
    "duration": 292,
    "start_time": "2024-11-09T01:22:07.857Z"
   },
   {
    "duration": 502,
    "start_time": "2024-11-09T01:22:08.151Z"
   },
   {
    "duration": 8,
    "start_time": "2024-11-09T01:22:08.655Z"
   },
   {
    "duration": 22,
    "start_time": "2024-11-09T01:22:08.664Z"
   },
   {
    "duration": 4,
    "start_time": "2024-11-09T01:22:08.688Z"
   },
   {
    "duration": 269,
    "start_time": "2024-11-09T01:22:08.695Z"
   },
   {
    "duration": 290,
    "start_time": "2024-11-09T01:22:08.966Z"
   },
   {
    "duration": 16,
    "start_time": "2024-11-09T01:22:09.258Z"
   },
   {
    "duration": 5,
    "start_time": "2024-11-09T01:22:09.286Z"
   },
   {
    "duration": 0,
    "start_time": "2024-11-09T01:22:09.293Z"
   },
   {
    "duration": 2836,
    "start_time": "2024-11-10T20:32:45.501Z"
   },
   {
    "duration": 658,
    "start_time": "2024-11-10T20:32:48.340Z"
   },
   {
    "duration": 3,
    "start_time": "2024-11-10T20:32:48.999Z"
   },
   {
    "duration": 187,
    "start_time": "2024-11-10T20:32:49.005Z"
   },
   {
    "duration": 102,
    "start_time": "2024-11-10T20:32:49.194Z"
   },
   {
    "duration": 260,
    "start_time": "2024-11-10T20:32:49.297Z"
   },
   {
    "duration": 15,
    "start_time": "2024-11-10T20:32:49.559Z"
   },
   {
    "duration": 172,
    "start_time": "2024-11-10T20:32:49.576Z"
   },
   {
    "duration": 12,
    "start_time": "2024-11-10T20:32:49.750Z"
   },
   {
    "duration": 8,
    "start_time": "2024-11-10T20:32:49.766Z"
   },
   {
    "duration": 5,
    "start_time": "2024-11-10T20:32:49.776Z"
   },
   {
    "duration": 36,
    "start_time": "2024-11-10T20:32:49.784Z"
   },
   {
    "duration": 6,
    "start_time": "2024-11-10T20:32:49.821Z"
   },
   {
    "duration": 4,
    "start_time": "2024-11-10T20:32:49.829Z"
   },
   {
    "duration": 4,
    "start_time": "2024-11-10T20:32:49.835Z"
   },
   {
    "duration": 4,
    "start_time": "2024-11-10T20:32:49.840Z"
   },
   {
    "duration": 4,
    "start_time": "2024-11-10T20:32:49.846Z"
   },
   {
    "duration": 412,
    "start_time": "2024-11-10T20:32:49.853Z"
   },
   {
    "duration": 3,
    "start_time": "2024-11-10T20:32:50.267Z"
   },
   {
    "duration": 10,
    "start_time": "2024-11-10T20:32:50.271Z"
   },
   {
    "duration": 32,
    "start_time": "2024-11-10T20:32:50.283Z"
   },
   {
    "duration": 1303,
    "start_time": "2024-11-10T20:32:50.317Z"
   },
   {
    "duration": 220,
    "start_time": "2024-11-10T20:32:51.623Z"
   },
   {
    "duration": 644,
    "start_time": "2024-11-10T20:32:51.845Z"
   },
   {
    "duration": 19,
    "start_time": "2024-11-10T20:32:52.492Z"
   },
   {
    "duration": 4,
    "start_time": "2024-11-10T20:32:52.513Z"
   },
   {
    "duration": 5,
    "start_time": "2024-11-10T20:32:52.519Z"
   },
   {
    "duration": 285,
    "start_time": "2024-11-10T20:32:52.529Z"
   },
   {
    "duration": 268,
    "start_time": "2024-11-10T20:32:52.816Z"
   },
   {
    "duration": 29,
    "start_time": "2024-11-10T20:32:53.087Z"
   },
   {
    "duration": 5,
    "start_time": "2024-11-10T20:32:53.118Z"
   },
   {
    "duration": 0,
    "start_time": "2024-11-10T20:32:53.124Z"
   },
   {
    "duration": 0,
    "start_time": "2024-11-10T20:32:53.126Z"
   },
   {
    "duration": 4,
    "start_time": "2024-11-10T20:34:09.745Z"
   },
   {
    "duration": 507,
    "start_time": "2024-11-10T20:34:09.751Z"
   },
   {
    "duration": 3,
    "start_time": "2024-11-10T20:34:10.260Z"
   },
   {
    "duration": 177,
    "start_time": "2024-11-10T20:34:10.264Z"
   },
   {
    "duration": 106,
    "start_time": "2024-11-10T20:34:10.443Z"
   },
   {
    "duration": 193,
    "start_time": "2024-11-10T20:34:10.551Z"
   },
   {
    "duration": 16,
    "start_time": "2024-11-10T20:34:10.746Z"
   },
   {
    "duration": 169,
    "start_time": "2024-11-10T20:34:10.764Z"
   },
   {
    "duration": 12,
    "start_time": "2024-11-10T20:34:10.934Z"
   },
   {
    "duration": 7,
    "start_time": "2024-11-10T20:34:10.948Z"
   },
   {
    "duration": 4,
    "start_time": "2024-11-10T20:34:10.959Z"
   },
   {
    "duration": 11,
    "start_time": "2024-11-10T20:34:10.965Z"
   },
   {
    "duration": 5,
    "start_time": "2024-11-10T20:34:10.978Z"
   },
   {
    "duration": 5,
    "start_time": "2024-11-10T20:34:11.013Z"
   },
   {
    "duration": 4,
    "start_time": "2024-11-10T20:34:11.019Z"
   },
   {
    "duration": 4,
    "start_time": "2024-11-10T20:34:11.024Z"
   },
   {
    "duration": 3,
    "start_time": "2024-11-10T20:34:11.030Z"
   },
   {
    "duration": 344,
    "start_time": "2024-11-10T20:34:11.035Z"
   },
   {
    "duration": 2,
    "start_time": "2024-11-10T20:34:11.381Z"
   },
   {
    "duration": 28,
    "start_time": "2024-11-10T20:34:11.385Z"
   },
   {
    "duration": 10,
    "start_time": "2024-11-10T20:34:11.415Z"
   },
   {
    "duration": 1393,
    "start_time": "2024-11-10T20:34:11.427Z"
   },
   {
    "duration": 233,
    "start_time": "2024-11-10T20:34:12.822Z"
   },
   {
    "duration": 515,
    "start_time": "2024-11-10T20:34:13.057Z"
   },
   {
    "duration": 7,
    "start_time": "2024-11-10T20:34:13.574Z"
   },
   {
    "duration": 4,
    "start_time": "2024-11-10T20:34:13.583Z"
   },
   {
    "duration": 4,
    "start_time": "2024-11-10T20:34:13.588Z"
   },
   {
    "duration": 290,
    "start_time": "2024-11-10T20:34:13.612Z"
   },
   {
    "duration": 283,
    "start_time": "2024-11-10T20:34:13.905Z"
   },
   {
    "duration": 29,
    "start_time": "2024-11-10T20:34:14.191Z"
   },
   {
    "duration": 4,
    "start_time": "2024-11-10T20:34:14.221Z"
   },
   {
    "duration": 6,
    "start_time": "2024-11-10T20:34:14.227Z"
   },
   {
    "duration": 9,
    "start_time": "2024-11-10T20:34:14.235Z"
   },
   {
    "duration": 4,
    "start_time": "2024-11-10T20:35:57.855Z"
   },
   {
    "duration": 498,
    "start_time": "2024-11-10T20:35:57.868Z"
   },
   {
    "duration": 3,
    "start_time": "2024-11-10T20:35:58.369Z"
   },
   {
    "duration": 188,
    "start_time": "2024-11-10T20:35:58.374Z"
   },
   {
    "duration": 114,
    "start_time": "2024-11-10T20:35:58.563Z"
   },
   {
    "duration": 192,
    "start_time": "2024-11-10T20:35:58.681Z"
   },
   {
    "duration": 14,
    "start_time": "2024-11-10T20:35:58.875Z"
   },
   {
    "duration": 179,
    "start_time": "2024-11-10T20:35:58.892Z"
   },
   {
    "duration": 11,
    "start_time": "2024-11-10T20:35:59.073Z"
   },
   {
    "duration": 8,
    "start_time": "2024-11-10T20:35:59.086Z"
   },
   {
    "duration": 17,
    "start_time": "2024-11-10T20:35:59.095Z"
   },
   {
    "duration": 11,
    "start_time": "2024-11-10T20:35:59.114Z"
   },
   {
    "duration": 5,
    "start_time": "2024-11-10T20:35:59.126Z"
   },
   {
    "duration": 4,
    "start_time": "2024-11-10T20:35:59.133Z"
   },
   {
    "duration": 3,
    "start_time": "2024-11-10T20:35:59.142Z"
   },
   {
    "duration": 3,
    "start_time": "2024-11-10T20:35:59.147Z"
   },
   {
    "duration": 3,
    "start_time": "2024-11-10T20:35:59.152Z"
   },
   {
    "duration": 477,
    "start_time": "2024-11-10T20:35:59.157Z"
   },
   {
    "duration": 4,
    "start_time": "2024-11-10T20:35:59.638Z"
   },
   {
    "duration": 10,
    "start_time": "2024-11-10T20:35:59.645Z"
   },
   {
    "duration": 13,
    "start_time": "2024-11-10T20:35:59.657Z"
   },
   {
    "duration": 1498,
    "start_time": "2024-11-10T20:35:59.672Z"
   },
   {
    "duration": 228,
    "start_time": "2024-11-10T20:36:01.171Z"
   },
   {
    "duration": 643,
    "start_time": "2024-11-10T20:36:01.400Z"
   },
   {
    "duration": 9,
    "start_time": "2024-11-10T20:36:02.045Z"
   },
   {
    "duration": 5,
    "start_time": "2024-11-10T20:36:02.057Z"
   },
   {
    "duration": 5,
    "start_time": "2024-11-10T20:36:02.063Z"
   },
   {
    "duration": 326,
    "start_time": "2024-11-10T20:36:02.070Z"
   },
   {
    "duration": 290,
    "start_time": "2024-11-10T20:36:02.397Z"
   },
   {
    "duration": 24,
    "start_time": "2024-11-10T20:36:02.689Z"
   },
   {
    "duration": 4,
    "start_time": "2024-11-10T20:36:02.715Z"
   },
   {
    "duration": 5,
    "start_time": "2024-11-10T20:36:02.721Z"
   },
   {
    "duration": 268,
    "start_time": "2024-11-10T20:36:02.728Z"
   },
   {
    "duration": 17605,
    "start_time": "2024-11-10T20:36:36.665Z"
   },
   {
    "duration": 4,
    "start_time": "2024-11-10T20:36:57.263Z"
   },
   {
    "duration": 495,
    "start_time": "2024-11-10T20:36:57.269Z"
   },
   {
    "duration": 3,
    "start_time": "2024-11-10T20:36:57.765Z"
   },
   {
    "duration": 184,
    "start_time": "2024-11-10T20:36:57.770Z"
   },
   {
    "duration": 115,
    "start_time": "2024-11-10T20:36:57.957Z"
   },
   {
    "duration": 192,
    "start_time": "2024-11-10T20:36:58.073Z"
   },
   {
    "duration": 16,
    "start_time": "2024-11-10T20:36:58.267Z"
   },
   {
    "duration": 167,
    "start_time": "2024-11-10T20:36:58.285Z"
   },
   {
    "duration": 11,
    "start_time": "2024-11-10T20:36:58.454Z"
   },
   {
    "duration": 7,
    "start_time": "2024-11-10T20:36:58.467Z"
   },
   {
    "duration": 4,
    "start_time": "2024-11-10T20:36:58.477Z"
   },
   {
    "duration": 30,
    "start_time": "2024-11-10T20:36:58.483Z"
   },
   {
    "duration": 6,
    "start_time": "2024-11-10T20:36:58.515Z"
   },
   {
    "duration": 3,
    "start_time": "2024-11-10T20:36:58.525Z"
   },
   {
    "duration": 3,
    "start_time": "2024-11-10T20:36:58.530Z"
   },
   {
    "duration": 4,
    "start_time": "2024-11-10T20:36:58.535Z"
   },
   {
    "duration": 4,
    "start_time": "2024-11-10T20:36:58.540Z"
   },
   {
    "duration": 348,
    "start_time": "2024-11-10T20:36:58.546Z"
   },
   {
    "duration": 2,
    "start_time": "2024-11-10T20:36:58.896Z"
   },
   {
    "duration": 18,
    "start_time": "2024-11-10T20:36:58.900Z"
   },
   {
    "duration": 11,
    "start_time": "2024-11-10T20:36:58.920Z"
   },
   {
    "duration": 1453,
    "start_time": "2024-11-10T20:36:58.933Z"
   },
   {
    "duration": 228,
    "start_time": "2024-11-10T20:37:00.388Z"
   },
   {
    "duration": 519,
    "start_time": "2024-11-10T20:37:00.618Z"
   },
   {
    "duration": 8,
    "start_time": "2024-11-10T20:37:01.139Z"
   },
   {
    "duration": 4,
    "start_time": "2024-11-10T20:37:01.149Z"
   },
   {
    "duration": 4,
    "start_time": "2024-11-10T20:37:01.155Z"
   },
   {
    "duration": 331,
    "start_time": "2024-11-10T20:37:01.160Z"
   },
   {
    "duration": 293,
    "start_time": "2024-11-10T20:37:01.493Z"
   },
   {
    "duration": 29,
    "start_time": "2024-11-10T20:37:01.788Z"
   },
   {
    "duration": 3,
    "start_time": "2024-11-10T20:37:01.819Z"
   },
   {
    "duration": 5,
    "start_time": "2024-11-10T20:37:01.824Z"
   },
   {
    "duration": 616302,
    "start_time": "2024-11-10T20:37:01.831Z"
   },
   {
    "duration": 3,
    "start_time": "2024-11-10T20:47:32.560Z"
   },
   {
    "duration": 499,
    "start_time": "2024-11-10T20:47:32.600Z"
   },
   {
    "duration": 3,
    "start_time": "2024-11-10T20:47:33.101Z"
   },
   {
    "duration": 168,
    "start_time": "2024-11-10T20:47:33.111Z"
   },
   {
    "duration": 99,
    "start_time": "2024-11-10T20:47:33.282Z"
   },
   {
    "duration": 184,
    "start_time": "2024-11-10T20:47:33.383Z"
   },
   {
    "duration": 14,
    "start_time": "2024-11-10T20:47:33.569Z"
   },
   {
    "duration": 160,
    "start_time": "2024-11-10T20:47:33.585Z"
   },
   {
    "duration": 12,
    "start_time": "2024-11-10T20:47:33.746Z"
   },
   {
    "duration": 8,
    "start_time": "2024-11-10T20:47:33.759Z"
   },
   {
    "duration": 5,
    "start_time": "2024-11-10T20:47:33.768Z"
   },
   {
    "duration": 10,
    "start_time": "2024-11-10T20:47:33.774Z"
   },
   {
    "duration": 27,
    "start_time": "2024-11-10T20:47:33.786Z"
   },
   {
    "duration": 4,
    "start_time": "2024-11-10T20:47:33.814Z"
   },
   {
    "duration": 3,
    "start_time": "2024-11-10T20:47:33.822Z"
   },
   {
    "duration": 6,
    "start_time": "2024-11-10T20:47:33.827Z"
   },
   {
    "duration": 3,
    "start_time": "2024-11-10T20:47:33.834Z"
   },
   {
    "duration": 336,
    "start_time": "2024-11-10T20:47:33.839Z"
   },
   {
    "duration": 3,
    "start_time": "2024-11-10T20:47:34.177Z"
   },
   {
    "duration": 9,
    "start_time": "2024-11-10T20:47:34.181Z"
   },
   {
    "duration": 27,
    "start_time": "2024-11-10T20:47:34.191Z"
   },
   {
    "duration": 1362,
    "start_time": "2024-11-10T20:47:34.219Z"
   },
   {
    "duration": 218,
    "start_time": "2024-11-10T20:47:35.583Z"
   },
   {
    "duration": 488,
    "start_time": "2024-11-10T20:47:35.803Z"
   },
   {
    "duration": 18,
    "start_time": "2024-11-10T20:47:36.293Z"
   },
   {
    "duration": 4,
    "start_time": "2024-11-10T20:47:36.314Z"
   },
   {
    "duration": 4,
    "start_time": "2024-11-10T20:47:36.320Z"
   },
   {
    "duration": 265,
    "start_time": "2024-11-10T20:47:36.326Z"
   },
   {
    "duration": 275,
    "start_time": "2024-11-10T20:47:36.592Z"
   },
   {
    "duration": 16,
    "start_time": "2024-11-10T20:47:36.869Z"
   },
   {
    "duration": 3,
    "start_time": "2024-11-10T20:47:36.887Z"
   },
   {
    "duration": 21,
    "start_time": "2024-11-10T20:47:36.892Z"
   },
   {
    "duration": 22,
    "start_time": "2024-11-10T20:47:36.915Z"
   },
   {
    "duration": 732333,
    "start_time": "2024-11-10T20:47:36.939Z"
   },
   {
    "duration": 0,
    "start_time": "2024-11-10T20:59:49.274Z"
   },
   {
    "duration": 94950,
    "start_time": "2024-11-10T21:01:16.992Z"
   },
   {
    "duration": 4,
    "start_time": "2024-11-10T21:02:54.720Z"
   },
   {
    "duration": 491,
    "start_time": "2024-11-10T21:02:54.740Z"
   },
   {
    "duration": 3,
    "start_time": "2024-11-10T21:02:55.233Z"
   },
   {
    "duration": 187,
    "start_time": "2024-11-10T21:02:55.238Z"
   },
   {
    "duration": 216,
    "start_time": "2024-11-10T21:02:55.427Z"
   },
   {
    "duration": 184,
    "start_time": "2024-11-10T21:02:55.647Z"
   },
   {
    "duration": 15,
    "start_time": "2024-11-10T21:02:55.834Z"
   },
   {
    "duration": 163,
    "start_time": "2024-11-10T21:02:55.851Z"
   },
   {
    "duration": 11,
    "start_time": "2024-11-10T21:02:56.017Z"
   },
   {
    "duration": 7,
    "start_time": "2024-11-10T21:02:56.030Z"
   },
   {
    "duration": 5,
    "start_time": "2024-11-10T21:02:56.039Z"
   },
   {
    "duration": 10,
    "start_time": "2024-11-10T21:02:56.045Z"
   },
   {
    "duration": 5,
    "start_time": "2024-11-10T21:02:56.056Z"
   },
   {
    "duration": 4,
    "start_time": "2024-11-10T21:02:56.062Z"
   },
   {
    "duration": 4,
    "start_time": "2024-11-10T21:02:56.069Z"
   },
   {
    "duration": 39,
    "start_time": "2024-11-10T21:02:56.074Z"
   },
   {
    "duration": 3,
    "start_time": "2024-11-10T21:02:56.115Z"
   },
   {
    "duration": 350,
    "start_time": "2024-11-10T21:02:56.120Z"
   },
   {
    "duration": 3,
    "start_time": "2024-11-10T21:02:56.472Z"
   },
   {
    "duration": 8,
    "start_time": "2024-11-10T21:02:56.477Z"
   },
   {
    "duration": 9,
    "start_time": "2024-11-10T21:02:56.487Z"
   },
   {
    "duration": 1268,
    "start_time": "2024-11-10T21:02:56.512Z"
   },
   {
    "duration": 226,
    "start_time": "2024-11-10T21:02:57.781Z"
   },
   {
    "duration": 634,
    "start_time": "2024-11-10T21:02:58.012Z"
   },
   {
    "duration": 8,
    "start_time": "2024-11-10T21:02:58.647Z"
   },
   {
    "duration": 4,
    "start_time": "2024-11-10T21:02:58.657Z"
   },
   {
    "duration": 5,
    "start_time": "2024-11-10T21:02:58.663Z"
   },
   {
    "duration": 324,
    "start_time": "2024-11-10T21:02:58.669Z"
   },
   {
    "duration": 292,
    "start_time": "2024-11-10T21:02:58.995Z"
   },
   {
    "duration": 29,
    "start_time": "2024-11-10T21:02:59.289Z"
   },
   {
    "duration": 3,
    "start_time": "2024-11-10T21:02:59.320Z"
   },
   {
    "duration": 5,
    "start_time": "2024-11-10T21:02:59.325Z"
   },
   {
    "duration": 21,
    "start_time": "2024-11-10T21:02:59.332Z"
   },
   {
    "duration": 311071,
    "start_time": "2024-11-10T21:02:59.355Z"
   },
   {
    "duration": 0,
    "start_time": "2024-11-10T21:08:10.428Z"
   },
   {
    "duration": 4,
    "start_time": "2024-11-10T21:08:53.501Z"
   },
   {
    "duration": 431,
    "start_time": "2024-11-10T21:08:53.510Z"
   },
   {
    "duration": 2,
    "start_time": "2024-11-10T21:08:53.944Z"
   },
   {
    "duration": 169,
    "start_time": "2024-11-10T21:08:53.948Z"
   },
   {
    "duration": 99,
    "start_time": "2024-11-10T21:08:54.119Z"
   },
   {
    "duration": 189,
    "start_time": "2024-11-10T21:08:54.220Z"
   },
   {
    "duration": 14,
    "start_time": "2024-11-10T21:08:54.411Z"
   },
   {
    "duration": 160,
    "start_time": "2024-11-10T21:08:54.427Z"
   },
   {
    "duration": 12,
    "start_time": "2024-11-10T21:08:54.589Z"
   },
   {
    "duration": 7,
    "start_time": "2024-11-10T21:08:54.612Z"
   },
   {
    "duration": 3,
    "start_time": "2024-11-10T21:08:54.624Z"
   },
   {
    "duration": 9,
    "start_time": "2024-11-10T21:08:54.629Z"
   },
   {
    "duration": 5,
    "start_time": "2024-11-10T21:08:54.639Z"
   },
   {
    "duration": 4,
    "start_time": "2024-11-10T21:08:54.645Z"
   },
   {
    "duration": 5,
    "start_time": "2024-11-10T21:08:54.650Z"
   },
   {
    "duration": 3,
    "start_time": "2024-11-10T21:08:54.658Z"
   },
   {
    "duration": 3,
    "start_time": "2024-11-10T21:08:54.662Z"
   },
   {
    "duration": 393,
    "start_time": "2024-11-10T21:08:54.667Z"
   },
   {
    "duration": 2,
    "start_time": "2024-11-10T21:08:55.062Z"
   },
   {
    "duration": 8,
    "start_time": "2024-11-10T21:08:55.066Z"
   },
   {
    "duration": 10,
    "start_time": "2024-11-10T21:08:55.077Z"
   },
   {
    "duration": 1300,
    "start_time": "2024-11-10T21:08:55.088Z"
   },
   {
    "duration": 218,
    "start_time": "2024-11-10T21:08:56.390Z"
   },
   {
    "duration": 656,
    "start_time": "2024-11-10T21:08:56.611Z"
   },
   {
    "duration": 8,
    "start_time": "2024-11-10T21:08:57.271Z"
   },
   {
    "duration": 5,
    "start_time": "2024-11-10T21:08:57.281Z"
   },
   {
    "duration": 4,
    "start_time": "2024-11-10T21:08:57.289Z"
   },
   {
    "duration": 288,
    "start_time": "2024-11-10T21:08:57.311Z"
   },
   {
    "duration": 262,
    "start_time": "2024-11-10T21:08:57.613Z"
   },
   {
    "duration": 15,
    "start_time": "2024-11-10T21:08:57.877Z"
   },
   {
    "duration": 20,
    "start_time": "2024-11-10T21:08:57.894Z"
   },
   {
    "duration": 6,
    "start_time": "2024-11-10T21:08:57.916Z"
   },
   {
    "duration": 21,
    "start_time": "2024-11-10T21:08:57.924Z"
   },
   {
    "duration": 250652,
    "start_time": "2024-11-10T21:08:57.947Z"
   },
   {
    "duration": 19,
    "start_time": "2024-11-10T21:13:08.601Z"
   },
   {
    "duration": 0,
    "start_time": "2024-11-10T21:15:18.586Z"
   },
   {
    "duration": 0,
    "start_time": "2024-11-10T21:15:18.587Z"
   },
   {
    "duration": 0,
    "start_time": "2024-11-10T21:15:18.588Z"
   },
   {
    "duration": 0,
    "start_time": "2024-11-10T21:15:18.590Z"
   },
   {
    "duration": 0,
    "start_time": "2024-11-10T21:15:18.591Z"
   },
   {
    "duration": 0,
    "start_time": "2024-11-10T21:15:18.593Z"
   },
   {
    "duration": 0,
    "start_time": "2024-11-10T21:15:18.594Z"
   },
   {
    "duration": 0,
    "start_time": "2024-11-10T21:15:18.594Z"
   },
   {
    "duration": 0,
    "start_time": "2024-11-10T21:15:18.612Z"
   },
   {
    "duration": 0,
    "start_time": "2024-11-10T21:15:18.614Z"
   },
   {
    "duration": 0,
    "start_time": "2024-11-10T21:15:18.615Z"
   },
   {
    "duration": 0,
    "start_time": "2024-11-10T21:15:18.616Z"
   },
   {
    "duration": 0,
    "start_time": "2024-11-10T21:15:18.617Z"
   },
   {
    "duration": 0,
    "start_time": "2024-11-10T21:15:18.620Z"
   },
   {
    "duration": 0,
    "start_time": "2024-11-10T21:15:18.621Z"
   },
   {
    "duration": 0,
    "start_time": "2024-11-10T21:15:18.622Z"
   },
   {
    "duration": 0,
    "start_time": "2024-11-10T21:15:18.623Z"
   },
   {
    "duration": 0,
    "start_time": "2024-11-10T21:15:18.624Z"
   },
   {
    "duration": 0,
    "start_time": "2024-11-10T21:15:18.625Z"
   },
   {
    "duration": 0,
    "start_time": "2024-11-10T21:15:18.626Z"
   },
   {
    "duration": 0,
    "start_time": "2024-11-10T21:15:18.627Z"
   },
   {
    "duration": 0,
    "start_time": "2024-11-10T21:15:18.627Z"
   },
   {
    "duration": 0,
    "start_time": "2024-11-10T21:15:18.629Z"
   },
   {
    "duration": 0,
    "start_time": "2024-11-10T21:15:18.631Z"
   },
   {
    "duration": 0,
    "start_time": "2024-11-10T21:15:18.632Z"
   },
   {
    "duration": 0,
    "start_time": "2024-11-10T21:15:18.633Z"
   },
   {
    "duration": 0,
    "start_time": "2024-11-10T21:15:18.634Z"
   },
   {
    "duration": 0,
    "start_time": "2024-11-10T21:15:18.636Z"
   },
   {
    "duration": 0,
    "start_time": "2024-11-10T21:15:18.637Z"
   },
   {
    "duration": 0,
    "start_time": "2024-11-10T21:15:18.638Z"
   },
   {
    "duration": 0,
    "start_time": "2024-11-10T21:15:18.639Z"
   },
   {
    "duration": 0,
    "start_time": "2024-11-10T21:15:18.640Z"
   },
   {
    "duration": 0,
    "start_time": "2024-11-10T21:15:18.641Z"
   },
   {
    "duration": 0,
    "start_time": "2024-11-10T21:15:18.642Z"
   },
   {
    "duration": 0,
    "start_time": "2024-11-10T21:15:18.644Z"
   },
   {
    "duration": 3,
    "start_time": "2024-11-10T21:15:20.416Z"
   },
   {
    "duration": 417,
    "start_time": "2024-11-10T21:15:20.478Z"
   },
   {
    "duration": 3,
    "start_time": "2024-11-10T21:15:20.898Z"
   },
   {
    "duration": 175,
    "start_time": "2024-11-10T21:15:20.904Z"
   },
   {
    "duration": 111,
    "start_time": "2024-11-10T21:15:21.080Z"
   },
   {
    "duration": 185,
    "start_time": "2024-11-10T21:15:21.194Z"
   },
   {
    "duration": 15,
    "start_time": "2024-11-10T21:15:21.381Z"
   },
   {
    "duration": 164,
    "start_time": "2024-11-10T21:15:21.398Z"
   },
   {
    "duration": 12,
    "start_time": "2024-11-10T21:15:21.564Z"
   },
   {
    "duration": 8,
    "start_time": "2024-11-10T21:15:21.577Z"
   },
   {
    "duration": 5,
    "start_time": "2024-11-10T21:15:21.586Z"
   },
   {
    "duration": 26,
    "start_time": "2024-11-10T21:15:21.593Z"
   },
   {
    "duration": 6,
    "start_time": "2024-11-10T21:15:21.621Z"
   },
   {
    "duration": 4,
    "start_time": "2024-11-10T21:15:21.629Z"
   },
   {
    "duration": 3,
    "start_time": "2024-11-10T21:15:21.637Z"
   },
   {
    "duration": 4,
    "start_time": "2024-11-10T21:15:21.641Z"
   },
   {
    "duration": 3,
    "start_time": "2024-11-10T21:15:21.646Z"
   },
   {
    "duration": 584,
    "start_time": "2024-11-10T21:15:21.651Z"
   },
   {
    "duration": 2,
    "start_time": "2024-11-10T21:15:22.237Z"
   },
   {
    "duration": 7,
    "start_time": "2024-11-10T21:15:22.241Z"
   },
   {
    "duration": 62,
    "start_time": "2024-11-10T21:15:22.250Z"
   },
   {
    "duration": 1463,
    "start_time": "2024-11-10T21:15:22.314Z"
   },
   {
    "duration": 225,
    "start_time": "2024-11-10T21:15:23.779Z"
   },
   {
    "duration": 500,
    "start_time": "2024-11-10T21:15:24.011Z"
   },
   {
    "duration": 8,
    "start_time": "2024-11-10T21:15:24.513Z"
   },
   {
    "duration": 4,
    "start_time": "2024-11-10T21:15:24.523Z"
   },
   {
    "duration": 4,
    "start_time": "2024-11-10T21:15:24.529Z"
   },
   {
    "duration": 280,
    "start_time": "2024-11-10T21:15:24.535Z"
   },
   {
    "duration": 274,
    "start_time": "2024-11-10T21:15:24.817Z"
   },
   {
    "duration": 31,
    "start_time": "2024-11-10T21:15:25.093Z"
   },
   {
    "duration": 4,
    "start_time": "2024-11-10T21:15:25.126Z"
   },
   {
    "duration": 5,
    "start_time": "2024-11-10T21:15:25.132Z"
   },
   {
    "duration": 25,
    "start_time": "2024-11-10T21:15:25.138Z"
   },
   {
    "duration": 532402,
    "start_time": "2024-11-10T21:15:25.165Z"
   },
   {
    "duration": 77302,
    "start_time": "2024-11-10T21:24:17.568Z"
   },
   {
    "duration": 77700,
    "start_time": "2024-11-10T21:27:36.229Z"
   },
   {
    "duration": 2819,
    "start_time": "2024-11-11T14:49:37.924Z"
   },
   {
    "duration": 669,
    "start_time": "2024-11-11T14:49:40.745Z"
   },
   {
    "duration": 2,
    "start_time": "2024-11-11T14:49:41.416Z"
   },
   {
    "duration": 181,
    "start_time": "2024-11-11T14:49:41.421Z"
   },
   {
    "duration": 111,
    "start_time": "2024-11-11T14:49:41.604Z"
   },
   {
    "duration": 192,
    "start_time": "2024-11-11T14:49:41.717Z"
   },
   {
    "duration": 20,
    "start_time": "2024-11-11T14:49:41.911Z"
   },
   {
    "duration": 171,
    "start_time": "2024-11-11T14:49:41.933Z"
   },
   {
    "duration": 11,
    "start_time": "2024-11-11T14:49:42.107Z"
   },
   {
    "duration": 16,
    "start_time": "2024-11-11T14:49:42.121Z"
   },
   {
    "duration": 6,
    "start_time": "2024-11-11T14:49:42.139Z"
   },
   {
    "duration": 11,
    "start_time": "2024-11-11T14:49:42.146Z"
   },
   {
    "duration": 5,
    "start_time": "2024-11-11T14:49:42.160Z"
   },
   {
    "duration": 3,
    "start_time": "2024-11-11T14:49:42.167Z"
   },
   {
    "duration": 3,
    "start_time": "2024-11-11T14:49:42.172Z"
   },
   {
    "duration": 4,
    "start_time": "2024-11-11T14:49:42.177Z"
   },
   {
    "duration": 3,
    "start_time": "2024-11-11T14:49:42.182Z"
   },
   {
    "duration": 423,
    "start_time": "2024-11-11T14:49:42.187Z"
   },
   {
    "duration": 3,
    "start_time": "2024-11-11T14:49:42.612Z"
   },
   {
    "duration": 18,
    "start_time": "2024-11-11T14:49:42.617Z"
   },
   {
    "duration": 10,
    "start_time": "2024-11-11T14:49:42.637Z"
   },
   {
    "duration": 1366,
    "start_time": "2024-11-11T14:49:42.649Z"
   },
   {
    "duration": 222,
    "start_time": "2024-11-11T14:49:44.017Z"
   },
   {
    "duration": 533,
    "start_time": "2024-11-11T14:49:44.241Z"
   },
   {
    "duration": 9,
    "start_time": "2024-11-11T14:49:44.776Z"
   },
   {
    "duration": 4,
    "start_time": "2024-11-11T14:49:44.787Z"
   },
   {
    "duration": 3,
    "start_time": "2024-11-11T14:49:44.794Z"
   },
   {
    "duration": 305,
    "start_time": "2024-11-11T14:49:44.801Z"
   },
   {
    "duration": 296,
    "start_time": "2024-11-11T14:49:45.108Z"
   },
   {
    "duration": 26,
    "start_time": "2024-11-11T14:49:45.405Z"
   },
   {
    "duration": 3,
    "start_time": "2024-11-11T14:49:45.435Z"
   },
   {
    "duration": 223465,
    "start_time": "2024-11-11T14:49:45.440Z"
   },
   {
    "duration": 5,
    "start_time": "2024-11-11T14:53:28.907Z"
   }
  ],
  "kernelspec": {
   "display_name": "Python 3 (ipykernel)",
   "language": "python",
   "name": "python3"
  },
  "language_info": {
   "codemirror_mode": {
    "name": "ipython",
    "version": 3
   },
   "file_extension": ".py",
   "mimetype": "text/x-python",
   "name": "python",
   "nbconvert_exporter": "python",
   "pygments_lexer": "ipython3",
   "version": "3.9.19"
  },
  "toc": {
   "base_numbering": 1,
   "nav_menu": {},
   "number_sections": true,
   "sideBar": true,
   "skip_h1_title": true,
   "title_cell": "Table of Contents",
   "title_sidebar": "Contents",
   "toc_cell": false,
   "toc_position": {
    "height": "calc(100% - 180px)",
    "left": "10px",
    "top": "150px",
    "width": "219px"
   },
   "toc_section_display": true,
   "toc_window_display": false
  }
 },
 "nbformat": 4,
 "nbformat_minor": 2
}
